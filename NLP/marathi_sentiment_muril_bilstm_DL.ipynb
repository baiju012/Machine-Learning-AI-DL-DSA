{
  "nbformat": 4,
  "nbformat_minor": 0,
  "metadata": {
    "colab": {
      "provenance": []
    },
    "kernelspec": {
      "name": "python3",
      "display_name": "Python 3"
    },
    "language_info": {
      "name": "python"
    },
    "accelerator": "GPU",
    "widgets": {
      "application/vnd.jupyter.widget-state+json": {
        "1707f0c7a8f34a1e84c7999c66bca582": {
          "model_module": "@jupyter-widgets/controls",
          "model_name": "HBoxModel",
          "model_module_version": "1.5.0",
          "state": {
            "_dom_classes": [],
            "_model_module": "@jupyter-widgets/controls",
            "_model_module_version": "1.5.0",
            "_model_name": "HBoxModel",
            "_view_count": null,
            "_view_module": "@jupyter-widgets/controls",
            "_view_module_version": "1.5.0",
            "_view_name": "HBoxView",
            "box_style": "",
            "children": [
              "IPY_MODEL_be9d3ed4b9714a8fb3604138319fe579",
              "IPY_MODEL_c2577ba61dfa4e46bc9743e1292cdb45",
              "IPY_MODEL_ae11269d5d4e496b87fb7d73a841868f"
            ],
            "layout": "IPY_MODEL_933da798c38c47f9a545af96b82401c2"
          }
        },
        "be9d3ed4b9714a8fb3604138319fe579": {
          "model_module": "@jupyter-widgets/controls",
          "model_name": "HTMLModel",
          "model_module_version": "1.5.0",
          "state": {
            "_dom_classes": [],
            "_model_module": "@jupyter-widgets/controls",
            "_model_module_version": "1.5.0",
            "_model_name": "HTMLModel",
            "_view_count": null,
            "_view_module": "@jupyter-widgets/controls",
            "_view_module_version": "1.5.0",
            "_view_name": "HTMLView",
            "description": "",
            "description_tooltip": null,
            "layout": "IPY_MODEL_61c3e5a342d24c6da3ab69d8ca16e3aa",
            "placeholder": "​",
            "style": "IPY_MODEL_615fc3823d4949aba62d8954c60cf933",
            "value": "config.json: 100%"
          }
        },
        "c2577ba61dfa4e46bc9743e1292cdb45": {
          "model_module": "@jupyter-widgets/controls",
          "model_name": "FloatProgressModel",
          "model_module_version": "1.5.0",
          "state": {
            "_dom_classes": [],
            "_model_module": "@jupyter-widgets/controls",
            "_model_module_version": "1.5.0",
            "_model_name": "FloatProgressModel",
            "_view_count": null,
            "_view_module": "@jupyter-widgets/controls",
            "_view_module_version": "1.5.0",
            "_view_name": "ProgressView",
            "bar_style": "success",
            "description": "",
            "description_tooltip": null,
            "layout": "IPY_MODEL_112cc73da61649699298e748eb745a71",
            "max": 411,
            "min": 0,
            "orientation": "horizontal",
            "style": "IPY_MODEL_f8e7072b9d7e4dadbcec1d50f44fc7a9",
            "value": 411
          }
        },
        "ae11269d5d4e496b87fb7d73a841868f": {
          "model_module": "@jupyter-widgets/controls",
          "model_name": "HTMLModel",
          "model_module_version": "1.5.0",
          "state": {
            "_dom_classes": [],
            "_model_module": "@jupyter-widgets/controls",
            "_model_module_version": "1.5.0",
            "_model_name": "HTMLModel",
            "_view_count": null,
            "_view_module": "@jupyter-widgets/controls",
            "_view_module_version": "1.5.0",
            "_view_name": "HTMLView",
            "description": "",
            "description_tooltip": null,
            "layout": "IPY_MODEL_959dbc2aeb294957896071a940f9a575",
            "placeholder": "​",
            "style": "IPY_MODEL_55d88159eae64bc8a4d21977cf8703e7",
            "value": " 411/411 [00:00&lt;00:00, 26.5kB/s]"
          }
        },
        "933da798c38c47f9a545af96b82401c2": {
          "model_module": "@jupyter-widgets/base",
          "model_name": "LayoutModel",
          "model_module_version": "1.2.0",
          "state": {
            "_model_module": "@jupyter-widgets/base",
            "_model_module_version": "1.2.0",
            "_model_name": "LayoutModel",
            "_view_count": null,
            "_view_module": "@jupyter-widgets/base",
            "_view_module_version": "1.2.0",
            "_view_name": "LayoutView",
            "align_content": null,
            "align_items": null,
            "align_self": null,
            "border": null,
            "bottom": null,
            "display": null,
            "flex": null,
            "flex_flow": null,
            "grid_area": null,
            "grid_auto_columns": null,
            "grid_auto_flow": null,
            "grid_auto_rows": null,
            "grid_column": null,
            "grid_gap": null,
            "grid_row": null,
            "grid_template_areas": null,
            "grid_template_columns": null,
            "grid_template_rows": null,
            "height": null,
            "justify_content": null,
            "justify_items": null,
            "left": null,
            "margin": null,
            "max_height": null,
            "max_width": null,
            "min_height": null,
            "min_width": null,
            "object_fit": null,
            "object_position": null,
            "order": null,
            "overflow": null,
            "overflow_x": null,
            "overflow_y": null,
            "padding": null,
            "right": null,
            "top": null,
            "visibility": null,
            "width": null
          }
        },
        "61c3e5a342d24c6da3ab69d8ca16e3aa": {
          "model_module": "@jupyter-widgets/base",
          "model_name": "LayoutModel",
          "model_module_version": "1.2.0",
          "state": {
            "_model_module": "@jupyter-widgets/base",
            "_model_module_version": "1.2.0",
            "_model_name": "LayoutModel",
            "_view_count": null,
            "_view_module": "@jupyter-widgets/base",
            "_view_module_version": "1.2.0",
            "_view_name": "LayoutView",
            "align_content": null,
            "align_items": null,
            "align_self": null,
            "border": null,
            "bottom": null,
            "display": null,
            "flex": null,
            "flex_flow": null,
            "grid_area": null,
            "grid_auto_columns": null,
            "grid_auto_flow": null,
            "grid_auto_rows": null,
            "grid_column": null,
            "grid_gap": null,
            "grid_row": null,
            "grid_template_areas": null,
            "grid_template_columns": null,
            "grid_template_rows": null,
            "height": null,
            "justify_content": null,
            "justify_items": null,
            "left": null,
            "margin": null,
            "max_height": null,
            "max_width": null,
            "min_height": null,
            "min_width": null,
            "object_fit": null,
            "object_position": null,
            "order": null,
            "overflow": null,
            "overflow_x": null,
            "overflow_y": null,
            "padding": null,
            "right": null,
            "top": null,
            "visibility": null,
            "width": null
          }
        },
        "615fc3823d4949aba62d8954c60cf933": {
          "model_module": "@jupyter-widgets/controls",
          "model_name": "DescriptionStyleModel",
          "model_module_version": "1.5.0",
          "state": {
            "_model_module": "@jupyter-widgets/controls",
            "_model_module_version": "1.5.0",
            "_model_name": "DescriptionStyleModel",
            "_view_count": null,
            "_view_module": "@jupyter-widgets/base",
            "_view_module_version": "1.2.0",
            "_view_name": "StyleView",
            "description_width": ""
          }
        },
        "112cc73da61649699298e748eb745a71": {
          "model_module": "@jupyter-widgets/base",
          "model_name": "LayoutModel",
          "model_module_version": "1.2.0",
          "state": {
            "_model_module": "@jupyter-widgets/base",
            "_model_module_version": "1.2.0",
            "_model_name": "LayoutModel",
            "_view_count": null,
            "_view_module": "@jupyter-widgets/base",
            "_view_module_version": "1.2.0",
            "_view_name": "LayoutView",
            "align_content": null,
            "align_items": null,
            "align_self": null,
            "border": null,
            "bottom": null,
            "display": null,
            "flex": null,
            "flex_flow": null,
            "grid_area": null,
            "grid_auto_columns": null,
            "grid_auto_flow": null,
            "grid_auto_rows": null,
            "grid_column": null,
            "grid_gap": null,
            "grid_row": null,
            "grid_template_areas": null,
            "grid_template_columns": null,
            "grid_template_rows": null,
            "height": null,
            "justify_content": null,
            "justify_items": null,
            "left": null,
            "margin": null,
            "max_height": null,
            "max_width": null,
            "min_height": null,
            "min_width": null,
            "object_fit": null,
            "object_position": null,
            "order": null,
            "overflow": null,
            "overflow_x": null,
            "overflow_y": null,
            "padding": null,
            "right": null,
            "top": null,
            "visibility": null,
            "width": null
          }
        },
        "f8e7072b9d7e4dadbcec1d50f44fc7a9": {
          "model_module": "@jupyter-widgets/controls",
          "model_name": "ProgressStyleModel",
          "model_module_version": "1.5.0",
          "state": {
            "_model_module": "@jupyter-widgets/controls",
            "_model_module_version": "1.5.0",
            "_model_name": "ProgressStyleModel",
            "_view_count": null,
            "_view_module": "@jupyter-widgets/base",
            "_view_module_version": "1.2.0",
            "_view_name": "StyleView",
            "bar_color": null,
            "description_width": ""
          }
        },
        "959dbc2aeb294957896071a940f9a575": {
          "model_module": "@jupyter-widgets/base",
          "model_name": "LayoutModel",
          "model_module_version": "1.2.0",
          "state": {
            "_model_module": "@jupyter-widgets/base",
            "_model_module_version": "1.2.0",
            "_model_name": "LayoutModel",
            "_view_count": null,
            "_view_module": "@jupyter-widgets/base",
            "_view_module_version": "1.2.0",
            "_view_name": "LayoutView",
            "align_content": null,
            "align_items": null,
            "align_self": null,
            "border": null,
            "bottom": null,
            "display": null,
            "flex": null,
            "flex_flow": null,
            "grid_area": null,
            "grid_auto_columns": null,
            "grid_auto_flow": null,
            "grid_auto_rows": null,
            "grid_column": null,
            "grid_gap": null,
            "grid_row": null,
            "grid_template_areas": null,
            "grid_template_columns": null,
            "grid_template_rows": null,
            "height": null,
            "justify_content": null,
            "justify_items": null,
            "left": null,
            "margin": null,
            "max_height": null,
            "max_width": null,
            "min_height": null,
            "min_width": null,
            "object_fit": null,
            "object_position": null,
            "order": null,
            "overflow": null,
            "overflow_x": null,
            "overflow_y": null,
            "padding": null,
            "right": null,
            "top": null,
            "visibility": null,
            "width": null
          }
        },
        "55d88159eae64bc8a4d21977cf8703e7": {
          "model_module": "@jupyter-widgets/controls",
          "model_name": "DescriptionStyleModel",
          "model_module_version": "1.5.0",
          "state": {
            "_model_module": "@jupyter-widgets/controls",
            "_model_module_version": "1.5.0",
            "_model_name": "DescriptionStyleModel",
            "_view_count": null,
            "_view_module": "@jupyter-widgets/base",
            "_view_module_version": "1.2.0",
            "_view_name": "StyleView",
            "description_width": ""
          }
        },
        "68ac3493455247f99d4a3913d9ec32fa": {
          "model_module": "@jupyter-widgets/controls",
          "model_name": "HBoxModel",
          "model_module_version": "1.5.0",
          "state": {
            "_dom_classes": [],
            "_model_module": "@jupyter-widgets/controls",
            "_model_module_version": "1.5.0",
            "_model_name": "HBoxModel",
            "_view_count": null,
            "_view_module": "@jupyter-widgets/controls",
            "_view_module_version": "1.5.0",
            "_view_name": "HBoxView",
            "box_style": "",
            "children": [
              "IPY_MODEL_dc93f8111b0544cc8879533086cc339c",
              "IPY_MODEL_1516b77a7566471390846501c76c57ee",
              "IPY_MODEL_68189227d7d3472499ec152f468707ec"
            ],
            "layout": "IPY_MODEL_69ff6cf98f2f4022ac402a7db8d714b5"
          }
        },
        "dc93f8111b0544cc8879533086cc339c": {
          "model_module": "@jupyter-widgets/controls",
          "model_name": "HTMLModel",
          "model_module_version": "1.5.0",
          "state": {
            "_dom_classes": [],
            "_model_module": "@jupyter-widgets/controls",
            "_model_module_version": "1.5.0",
            "_model_name": "HTMLModel",
            "_view_count": null,
            "_view_module": "@jupyter-widgets/controls",
            "_view_module_version": "1.5.0",
            "_view_name": "HTMLView",
            "description": "",
            "description_tooltip": null,
            "layout": "IPY_MODEL_fa66154dcecb46f7afa3b893623e21b6",
            "placeholder": "​",
            "style": "IPY_MODEL_fbd68351ad2f4bd5aedd03fecc9608e7",
            "value": "pytorch_model.bin: 100%"
          }
        },
        "1516b77a7566471390846501c76c57ee": {
          "model_module": "@jupyter-widgets/controls",
          "model_name": "FloatProgressModel",
          "model_module_version": "1.5.0",
          "state": {
            "_dom_classes": [],
            "_model_module": "@jupyter-widgets/controls",
            "_model_module_version": "1.5.0",
            "_model_name": "FloatProgressModel",
            "_view_count": null,
            "_view_module": "@jupyter-widgets/controls",
            "_view_module_version": "1.5.0",
            "_view_name": "ProgressView",
            "bar_style": "success",
            "description": "",
            "description_tooltip": null,
            "layout": "IPY_MODEL_592c68aa527a4f6ea1cd913cc81ed711",
            "max": 953477430,
            "min": 0,
            "orientation": "horizontal",
            "style": "IPY_MODEL_c63295523b6c4d0cbdef19adbd3fe884",
            "value": 953477430
          }
        },
        "68189227d7d3472499ec152f468707ec": {
          "model_module": "@jupyter-widgets/controls",
          "model_name": "HTMLModel",
          "model_module_version": "1.5.0",
          "state": {
            "_dom_classes": [],
            "_model_module": "@jupyter-widgets/controls",
            "_model_module_version": "1.5.0",
            "_model_name": "HTMLModel",
            "_view_count": null,
            "_view_module": "@jupyter-widgets/controls",
            "_view_module_version": "1.5.0",
            "_view_name": "HTMLView",
            "description": "",
            "description_tooltip": null,
            "layout": "IPY_MODEL_ece8a7fcc46d485eaf53d9dd3ee4c796",
            "placeholder": "​",
            "style": "IPY_MODEL_e1efaf4e9a4248e89fd84859aa002af0",
            "value": " 953M/953M [00:08&lt;00:00, 144MB/s]"
          }
        },
        "69ff6cf98f2f4022ac402a7db8d714b5": {
          "model_module": "@jupyter-widgets/base",
          "model_name": "LayoutModel",
          "model_module_version": "1.2.0",
          "state": {
            "_model_module": "@jupyter-widgets/base",
            "_model_module_version": "1.2.0",
            "_model_name": "LayoutModel",
            "_view_count": null,
            "_view_module": "@jupyter-widgets/base",
            "_view_module_version": "1.2.0",
            "_view_name": "LayoutView",
            "align_content": null,
            "align_items": null,
            "align_self": null,
            "border": null,
            "bottom": null,
            "display": null,
            "flex": null,
            "flex_flow": null,
            "grid_area": null,
            "grid_auto_columns": null,
            "grid_auto_flow": null,
            "grid_auto_rows": null,
            "grid_column": null,
            "grid_gap": null,
            "grid_row": null,
            "grid_template_areas": null,
            "grid_template_columns": null,
            "grid_template_rows": null,
            "height": null,
            "justify_content": null,
            "justify_items": null,
            "left": null,
            "margin": null,
            "max_height": null,
            "max_width": null,
            "min_height": null,
            "min_width": null,
            "object_fit": null,
            "object_position": null,
            "order": null,
            "overflow": null,
            "overflow_x": null,
            "overflow_y": null,
            "padding": null,
            "right": null,
            "top": null,
            "visibility": null,
            "width": null
          }
        },
        "fa66154dcecb46f7afa3b893623e21b6": {
          "model_module": "@jupyter-widgets/base",
          "model_name": "LayoutModel",
          "model_module_version": "1.2.0",
          "state": {
            "_model_module": "@jupyter-widgets/base",
            "_model_module_version": "1.2.0",
            "_model_name": "LayoutModel",
            "_view_count": null,
            "_view_module": "@jupyter-widgets/base",
            "_view_module_version": "1.2.0",
            "_view_name": "LayoutView",
            "align_content": null,
            "align_items": null,
            "align_self": null,
            "border": null,
            "bottom": null,
            "display": null,
            "flex": null,
            "flex_flow": null,
            "grid_area": null,
            "grid_auto_columns": null,
            "grid_auto_flow": null,
            "grid_auto_rows": null,
            "grid_column": null,
            "grid_gap": null,
            "grid_row": null,
            "grid_template_areas": null,
            "grid_template_columns": null,
            "grid_template_rows": null,
            "height": null,
            "justify_content": null,
            "justify_items": null,
            "left": null,
            "margin": null,
            "max_height": null,
            "max_width": null,
            "min_height": null,
            "min_width": null,
            "object_fit": null,
            "object_position": null,
            "order": null,
            "overflow": null,
            "overflow_x": null,
            "overflow_y": null,
            "padding": null,
            "right": null,
            "top": null,
            "visibility": null,
            "width": null
          }
        },
        "fbd68351ad2f4bd5aedd03fecc9608e7": {
          "model_module": "@jupyter-widgets/controls",
          "model_name": "DescriptionStyleModel",
          "model_module_version": "1.5.0",
          "state": {
            "_model_module": "@jupyter-widgets/controls",
            "_model_module_version": "1.5.0",
            "_model_name": "DescriptionStyleModel",
            "_view_count": null,
            "_view_module": "@jupyter-widgets/base",
            "_view_module_version": "1.2.0",
            "_view_name": "StyleView",
            "description_width": ""
          }
        },
        "592c68aa527a4f6ea1cd913cc81ed711": {
          "model_module": "@jupyter-widgets/base",
          "model_name": "LayoutModel",
          "model_module_version": "1.2.0",
          "state": {
            "_model_module": "@jupyter-widgets/base",
            "_model_module_version": "1.2.0",
            "_model_name": "LayoutModel",
            "_view_count": null,
            "_view_module": "@jupyter-widgets/base",
            "_view_module_version": "1.2.0",
            "_view_name": "LayoutView",
            "align_content": null,
            "align_items": null,
            "align_self": null,
            "border": null,
            "bottom": null,
            "display": null,
            "flex": null,
            "flex_flow": null,
            "grid_area": null,
            "grid_auto_columns": null,
            "grid_auto_flow": null,
            "grid_auto_rows": null,
            "grid_column": null,
            "grid_gap": null,
            "grid_row": null,
            "grid_template_areas": null,
            "grid_template_columns": null,
            "grid_template_rows": null,
            "height": null,
            "justify_content": null,
            "justify_items": null,
            "left": null,
            "margin": null,
            "max_height": null,
            "max_width": null,
            "min_height": null,
            "min_width": null,
            "object_fit": null,
            "object_position": null,
            "order": null,
            "overflow": null,
            "overflow_x": null,
            "overflow_y": null,
            "padding": null,
            "right": null,
            "top": null,
            "visibility": null,
            "width": null
          }
        },
        "c63295523b6c4d0cbdef19adbd3fe884": {
          "model_module": "@jupyter-widgets/controls",
          "model_name": "ProgressStyleModel",
          "model_module_version": "1.5.0",
          "state": {
            "_model_module": "@jupyter-widgets/controls",
            "_model_module_version": "1.5.0",
            "_model_name": "ProgressStyleModel",
            "_view_count": null,
            "_view_module": "@jupyter-widgets/base",
            "_view_module_version": "1.2.0",
            "_view_name": "StyleView",
            "bar_color": null,
            "description_width": ""
          }
        },
        "ece8a7fcc46d485eaf53d9dd3ee4c796": {
          "model_module": "@jupyter-widgets/base",
          "model_name": "LayoutModel",
          "model_module_version": "1.2.0",
          "state": {
            "_model_module": "@jupyter-widgets/base",
            "_model_module_version": "1.2.0",
            "_model_name": "LayoutModel",
            "_view_count": null,
            "_view_module": "@jupyter-widgets/base",
            "_view_module_version": "1.2.0",
            "_view_name": "LayoutView",
            "align_content": null,
            "align_items": null,
            "align_self": null,
            "border": null,
            "bottom": null,
            "display": null,
            "flex": null,
            "flex_flow": null,
            "grid_area": null,
            "grid_auto_columns": null,
            "grid_auto_flow": null,
            "grid_auto_rows": null,
            "grid_column": null,
            "grid_gap": null,
            "grid_row": null,
            "grid_template_areas": null,
            "grid_template_columns": null,
            "grid_template_rows": null,
            "height": null,
            "justify_content": null,
            "justify_items": null,
            "left": null,
            "margin": null,
            "max_height": null,
            "max_width": null,
            "min_height": null,
            "min_width": null,
            "object_fit": null,
            "object_position": null,
            "order": null,
            "overflow": null,
            "overflow_x": null,
            "overflow_y": null,
            "padding": null,
            "right": null,
            "top": null,
            "visibility": null,
            "width": null
          }
        },
        "e1efaf4e9a4248e89fd84859aa002af0": {
          "model_module": "@jupyter-widgets/controls",
          "model_name": "DescriptionStyleModel",
          "model_module_version": "1.5.0",
          "state": {
            "_model_module": "@jupyter-widgets/controls",
            "_model_module_version": "1.5.0",
            "_model_name": "DescriptionStyleModel",
            "_view_count": null,
            "_view_module": "@jupyter-widgets/base",
            "_view_module_version": "1.2.0",
            "_view_name": "StyleView",
            "description_width": ""
          }
        },
        "2dbc209bf8764e6690378f1c54e5d198": {
          "model_module": "@jupyter-widgets/controls",
          "model_name": "HBoxModel",
          "model_module_version": "1.5.0",
          "state": {
            "_dom_classes": [],
            "_model_module": "@jupyter-widgets/controls",
            "_model_module_version": "1.5.0",
            "_model_name": "HBoxModel",
            "_view_count": null,
            "_view_module": "@jupyter-widgets/controls",
            "_view_module_version": "1.5.0",
            "_view_name": "HBoxView",
            "box_style": "",
            "children": [
              "IPY_MODEL_5f79feb64c014231b720864c18df97b9",
              "IPY_MODEL_264a89d5b41b4cf3aa492c50b06c1183",
              "IPY_MODEL_41af547606c84a9385d4e69721aba81d"
            ],
            "layout": "IPY_MODEL_5e3089b6168c44aa9a260b8b7f28bdc1"
          }
        },
        "5f79feb64c014231b720864c18df97b9": {
          "model_module": "@jupyter-widgets/controls",
          "model_name": "HTMLModel",
          "model_module_version": "1.5.0",
          "state": {
            "_dom_classes": [],
            "_model_module": "@jupyter-widgets/controls",
            "_model_module_version": "1.5.0",
            "_model_name": "HTMLModel",
            "_view_count": null,
            "_view_module": "@jupyter-widgets/controls",
            "_view_module_version": "1.5.0",
            "_view_name": "HTMLView",
            "description": "",
            "description_tooltip": null,
            "layout": "IPY_MODEL_9f8278e9756649baa499f3f53627e9f4",
            "placeholder": "​",
            "style": "IPY_MODEL_b1ba0a5dbb2d474b8176f05af164b77e",
            "value": "tokenizer_config.json: 100%"
          }
        },
        "264a89d5b41b4cf3aa492c50b06c1183": {
          "model_module": "@jupyter-widgets/controls",
          "model_name": "FloatProgressModel",
          "model_module_version": "1.5.0",
          "state": {
            "_dom_classes": [],
            "_model_module": "@jupyter-widgets/controls",
            "_model_module_version": "1.5.0",
            "_model_name": "FloatProgressModel",
            "_view_count": null,
            "_view_module": "@jupyter-widgets/controls",
            "_view_module_version": "1.5.0",
            "_view_name": "ProgressView",
            "bar_style": "success",
            "description": "",
            "description_tooltip": null,
            "layout": "IPY_MODEL_b1bdc88dbbb24cc2a5df44d24879c935",
            "max": 206,
            "min": 0,
            "orientation": "horizontal",
            "style": "IPY_MODEL_f44055775a3d486d8e204860f6ce6ab1",
            "value": 206
          }
        },
        "41af547606c84a9385d4e69721aba81d": {
          "model_module": "@jupyter-widgets/controls",
          "model_name": "HTMLModel",
          "model_module_version": "1.5.0",
          "state": {
            "_dom_classes": [],
            "_model_module": "@jupyter-widgets/controls",
            "_model_module_version": "1.5.0",
            "_model_name": "HTMLModel",
            "_view_count": null,
            "_view_module": "@jupyter-widgets/controls",
            "_view_module_version": "1.5.0",
            "_view_name": "HTMLView",
            "description": "",
            "description_tooltip": null,
            "layout": "IPY_MODEL_179f5a52b47e4847a16810d1a5c83553",
            "placeholder": "​",
            "style": "IPY_MODEL_b2777eb7cc084f80bb761a112021fd8e",
            "value": " 206/206 [00:00&lt;00:00, 13.6kB/s]"
          }
        },
        "5e3089b6168c44aa9a260b8b7f28bdc1": {
          "model_module": "@jupyter-widgets/base",
          "model_name": "LayoutModel",
          "model_module_version": "1.2.0",
          "state": {
            "_model_module": "@jupyter-widgets/base",
            "_model_module_version": "1.2.0",
            "_model_name": "LayoutModel",
            "_view_count": null,
            "_view_module": "@jupyter-widgets/base",
            "_view_module_version": "1.2.0",
            "_view_name": "LayoutView",
            "align_content": null,
            "align_items": null,
            "align_self": null,
            "border": null,
            "bottom": null,
            "display": null,
            "flex": null,
            "flex_flow": null,
            "grid_area": null,
            "grid_auto_columns": null,
            "grid_auto_flow": null,
            "grid_auto_rows": null,
            "grid_column": null,
            "grid_gap": null,
            "grid_row": null,
            "grid_template_areas": null,
            "grid_template_columns": null,
            "grid_template_rows": null,
            "height": null,
            "justify_content": null,
            "justify_items": null,
            "left": null,
            "margin": null,
            "max_height": null,
            "max_width": null,
            "min_height": null,
            "min_width": null,
            "object_fit": null,
            "object_position": null,
            "order": null,
            "overflow": null,
            "overflow_x": null,
            "overflow_y": null,
            "padding": null,
            "right": null,
            "top": null,
            "visibility": null,
            "width": null
          }
        },
        "9f8278e9756649baa499f3f53627e9f4": {
          "model_module": "@jupyter-widgets/base",
          "model_name": "LayoutModel",
          "model_module_version": "1.2.0",
          "state": {
            "_model_module": "@jupyter-widgets/base",
            "_model_module_version": "1.2.0",
            "_model_name": "LayoutModel",
            "_view_count": null,
            "_view_module": "@jupyter-widgets/base",
            "_view_module_version": "1.2.0",
            "_view_name": "LayoutView",
            "align_content": null,
            "align_items": null,
            "align_self": null,
            "border": null,
            "bottom": null,
            "display": null,
            "flex": null,
            "flex_flow": null,
            "grid_area": null,
            "grid_auto_columns": null,
            "grid_auto_flow": null,
            "grid_auto_rows": null,
            "grid_column": null,
            "grid_gap": null,
            "grid_row": null,
            "grid_template_areas": null,
            "grid_template_columns": null,
            "grid_template_rows": null,
            "height": null,
            "justify_content": null,
            "justify_items": null,
            "left": null,
            "margin": null,
            "max_height": null,
            "max_width": null,
            "min_height": null,
            "min_width": null,
            "object_fit": null,
            "object_position": null,
            "order": null,
            "overflow": null,
            "overflow_x": null,
            "overflow_y": null,
            "padding": null,
            "right": null,
            "top": null,
            "visibility": null,
            "width": null
          }
        },
        "b1ba0a5dbb2d474b8176f05af164b77e": {
          "model_module": "@jupyter-widgets/controls",
          "model_name": "DescriptionStyleModel",
          "model_module_version": "1.5.0",
          "state": {
            "_model_module": "@jupyter-widgets/controls",
            "_model_module_version": "1.5.0",
            "_model_name": "DescriptionStyleModel",
            "_view_count": null,
            "_view_module": "@jupyter-widgets/base",
            "_view_module_version": "1.2.0",
            "_view_name": "StyleView",
            "description_width": ""
          }
        },
        "b1bdc88dbbb24cc2a5df44d24879c935": {
          "model_module": "@jupyter-widgets/base",
          "model_name": "LayoutModel",
          "model_module_version": "1.2.0",
          "state": {
            "_model_module": "@jupyter-widgets/base",
            "_model_module_version": "1.2.0",
            "_model_name": "LayoutModel",
            "_view_count": null,
            "_view_module": "@jupyter-widgets/base",
            "_view_module_version": "1.2.0",
            "_view_name": "LayoutView",
            "align_content": null,
            "align_items": null,
            "align_self": null,
            "border": null,
            "bottom": null,
            "display": null,
            "flex": null,
            "flex_flow": null,
            "grid_area": null,
            "grid_auto_columns": null,
            "grid_auto_flow": null,
            "grid_auto_rows": null,
            "grid_column": null,
            "grid_gap": null,
            "grid_row": null,
            "grid_template_areas": null,
            "grid_template_columns": null,
            "grid_template_rows": null,
            "height": null,
            "justify_content": null,
            "justify_items": null,
            "left": null,
            "margin": null,
            "max_height": null,
            "max_width": null,
            "min_height": null,
            "min_width": null,
            "object_fit": null,
            "object_position": null,
            "order": null,
            "overflow": null,
            "overflow_x": null,
            "overflow_y": null,
            "padding": null,
            "right": null,
            "top": null,
            "visibility": null,
            "width": null
          }
        },
        "f44055775a3d486d8e204860f6ce6ab1": {
          "model_module": "@jupyter-widgets/controls",
          "model_name": "ProgressStyleModel",
          "model_module_version": "1.5.0",
          "state": {
            "_model_module": "@jupyter-widgets/controls",
            "_model_module_version": "1.5.0",
            "_model_name": "ProgressStyleModel",
            "_view_count": null,
            "_view_module": "@jupyter-widgets/base",
            "_view_module_version": "1.2.0",
            "_view_name": "StyleView",
            "bar_color": null,
            "description_width": ""
          }
        },
        "179f5a52b47e4847a16810d1a5c83553": {
          "model_module": "@jupyter-widgets/base",
          "model_name": "LayoutModel",
          "model_module_version": "1.2.0",
          "state": {
            "_model_module": "@jupyter-widgets/base",
            "_model_module_version": "1.2.0",
            "_model_name": "LayoutModel",
            "_view_count": null,
            "_view_module": "@jupyter-widgets/base",
            "_view_module_version": "1.2.0",
            "_view_name": "LayoutView",
            "align_content": null,
            "align_items": null,
            "align_self": null,
            "border": null,
            "bottom": null,
            "display": null,
            "flex": null,
            "flex_flow": null,
            "grid_area": null,
            "grid_auto_columns": null,
            "grid_auto_flow": null,
            "grid_auto_rows": null,
            "grid_column": null,
            "grid_gap": null,
            "grid_row": null,
            "grid_template_areas": null,
            "grid_template_columns": null,
            "grid_template_rows": null,
            "height": null,
            "justify_content": null,
            "justify_items": null,
            "left": null,
            "margin": null,
            "max_height": null,
            "max_width": null,
            "min_height": null,
            "min_width": null,
            "object_fit": null,
            "object_position": null,
            "order": null,
            "overflow": null,
            "overflow_x": null,
            "overflow_y": null,
            "padding": null,
            "right": null,
            "top": null,
            "visibility": null,
            "width": null
          }
        },
        "b2777eb7cc084f80bb761a112021fd8e": {
          "model_module": "@jupyter-widgets/controls",
          "model_name": "DescriptionStyleModel",
          "model_module_version": "1.5.0",
          "state": {
            "_model_module": "@jupyter-widgets/controls",
            "_model_module_version": "1.5.0",
            "_model_name": "DescriptionStyleModel",
            "_view_count": null,
            "_view_module": "@jupyter-widgets/base",
            "_view_module_version": "1.2.0",
            "_view_name": "StyleView",
            "description_width": ""
          }
        },
        "ff9ca55e5a6d49fbb172a34e8a210540": {
          "model_module": "@jupyter-widgets/controls",
          "model_name": "HBoxModel",
          "model_module_version": "1.5.0",
          "state": {
            "_dom_classes": [],
            "_model_module": "@jupyter-widgets/controls",
            "_model_module_version": "1.5.0",
            "_model_name": "HBoxModel",
            "_view_count": null,
            "_view_module": "@jupyter-widgets/controls",
            "_view_module_version": "1.5.0",
            "_view_name": "HBoxView",
            "box_style": "",
            "children": [
              "IPY_MODEL_4819da876eb94383a0572b8e09fab09c",
              "IPY_MODEL_d567240f913f4f2b9d0563fd785b92a7",
              "IPY_MODEL_c98cae2c96bb47a5b311e416bd69eff3"
            ],
            "layout": "IPY_MODEL_0b1c1d1fb6854ea396e33e9f4f9af27a"
          }
        },
        "4819da876eb94383a0572b8e09fab09c": {
          "model_module": "@jupyter-widgets/controls",
          "model_name": "HTMLModel",
          "model_module_version": "1.5.0",
          "state": {
            "_dom_classes": [],
            "_model_module": "@jupyter-widgets/controls",
            "_model_module_version": "1.5.0",
            "_model_name": "HTMLModel",
            "_view_count": null,
            "_view_module": "@jupyter-widgets/controls",
            "_view_module_version": "1.5.0",
            "_view_name": "HTMLView",
            "description": "",
            "description_tooltip": null,
            "layout": "IPY_MODEL_8d8ac18e114a4716b853faf3e4d2a860",
            "placeholder": "​",
            "style": "IPY_MODEL_881d392c6ec844b993d98de54e92c8f1",
            "value": "vocab.txt: 100%"
          }
        },
        "d567240f913f4f2b9d0563fd785b92a7": {
          "model_module": "@jupyter-widgets/controls",
          "model_name": "FloatProgressModel",
          "model_module_version": "1.5.0",
          "state": {
            "_dom_classes": [],
            "_model_module": "@jupyter-widgets/controls",
            "_model_module_version": "1.5.0",
            "_model_name": "FloatProgressModel",
            "_view_count": null,
            "_view_module": "@jupyter-widgets/controls",
            "_view_module_version": "1.5.0",
            "_view_name": "ProgressView",
            "bar_style": "success",
            "description": "",
            "description_tooltip": null,
            "layout": "IPY_MODEL_295793f839034934a2441fb48be0dff6",
            "max": 3162999,
            "min": 0,
            "orientation": "horizontal",
            "style": "IPY_MODEL_0873d1ef8d364276aa7051da172dfde8",
            "value": 3162999
          }
        },
        "c98cae2c96bb47a5b311e416bd69eff3": {
          "model_module": "@jupyter-widgets/controls",
          "model_name": "HTMLModel",
          "model_module_version": "1.5.0",
          "state": {
            "_dom_classes": [],
            "_model_module": "@jupyter-widgets/controls",
            "_model_module_version": "1.5.0",
            "_model_name": "HTMLModel",
            "_view_count": null,
            "_view_module": "@jupyter-widgets/controls",
            "_view_module_version": "1.5.0",
            "_view_name": "HTMLView",
            "description": "",
            "description_tooltip": null,
            "layout": "IPY_MODEL_c0ab4a5669bf4d6a82cde11cdf73c15d",
            "placeholder": "​",
            "style": "IPY_MODEL_014ad6bd989c404b9b990bbda601a7e8",
            "value": " 3.16M/3.16M [00:00&lt;00:00, 32.8MB/s]"
          }
        },
        "0b1c1d1fb6854ea396e33e9f4f9af27a": {
          "model_module": "@jupyter-widgets/base",
          "model_name": "LayoutModel",
          "model_module_version": "1.2.0",
          "state": {
            "_model_module": "@jupyter-widgets/base",
            "_model_module_version": "1.2.0",
            "_model_name": "LayoutModel",
            "_view_count": null,
            "_view_module": "@jupyter-widgets/base",
            "_view_module_version": "1.2.0",
            "_view_name": "LayoutView",
            "align_content": null,
            "align_items": null,
            "align_self": null,
            "border": null,
            "bottom": null,
            "display": null,
            "flex": null,
            "flex_flow": null,
            "grid_area": null,
            "grid_auto_columns": null,
            "grid_auto_flow": null,
            "grid_auto_rows": null,
            "grid_column": null,
            "grid_gap": null,
            "grid_row": null,
            "grid_template_areas": null,
            "grid_template_columns": null,
            "grid_template_rows": null,
            "height": null,
            "justify_content": null,
            "justify_items": null,
            "left": null,
            "margin": null,
            "max_height": null,
            "max_width": null,
            "min_height": null,
            "min_width": null,
            "object_fit": null,
            "object_position": null,
            "order": null,
            "overflow": null,
            "overflow_x": null,
            "overflow_y": null,
            "padding": null,
            "right": null,
            "top": null,
            "visibility": null,
            "width": null
          }
        },
        "8d8ac18e114a4716b853faf3e4d2a860": {
          "model_module": "@jupyter-widgets/base",
          "model_name": "LayoutModel",
          "model_module_version": "1.2.0",
          "state": {
            "_model_module": "@jupyter-widgets/base",
            "_model_module_version": "1.2.0",
            "_model_name": "LayoutModel",
            "_view_count": null,
            "_view_module": "@jupyter-widgets/base",
            "_view_module_version": "1.2.0",
            "_view_name": "LayoutView",
            "align_content": null,
            "align_items": null,
            "align_self": null,
            "border": null,
            "bottom": null,
            "display": null,
            "flex": null,
            "flex_flow": null,
            "grid_area": null,
            "grid_auto_columns": null,
            "grid_auto_flow": null,
            "grid_auto_rows": null,
            "grid_column": null,
            "grid_gap": null,
            "grid_row": null,
            "grid_template_areas": null,
            "grid_template_columns": null,
            "grid_template_rows": null,
            "height": null,
            "justify_content": null,
            "justify_items": null,
            "left": null,
            "margin": null,
            "max_height": null,
            "max_width": null,
            "min_height": null,
            "min_width": null,
            "object_fit": null,
            "object_position": null,
            "order": null,
            "overflow": null,
            "overflow_x": null,
            "overflow_y": null,
            "padding": null,
            "right": null,
            "top": null,
            "visibility": null,
            "width": null
          }
        },
        "881d392c6ec844b993d98de54e92c8f1": {
          "model_module": "@jupyter-widgets/controls",
          "model_name": "DescriptionStyleModel",
          "model_module_version": "1.5.0",
          "state": {
            "_model_module": "@jupyter-widgets/controls",
            "_model_module_version": "1.5.0",
            "_model_name": "DescriptionStyleModel",
            "_view_count": null,
            "_view_module": "@jupyter-widgets/base",
            "_view_module_version": "1.2.0",
            "_view_name": "StyleView",
            "description_width": ""
          }
        },
        "295793f839034934a2441fb48be0dff6": {
          "model_module": "@jupyter-widgets/base",
          "model_name": "LayoutModel",
          "model_module_version": "1.2.0",
          "state": {
            "_model_module": "@jupyter-widgets/base",
            "_model_module_version": "1.2.0",
            "_model_name": "LayoutModel",
            "_view_count": null,
            "_view_module": "@jupyter-widgets/base",
            "_view_module_version": "1.2.0",
            "_view_name": "LayoutView",
            "align_content": null,
            "align_items": null,
            "align_self": null,
            "border": null,
            "bottom": null,
            "display": null,
            "flex": null,
            "flex_flow": null,
            "grid_area": null,
            "grid_auto_columns": null,
            "grid_auto_flow": null,
            "grid_auto_rows": null,
            "grid_column": null,
            "grid_gap": null,
            "grid_row": null,
            "grid_template_areas": null,
            "grid_template_columns": null,
            "grid_template_rows": null,
            "height": null,
            "justify_content": null,
            "justify_items": null,
            "left": null,
            "margin": null,
            "max_height": null,
            "max_width": null,
            "min_height": null,
            "min_width": null,
            "object_fit": null,
            "object_position": null,
            "order": null,
            "overflow": null,
            "overflow_x": null,
            "overflow_y": null,
            "padding": null,
            "right": null,
            "top": null,
            "visibility": null,
            "width": null
          }
        },
        "0873d1ef8d364276aa7051da172dfde8": {
          "model_module": "@jupyter-widgets/controls",
          "model_name": "ProgressStyleModel",
          "model_module_version": "1.5.0",
          "state": {
            "_model_module": "@jupyter-widgets/controls",
            "_model_module_version": "1.5.0",
            "_model_name": "ProgressStyleModel",
            "_view_count": null,
            "_view_module": "@jupyter-widgets/base",
            "_view_module_version": "1.2.0",
            "_view_name": "StyleView",
            "bar_color": null,
            "description_width": ""
          }
        },
        "c0ab4a5669bf4d6a82cde11cdf73c15d": {
          "model_module": "@jupyter-widgets/base",
          "model_name": "LayoutModel",
          "model_module_version": "1.2.0",
          "state": {
            "_model_module": "@jupyter-widgets/base",
            "_model_module_version": "1.2.0",
            "_model_name": "LayoutModel",
            "_view_count": null,
            "_view_module": "@jupyter-widgets/base",
            "_view_module_version": "1.2.0",
            "_view_name": "LayoutView",
            "align_content": null,
            "align_items": null,
            "align_self": null,
            "border": null,
            "bottom": null,
            "display": null,
            "flex": null,
            "flex_flow": null,
            "grid_area": null,
            "grid_auto_columns": null,
            "grid_auto_flow": null,
            "grid_auto_rows": null,
            "grid_column": null,
            "grid_gap": null,
            "grid_row": null,
            "grid_template_areas": null,
            "grid_template_columns": null,
            "grid_template_rows": null,
            "height": null,
            "justify_content": null,
            "justify_items": null,
            "left": null,
            "margin": null,
            "max_height": null,
            "max_width": null,
            "min_height": null,
            "min_width": null,
            "object_fit": null,
            "object_position": null,
            "order": null,
            "overflow": null,
            "overflow_x": null,
            "overflow_y": null,
            "padding": null,
            "right": null,
            "top": null,
            "visibility": null,
            "width": null
          }
        },
        "014ad6bd989c404b9b990bbda601a7e8": {
          "model_module": "@jupyter-widgets/controls",
          "model_name": "DescriptionStyleModel",
          "model_module_version": "1.5.0",
          "state": {
            "_model_module": "@jupyter-widgets/controls",
            "_model_module_version": "1.5.0",
            "_model_name": "DescriptionStyleModel",
            "_view_count": null,
            "_view_module": "@jupyter-widgets/base",
            "_view_module_version": "1.2.0",
            "_view_name": "StyleView",
            "description_width": ""
          }
        },
        "283af6685a16424cab4c529c183e163b": {
          "model_module": "@jupyter-widgets/controls",
          "model_name": "HBoxModel",
          "model_module_version": "1.5.0",
          "state": {
            "_dom_classes": [],
            "_model_module": "@jupyter-widgets/controls",
            "_model_module_version": "1.5.0",
            "_model_name": "HBoxModel",
            "_view_count": null,
            "_view_module": "@jupyter-widgets/controls",
            "_view_module_version": "1.5.0",
            "_view_name": "HBoxView",
            "box_style": "",
            "children": [
              "IPY_MODEL_8da42f2db18242379862c474f5e42286",
              "IPY_MODEL_38ac4b161d794b828bb2a30391ee4f84",
              "IPY_MODEL_1a869bf0d5814dc09f83270585b221f9"
            ],
            "layout": "IPY_MODEL_bfc5feafcddd4b9890ed8da6b68a2f58"
          }
        },
        "8da42f2db18242379862c474f5e42286": {
          "model_module": "@jupyter-widgets/controls",
          "model_name": "HTMLModel",
          "model_module_version": "1.5.0",
          "state": {
            "_dom_classes": [],
            "_model_module": "@jupyter-widgets/controls",
            "_model_module_version": "1.5.0",
            "_model_name": "HTMLModel",
            "_view_count": null,
            "_view_module": "@jupyter-widgets/controls",
            "_view_module_version": "1.5.0",
            "_view_name": "HTMLView",
            "description": "",
            "description_tooltip": null,
            "layout": "IPY_MODEL_1b04f8e5991d41c79d223509dcf73e58",
            "placeholder": "​",
            "style": "IPY_MODEL_7117e7dbb3e54f159a048f41e6a77077",
            "value": "special_tokens_map.json: 100%"
          }
        },
        "38ac4b161d794b828bb2a30391ee4f84": {
          "model_module": "@jupyter-widgets/controls",
          "model_name": "FloatProgressModel",
          "model_module_version": "1.5.0",
          "state": {
            "_dom_classes": [],
            "_model_module": "@jupyter-widgets/controls",
            "_model_module_version": "1.5.0",
            "_model_name": "FloatProgressModel",
            "_view_count": null,
            "_view_module": "@jupyter-widgets/controls",
            "_view_module_version": "1.5.0",
            "_view_name": "ProgressView",
            "bar_style": "success",
            "description": "",
            "description_tooltip": null,
            "layout": "IPY_MODEL_84fdba40fd3c493e8261d52748e2cb3f",
            "max": 113,
            "min": 0,
            "orientation": "horizontal",
            "style": "IPY_MODEL_30badb072c91467fbae49a9ccbc92454",
            "value": 113
          }
        },
        "1a869bf0d5814dc09f83270585b221f9": {
          "model_module": "@jupyter-widgets/controls",
          "model_name": "HTMLModel",
          "model_module_version": "1.5.0",
          "state": {
            "_dom_classes": [],
            "_model_module": "@jupyter-widgets/controls",
            "_model_module_version": "1.5.0",
            "_model_name": "HTMLModel",
            "_view_count": null,
            "_view_module": "@jupyter-widgets/controls",
            "_view_module_version": "1.5.0",
            "_view_name": "HTMLView",
            "description": "",
            "description_tooltip": null,
            "layout": "IPY_MODEL_68896bdfb2cf4dfca3e9998c2931ecbe",
            "placeholder": "​",
            "style": "IPY_MODEL_161fad0db1e84636b523225cba318796",
            "value": " 113/113 [00:00&lt;00:00, 6.44kB/s]"
          }
        },
        "bfc5feafcddd4b9890ed8da6b68a2f58": {
          "model_module": "@jupyter-widgets/base",
          "model_name": "LayoutModel",
          "model_module_version": "1.2.0",
          "state": {
            "_model_module": "@jupyter-widgets/base",
            "_model_module_version": "1.2.0",
            "_model_name": "LayoutModel",
            "_view_count": null,
            "_view_module": "@jupyter-widgets/base",
            "_view_module_version": "1.2.0",
            "_view_name": "LayoutView",
            "align_content": null,
            "align_items": null,
            "align_self": null,
            "border": null,
            "bottom": null,
            "display": null,
            "flex": null,
            "flex_flow": null,
            "grid_area": null,
            "grid_auto_columns": null,
            "grid_auto_flow": null,
            "grid_auto_rows": null,
            "grid_column": null,
            "grid_gap": null,
            "grid_row": null,
            "grid_template_areas": null,
            "grid_template_columns": null,
            "grid_template_rows": null,
            "height": null,
            "justify_content": null,
            "justify_items": null,
            "left": null,
            "margin": null,
            "max_height": null,
            "max_width": null,
            "min_height": null,
            "min_width": null,
            "object_fit": null,
            "object_position": null,
            "order": null,
            "overflow": null,
            "overflow_x": null,
            "overflow_y": null,
            "padding": null,
            "right": null,
            "top": null,
            "visibility": null,
            "width": null
          }
        },
        "1b04f8e5991d41c79d223509dcf73e58": {
          "model_module": "@jupyter-widgets/base",
          "model_name": "LayoutModel",
          "model_module_version": "1.2.0",
          "state": {
            "_model_module": "@jupyter-widgets/base",
            "_model_module_version": "1.2.0",
            "_model_name": "LayoutModel",
            "_view_count": null,
            "_view_module": "@jupyter-widgets/base",
            "_view_module_version": "1.2.0",
            "_view_name": "LayoutView",
            "align_content": null,
            "align_items": null,
            "align_self": null,
            "border": null,
            "bottom": null,
            "display": null,
            "flex": null,
            "flex_flow": null,
            "grid_area": null,
            "grid_auto_columns": null,
            "grid_auto_flow": null,
            "grid_auto_rows": null,
            "grid_column": null,
            "grid_gap": null,
            "grid_row": null,
            "grid_template_areas": null,
            "grid_template_columns": null,
            "grid_template_rows": null,
            "height": null,
            "justify_content": null,
            "justify_items": null,
            "left": null,
            "margin": null,
            "max_height": null,
            "max_width": null,
            "min_height": null,
            "min_width": null,
            "object_fit": null,
            "object_position": null,
            "order": null,
            "overflow": null,
            "overflow_x": null,
            "overflow_y": null,
            "padding": null,
            "right": null,
            "top": null,
            "visibility": null,
            "width": null
          }
        },
        "7117e7dbb3e54f159a048f41e6a77077": {
          "model_module": "@jupyter-widgets/controls",
          "model_name": "DescriptionStyleModel",
          "model_module_version": "1.5.0",
          "state": {
            "_model_module": "@jupyter-widgets/controls",
            "_model_module_version": "1.5.0",
            "_model_name": "DescriptionStyleModel",
            "_view_count": null,
            "_view_module": "@jupyter-widgets/base",
            "_view_module_version": "1.2.0",
            "_view_name": "StyleView",
            "description_width": ""
          }
        },
        "84fdba40fd3c493e8261d52748e2cb3f": {
          "model_module": "@jupyter-widgets/base",
          "model_name": "LayoutModel",
          "model_module_version": "1.2.0",
          "state": {
            "_model_module": "@jupyter-widgets/base",
            "_model_module_version": "1.2.0",
            "_model_name": "LayoutModel",
            "_view_count": null,
            "_view_module": "@jupyter-widgets/base",
            "_view_module_version": "1.2.0",
            "_view_name": "LayoutView",
            "align_content": null,
            "align_items": null,
            "align_self": null,
            "border": null,
            "bottom": null,
            "display": null,
            "flex": null,
            "flex_flow": null,
            "grid_area": null,
            "grid_auto_columns": null,
            "grid_auto_flow": null,
            "grid_auto_rows": null,
            "grid_column": null,
            "grid_gap": null,
            "grid_row": null,
            "grid_template_areas": null,
            "grid_template_columns": null,
            "grid_template_rows": null,
            "height": null,
            "justify_content": null,
            "justify_items": null,
            "left": null,
            "margin": null,
            "max_height": null,
            "max_width": null,
            "min_height": null,
            "min_width": null,
            "object_fit": null,
            "object_position": null,
            "order": null,
            "overflow": null,
            "overflow_x": null,
            "overflow_y": null,
            "padding": null,
            "right": null,
            "top": null,
            "visibility": null,
            "width": null
          }
        },
        "30badb072c91467fbae49a9ccbc92454": {
          "model_module": "@jupyter-widgets/controls",
          "model_name": "ProgressStyleModel",
          "model_module_version": "1.5.0",
          "state": {
            "_model_module": "@jupyter-widgets/controls",
            "_model_module_version": "1.5.0",
            "_model_name": "ProgressStyleModel",
            "_view_count": null,
            "_view_module": "@jupyter-widgets/base",
            "_view_module_version": "1.2.0",
            "_view_name": "StyleView",
            "bar_color": null,
            "description_width": ""
          }
        },
        "68896bdfb2cf4dfca3e9998c2931ecbe": {
          "model_module": "@jupyter-widgets/base",
          "model_name": "LayoutModel",
          "model_module_version": "1.2.0",
          "state": {
            "_model_module": "@jupyter-widgets/base",
            "_model_module_version": "1.2.0",
            "_model_name": "LayoutModel",
            "_view_count": null,
            "_view_module": "@jupyter-widgets/base",
            "_view_module_version": "1.2.0",
            "_view_name": "LayoutView",
            "align_content": null,
            "align_items": null,
            "align_self": null,
            "border": null,
            "bottom": null,
            "display": null,
            "flex": null,
            "flex_flow": null,
            "grid_area": null,
            "grid_auto_columns": null,
            "grid_auto_flow": null,
            "grid_auto_rows": null,
            "grid_column": null,
            "grid_gap": null,
            "grid_row": null,
            "grid_template_areas": null,
            "grid_template_columns": null,
            "grid_template_rows": null,
            "height": null,
            "justify_content": null,
            "justify_items": null,
            "left": null,
            "margin": null,
            "max_height": null,
            "max_width": null,
            "min_height": null,
            "min_width": null,
            "object_fit": null,
            "object_position": null,
            "order": null,
            "overflow": null,
            "overflow_x": null,
            "overflow_y": null,
            "padding": null,
            "right": null,
            "top": null,
            "visibility": null,
            "width": null
          }
        },
        "161fad0db1e84636b523225cba318796": {
          "model_module": "@jupyter-widgets/controls",
          "model_name": "DescriptionStyleModel",
          "model_module_version": "1.5.0",
          "state": {
            "_model_module": "@jupyter-widgets/controls",
            "_model_module_version": "1.5.0",
            "_model_name": "DescriptionStyleModel",
            "_view_count": null,
            "_view_module": "@jupyter-widgets/base",
            "_view_module_version": "1.2.0",
            "_view_name": "StyleView",
            "description_width": ""
          }
        }
      }
    }
  },
  "cells": [
    {
      "cell_type": "markdown",
      "metadata": {
        "id": "view-in-github"
      },
      "source": [
        "<a href=\"https://colab.research.google.com/github/Daishinkan002/Sentiment-Analysis-of-Marathi-Tweets/blob/main/marathi_sentiment_muril_bilstm_DL.ipynb\" target=\"_parent\"><img src=\"https://colab.research.google.com/assets/colab-badge.svg\" alt=\"Open In Colab\"/></a>"
      ]
    },
    {
      "cell_type": "markdown",
      "source": [
        "# Import Libraries"
      ],
      "metadata": {
        "id": "T4-RKh__QMPQ"
      }
    },
    {
      "cell_type": "code",
      "source": [
        "import os\n",
        "import re\n",
        "import string\n",
        "from tqdm import tqdm\n",
        "import pandas as pd\n",
        "from multiprocessing import Pool\n",
        "import numpy as np\n",
        "import pickle\n",
        "os.system('pip install -qq transformers')\n",
        "os.system('pip install -q -U watermark')\n",
        "import transformers\n",
        "from transformers import BertModel, BertTokenizer, AdamW, get_linear_schedule_with_warmup\n",
        "import torch\n",
        "from transformers import AutoModel, AutoTokenizer\n",
        "import numpy as np\n",
        "import pandas as pd\n",
        "import seaborn as sns\n",
        "from pylab import rcParams\n",
        "import matplotlib.pyplot as plt\n",
        "from matplotlib import rc\n",
        "from sklearn.model_selection import train_test_split\n",
        "from sklearn.metrics import confusion_matrix, classification_report\n",
        "from collections import defaultdict\n",
        "from textwrap import wrap\n",
        "\n",
        "from torch import nn, optim\n",
        "from torch.utils.data import Dataset, DataLoader\n",
        "import torch.nn.functional as F\n",
        "\n",
        "%matplotlib inline\n",
        "%config InlineBackend.figure_format='retina'\n",
        "\n",
        "sns.set(style='whitegrid', palette='muted', font_scale=1.2)\n",
        "\n",
        "HAPPY_COLORS_PALETTE = [\"#01BEFE\", \"#FFDD00\", \"#FF7D00\", \"#FF006D\", \"#ADFF02\", \"#8F00FF\"]\n",
        "\n",
        "sns.set_palette(sns.color_palette(HAPPY_COLORS_PALETTE))\n",
        "\n",
        "rcParams['figure.figsize'] = 12, 8\n",
        "\n",
        "RANDOM_SEED = 42\n",
        "np.random.seed(RANDOM_SEED)\n",
        "torch.manual_seed(RANDOM_SEED)\n",
        "\n",
        "device = torch.device(\"cuda:0\" if torch.cuda.is_available() else \"cpu\")\n",
        "device"
      ],
      "metadata": {
        "id": "aV6NTQHLP9A7",
        "colab": {
          "base_uri": "https://localhost:8080/"
        },
        "outputId": "a98e0f1b-2ed1-409b-9306-9411fe76df4f"
      },
      "execution_count": null,
      "outputs": [
        {
          "output_type": "execute_result",
          "data": {
            "text/plain": [
              "device(type='cuda', index=0)"
            ]
          },
          "metadata": {},
          "execution_count": 1
        }
      ]
    },
    {
      "cell_type": "code",
      "source": [
        "%reload_ext watermark\n",
        "%watermark -v -p numpy,pandas,torch,transformers"
      ],
      "metadata": {
        "id": "UlnjNs4UQGHI",
        "colab": {
          "base_uri": "https://localhost:8080/"
        },
        "outputId": "a1729fde-b2ff-41ca-d169-53a935d2a80d"
      },
      "execution_count": null,
      "outputs": [
        {
          "output_type": "stream",
          "name": "stdout",
          "text": [
            "Python implementation: CPython\n",
            "Python version       : 3.10.12\n",
            "IPython version      : 7.34.0\n",
            "\n",
            "numpy       : 1.23.5\n",
            "pandas      : 1.5.3\n",
            "torch       : 2.1.0+cu121\n",
            "transformers: 4.35.2\n",
            "\n"
          ]
        }
      ]
    },
    {
      "cell_type": "markdown",
      "source": [
        "# Dataset Loading"
      ],
      "metadata": {
        "id": "gaDc0mN-QJA_"
      }
    },
    {
      "cell_type": "code",
      "source": [
        "from google.colab import drive\n",
        "drive.mount('/content/gdrive')"
      ],
      "metadata": {
        "colab": {
          "base_uri": "https://localhost:8080/"
        },
        "id": "nzLM9i3cQYqk",
        "outputId": "1b9f968e-4a13-4792-83c5-b6ea7816c523"
      },
      "execution_count": null,
      "outputs": [
        {
          "output_type": "stream",
          "name": "stdout",
          "text": [
            "Mounted at /content/gdrive\n"
          ]
        }
      ]
    },
    {
      "cell_type": "code",
      "source": [
        "df_train = pd.read_pickle('/content/gdrive/MyDrive/Sentiment-Analysis-of-Marathi-Tweets-main/Sentiment-Analysis-of-Marathi-Tweets-main/Dataset/marathi_train.pkl')\n",
        "df_test = pd.read_pickle('/content/gdrive/MyDrive/Sentiment-Analysis-of-Marathi-Tweets-main/Sentiment-Analysis-of-Marathi-Tweets-main/Dataset/marathi_test.pkl')\n",
        "df_valid = pd.read_pickle('/content/gdrive/MyDrive/Sentiment-Analysis-of-Marathi-Tweets-main/Sentiment-Analysis-of-Marathi-Tweets-main/Dataset/marathi_valid.pkl')"
      ],
      "metadata": {
        "id": "zUSPe5MAQb6N"
      },
      "execution_count": null,
      "outputs": []
    },
    {
      "cell_type": "markdown",
      "source": [
        "# Data analysis"
      ],
      "metadata": {
        "id": "6cPfl8pHQreT"
      }
    },
    {
      "cell_type": "code",
      "source": [
        "df_train"
      ],
      "metadata": {
        "colab": {
          "base_uri": "https://localhost:8080/",
          "height": 394
        },
        "id": "cKHGKZSpsBaX",
        "outputId": "6326d8d5-fdb3-43b2-bfe2-f34cc53aabf2"
      },
      "execution_count": null,
      "outputs": [
        {
          "output_type": "execute_result",
          "data": {
            "text/plain": [
              "                                           Unnamed: 0  Unnamed: 1  Unnamed: 2  \\\n",
              "0                                                 NaN         NaN         NaN   \n",
              "1   ??????????????????????????????????????????...         NaN         NaN   \n",
              "2                                                 NaN         NaN         NaN   \n",
              "3     1??????????????????????????????????????????????         NaN         NaN   \n",
              "4   2?????????????????????????????????????????????...         NaN         NaN   \n",
              "5   3?????????????????????????????????????????????...         NaN         NaN   \n",
              "6   4? ???????????????????????????????????????????...         NaN         NaN   \n",
              "7   5?????????????????????????????????????????????...         NaN         NaN   \n",
              "8   6?????????????????????????????????????????????...         NaN         NaN   \n",
              "9         7??????????????????????????????????????????         NaN         NaN   \n",
              "10  8?????????????????????????????????????????????...         NaN         NaN   \n",
              "\n",
              "       ???????  \n",
              "0          NaN  \n",
              "1          NaN  \n",
              "2          NaN  \n",
              "3          NaN  \n",
              "4          NaN  \n",
              "5          NaN  \n",
              "6          NaN  \n",
              "7          NaN  \n",
              "8          NaN  \n",
              "9          NaN  \n",
              "10         NaN  "
            ],
            "text/html": [
              "\n",
              "  <div id=\"df-fb248cd7-57c8-403b-8a70-03938595b2a4\" class=\"colab-df-container\">\n",
              "    <div>\n",
              "<style scoped>\n",
              "    .dataframe tbody tr th:only-of-type {\n",
              "        vertical-align: middle;\n",
              "    }\n",
              "\n",
              "    .dataframe tbody tr th {\n",
              "        vertical-align: top;\n",
              "    }\n",
              "\n",
              "    .dataframe thead th {\n",
              "        text-align: right;\n",
              "    }\n",
              "</style>\n",
              "<table border=\"1\" class=\"dataframe\">\n",
              "  <thead>\n",
              "    <tr style=\"text-align: right;\">\n",
              "      <th></th>\n",
              "      <th>Unnamed: 0</th>\n",
              "      <th>Unnamed: 1</th>\n",
              "      <th>Unnamed: 2</th>\n",
              "      <th>???????</th>\n",
              "    </tr>\n",
              "  </thead>\n",
              "  <tbody>\n",
              "    <tr>\n",
              "      <th>0</th>\n",
              "      <td>NaN</td>\n",
              "      <td>NaN</td>\n",
              "      <td>NaN</td>\n",
              "      <td>NaN</td>\n",
              "    </tr>\n",
              "    <tr>\n",
              "      <th>1</th>\n",
              "      <td>??????????????????????????????????????????...</td>\n",
              "      <td>NaN</td>\n",
              "      <td>NaN</td>\n",
              "      <td>NaN</td>\n",
              "    </tr>\n",
              "    <tr>\n",
              "      <th>2</th>\n",
              "      <td>NaN</td>\n",
              "      <td>NaN</td>\n",
              "      <td>NaN</td>\n",
              "      <td>NaN</td>\n",
              "    </tr>\n",
              "    <tr>\n",
              "      <th>3</th>\n",
              "      <td>1??????????????????????????????????????????????</td>\n",
              "      <td>NaN</td>\n",
              "      <td>NaN</td>\n",
              "      <td>NaN</td>\n",
              "    </tr>\n",
              "    <tr>\n",
              "      <th>4</th>\n",
              "      <td>2?????????????????????????????????????????????...</td>\n",
              "      <td>NaN</td>\n",
              "      <td>NaN</td>\n",
              "      <td>NaN</td>\n",
              "    </tr>\n",
              "    <tr>\n",
              "      <th>5</th>\n",
              "      <td>3?????????????????????????????????????????????...</td>\n",
              "      <td>NaN</td>\n",
              "      <td>NaN</td>\n",
              "      <td>NaN</td>\n",
              "    </tr>\n",
              "    <tr>\n",
              "      <th>6</th>\n",
              "      <td>4? ???????????????????????????????????????????...</td>\n",
              "      <td>NaN</td>\n",
              "      <td>NaN</td>\n",
              "      <td>NaN</td>\n",
              "    </tr>\n",
              "    <tr>\n",
              "      <th>7</th>\n",
              "      <td>5?????????????????????????????????????????????...</td>\n",
              "      <td>NaN</td>\n",
              "      <td>NaN</td>\n",
              "      <td>NaN</td>\n",
              "    </tr>\n",
              "    <tr>\n",
              "      <th>8</th>\n",
              "      <td>6?????????????????????????????????????????????...</td>\n",
              "      <td>NaN</td>\n",
              "      <td>NaN</td>\n",
              "      <td>NaN</td>\n",
              "    </tr>\n",
              "    <tr>\n",
              "      <th>9</th>\n",
              "      <td>7??????????????????????????????????????????</td>\n",
              "      <td>NaN</td>\n",
              "      <td>NaN</td>\n",
              "      <td>NaN</td>\n",
              "    </tr>\n",
              "    <tr>\n",
              "      <th>10</th>\n",
              "      <td>8?????????????????????????????????????????????...</td>\n",
              "      <td>NaN</td>\n",
              "      <td>NaN</td>\n",
              "      <td>NaN</td>\n",
              "    </tr>\n",
              "  </tbody>\n",
              "</table>\n",
              "</div>\n",
              "    <div class=\"colab-df-buttons\">\n",
              "\n",
              "  <div class=\"colab-df-container\">\n",
              "    <button class=\"colab-df-convert\" onclick=\"convertToInteractive('df-fb248cd7-57c8-403b-8a70-03938595b2a4')\"\n",
              "            title=\"Convert this dataframe to an interactive table.\"\n",
              "            style=\"display:none;\">\n",
              "\n",
              "  <svg xmlns=\"http://www.w3.org/2000/svg\" height=\"24px\" viewBox=\"0 -960 960 960\">\n",
              "    <path d=\"M120-120v-720h720v720H120Zm60-500h600v-160H180v160Zm220 220h160v-160H400v160Zm0 220h160v-160H400v160ZM180-400h160v-160H180v160Zm440 0h160v-160H620v160ZM180-180h160v-160H180v160Zm440 0h160v-160H620v160Z\"/>\n",
              "  </svg>\n",
              "    </button>\n",
              "\n",
              "  <style>\n",
              "    .colab-df-container {\n",
              "      display:flex;\n",
              "      gap: 12px;\n",
              "    }\n",
              "\n",
              "    .colab-df-convert {\n",
              "      background-color: #E8F0FE;\n",
              "      border: none;\n",
              "      border-radius: 50%;\n",
              "      cursor: pointer;\n",
              "      display: none;\n",
              "      fill: #1967D2;\n",
              "      height: 32px;\n",
              "      padding: 0 0 0 0;\n",
              "      width: 32px;\n",
              "    }\n",
              "\n",
              "    .colab-df-convert:hover {\n",
              "      background-color: #E2EBFA;\n",
              "      box-shadow: 0px 1px 2px rgba(60, 64, 67, 0.3), 0px 1px 3px 1px rgba(60, 64, 67, 0.15);\n",
              "      fill: #174EA6;\n",
              "    }\n",
              "\n",
              "    .colab-df-buttons div {\n",
              "      margin-bottom: 4px;\n",
              "    }\n",
              "\n",
              "    [theme=dark] .colab-df-convert {\n",
              "      background-color: #3B4455;\n",
              "      fill: #D2E3FC;\n",
              "    }\n",
              "\n",
              "    [theme=dark] .colab-df-convert:hover {\n",
              "      background-color: #434B5C;\n",
              "      box-shadow: 0px 1px 3px 1px rgba(0, 0, 0, 0.15);\n",
              "      filter: drop-shadow(0px 1px 2px rgba(0, 0, 0, 0.3));\n",
              "      fill: #FFFFFF;\n",
              "    }\n",
              "  </style>\n",
              "\n",
              "    <script>\n",
              "      const buttonEl =\n",
              "        document.querySelector('#df-fb248cd7-57c8-403b-8a70-03938595b2a4 button.colab-df-convert');\n",
              "      buttonEl.style.display =\n",
              "        google.colab.kernel.accessAllowed ? 'block' : 'none';\n",
              "\n",
              "      async function convertToInteractive(key) {\n",
              "        const element = document.querySelector('#df-fb248cd7-57c8-403b-8a70-03938595b2a4');\n",
              "        const dataTable =\n",
              "          await google.colab.kernel.invokeFunction('convertToInteractive',\n",
              "                                                    [key], {});\n",
              "        if (!dataTable) return;\n",
              "\n",
              "        const docLinkHtml = 'Like what you see? Visit the ' +\n",
              "          '<a target=\"_blank\" href=https://colab.research.google.com/notebooks/data_table.ipynb>data table notebook</a>'\n",
              "          + ' to learn more about interactive tables.';\n",
              "        element.innerHTML = '';\n",
              "        dataTable['output_type'] = 'display_data';\n",
              "        await google.colab.output.renderOutput(dataTable, element);\n",
              "        const docLink = document.createElement('div');\n",
              "        docLink.innerHTML = docLinkHtml;\n",
              "        element.appendChild(docLink);\n",
              "      }\n",
              "    </script>\n",
              "  </div>\n",
              "\n",
              "\n",
              "<div id=\"df-6f81fc7a-3f2d-4c49-9f87-7dd353801f3a\">\n",
              "  <button class=\"colab-df-quickchart\" onclick=\"quickchart('df-6f81fc7a-3f2d-4c49-9f87-7dd353801f3a')\"\n",
              "            title=\"Suggest charts\"\n",
              "            style=\"display:none;\">\n",
              "\n",
              "<svg xmlns=\"http://www.w3.org/2000/svg\" height=\"24px\"viewBox=\"0 0 24 24\"\n",
              "     width=\"24px\">\n",
              "    <g>\n",
              "        <path d=\"M19 3H5c-1.1 0-2 .9-2 2v14c0 1.1.9 2 2 2h14c1.1 0 2-.9 2-2V5c0-1.1-.9-2-2-2zM9 17H7v-7h2v7zm4 0h-2V7h2v10zm4 0h-2v-4h2v4z\"/>\n",
              "    </g>\n",
              "</svg>\n",
              "  </button>\n",
              "\n",
              "<style>\n",
              "  .colab-df-quickchart {\n",
              "      --bg-color: #E8F0FE;\n",
              "      --fill-color: #1967D2;\n",
              "      --hover-bg-color: #E2EBFA;\n",
              "      --hover-fill-color: #174EA6;\n",
              "      --disabled-fill-color: #AAA;\n",
              "      --disabled-bg-color: #DDD;\n",
              "  }\n",
              "\n",
              "  [theme=dark] .colab-df-quickchart {\n",
              "      --bg-color: #3B4455;\n",
              "      --fill-color: #D2E3FC;\n",
              "      --hover-bg-color: #434B5C;\n",
              "      --hover-fill-color: #FFFFFF;\n",
              "      --disabled-bg-color: #3B4455;\n",
              "      --disabled-fill-color: #666;\n",
              "  }\n",
              "\n",
              "  .colab-df-quickchart {\n",
              "    background-color: var(--bg-color);\n",
              "    border: none;\n",
              "    border-radius: 50%;\n",
              "    cursor: pointer;\n",
              "    display: none;\n",
              "    fill: var(--fill-color);\n",
              "    height: 32px;\n",
              "    padding: 0;\n",
              "    width: 32px;\n",
              "  }\n",
              "\n",
              "  .colab-df-quickchart:hover {\n",
              "    background-color: var(--hover-bg-color);\n",
              "    box-shadow: 0 1px 2px rgba(60, 64, 67, 0.3), 0 1px 3px 1px rgba(60, 64, 67, 0.15);\n",
              "    fill: var(--button-hover-fill-color);\n",
              "  }\n",
              "\n",
              "  .colab-df-quickchart-complete:disabled,\n",
              "  .colab-df-quickchart-complete:disabled:hover {\n",
              "    background-color: var(--disabled-bg-color);\n",
              "    fill: var(--disabled-fill-color);\n",
              "    box-shadow: none;\n",
              "  }\n",
              "\n",
              "  .colab-df-spinner {\n",
              "    border: 2px solid var(--fill-color);\n",
              "    border-color: transparent;\n",
              "    border-bottom-color: var(--fill-color);\n",
              "    animation:\n",
              "      spin 1s steps(1) infinite;\n",
              "  }\n",
              "\n",
              "  @keyframes spin {\n",
              "    0% {\n",
              "      border-color: transparent;\n",
              "      border-bottom-color: var(--fill-color);\n",
              "      border-left-color: var(--fill-color);\n",
              "    }\n",
              "    20% {\n",
              "      border-color: transparent;\n",
              "      border-left-color: var(--fill-color);\n",
              "      border-top-color: var(--fill-color);\n",
              "    }\n",
              "    30% {\n",
              "      border-color: transparent;\n",
              "      border-left-color: var(--fill-color);\n",
              "      border-top-color: var(--fill-color);\n",
              "      border-right-color: var(--fill-color);\n",
              "    }\n",
              "    40% {\n",
              "      border-color: transparent;\n",
              "      border-right-color: var(--fill-color);\n",
              "      border-top-color: var(--fill-color);\n",
              "    }\n",
              "    60% {\n",
              "      border-color: transparent;\n",
              "      border-right-color: var(--fill-color);\n",
              "    }\n",
              "    80% {\n",
              "      border-color: transparent;\n",
              "      border-right-color: var(--fill-color);\n",
              "      border-bottom-color: var(--fill-color);\n",
              "    }\n",
              "    90% {\n",
              "      border-color: transparent;\n",
              "      border-bottom-color: var(--fill-color);\n",
              "    }\n",
              "  }\n",
              "</style>\n",
              "\n",
              "  <script>\n",
              "    async function quickchart(key) {\n",
              "      const quickchartButtonEl =\n",
              "        document.querySelector('#' + key + ' button');\n",
              "      quickchartButtonEl.disabled = true;  // To prevent multiple clicks.\n",
              "      quickchartButtonEl.classList.add('colab-df-spinner');\n",
              "      try {\n",
              "        const charts = await google.colab.kernel.invokeFunction(\n",
              "            'suggestCharts', [key], {});\n",
              "      } catch (error) {\n",
              "        console.error('Error during call to suggestCharts:', error);\n",
              "      }\n",
              "      quickchartButtonEl.classList.remove('colab-df-spinner');\n",
              "      quickchartButtonEl.classList.add('colab-df-quickchart-complete');\n",
              "    }\n",
              "    (() => {\n",
              "      let quickchartButtonEl =\n",
              "        document.querySelector('#df-6f81fc7a-3f2d-4c49-9f87-7dd353801f3a button');\n",
              "      quickchartButtonEl.style.display =\n",
              "        google.colab.kernel.accessAllowed ? 'block' : 'none';\n",
              "    })();\n",
              "  </script>\n",
              "</div>\n",
              "    </div>\n",
              "  </div>\n"
            ]
          },
          "metadata": {},
          "execution_count": 4
        }
      ]
    },
    {
      "cell_type": "code",
      "source": [
        "import seaborn as sns\n",
        "import matplotlib.pyplot as plt\n",
        "\n",
        "# Assuming 'Text' is the column with text and 'Values' is the column with corresponding numerical values\n",
        "# Adjust column names accordingly\n",
        "\n",
        "# Plotting\n",
        "sns.barplot(x='label', y=df_train['tweet'].index, data=df_train)\n",
        "plt.xlabel('Values')\n",
        "plt.ylabel('Index')\n",
        "plt.title('Bar Plot of Numerical Values')\n",
        "plt.show()\n"
      ],
      "metadata": {
        "colab": {
          "base_uri": "https://localhost:8080/",
          "height": 515
        },
        "id": "cSysZ08cvzJ2",
        "outputId": "7dc2e4cc-9ad5-453f-c2d2-632662bf02bf"
      },
      "execution_count": null,
      "outputs": [
        {
          "output_type": "error",
          "ename": "KeyError",
          "evalue": "'tweet'",
          "traceback": [
            "\u001b[0;31m---------------------------------------------------------------------------\u001b[0m",
            "\u001b[0;31mKeyError\u001b[0m                                  Traceback (most recent call last)",
            "\u001b[0;32m/usr/local/lib/python3.10/dist-packages/pandas/core/indexes/base.py\u001b[0m in \u001b[0;36mget_loc\u001b[0;34m(self, key, method, tolerance)\u001b[0m\n\u001b[1;32m   3801\u001b[0m             \u001b[0;32mtry\u001b[0m\u001b[0;34m:\u001b[0m\u001b[0;34m\u001b[0m\u001b[0;34m\u001b[0m\u001b[0m\n\u001b[0;32m-> 3802\u001b[0;31m                 \u001b[0;32mreturn\u001b[0m \u001b[0mself\u001b[0m\u001b[0;34m.\u001b[0m\u001b[0m_engine\u001b[0m\u001b[0;34m.\u001b[0m\u001b[0mget_loc\u001b[0m\u001b[0;34m(\u001b[0m\u001b[0mcasted_key\u001b[0m\u001b[0;34m)\u001b[0m\u001b[0;34m\u001b[0m\u001b[0;34m\u001b[0m\u001b[0m\n\u001b[0m\u001b[1;32m   3803\u001b[0m             \u001b[0;32mexcept\u001b[0m \u001b[0mKeyError\u001b[0m \u001b[0;32mas\u001b[0m \u001b[0merr\u001b[0m\u001b[0;34m:\u001b[0m\u001b[0;34m\u001b[0m\u001b[0;34m\u001b[0m\u001b[0m\n",
            "\u001b[0;32m/usr/local/lib/python3.10/dist-packages/pandas/_libs/index.pyx\u001b[0m in \u001b[0;36mpandas._libs.index.IndexEngine.get_loc\u001b[0;34m()\u001b[0m\n",
            "\u001b[0;32m/usr/local/lib/python3.10/dist-packages/pandas/_libs/index.pyx\u001b[0m in \u001b[0;36mpandas._libs.index.IndexEngine.get_loc\u001b[0;34m()\u001b[0m\n",
            "\u001b[0;32mpandas/_libs/hashtable_class_helper.pxi\u001b[0m in \u001b[0;36mpandas._libs.hashtable.PyObjectHashTable.get_item\u001b[0;34m()\u001b[0m\n",
            "\u001b[0;32mpandas/_libs/hashtable_class_helper.pxi\u001b[0m in \u001b[0;36mpandas._libs.hashtable.PyObjectHashTable.get_item\u001b[0;34m()\u001b[0m\n",
            "\u001b[0;31mKeyError\u001b[0m: 'tweet'",
            "\nThe above exception was the direct cause of the following exception:\n",
            "\u001b[0;31mKeyError\u001b[0m                                  Traceback (most recent call last)",
            "\u001b[0;32m<ipython-input-5-44a2125dcbf9>\u001b[0m in \u001b[0;36m<cell line: 8>\u001b[0;34m()\u001b[0m\n\u001b[1;32m      6\u001b[0m \u001b[0;34m\u001b[0m\u001b[0m\n\u001b[1;32m      7\u001b[0m \u001b[0;31m# Plotting\u001b[0m\u001b[0;34m\u001b[0m\u001b[0;34m\u001b[0m\u001b[0m\n\u001b[0;32m----> 8\u001b[0;31m \u001b[0msns\u001b[0m\u001b[0;34m.\u001b[0m\u001b[0mbarplot\u001b[0m\u001b[0;34m(\u001b[0m\u001b[0mx\u001b[0m\u001b[0;34m=\u001b[0m\u001b[0;34m'label'\u001b[0m\u001b[0;34m,\u001b[0m \u001b[0my\u001b[0m\u001b[0;34m=\u001b[0m\u001b[0mdf_train\u001b[0m\u001b[0;34m[\u001b[0m\u001b[0;34m'tweet'\u001b[0m\u001b[0;34m]\u001b[0m\u001b[0;34m.\u001b[0m\u001b[0mindex\u001b[0m\u001b[0;34m,\u001b[0m \u001b[0mdata\u001b[0m\u001b[0;34m=\u001b[0m\u001b[0mdf_train\u001b[0m\u001b[0;34m)\u001b[0m\u001b[0;34m\u001b[0m\u001b[0;34m\u001b[0m\u001b[0m\n\u001b[0m\u001b[1;32m      9\u001b[0m \u001b[0mplt\u001b[0m\u001b[0;34m.\u001b[0m\u001b[0mxlabel\u001b[0m\u001b[0;34m(\u001b[0m\u001b[0;34m'Values'\u001b[0m\u001b[0;34m)\u001b[0m\u001b[0;34m\u001b[0m\u001b[0;34m\u001b[0m\u001b[0m\n\u001b[1;32m     10\u001b[0m \u001b[0mplt\u001b[0m\u001b[0;34m.\u001b[0m\u001b[0mylabel\u001b[0m\u001b[0;34m(\u001b[0m\u001b[0;34m'Index'\u001b[0m\u001b[0;34m)\u001b[0m\u001b[0;34m\u001b[0m\u001b[0;34m\u001b[0m\u001b[0m\n",
            "\u001b[0;32m/usr/local/lib/python3.10/dist-packages/pandas/core/frame.py\u001b[0m in \u001b[0;36m__getitem__\u001b[0;34m(self, key)\u001b[0m\n\u001b[1;32m   3805\u001b[0m             \u001b[0;32mif\u001b[0m \u001b[0mself\u001b[0m\u001b[0;34m.\u001b[0m\u001b[0mcolumns\u001b[0m\u001b[0;34m.\u001b[0m\u001b[0mnlevels\u001b[0m \u001b[0;34m>\u001b[0m \u001b[0;36m1\u001b[0m\u001b[0;34m:\u001b[0m\u001b[0;34m\u001b[0m\u001b[0;34m\u001b[0m\u001b[0m\n\u001b[1;32m   3806\u001b[0m                 \u001b[0;32mreturn\u001b[0m \u001b[0mself\u001b[0m\u001b[0;34m.\u001b[0m\u001b[0m_getitem_multilevel\u001b[0m\u001b[0;34m(\u001b[0m\u001b[0mkey\u001b[0m\u001b[0;34m)\u001b[0m\u001b[0;34m\u001b[0m\u001b[0;34m\u001b[0m\u001b[0m\n\u001b[0;32m-> 3807\u001b[0;31m             \u001b[0mindexer\u001b[0m \u001b[0;34m=\u001b[0m \u001b[0mself\u001b[0m\u001b[0;34m.\u001b[0m\u001b[0mcolumns\u001b[0m\u001b[0;34m.\u001b[0m\u001b[0mget_loc\u001b[0m\u001b[0;34m(\u001b[0m\u001b[0mkey\u001b[0m\u001b[0;34m)\u001b[0m\u001b[0;34m\u001b[0m\u001b[0;34m\u001b[0m\u001b[0m\n\u001b[0m\u001b[1;32m   3808\u001b[0m             \u001b[0;32mif\u001b[0m \u001b[0mis_integer\u001b[0m\u001b[0;34m(\u001b[0m\u001b[0mindexer\u001b[0m\u001b[0;34m)\u001b[0m\u001b[0;34m:\u001b[0m\u001b[0;34m\u001b[0m\u001b[0;34m\u001b[0m\u001b[0m\n\u001b[1;32m   3809\u001b[0m                 \u001b[0mindexer\u001b[0m \u001b[0;34m=\u001b[0m \u001b[0;34m[\u001b[0m\u001b[0mindexer\u001b[0m\u001b[0;34m]\u001b[0m\u001b[0;34m\u001b[0m\u001b[0;34m\u001b[0m\u001b[0m\n",
            "\u001b[0;32m/usr/local/lib/python3.10/dist-packages/pandas/core/indexes/base.py\u001b[0m in \u001b[0;36mget_loc\u001b[0;34m(self, key, method, tolerance)\u001b[0m\n\u001b[1;32m   3802\u001b[0m                 \u001b[0;32mreturn\u001b[0m \u001b[0mself\u001b[0m\u001b[0;34m.\u001b[0m\u001b[0m_engine\u001b[0m\u001b[0;34m.\u001b[0m\u001b[0mget_loc\u001b[0m\u001b[0;34m(\u001b[0m\u001b[0mcasted_key\u001b[0m\u001b[0;34m)\u001b[0m\u001b[0;34m\u001b[0m\u001b[0;34m\u001b[0m\u001b[0m\n\u001b[1;32m   3803\u001b[0m             \u001b[0;32mexcept\u001b[0m \u001b[0mKeyError\u001b[0m \u001b[0;32mas\u001b[0m \u001b[0merr\u001b[0m\u001b[0;34m:\u001b[0m\u001b[0;34m\u001b[0m\u001b[0;34m\u001b[0m\u001b[0m\n\u001b[0;32m-> 3804\u001b[0;31m                 \u001b[0;32mraise\u001b[0m \u001b[0mKeyError\u001b[0m\u001b[0;34m(\u001b[0m\u001b[0mkey\u001b[0m\u001b[0;34m)\u001b[0m \u001b[0;32mfrom\u001b[0m \u001b[0merr\u001b[0m\u001b[0;34m\u001b[0m\u001b[0;34m\u001b[0m\u001b[0m\n\u001b[0m\u001b[1;32m   3805\u001b[0m             \u001b[0;32mexcept\u001b[0m \u001b[0mTypeError\u001b[0m\u001b[0;34m:\u001b[0m\u001b[0;34m\u001b[0m\u001b[0;34m\u001b[0m\u001b[0m\n\u001b[1;32m   3806\u001b[0m                 \u001b[0;31m# If we have a listlike key, _check_indexing_error will raise\u001b[0m\u001b[0;34m\u001b[0m\u001b[0;34m\u001b[0m\u001b[0m\n",
            "\u001b[0;31mKeyError\u001b[0m: 'tweet'"
          ]
        }
      ]
    },
    {
      "cell_type": "code",
      "source": [
        "\n",
        "sns.barplot(x='label', y=df_train['tweet'].index, data=df_train)\n",
        "plt.xlabel('Sentiment')"
      ],
      "metadata": {
        "colab": {
          "base_uri": "https://localhost:8080/",
          "height": 727
        },
        "id": "qxDwk1pgQ_j1",
        "outputId": "32b48dbd-4b93-466a-cfd0-86d542d20ee1"
      },
      "execution_count": null,
      "outputs": [
        {
          "output_type": "execute_result",
          "data": {
            "text/plain": [
              "Text(0.5, 0, 'Sentiment')"
            ]
          },
          "metadata": {},
          "execution_count": 38
        },
        {
          "output_type": "display_data",
          "data": {
            "text/plain": [
              "<Figure size 1200x800 with 1 Axes>"
            ],
            "image/png": "[encoded data removed]"
          },
          "metadata": {
            "image/png": {
              "width": 1009,
              "height": 693
            }
          }
        }
      ]
    },
    {
      "cell_type": "code",
      "source": [
        "sns.countplot(df_test.label)\n",
        "plt.xlabel('Sentiment')"
      ],
      "metadata": {
        "colab": {
          "base_uri": "https://localhost:8080/",
          "height": 747
        },
        "id": "WNfwyyGiRCxK",
        "outputId": "c94e448f-f474-421e-8aea-4376bee80763"
      },
      "execution_count": null,
      "outputs": [
        {
          "output_type": "execute_result",
          "data": {
            "text/plain": [
              "Text(0.5, 0, 'Sentiment')"
            ]
          },
          "metadata": {},
          "execution_count": 10
        },
        {
          "output_type": "display_data",
          "data": {
            "text/plain": [
              "<Figure size 1200x800 with 1 Axes>"
            ],
            "image/png": "[encoded data removed]"
          },
          "metadata": {
            "image/png": {
              "width": 1035,
              "height": 693
            }
          }
        }
      ]
    },
    {
      "cell_type": "code",
      "source": [
        "sns.countplot(df_valid.label)\n",
        "plt.xlabel('Sentiment')"
      ],
      "metadata": {
        "colab": {
          "base_uri": "https://localhost:8080/",
          "height": 727
        },
        "id": "0wIRz7GKRDKf",
        "outputId": "b0484aed-ec21-4271-f912-b6495f43c849"
      },
      "execution_count": null,
      "outputs": [
        {
          "output_type": "execute_result",
          "data": {
            "text/plain": [
              "Text(0.5, 0, 'Sentiment')"
            ]
          },
          "metadata": {},
          "execution_count": 39
        },
        {
          "output_type": "display_data",
          "data": {
            "text/plain": [
              "<Figure size 1200x800 with 1 Axes>"
            ],
            "image/png": "[encoded data removed]"
          },
          "metadata": {
            "image/png": {
              "width": 1035,
              "height": 693
            }
          }
        }
      ]
    },
    {
      "cell_type": "markdown",
      "source": [
        "pd.set_option(\"display.max_colwidth\", -1) is a Pandas function that sets the maximum width of columns when displayed. In this case, it's set to -1, which means that Pandas will display the full contents of each column without truncation. This is useful when you have long strings or texts in a DataFrame column, and you want to see the entire content without it being truncated in the output.\n",
        "\n",
        "\n",
        "\n",
        "\n",
        "\n"
      ],
      "metadata": {
        "id": "9rkGrtWI0kb9"
      }
    },
    {
      "cell_type": "code",
      "source": [
        "pd.set_option(\"display.max_colwidth\", -1)\n",
        "df_train.head(10)"
      ],
      "metadata": {
        "colab": {
          "base_uri": "https://localhost:8080/",
          "height": 1000
        },
        "id": "aSmHI1k8Z7Ji",
        "outputId": "dca6f2f5-5b16-41b5-bfe2-804a679678b7"
      },
      "execution_count": null,
      "outputs": [
        {
          "output_type": "stream",
          "name": "stderr",
          "text": [
            "<ipython-input-40-59429c9b9b2b>:1: FutureWarning: Passing a negative integer is deprecated in version 1.0 and will not be supported in future version. Instead, use None to not limit the column width.\n",
            "  pd.set_option(\"display.max_colwidth\", -1)\n"
          ]
        },
        {
          "output_type": "execute_result",
          "data": {
            "text/plain": [
              "                                                                                                                                                                                                                                                                                                                   tweet  \\\n",
              "0    ज्येष्ठ पत्रकार अनंत दीक्षित यांच्या निधनाचे वृत्त   दु:खद आहे. चार दशकं त्यांनी आपल्या परखड लेखणीने पत्रकारितेत अमूल्य योगदान दिले. दीक्षित यांच्या मार्गदर्शनाखाली पत्रकारांची पिढी घडली. अनंत दीक्षित यांना भावपूर्ण श्रद्धांजली! \\nआम्ही त्यांच्या परिवाराच्या दु:खात सहभागी आहोत. pic.twitter.com/s3gnQQLtpk\\n   \n",
              "1    सर्वोच्च न्यायालयाचे निर्देश डावलून पुणे पोलिसांनी प्रा. आनंद तेलतुंबडेंना अटक केली मात्र न्यायालयाने त्यांची अटक बेकायदेशीर ठरवून सरकारला जोरदार चपराक लगावली आहे. कायदा हातात घेणा-या पोलीस अधिका-यांवर तात्काळ कारवाई केली पाहिजे.\\n#AnandTeltumbde\\n                                                              \n",
              "2    उद्धव ठाकरेंनी भाजपासोबत युती करून शिवसैनिकांचा अवमान व विश्वासघात  केला आहे फसवणूक झालेल्या शिवसैनिकांबद्दल मला सहानुभूती असून स्वार्थासाठी उद्धव ठाकरे भाजपसोबत गेले तरी मोदींचे सरकार घालवण्यातच महाराष्ट्राचे हित आहे हे जाणणारे  शिवसैनिक मोदींच्या विरोधात काँग्रेसला मतदान  करतील\\n                            \n",
              "3    आपला समाज खूप मोठा आहे. त्यात अनेक घटक अंतर्भूत आहेत. यातील दिव्यांग हा एक घटक, जो शारीरिकदृष्ट्या कमकुवत आहे, त्याच्याकडे समाजाचे दुर्लक्ष होतेय. त्यामुळे सरकारने अशा व्यक्तींसाठी उपक्रम राबवून त्यांना समाजात सन्मानाने जगता येईल, याकडे लक्ष देण्याची गरज आहे. pic.twitter.com/g0tbJyyTPX\\n                      \n",
              "4  बलात्काराचा बदला बलात्काराने घेतला पाहिजे हे म्हणणारे सावरकर आम्हाला मान्य नाहीत. द्वेष आणि तिरस्कार हिंदू धर्मातही अभिप्रेत कधीच नव्हता. आम्ही सावरकरांच्या विचारांचा विरोध करताच राहू त्यात व्यक्तीद्वेष नाही तर वैचारिक विरोध आहे. हा देश गांधींच्या विचारांनीच चालेल!\\n                                             \n",
              "5    जरी मी देशाच्या सेवेत मृत्यू पावली तरी मला त्याचा अभिमान वाटेल..माझ्या रक्ताचे प्रत्येक थेंब या राष्ट्राच्या विकासास हातभार लावेल आणि ते मजबूत व गतिमान बनवेल-श्रीमती इंदिरा गांधी\\n\\nस्वतंत्र भारताच्या पहिल्या महिला पंतप्रधान इंदिरा गांधी यांना विनम्र अभिवादन !\\n#IndiraGandhi pic.twitter.com/JDZ3mDqBeO\\n      \n",
              "6    आज, बारामती शहर परिसरात सुरु असणाऱ्या विविध विकास कामांना प्रत्यक्ष भेटी देत कामाचा आढावा घेतला. शहरासह तालुक्यातील कायदा-सुव्यवस्था सुरळीत राखण्यासाठी अवैध व्यवसाय करणाऱ्यांवर कडक कारवाई करण्याचे निर्देश दिले. pic.twitter.com/WJCsuaQ52M\\n                                                                       \n",
              "7   @INCMaharashtra च्या माजी अध्यक्ष स्व. प्रभाताई राव यांना जयंतीनिमित्त विनम्र अभिवादन! pic.twitter.com/Ztvgy1nvxt\\n                                                                                                                                                                                                    \n",
              "8    पालखी सोहळ्यात अपघात झाल्याची बातमी दुःखद आहे.या रस्त्याचे चौपदरीकरण रखडले आहे. @nitin_gadkari जी, महाराष्ट्राच्या भावविश्वात पालखी सोहळ्याला मोठे महत्त्व आहे.या सोहळ्यात अपघात घडणे खेदजनक आहे.कृपया आपण वैयक्तिक लक्ष घालून पालखी मार्गाचे काम पुर्ण करण्याचे आदेश द्यावेत,ही विनंती\\n                             \n",
              "9    आगामी निवडणुकांच्या पार्श्वभूमीवर आज म्हसळा तालुक्यातील कार्यकर्त्यांशी संवाद साधला व त्यांना मार्गदर्शन केले.\\n\\n#Mhasala #Raigad #maharashtra #assemblyelection2019 pic.twitter.com/ptNKKbwHPG\\n                                                                                                                    \n",
              "\n",
              "   label  \\\n",
              "0 -1       \n",
              "1 -1       \n",
              "2 -1       \n",
              "3  1       \n",
              "4 -1       \n",
              "5  1       \n",
              "6  1       \n",
              "7  1       \n",
              "8 -1       \n",
              "9  0       \n",
              "\n",
              "                                                                                                                                                                                                                                                                             tuned_tweet  \n",
              "0  ज्येष्ठ पत्रकार अनंत दीक्षित यांच्या निधनाचे वृत्त दु:खद आहे चार दशकं त्यांनी आपल्या परखड लेखणीने पत्रकारितेत अमूल्य योगदान दिले दीक्षित यांच्या मार्गदर्शनाखाली पत्रकारांची पिढी घडली अनंत दीक्षित यांना भावपूर्ण श्रद्धांजली आम्ही त्यांच्या परिवाराच्या दु:खात सहभागी आहोत          \n",
              "1  सर्वोच्च न्यायालयाचे निर्देश डावलून पुणे पोलिसांनी प्रा आनंद तेलतुंबडेंना अटक केली मात्र न्यायालयाने त्यांची अटक बेकायदेशीर ठरवून सरकारला जोरदार चपराक लगावली आहे कायदा हातात घेणा-या पोलीस अधिका-यांवर तात्काळ कारवाई केली पाहिजे AnandTeltumbde                                      \n",
              "2  उद्धव ठाकरेंनी भाजपासोबत युती करून शिवसैनिकांचा अवमान व विश्वासघात केला आहे फसवणूक झालेल्या शिवसैनिकांबद्दल मला सहानुभूती असून स्वार्थासाठी उद्धव ठाकरे भाजपसोबत गेले तरी मोदींचे सरकार घालवण्यातच महाराष्ट्राचे हित आहे हे जाणणारे शिवसैनिक मोदींच्या विरोधात काँग्रेसला मतदान करतील  \n",
              "3  आपला समाज खूप मोठा आहे त्यात अनेक घटक अंतर्भूत आहेत यातील दिव्यांग हा एक घटक, जो शारीरिकदृष्ट्या कमकुवत आहे, त्याच्याकडे समाजाचे दुर्लक्ष होतेय त्यामुळे सरकारने अशा व्यक्तींसाठी उपक्रम राबवून त्यांना समाजात सन्मानाने जगता येईल, याकडे लक्ष देण्याची गरज आहे                        \n",
              "4  बलात्काराचा बदला बलात्काराने घेतला पाहिजे हे म्हणणारे सावरकर आम्हाला मान्य नाहीत द्वेष आणि तिरस्कार हिंदू धर्मातही अभिप्रेत कधीच नव्हता आम्ही सावरकरांच्या विचारांचा विरोध करताच राहू त्यात व्यक्तीद्वेष नाही तर वैचारिक विरोध आहे हा देश गांधींच्या विचारांनीच चालेल                  \n",
              "5  जरी मी देशाच्या सेवेत मृत्यू पावली तरी मला त्याचा अभिमान वाटेल माझ्या रक्ताचे प्रत्येक थेंब या राष्ट्राच्या विकासास हातभार लावेल आणि ते मजबूत व गतिमान बनवेल-श्रीमती इंदिरा गांधी स्वतंत्र भारताच्या पहिल्या महिला पंतप्रधान इंदिरा गांधी यांना विनम्र अभिवादन IndiraGandhi            \n",
              "6  आज, बारामती शहर परिसरात सुरु असणाऱ्या विविध विकास कामांना प्रत्यक्ष भेटी देत कामाचा आढावा घेतला शहरासह तालुक्यातील कायदा-सुव्यवस्था सुरळीत राखण्यासाठी अवैध व्यवसाय करणाऱ्यांवर कडक कारवाई करण्याचे निर्देश दिले                                                                       \n",
              "7  च्या माजी अध्यक्ष स्व प्रभाताई राव यांना जयंतीनिमित्त विनम्र अभिवादन                                                                                                                                                                                                                   \n",
              "8  पालखी सोहळ्यात अपघात झाल्याची बातमी दुःखद आहे या रस्त्याचे चौपदरीकरण रखडले आहे जी, महाराष्ट्राच्या भावविश्वात पालखी सोहळ्याला मोठे महत्त्व आहे या सोहळ्यात अपघात घडणे खेदजनक आहे कृपया आपण वैयक्तिक लक्ष घालून पालखी मार्गाचे काम पुर्ण करण्याचे आदेश द्यावेत,ही विनंती                \n",
              "9  आगामी निवडणुकांच्या पार्श्वभूमीवर आज म्हसळा तालुक्यातील कार्यकर्त्यांशी संवाद साधला व त्यांना मार्गदर्शन केले Mhasala Raigad maharashtra assemblyelection2019                                                                                                                          "
            ],
            "text/html": [
              "\n",
              "  <div id=\"df-70550d6e-ff36-4e13-90c1-fafee68d3a0b\" class=\"colab-df-container\">\n",
              "    <div>\n",
              "<style scoped>\n",
              "    .dataframe tbody tr th:only-of-type {\n",
              "        vertical-align: middle;\n",
              "    }\n",
              "\n",
              "    .dataframe tbody tr th {\n",
              "        vertical-align: top;\n",
              "    }\n",
              "\n",
              "    .dataframe thead th {\n",
              "        text-align: right;\n",
              "    }\n",
              "</style>\n",
              "<table border=\"1\" class=\"dataframe\">\n",
              "  <thead>\n",
              "    <tr style=\"text-align: right;\">\n",
              "      <th></th>\n",
              "      <th>tweet</th>\n",
              "      <th>label</th>\n",
              "      <th>tuned_tweet</th>\n",
              "    </tr>\n",
              "  </thead>\n",
              "  <tbody>\n",
              "    <tr>\n",
              "      <th>0</th>\n",
              "      <td>ज्येष्ठ पत्रकार अनंत दीक्षित यांच्या निधनाचे वृत्त   दु:खद आहे. चार दशकं त्यांनी आपल्या परखड लेखणीने पत्रकारितेत अमूल्य योगदान दिले. दीक्षित यांच्या मार्गदर्शनाखाली पत्रकारांची पिढी घडली. अनंत दीक्षित यांना भावपूर्ण श्रद्धांजली! \\nआम्ही त्यांच्या परिवाराच्या दु:खात सहभागी आहोत. pic.twitter.com/s3gnQQLtpk\\n</td>\n",
              "      <td>-1</td>\n",
              "      <td>ज्येष्ठ पत्रकार अनंत दीक्षित यांच्या निधनाचे वृत्त दु:खद आहे चार दशकं त्यांनी आपल्या परखड लेखणीने पत्रकारितेत अमूल्य योगदान दिले दीक्षित यांच्या मार्गदर्शनाखाली पत्रकारांची पिढी घडली अनंत दीक्षित यांना भावपूर्ण श्रद्धांजली आम्ही त्यांच्या परिवाराच्या दु:खात सहभागी आहोत</td>\n",
              "    </tr>\n",
              "    <tr>\n",
              "      <th>1</th>\n",
              "      <td>सर्वोच्च न्यायालयाचे निर्देश डावलून पुणे पोलिसांनी प्रा. आनंद तेलतुंबडेंना अटक केली मात्र न्यायालयाने त्यांची अटक बेकायदेशीर ठरवून सरकारला जोरदार चपराक लगावली आहे. कायदा हातात घेणा-या पोलीस अधिका-यांवर तात्काळ कारवाई केली पाहिजे.\\n#AnandTeltumbde\\n</td>\n",
              "      <td>-1</td>\n",
              "      <td>सर्वोच्च न्यायालयाचे निर्देश डावलून पुणे पोलिसांनी प्रा आनंद तेलतुंबडेंना अटक केली मात्र न्यायालयाने त्यांची अटक बेकायदेशीर ठरवून सरकारला जोरदार चपराक लगावली आहे कायदा हातात घेणा-या पोलीस अधिका-यांवर तात्काळ कारवाई केली पाहिजे AnandTeltumbde</td>\n",
              "    </tr>\n",
              "    <tr>\n",
              "      <th>2</th>\n",
              "      <td>उद्धव ठाकरेंनी भाजपासोबत युती करून शिवसैनिकांचा अवमान व विश्वासघात  केला आहे फसवणूक झालेल्या शिवसैनिकांबद्दल मला सहानुभूती असून स्वार्थासाठी उद्धव ठाकरे भाजपसोबत गेले तरी मोदींचे सरकार घालवण्यातच महाराष्ट्राचे हित आहे हे जाणणारे  शिवसैनिक मोदींच्या विरोधात काँग्रेसला मतदान  करतील\\n</td>\n",
              "      <td>-1</td>\n",
              "      <td>उद्धव ठाकरेंनी भाजपासोबत युती करून शिवसैनिकांचा अवमान व विश्वासघात केला आहे फसवणूक झालेल्या शिवसैनिकांबद्दल मला सहानुभूती असून स्वार्थासाठी उद्धव ठाकरे भाजपसोबत गेले तरी मोदींचे सरकार घालवण्यातच महाराष्ट्राचे हित आहे हे जाणणारे शिवसैनिक मोदींच्या विरोधात काँग्रेसला मतदान करतील</td>\n",
              "    </tr>\n",
              "    <tr>\n",
              "      <th>3</th>\n",
              "      <td>आपला समाज खूप मोठा आहे. त्यात अनेक घटक अंतर्भूत आहेत. यातील दिव्यांग हा एक घटक, जो शारीरिकदृष्ट्या कमकुवत आहे, त्याच्याकडे समाजाचे दुर्लक्ष होतेय. त्यामुळे सरकारने अशा व्यक्तींसाठी उपक्रम राबवून त्यांना समाजात सन्मानाने जगता येईल, याकडे लक्ष देण्याची गरज आहे. pic.twitter.com/g0tbJyyTPX\\n</td>\n",
              "      <td>1</td>\n",
              "      <td>आपला समाज खूप मोठा आहे त्यात अनेक घटक अंतर्भूत आहेत यातील दिव्यांग हा एक घटक, जो शारीरिकदृष्ट्या कमकुवत आहे, त्याच्याकडे समाजाचे दुर्लक्ष होतेय त्यामुळे सरकारने अशा व्यक्तींसाठी उपक्रम राबवून त्यांना समाजात सन्मानाने जगता येईल, याकडे लक्ष देण्याची गरज आहे</td>\n",
              "    </tr>\n",
              "    <tr>\n",
              "      <th>4</th>\n",
              "      <td>बलात्काराचा बदला बलात्काराने घेतला पाहिजे हे म्हणणारे सावरकर आम्हाला मान्य नाहीत. द्वेष आणि तिरस्कार हिंदू धर्मातही अभिप्रेत कधीच नव्हता. आम्ही सावरकरांच्या विचारांचा विरोध करताच राहू त्यात व्यक्तीद्वेष नाही तर वैचारिक विरोध आहे. हा देश गांधींच्या विचारांनीच चालेल!\\n</td>\n",
              "      <td>-1</td>\n",
              "      <td>बलात्काराचा बदला बलात्काराने घेतला पाहिजे हे म्हणणारे सावरकर आम्हाला मान्य नाहीत द्वेष आणि तिरस्कार हिंदू धर्मातही अभिप्रेत कधीच नव्हता आम्ही सावरकरांच्या विचारांचा विरोध करताच राहू त्यात व्यक्तीद्वेष नाही तर वैचारिक विरोध आहे हा देश गांधींच्या विचारांनीच चालेल</td>\n",
              "    </tr>\n",
              "    <tr>\n",
              "      <th>5</th>\n",
              "      <td>जरी मी देशाच्या सेवेत मृत्यू पावली तरी मला त्याचा अभिमान वाटेल..माझ्या रक्ताचे प्रत्येक थेंब या राष्ट्राच्या विकासास हातभार लावेल आणि ते मजबूत व गतिमान बनवेल-श्रीमती इंदिरा गांधी\\n\\nस्वतंत्र भारताच्या पहिल्या महिला पंतप्रधान इंदिरा गांधी यांना विनम्र अभिवादन !\\n#IndiraGandhi pic.twitter.com/JDZ3mDqBeO\\n</td>\n",
              "      <td>1</td>\n",
              "      <td>जरी मी देशाच्या सेवेत मृत्यू पावली तरी मला त्याचा अभिमान वाटेल माझ्या रक्ताचे प्रत्येक थेंब या राष्ट्राच्या विकासास हातभार लावेल आणि ते मजबूत व गतिमान बनवेल-श्रीमती इंदिरा गांधी स्वतंत्र भारताच्या पहिल्या महिला पंतप्रधान इंदिरा गांधी यांना विनम्र अभिवादन IndiraGandhi</td>\n",
              "    </tr>\n",
              "    <tr>\n",
              "      <th>6</th>\n",
              "      <td>आज, बारामती शहर परिसरात सुरु असणाऱ्या विविध विकास कामांना प्रत्यक्ष भेटी देत कामाचा आढावा घेतला. शहरासह तालुक्यातील कायदा-सुव्यवस्था सुरळीत राखण्यासाठी अवैध व्यवसाय करणाऱ्यांवर कडक कारवाई करण्याचे निर्देश दिले. pic.twitter.com/WJCsuaQ52M\\n</td>\n",
              "      <td>1</td>\n",
              "      <td>आज, बारामती शहर परिसरात सुरु असणाऱ्या विविध विकास कामांना प्रत्यक्ष भेटी देत कामाचा आढावा घेतला शहरासह तालुक्यातील कायदा-सुव्यवस्था सुरळीत राखण्यासाठी अवैध व्यवसाय करणाऱ्यांवर कडक कारवाई करण्याचे निर्देश दिले</td>\n",
              "    </tr>\n",
              "    <tr>\n",
              "      <th>7</th>\n",
              "      <td>@INCMaharashtra च्या माजी अध्यक्ष स्व. प्रभाताई राव यांना जयंतीनिमित्त विनम्र अभिवादन! pic.twitter.com/Ztvgy1nvxt\\n</td>\n",
              "      <td>1</td>\n",
              "      <td>च्या माजी अध्यक्ष स्व प्रभाताई राव यांना जयंतीनिमित्त विनम्र अभिवादन</td>\n",
              "    </tr>\n",
              "    <tr>\n",
              "      <th>8</th>\n",
              "      <td>पालखी सोहळ्यात अपघात झाल्याची बातमी दुःखद आहे.या रस्त्याचे चौपदरीकरण रखडले आहे. @nitin_gadkari जी, महाराष्ट्राच्या भावविश्वात पालखी सोहळ्याला मोठे महत्त्व आहे.या सोहळ्यात अपघात घडणे खेदजनक आहे.कृपया आपण वैयक्तिक लक्ष घालून पालखी मार्गाचे काम पुर्ण करण्याचे आदेश द्यावेत,ही विनंती\\n</td>\n",
              "      <td>-1</td>\n",
              "      <td>पालखी सोहळ्यात अपघात झाल्याची बातमी दुःखद आहे या रस्त्याचे चौपदरीकरण रखडले आहे जी, महाराष्ट्राच्या भावविश्वात पालखी सोहळ्याला मोठे महत्त्व आहे या सोहळ्यात अपघात घडणे खेदजनक आहे कृपया आपण वैयक्तिक लक्ष घालून पालखी मार्गाचे काम पुर्ण करण्याचे आदेश द्यावेत,ही विनंती</td>\n",
              "    </tr>\n",
              "    <tr>\n",
              "      <th>9</th>\n",
              "      <td>आगामी निवडणुकांच्या पार्श्वभूमीवर आज म्हसळा तालुक्यातील कार्यकर्त्यांशी संवाद साधला व त्यांना मार्गदर्शन केले.\\n\\n#Mhasala #Raigad #maharashtra #assemblyelection2019 pic.twitter.com/ptNKKbwHPG\\n</td>\n",
              "      <td>0</td>\n",
              "      <td>आगामी निवडणुकांच्या पार्श्वभूमीवर आज म्हसळा तालुक्यातील कार्यकर्त्यांशी संवाद साधला व त्यांना मार्गदर्शन केले Mhasala Raigad maharashtra assemblyelection2019</td>\n",
              "    </tr>\n",
              "  </tbody>\n",
              "</table>\n",
              "</div>\n",
              "    <div class=\"colab-df-buttons\">\n",
              "\n",
              "  <div class=\"colab-df-container\">\n",
              "    <button class=\"colab-df-convert\" onclick=\"convertToInteractive('df-70550d6e-ff36-4e13-90c1-fafee68d3a0b')\"\n",
              "            title=\"Convert this dataframe to an interactive table.\"\n",
              "            style=\"display:none;\">\n",
              "\n",
              "  <svg xmlns=\"http://www.w3.org/2000/svg\" height=\"24px\" viewBox=\"0 -960 960 960\">\n",
              "    <path d=\"M120-120v-720h720v720H120Zm60-500h600v-160H180v160Zm220 220h160v-160H400v160Zm0 220h160v-160H400v160ZM180-400h160v-160H180v160Zm440 0h160v-160H620v160ZM180-180h160v-160H180v160Zm440 0h160v-160H620v160Z\"/>\n",
              "  </svg>\n",
              "    </button>\n",
              "\n",
              "  <style>\n",
              "    .colab-df-container {\n",
              "      display:flex;\n",
              "      gap: 12px;\n",
              "    }\n",
              "\n",
              "    .colab-df-convert {\n",
              "      background-color: #E8F0FE;\n",
              "      border: none;\n",
              "      border-radius: 50%;\n",
              "      cursor: pointer;\n",
              "      display: none;\n",
              "      fill: #1967D2;\n",
              "      height: 32px;\n",
              "      padding: 0 0 0 0;\n",
              "      width: 32px;\n",
              "    }\n",
              "\n",
              "    .colab-df-convert:hover {\n",
              "      background-color: #E2EBFA;\n",
              "      box-shadow: 0px 1px 2px rgba(60, 64, 67, 0.3), 0px 1px 3px 1px rgba(60, 64, 67, 0.15);\n",
              "      fill: #174EA6;\n",
              "    }\n",
              "\n",
              "    .colab-df-buttons div {\n",
              "      margin-bottom: 4px;\n",
              "    }\n",
              "\n",
              "    [theme=dark] .colab-df-convert {\n",
              "      background-color: #3B4455;\n",
              "      fill: #D2E3FC;\n",
              "    }\n",
              "\n",
              "    [theme=dark] .colab-df-convert:hover {\n",
              "      background-color: #434B5C;\n",
              "      box-shadow: 0px 1px 3px 1px rgba(0, 0, 0, 0.15);\n",
              "      filter: drop-shadow(0px 1px 2px rgba(0, 0, 0, 0.3));\n",
              "      fill: #FFFFFF;\n",
              "    }\n",
              "  </style>\n",
              "\n",
              "    <script>\n",
              "      const buttonEl =\n",
              "        document.querySelector('#df-70550d6e-ff36-4e13-90c1-fafee68d3a0b button.colab-df-convert');\n",
              "      buttonEl.style.display =\n",
              "        google.colab.kernel.accessAllowed ? 'block' : 'none';\n",
              "\n",
              "      async function convertToInteractive(key) {\n",
              "        const element = document.querySelector('#df-70550d6e-ff36-4e13-90c1-fafee68d3a0b');\n",
              "        const dataTable =\n",
              "          await google.colab.kernel.invokeFunction('convertToInteractive',\n",
              "                                                    [key], {});\n",
              "        if (!dataTable) return;\n",
              "\n",
              "        const docLinkHtml = 'Like what you see? Visit the ' +\n",
              "          '<a target=\"_blank\" href=https://colab.research.google.com/notebooks/data_table.ipynb>data table notebook</a>'\n",
              "          + ' to learn more about interactive tables.';\n",
              "        element.innerHTML = '';\n",
              "        dataTable['output_type'] = 'display_data';\n",
              "        await google.colab.output.renderOutput(dataTable, element);\n",
              "        const docLink = document.createElement('div');\n",
              "        docLink.innerHTML = docLinkHtml;\n",
              "        element.appendChild(docLink);\n",
              "      }\n",
              "    </script>\n",
              "  </div>\n",
              "\n",
              "\n",
              "<div id=\"df-9c3251a4-c3ba-40d9-af56-55aba394837f\">\n",
              "  <button class=\"colab-df-quickchart\" onclick=\"quickchart('df-9c3251a4-c3ba-40d9-af56-55aba394837f')\"\n",
              "            title=\"Suggest charts\"\n",
              "            style=\"display:none;\">\n",
              "\n",
              "<svg xmlns=\"http://www.w3.org/2000/svg\" height=\"24px\"viewBox=\"0 0 24 24\"\n",
              "     width=\"24px\">\n",
              "    <g>\n",
              "        <path d=\"M19 3H5c-1.1 0-2 .9-2 2v14c0 1.1.9 2 2 2h14c1.1 0 2-.9 2-2V5c0-1.1-.9-2-2-2zM9 17H7v-7h2v7zm4 0h-2V7h2v10zm4 0h-2v-4h2v4z\"/>\n",
              "    </g>\n",
              "</svg>\n",
              "  </button>\n",
              "\n",
              "<style>\n",
              "  .colab-df-quickchart {\n",
              "      --bg-color: #E8F0FE;\n",
              "      --fill-color: #1967D2;\n",
              "      --hover-bg-color: #E2EBFA;\n",
              "      --hover-fill-color: #174EA6;\n",
              "      --disabled-fill-color: #AAA;\n",
              "      --disabled-bg-color: #DDD;\n",
              "  }\n",
              "\n",
              "  [theme=dark] .colab-df-quickchart {\n",
              "      --bg-color: #3B4455;\n",
              "      --fill-color: #D2E3FC;\n",
              "      --hover-bg-color: #434B5C;\n",
              "      --hover-fill-color: #FFFFFF;\n",
              "      --disabled-bg-color: #3B4455;\n",
              "      --disabled-fill-color: #666;\n",
              "  }\n",
              "\n",
              "  .colab-df-quickchart {\n",
              "    background-color: var(--bg-color);\n",
              "    border: none;\n",
              "    border-radius: 50%;\n",
              "    cursor: pointer;\n",
              "    display: none;\n",
              "    fill: var(--fill-color);\n",
              "    height: 32px;\n",
              "    padding: 0;\n",
              "    width: 32px;\n",
              "  }\n",
              "\n",
              "  .colab-df-quickchart:hover {\n",
              "    background-color: var(--hover-bg-color);\n",
              "    box-shadow: 0 1px 2px rgba(60, 64, 67, 0.3), 0 1px 3px 1px rgba(60, 64, 67, 0.15);\n",
              "    fill: var(--button-hover-fill-color);\n",
              "  }\n",
              "\n",
              "  .colab-df-quickchart-complete:disabled,\n",
              "  .colab-df-quickchart-complete:disabled:hover {\n",
              "    background-color: var(--disabled-bg-color);\n",
              "    fill: var(--disabled-fill-color);\n",
              "    box-shadow: none;\n",
              "  }\n",
              "\n",
              "  .colab-df-spinner {\n",
              "    border: 2px solid var(--fill-color);\n",
              "    border-color: transparent;\n",
              "    border-bottom-color: var(--fill-color);\n",
              "    animation:\n",
              "      spin 1s steps(1) infinite;\n",
              "  }\n",
              "\n",
              "  @keyframes spin {\n",
              "    0% {\n",
              "      border-color: transparent;\n",
              "      border-bottom-color: var(--fill-color);\n",
              "      border-left-color: var(--fill-color);\n",
              "    }\n",
              "    20% {\n",
              "      border-color: transparent;\n",
              "      border-left-color: var(--fill-color);\n",
              "      border-top-color: var(--fill-color);\n",
              "    }\n",
              "    30% {\n",
              "      border-color: transparent;\n",
              "      border-left-color: var(--fill-color);\n",
              "      border-top-color: var(--fill-color);\n",
              "      border-right-color: var(--fill-color);\n",
              "    }\n",
              "    40% {\n",
              "      border-color: transparent;\n",
              "      border-right-color: var(--fill-color);\n",
              "      border-top-color: var(--fill-color);\n",
              "    }\n",
              "    60% {\n",
              "      border-color: transparent;\n",
              "      border-right-color: var(--fill-color);\n",
              "    }\n",
              "    80% {\n",
              "      border-color: transparent;\n",
              "      border-right-color: var(--fill-color);\n",
              "      border-bottom-color: var(--fill-color);\n",
              "    }\n",
              "    90% {\n",
              "      border-color: transparent;\n",
              "      border-bottom-color: var(--fill-color);\n",
              "    }\n",
              "  }\n",
              "</style>\n",
              "\n",
              "  <script>\n",
              "    async function quickchart(key) {\n",
              "      const quickchartButtonEl =\n",
              "        document.querySelector('#' + key + ' button');\n",
              "      quickchartButtonEl.disabled = true;  // To prevent multiple clicks.\n",
              "      quickchartButtonEl.classList.add('colab-df-spinner');\n",
              "      try {\n",
              "        const charts = await google.colab.kernel.invokeFunction(\n",
              "            'suggestCharts', [key], {});\n",
              "      } catch (error) {\n",
              "        console.error('Error during call to suggestCharts:', error);\n",
              "      }\n",
              "      quickchartButtonEl.classList.remove('colab-df-spinner');\n",
              "      quickchartButtonEl.classList.add('colab-df-quickchart-complete');\n",
              "    }\n",
              "    (() => {\n",
              "      let quickchartButtonEl =\n",
              "        document.querySelector('#df-9c3251a4-c3ba-40d9-af56-55aba394837f button');\n",
              "      quickchartButtonEl.style.display =\n",
              "        google.colab.kernel.accessAllowed ? 'block' : 'none';\n",
              "    })();\n",
              "  </script>\n",
              "</div>\n",
              "    </div>\n",
              "  </div>\n"
            ]
          },
          "metadata": {},
          "execution_count": 40
        }
      ]
    },
    {
      "cell_type": "markdown",
      "source": [
        "# Preprocessing with transformers"
      ],
      "metadata": {
        "id": "MiCJrhH8RObG"
      }
    },
    {
      "cell_type": "code",
      "source": [
        "PRE_TRAINED_MODEL_NAME = 'google/muril-base-cased'"
      ],
      "metadata": {
        "id": "WGCtLbViSGC3"
      },
      "execution_count": null,
      "outputs": []
    },
    {
      "cell_type": "code",
      "source": [
        "  #Multilingual Representations for Indian Languages) model using the\n",
        "  #AutoModel and AutoTokenizer classes from the transformers library.\n",
        "muril_model = AutoModel.from_pretrained(PRE_TRAINED_MODEL_NAME)\n",
        "tokenizer = AutoTokenizer.from_pretrained(PRE_TRAINED_MODEL_NAME)"
      ],
      "metadata": {
        "id": "-1-0FchCSoAh",
        "colab": {
          "base_uri": "https://localhost:8080/",
          "height": 385,
          "referenced_widgets": [
            "1707f0c7a8f34a1e84c7999c66bca582",
            "be9d3ed4b9714a8fb3604138319fe579",
            "c2577ba61dfa4e46bc9743e1292cdb45",
            "ae11269d5d4e496b87fb7d73a841868f",
            "933da798c38c47f9a545af96b82401c2",
            "61c3e5a342d24c6da3ab69d8ca16e3aa",
            "615fc3823d4949aba62d8954c60cf933",
            "112cc73da61649699298e748eb745a71",
            "f8e7072b9d7e4dadbcec1d50f44fc7a9",
            "959dbc2aeb294957896071a940f9a575",
            "55d88159eae64bc8a4d21977cf8703e7",
            "68ac3493455247f99d4a3913d9ec32fa",
            "dc93f8111b0544cc8879533086cc339c",
            "1516b77a7566471390846501c76c57ee",
            "68189227d7d3472499ec152f468707ec",
            "69ff6cf98f2f4022ac402a7db8d714b5",
            "fa66154dcecb46f7afa3b893623e21b6",
            "fbd68351ad2f4bd5aedd03fecc9608e7",
            "592c68aa527a4f6ea1cd913cc81ed711",
            "c63295523b6c4d0cbdef19adbd3fe884",
            "ece8a7fcc46d485eaf53d9dd3ee4c796",
            "e1efaf4e9a4248e89fd84859aa002af0",
            "2dbc209bf8764e6690378f1c54e5d198",
            "5f79feb64c014231b720864c18df97b9",
            "264a89d5b41b4cf3aa492c50b06c1183",
            "41af547606c84a9385d4e69721aba81d",
            "5e3089b6168c44aa9a260b8b7f28bdc1",
            "9f8278e9756649baa499f3f53627e9f4",
            "b1ba0a5dbb2d474b8176f05af164b77e",
            "b1bdc88dbbb24cc2a5df44d24879c935",
            "f44055775a3d486d8e204860f6ce6ab1",
            "179f5a52b47e4847a16810d1a5c83553",
            "b2777eb7cc084f80bb761a112021fd8e",
            "ff9ca55e5a6d49fbb172a34e8a210540",
            "4819da876eb94383a0572b8e09fab09c",
            "d567240f913f4f2b9d0563fd785b92a7",
            "c98cae2c96bb47a5b311e416bd69eff3",
            "0b1c1d1fb6854ea396e33e9f4f9af27a",
            "8d8ac18e114a4716b853faf3e4d2a860",
            "881d392c6ec844b993d98de54e92c8f1",
            "295793f839034934a2441fb48be0dff6",
            "0873d1ef8d364276aa7051da172dfde8",
            "c0ab4a5669bf4d6a82cde11cdf73c15d",
            "014ad6bd989c404b9b990bbda601a7e8",
            "283af6685a16424cab4c529c183e163b",
            "8da42f2db18242379862c474f5e42286",
            "38ac4b161d794b828bb2a30391ee4f84",
            "1a869bf0d5814dc09f83270585b221f9",
            "bfc5feafcddd4b9890ed8da6b68a2f58",
            "1b04f8e5991d41c79d223509dcf73e58",
            "7117e7dbb3e54f159a048f41e6a77077",
            "84fdba40fd3c493e8261d52748e2cb3f",
            "30badb072c91467fbae49a9ccbc92454",
            "68896bdfb2cf4dfca3e9998c2931ecbe",
            "161fad0db1e84636b523225cba318796"
          ]
        },
        "outputId": "633b9bc9-818a-4f3e-b5b6-c07409626015"
      },
      "execution_count": null,
      "outputs": [
        {
          "output_type": "stream",
          "name": "stderr",
          "text": [
            "/usr/local/lib/python3.10/dist-packages/huggingface_hub/utils/_token.py:72: UserWarning: \n",
            "The secret `HF_TOKEN` does not exist in your Colab secrets.\n",
            "To authenticate with the Hugging Face Hub, create a token in your settings tab (https://huggingface.co/settings/tokens), set it as secret in your Google Colab and restart your session.\n",
            "You will be able to reuse this secret in all of your notebooks.\n",
            "Please note that authentication is recommended but still optional to access public models or datasets.\n",
            "  warnings.warn(\n"
          ]
        },
        {
          "output_type": "display_data",
          "data": {
            "text/plain": [
              "config.json:   0%|          | 0.00/411 [00:00<?, ?B/s]"
            ],
            "application/vnd.jupyter.widget-view+json": {
              "version_major": 2,
              "version_minor": 0,
              "model_id": "1707f0c7a8f34a1e84c7999c66bca582"
            }
          },
          "metadata": {}
        },
        {
          "output_type": "display_data",
          "data": {
            "text/plain": [
              "pytorch_model.bin:   0%|          | 0.00/953M [00:00<?, ?B/s]"
            ],
            "application/vnd.jupyter.widget-view+json": {
              "version_major": 2,
              "version_minor": 0,
              "model_id": "68ac3493455247f99d4a3913d9ec32fa"
            }
          },
          "metadata": {}
        },
        {
          "output_type": "display_data",
          "data": {
            "text/plain": [
              "tokenizer_config.json:   0%|          | 0.00/206 [00:00<?, ?B/s]"
            ],
            "application/vnd.jupyter.widget-view+json": {
              "version_major": 2,
              "version_minor": 0,
              "model_id": "2dbc209bf8764e6690378f1c54e5d198"
            }
          },
          "metadata": {}
        },
        {
          "output_type": "display_data",
          "data": {
            "text/plain": [
              "vocab.txt:   0%|          | 0.00/3.16M [00:00<?, ?B/s]"
            ],
            "application/vnd.jupyter.widget-view+json": {
              "version_major": 2,
              "version_minor": 0,
              "model_id": "ff9ca55e5a6d49fbb172a34e8a210540"
            }
          },
          "metadata": {}
        },
        {
          "output_type": "display_data",
          "data": {
            "text/plain": [
              "special_tokens_map.json:   0%|          | 0.00/113 [00:00<?, ?B/s]"
            ],
            "application/vnd.jupyter.widget-view+json": {
              "version_major": 2,
              "version_minor": 0,
              "model_id": "283af6685a16424cab4c529c183e163b"
            }
          },
          "metadata": {}
        }
      ]
    },
    {
      "cell_type": "code",
      "source": [
        "sample_txt = 'हर्ष आणि जावा कॉलेजला जातात पण तिथे एकही शिक्षक जिद्द करत नाही. दोघेही घरी परततात.'"
      ],
      "metadata": {
        "id": "DSG3e5IOSqQS"
      },
      "execution_count": null,
      "outputs": []
    },
    {
      "cell_type": "code",
      "source": [
        "len(sample_txt)"
      ],
      "metadata": {
        "colab": {
          "base_uri": "https://localhost:8080/"
        },
        "id": "RIyJxUn02WEC",
        "outputId": "295a849f-6bbf-4070-c3f8-2d46a234401c"
      },
      "execution_count": null,
      "outputs": [
        {
          "output_type": "execute_result",
          "data": {
            "text/plain": [
              "82"
            ]
          },
          "metadata": {},
          "execution_count": 49
        }
      ]
    },
    {
      "cell_type": "code",
      "source": [
        "\n",
        "# Tokenize the text\n",
        "tokens = tokenizer.tokenize(sample_txt)\n",
        "# converts the list of tokens into their corresponding token IDs\n",
        "token_ids = tokenizer.convert_tokens_to_ids(tokens)\n",
        "\n",
        "print(f' Sentence: {sample_txt}')\n",
        "print(f'   Tokens: {tokens}')\n",
        "print(f'Token IDs: {token_ids}')\n",
        "\n"
      ],
      "metadata": {
        "id": "v-XPV5KJSrud",
        "colab": {
          "base_uri": "https://localhost:8080/"
        },
        "outputId": "0fa2eea6-739f-4795-e4bf-08ed6c57e25f"
      },
      "execution_count": null,
      "outputs": [
        {
          "output_type": "stream",
          "name": "stdout",
          "text": [
            " Sentence: हर्ष आणि जावा कॉलेजला जातात पण तिथे एकही शिक्षक जिद्द करत नाही. दोघेही घरी परततात.\n",
            "   Tokens: ['हर्ष', 'आणि', 'जावा', 'कॉलेज', '##ला', 'जातात', 'पण', 'तिथे', 'एकही', 'शिक्षक', 'जिद', '##्द', 'करत', 'नाही', '.', 'दोघेही', 'घरी', 'परत', '##तात', '.']\n",
            "Token IDs: [64612, 1196, 36287, 6080, 1469, 5363, 2963, 20501, 56448, 9129, 162702, 18701, 6465, 1826, 121, 87936, 21953, 10208, 13092, 121]\n"
          ]
        }
      ]
    },
    {
      "cell_type": "markdown",
      "source": [
        "You can still use GPT-2 for various NLP tasks, but the tokenization and input format might differ from models like BERT that use [SEP] tokens for specific purposes like sentence separation"
      ],
      "metadata": {
        "id": "PLgFwJEf7t5F"
      }
    },
    {
      "cell_type": "code",
      "source": [
        "from transformers import GPT2Tokenizer\n",
        "\n",
        "# Replace 'your_model_name' with the actual model name or path\n",
        "model_name = 'google/muril-base-cased'\n",
        "tokenizer = GPT2Tokenizer.from_pretrained('gpt2')\n",
        "print(tokenizer.sep_token, tokenizer.sep_token_id)\n",
        "print(tokenizer.cls_token, tokenizer.cls_token_id)"
      ],
      "metadata": {
        "colab": {
          "base_uri": "https://localhost:8080/"
        },
        "id": "4Ob7Xbhe6Uvs",
        "outputId": "b2da47b3-c32e-429d-a367-b5abe378d919"
      },
      "execution_count": null,
      "outputs": [
        {
          "output_type": "stream",
          "name": "stdout",
          "text": [
            "None None\n",
            "None None\n"
          ]
        }
      ]
    },
    {
      "cell_type": "code",
      "source": [
        " #Print Separation Token and ID  eparation token (often used to indicate the end of a sequence) and its corresponding token ID.\n",
        "print(tokenizer.sep_token, tokenizer.sep_token_id)\n",
        "print(tokenizer.cls_token, tokenizer.cls_token_id)    #Print Classification Token and ID\n",
        "print(tokenizer.pad_token, tokenizer.pad_token_id)  #padding token and Id\n",
        "print(tokenizer.unk_token, tokenizer.unk_token_id)   # Unknown token and Id"
      ],
      "metadata": {
        "id": "bz7lIAYmStFW",
        "colab": {
          "base_uri": "https://localhost:8080/"
        },
        "outputId": "d5a682ca-ade8-4537-f0c1-c88c9540fb67"
      },
      "execution_count": null,
      "outputs": [
        {
          "output_type": "stream",
          "name": "stdout",
          "text": [
            "None None\n",
            "None None\n",
            "None None\n",
            "<|endoftext|> 50256\n"
          ]
        }
      ]
    },
    {
      "cell_type": "code",
      "source": [
        " tokenizer.sep_token_id"
      ],
      "metadata": {
        "colab": {
          "base_uri": "https://localhost:8080/"
        },
        "id": "W1dsEZ2b2Rpe",
        "outputId": "ccada75b-6bb8-4567-8f7a-99eb8e687c18"
      },
      "execution_count": null,
      "outputs": [
        {
          "output_type": "execute_result",
          "data": {
            "text/plain": [
              "105"
            ]
          },
          "metadata": {},
          "execution_count": 48
        }
      ]
    },
    {
      "cell_type": "code",
      "source": [
        "tokenizer.sep_token"
      ],
      "metadata": {
        "colab": {
          "base_uri": "https://localhost:8080/",
          "height": 35
        },
        "id": "-HGUjeWa2KLT",
        "outputId": "029b330e-2f87-4ca0-eb16-ab56920b8a00"
      },
      "execution_count": null,
      "outputs": [
        {
          "output_type": "execute_result",
          "data": {
            "text/plain": [
              "'[SEP]'"
            ],
            "application/vnd.google.colaboratory.intrinsic+json": {
              "type": "string"
            }
          },
          "metadata": {},
          "execution_count": 47
        }
      ]
    },
    {
      "cell_type": "code",
      "source": [
        "\n",
        "\n",
        "encoding = tokenizer.encode_plus(\n",
        "  sample_txt,                                                                          # This is the input text that you want to encode\n",
        "  max_length=32,                                                                  # Max no. of tokens   #It specifies the maximum length of the output sequence. If the tokenized sequence is longer than max_length, it will be truncated. If it is shorter, it will be padded.\n",
        "  add_special_tokens=True,                                                # Add special tokens like  '[CLS]'(classification) and '[SEP]'(separator)\n",
        "  return_token_type_ids=True,                                          # When set to True, it returns token type IDs, which are used in models that accept pairs of sequences (e.g., question-answering)\n",
        "  pad_to_max_length=True,                                               # When set to True, it pads the sequence to the specified max_length if it is shorter. Padding is done with the [PAD] token.\n",
        "  return_attention_mask=True,                                          # When set to True, it returns an attention mask indicating which tokens should be attended to and which ones should be ignored (typically 1 for tokens and 0 for padding).\n",
        "  return_tensors='pt',                                                            # Return PyTorch tensors  # It specifies that the output should be in PyTorch tensors.\n",
        ")\n",
        "\n",
        "encoding.keys()                                                # This returns the keys of the dictionary containing the encoded information. The typical keys include 'input_ids', 'token_type_ids', and 'attention_mask'.\n",
        "\n"
      ],
      "metadata": {
        "id": "UZbOPMb8S0pe"
      },
      "execution_count": null,
      "outputs": []
    },
    {
      "cell_type": "code",
      "source": [
        "# input_ids = encoding['input_ids']\n",
        "#token_type_ids = encoding['token_type_ids']\n",
        "#attention_mask = encoding['attention_mask']\n",
        "\n",
        "# Now you can use input_ids, token_type_ids, and attention_mask as PyTorch tensors in your model"
      ],
      "metadata": {
        "id": "mT_ZAdRoC_F6"
      },
      "execution_count": null,
      "outputs": []
    },
    {
      "cell_type": "code",
      "source": [
        "print(len(encoding['input_ids'][0]))\n",
        "encoding['input_ids']"
      ],
      "metadata": {
        "id": "Qg7ggFc1S2NK"
      },
      "execution_count": null,
      "outputs": []
    },
    {
      "cell_type": "code",
      "source": [
        "print(len(encoding['token_type_ids'][0]))\n",
        "encoding['token_type_ids']"
      ],
      "metadata": {
        "id": "ERedciK3S8a0"
      },
      "execution_count": null,
      "outputs": []
    },
    {
      "cell_type": "code",
      "source": [
        "print(len(encoding['attention_mask'][0]))\n",
        "encoding['attention_mask']"
      ],
      "metadata": {
        "id": "71aO4e5uS-Um"
      },
      "execution_count": null,
      "outputs": []
    },
    {
      "cell_type": "code",
      "source": [
        "tokenizer.convert_ids_to_tokens(encoding['input_ids'][0])         #input token IDs back to their corresponding tokens (words or subwords) in the vocabulary"
      ],
      "metadata": {
        "id": "LIH_xNWhS_Jg"
      },
      "execution_count": null,
      "outputs": []
    },
    {
      "cell_type": "code",
      "source": [
        "token_lens = []\n",
        "for txt in tqdm(df_train.tuned_tweet):                     #tqdm provides a flexible and customizable way to visualize the progress of loops, file downloads, data processing, or any other iterable process\n",
        "  tokens = tokenizer.encode(txt, max_length=512)   #his line tokenizes the text using the specified tokenizer and enforces a maximum length of 512 tokens. The tokenizer.encode method typically performs tokenization and includes special tokens (e.g., [CLS] and [SEP]).\n",
        "  token_lens.append(len(tokens))                                  # The length of each tokenized sequence is appended to the token_lens list.   This list will store the lengths of tokenized sequences for each text in the DataFrame."
      ],
      "metadata": {
        "colab": {
          "base_uri": "https://localhost:8080/"
        },
        "id": "y6ezNEkWTA9W",
        "outputId": "2d715174-5d8c-44fe-b6d6-9fa6d246fd36"
      },
      "execution_count": null,
      "outputs": [
        {
          "output_type": "stream",
          "name": "stderr",
          "text": [
            "100%|██████████| 12109/12109 [00:07<00:00, 1700.61it/s]\n"
          ]
        }
      ]
    },
    {
      "cell_type": "code",
      "source": [
        "sns.distplot(token_lens)            # sns seaborn ,token_lens is the list containing the lengths of tokenized sequences for each text in the dataset. This line creates a distribution plot using the seaborn library. The distplot function is used to visualize the distribution of a dataset.\n",
        "plt.xlim([0, 256]);\n",
        "plt.xlabel('Token count');\n",
        "plt.show()"
      ],
      "metadata": {
        "colab": {
          "base_uri": "https://localhost:8080/"
        },
        "id": "cb0h1WmTTmtZ",
        "outputId": "36110202-52a5-40fe-97ce-30ade877c60c"
      },
      "execution_count": null,
      "outputs": [
        {
          "output_type": "stream",
          "name": "stderr",
          "text": [
            "/usr/local/lib/python3.7/dist-packages/seaborn/distributions.py:2619: FutureWarning: `distplot` is a deprecated function and will be removed in a future version. Please adapt your code to use either `displot` (a figure-level function with similar flexibility) or `histplot` (an axes-level function for histograms).\n",
            "  warnings.warn(msg, FutureWarning)\n"
          ]
        },
        {
          "output_type": "display_data",
          "data": {
            "text/plain": [
              "<Figure size 432x288 with 1 Axes>"
            ],
            "image/png": "[encoded data removed]"
          },
          "metadata": {
            "image/png": {
              "width": 419,
              "height": 272
            },
            "needs_background": "light"
          }
        }
      ]
    },
    {
      "cell_type": "code",
      "source": [
        "MAX_LEN = 160  #This ensures that the resulting tokenized sequences will be truncated or padded to a maximum length of 160 tokens."
      ],
      "metadata": {
        "id": "arGFeZvZT7ao"
      },
      "execution_count": null,
      "outputs": []
    },
    {
      "cell_type": "code",
      "source": [
        "class GPReviewDataset(Dataset):                                          #  his code defines a PyTorch dataset class named GPReviewDataset for handling text data with associated targets (labels).\n",
        "\n",
        "  def __init__(self, text, targets, tokenizer, max_len):         #Constructor (__init__):\n",
        "    self.text = text\n",
        "    self.targets = targets\n",
        "    self.tokenizer = tokenizer                                                         #A tokenizer (presumably from the Transformers library) for encoding the text.\n",
        "    self.max_len = max_len                                                          #The maximum length to truncate or pad the tokenized sequences.\n",
        "\n",
        "  def __len__(self):                                                                   #__len__ Method:     Returns the total number of samples in the dataset (the length of the text).\n",
        "    return len(self.text)\n",
        "\n",
        "  def __getitem__(self, item):                                        #__getitem__ Method:     Takes an index item and returns a dictionary containing the following  tweet_text input_ids,attention_mask,type_ids,targets\n",
        "    text = str(self.text[item])\n",
        "    target = self.targets[item]\n",
        "\n",
        "    encoding = self.tokenizer.encode_plus(                    #Uses the provided tokenizer (self.tokenizer) to tokenize and encode the input text.\n",
        "      text,\n",
        "      add_special_tokens=True,\n",
        "      max_length=self.max_len,\n",
        "      return_token_type_ids=True,\n",
        "      return_attention_mask=True,\n",
        "      padding= 'max_length',\n",
        "      # pad_to_max_length = True,\n",
        "      return_tensors='pt',\n",
        "    )\n",
        "\n",
        "    return {                                                        #he dictionary returned by __getitem__ contains various elements necessary for training or inference with a transformer-based model.\n",
        "      'tweet_text': text,\n",
        "      'input_ids': encoding['input_ids'].flatten(),\n",
        "      'attention_mask': encoding['attention_mask'].flatten(),\n",
        "      'type_ids': encoding['token_type_ids'].flatten(),\n",
        "      'targets': torch.tensor(target, dtype=torch.long)\n",
        "    }"
      ],
      "metadata": {
        "id": "xy5-ExfZUDyj"
      },
      "execution_count": null,
      "outputs": []
    },
    {
      "cell_type": "code",
      "source": [
        "df_train.shape, df_valid.shape, df_test.shape              #df_train.shape returns a tuple representing the dimensions of the DataFrame ,,,  first element of the tuple is the number of rows , ,,The second element of the tuple is the number of columns"
      ],
      "metadata": {
        "colab": {
          "base_uri": "https://localhost:8080/"
        },
        "id": "_Ryi4gp5UFF2",
        "outputId": "1251aae6-dd69-4b4c-f545-18aa1f3a2da5"
      },
      "execution_count": null,
      "outputs": [
        {
          "output_type": "execute_result",
          "data": {
            "text/plain": [
              "((12109, 3), (1499, 3), (2250, 3))"
            ]
          },
          "metadata": {},
          "execution_count": 23
        }
      ]
    },
    {
      "cell_type": "code",
      "source": [
        "def create_data_loader(df, tokenizer, max_len, batch_size):                  #takes a DataFrame (df a tokenizer, a maximum sequence length (max_len), and a batch size (batch_size) as inputs.                             # purpose of this function is to create a PyTorch DataLoader for efficiently loading and batching the data during training or evaluation.\n",
        "  ds = GPReviewDataset(                                   #A PyTorch DataLoader is initialized with the created dataset (ds).\n",
        "    text=df.tuned_tweet.to_numpy(),\n",
        "    targets=df.label.to_numpy(),\n",
        "    tokenizer=tokenizer,\n",
        "    max_len=max_len\n",
        "  )\n",
        "\n",
        "  return DataLoader(\n",
        "    ds,\n",
        "    batch_size=batch_size,\n",
        "    num_workers=2              #num_workers enables parallel data loading, speeding up the process, especially when dealing with large datasets.\n",
        "  )"
      ],
      "metadata": {
        "id": "CfQBBL3xUIpx"
      },
      "execution_count": null,
      "outputs": []
    },
    {
      "cell_type": "code",
      "source": [
        "BATCH_SIZE = 16                                  #create_data_loader function to create PyTorch DataLoaders for your training (df_train), validation (df_valid), and test (df_test)\n",
        "\n",
        "train_data_loader = create_data_loader(df_train, tokenizer, MAX_LEN, BATCH_SIZE)\n",
        "val_data_loader = create_data_loader(df_valid, tokenizer, MAX_LEN, BATCH_SIZE)\n",
        "test_data_loader = create_data_loader(df_test, tokenizer, MAX_LEN, BATCH_SIZE)\n"
      ],
      "metadata": {
        "id": "4D70nKptUKto"
      },
      "execution_count": null,
      "outputs": []
    },
    {
      "cell_type": "code",
      "source": [
        "data = next(iter(train_data_loader))         #The iter function is used to create an iterator from the train_data_loader. An iterator allows you to iterate over the batches of data.\n",
        "data.keys()                                     #checking the keys (or field names) present in this dictionary"
      ],
      "metadata": {
        "colab": {
          "base_uri": "https://localhost:8080/"
        },
        "id": "nkt-MX8HUPzE",
        "outputId": "d207eeda-6b2e-4a14-b566-891ff13f4d0c"
      },
      "execution_count": null,
      "outputs": [
        {
          "output_type": "execute_result",
          "data": {
            "text/plain": [
              "dict_keys(['tweet_text', 'input_ids', 'attention_mask', 'type_ids', 'targets'])"
            ]
          },
          "metadata": {},
          "execution_count": 26
        }
      ]
    },
    {
      "cell_type": "markdown",
      "source": [
        "print(data['input_ids'].shape):\n",
        "\n",
        "This line prints the shape of the tensor representing the input IDs of the tokenized sequences in the batch.\n",
        "Why: Understanding the shape of the input IDs tensor is crucial for knowing the dimensionality of the input data that will be fed into your neural network model. It helps ensure that the input data has the expected structure."
      ],
      "metadata": {
        "id": "clZ_8x2jYeC6"
      }
    },
    {
      "cell_type": "code",
      "source": [
        "print(data['input_ids'].shape)            # prints the shape of the tensor representing the input IDs of the tokenized sequences in the batch.\n",
        "print(data['attention_mask'].shape)\n",
        "print(data['targets'].shape)"
      ],
      "metadata": {
        "colab": {
          "base_uri": "https://localhost:8080/"
        },
        "id": "OodIlW5VUaJF",
        "outputId": "57dd1361-2bbb-46b9-8690-635475b17e88"
      },
      "execution_count": null,
      "outputs": [
        {
          "output_type": "stream",
          "name": "stdout",
          "text": [
            "torch.Size([16, 160])\n",
            "torch.Size([16, 160])\n",
            "torch.Size([16])\n"
          ]
        }
      ]
    },
    {
      "cell_type": "markdown",
      "source": [
        "# Classification"
      ],
      "metadata": {
        "id": "FHUsLaOaUdko"
      }
    },
    {
      "cell_type": "markdown",
      "source": [
        "The 'attention_mask' is a binary mask indicating which positions in the input sequence are valid and which are padded. It has a value of 1 for valid positions and 0 for padded positions.\n",
        "\n",
        "Printing 'attention_mask' helps you visually inspect how the tokenization process handles padding. It's useful for confirming that the attention mask is correctly set to 1 for actual tokens and 0 for padded tokens."
      ],
      "metadata": {
        "id": "NCsrzZDeZT5P"
      }
    },
    {
      "cell_type": "markdown",
      "source": [
        "token_type_ids' typically represents the segment or type of each token in the input sequence. In models like BERT, which accept two segments (e.g., sentence A and sentence B), this tensor helps differentiate between the tokens from different segments.\n",
        "\n",
        "Printing 'token_type_ids' is useful when working with models that use token types as input, as it allows you to verify that the tokens are assigned the correct types. It helps ensure that the model can distinguish between different parts of the input sequence."
      ],
      "metadata": {
        "id": "PgLJiUxwZgp_"
      }
    },
    {
      "cell_type": "code",
      "source": [
        "print(encoding['attention_mask'] , encoding['token_type_ids'])"
      ],
      "metadata": {
        "id": "HAMUHya8Ugk0"
      },
      "execution_count": null,
      "outputs": []
    },
    {
      "cell_type": "code",
      "source": [],
      "metadata": {
        "id": "GJXPdTjnZv2D"
      },
      "execution_count": null,
      "outputs": []
    },
    {
      "cell_type": "markdown",
      "source": [
        "muril_model is a pre-trained model, possibly MURIL (Multilingual Representations for Indian Languages). It's being used to process a batch of input sequences represented by encoding.\n",
        "\n",
        "encoding['input_ids'] contains the tokenized input sequences converted to numerical IDs.\n",
        "\n",
        "encoding['attention_mask'] is a binary mask indicating which positions in the input sequence are valid (1) and which are padded (0).\n",
        "\n",
        "encoding['token_type_ids'] represents the segment or type of each token, distinguishing different segments if applicable.\n",
        "\n",
        "The model is invoked with these inputs to obtain the output tensor x\\\n",
        "\n",
        "Model Inference: This code performs inference using the pre-trained MURIL model on a specific batch of input sequences.\n",
        "\n",
        "Tokenization and Encoding: The input sequences are tokenized and encoded using the provided 'input_ids', 'attention_mask', and 'token_type_ids'. These representations are then passed to the model."
      ],
      "metadata": {
        "id": "YZchz8i6aK2r"
      }
    },
    {
      "cell_type": "code",
      "source": [
        "x = muril_model(\n",
        "  input_ids=encoding['input_ids'],\n",
        "  attention_mask=encoding['attention_mask'],\n",
        "  token_type_ids=encoding['token_type_ids']\n",
        ")"
      ],
      "metadata": {
        "id": "aQ9B9m3PUqaw"
      },
      "execution_count": null,
      "outputs": []
    },
    {
      "cell_type": "markdown",
      "source": [
        "x['last_hidden_state'] represents the last layer's hidden states of the MURIL model for each token in the input sequence. It is a 3D tensor with dimensions (batch_size, sequence_length, hidden_size).\n",
        "\n",
        "x['pooler_output'] represents the aggregated representation of the entire input sequence. It is a 2D tensor with dimensions (batch_size, hidden_size).\n",
        "\n",
        "Hidden States: The last_hidden_state contains the contextualized embeddings for each token in the input sequence. It retains information about how each token is influenced by the context of the entire sequence.\n",
        "\n",
        "Pooling: The pooler_output is a summary or aggregation of the entire sequence. It is often used as a representation of the entire input sequence, condensing the information from all tokens into a single vector.\n",
        "\n",
        "Downstream Tasks: Both last_hidden_state and pooler_output can be used for various downstream tasks in natural language processing (NLP), such as text classification, named entity recognition, or sentiment analysis.\n",
        "\n",
        "Choosing Representation: Depending on the task, you might choose to use the last_hidden_state for token-level information or the pooler_output for a sequence-level representation.\n"
      ],
      "metadata": {
        "id": "fqpgBYwNameH"
      }
    },
    {
      "cell_type": "code",
      "source": [
        "print(x['last_hidden_state'].shape, x['pooler_output'].shape)"
      ],
      "metadata": {
        "id": "smRnivzjUtlq"
      },
      "execution_count": null,
      "outputs": []
    },
    {
      "cell_type": "markdown",
      "source": [
        "muril_model.config.hidden_size represents the number of dimensions in the hidden states of the model.\n",
        "\n",
        "Model Capacity: The hidden_size is a crucial hyperparameter that determines the model's capacity to capture and represent information. A higher hidden size allows the model to learn more complex patterns and relationships in the data but comes at the cost of increased computational requirements.\n",
        "\n",
        "Representation Dimensionality: Each token in the input sequence is associated with a hidden state vector of size hidden_size. This vector captures the learned features and contextual information for that token.\n",
        "\n",
        "Embedding Dimensionality: The embedding layers (input embeddings and positional embeddings) transform input tokens into vectors of dimension hidden_size.\n",
        "\n",
        "Model Flexibility: The choice of hidden_size is often influenced by the specific task and the available computational resources. Larger hidden_size values may be beneficial for more complex tasks or larger datasets."
      ],
      "metadata": {
        "id": "Q6q5Y-KAa32J"
      }
    },
    {
      "cell_type": "code",
      "source": [
        "muril_model.config.hidden_size"
      ],
      "metadata": {
        "id": "ZGepiN8AUvP2"
      },
      "execution_count": null,
      "outputs": []
    },
    {
      "cell_type": "markdown",
      "source": [
        "what __init__ Method:\n",
        "\n",
        "n_classes: Number of classes in the sentiment classification task.\n",
        "base: Pre-trained MURIL model used as the base for feature extraction.\n",
        "Components:\n",
        "\n",
        "muril: Pre-trained MURIL model.\n",
        "drop1: Dropout layer to prevent overfitting after the MURIL model's pooler output.\n",
        "lstm: Bidirectional LSTM layer to capture sequential information.\n",
        "out1: Linear layer to transform LSTM output to a smaller dimension.\n",
        "relu: Rectified Linear Unit (ReLU) activation function.\n",
        "drop2: Dropout layer after the ReLU activation.\n",
        "out: Final linear layer for classification.\n",
        "forward Method:\n",
        "\n",
        "Takes input IDs, attention mask, and token type IDs as input.\n",
        "Passes the inputs through the pre-trained MURIL model (muril) to get the pooler output.\n",
        "Applies dropout (drop1) after the pooler output.\n",
        "Adjusts the dimensions and passes the output through a bidirectional LSTM layer (lstm) to capture sequential information.\n",
        "Reshapes the LSTM output and passes it through a linear layer (out1) with ReLU activation.\n",
        "Applies dropout (drop2) after the ReLU activation.\n",
        "Passes the final output through the linear layer (out) for sentiment classification.\n",
        "\n",
        "\n",
        "why Transfer Learning: Leverages pre-trained MURIL weights for contextualized token representations.\n",
        "Sequential Information: Introduces an LSTM layer to capture sequential dependencies in the token representations.\n",
        "Non-Linearity: Applies ReLU activation to introduce non-linearity to the model.\n",
        "Dropout: Helps prevent overfitting by randomly dropping units during training.\n",
        "Classification Layer: Produces the final output logits for sentiment classification."
      ],
      "metadata": {
        "id": "OAL-xgFbbVjY"
      }
    },
    {
      "cell_type": "code",
      "source": [
        "\n",
        "class SentimentClassifier(nn.Module):\n",
        "\n",
        "  def __init__(self, n_classes, base):\n",
        "    super(SentimentClassifier, self).__init__()\n",
        "    self.muril = base\n",
        "    self.drop1 = nn.Dropout(p=0.3)\n",
        "    self.lstm = nn.LSTM(base.config.hidden_size, 150,bidirectional=True,dropout=0.2)\n",
        "    self.out1 = nn.Linear(300,64)\n",
        "    self.relu = nn.ReLU()\n",
        "    self.drop2 = nn.Dropout(p=0.1)\n",
        "    self.out = nn.Linear(64, n_classes)\n",
        "\n",
        "  def forward(self, input_ids, attention_mask, token_type_ids):\n",
        "    x = self.muril(\n",
        "      input_ids=input_ids,\n",
        "      attention_mask=attention_mask,\n",
        "      token_type_ids=token_type_ids\n",
        "    )\n",
        "    pooled_output = x['pooler_output']\n",
        "    output = self.drop1(pooled_output)\n",
        "    output = output.view(len(output), 1, -1)\n",
        "    output, _ = self.lstm(output)\n",
        "    output = output.view(len(output), output.shape[-1])\n",
        "    output =self.relu(self.out1(output))\n",
        "    output = self.drop2(output)\n",
        "    return self.out(output)"
      ],
      "metadata": {
        "id": "mtaUQJiKUwn7"
      },
      "execution_count": null,
      "outputs": []
    },
    {
      "cell_type": "markdown",
      "source": [
        "Class Names:\n",
        "\n",
        "The class_names list is used to interpret the model's output logits. Each index of the output corresponds to a sentiment class, and the class with the highest probability is considered the predicted sentiment.\n",
        "Model Initialization:\n",
        "\n",
        "Initializes an instance of the SentimentClassifier model. The length of class_names is passed as the number of classes for sentiment classification.\n",
        "The pre-trained MURIL model is used as the base for feature extraction, combining contextualized embeddings with sequential information.\n",
        "Move Model to Device:\n",
        "\n",
        "If GPU acceleration is available (device is set to a GPU), this line of code moves the entire model (including its parameters) to the specified device."
      ],
      "metadata": {
        "id": "HGuC2tCo3g4L"
      }
    },
    {
      "cell_type": "code",
      "source": [
        "\n",
        "class_names = ['-1','0', '1']                  #it's common to have class labels such as negative ('-1'), neutral ('0'), and positive ('1').\n",
        "model = SentimentClassifier(len(class_names), muril_model)      #Creates an instance of the SentimentClassifier class.\n",
        "model = model.to(device)                         #Moves the model to the specified device (e.g., GPU) if available."
      ],
      "metadata": {
        "id": "r79z4AhLU2YC"
      },
      "execution_count": null,
      "outputs": []
    },
    {
      "cell_type": "markdown",
      "source": [
        " for Understanding Batch Structure,Accessing Specific Components:"
      ],
      "metadata": {
        "id": "DRjQZjFZ3-rF"
      }
    },
    {
      "cell_type": "code",
      "source": [
        "data.keys()             #ata.keys() is used to inspect the keys available in the loaded batch"
      ],
      "metadata": {
        "colab": {
          "base_uri": "https://localhost:8080/"
        },
        "id": "DqHaT_ZHU6x1",
        "outputId": "b2832241-0610-435e-a402-93eec2cd2981"
      },
      "execution_count": null,
      "outputs": [
        {
          "output_type": "execute_result",
          "data": {
            "text/plain": [
              "dict_keys(['tweet_text', 'input_ids', 'attention_mask', 'type_ids', 'targets'])"
            ]
          },
          "metadata": {},
          "execution_count": 34
        }
      ]
    },
    {
      "cell_type": "code",
      "source": [
        " # Moves the input tensors (input_ids, attention_mask, and token_type_ids) to the specified device (CPU or GPU).\n",
        "\n",
        "\n",
        "input_ids = data['input_ids'].to(device)\n",
        "attention_mask = data['attention_mask'].to(device)\n",
        "token_type_ids = data['type_ids'].to(device)\n",
        "\n",
        "print(input_ids.shape) # batch size x seq length\n",
        "print(attention_mask.shape) # batch size x seq length\n",
        "print(token_type_ids.shape) # batch size x seq_length"
      ],
      "metadata": {
        "colab": {
          "base_uri": "https://localhost:8080/"
        },
        "id": "vwKNj4T5U8M2",
        "outputId": "950e2216-2352-4e8b-9127-d0a929471939"
      },
      "execution_count": null,
      "outputs": [
        {
          "output_type": "stream",
          "name": "stdout",
          "text": [
            "torch.Size([16, 160])\n",
            "torch.Size([16, 160])\n",
            "torch.Size([16, 160])\n"
          ]
        }
      ]
    },
    {
      "cell_type": "code",
      "source": [
        "data                               #likely represents a batch of training or validation data obtained using a PyTorch DataLoader. The purpose of this variable is to provide a convenient way to iterate over batches of input data and corresponding labels during training or evaluation."
      ],
      "metadata": {
        "colab": {
          "base_uri": "https://localhost:8080/"
        },
        "id": "ExubRkjtU9g4",
        "outputId": "74075f1d-4926-4137-cb94-9ed97dcf56a0"
      },
      "execution_count": null,
      "outputs": [
        {
          "output_type": "execute_result",
          "data": {
            "text/plain": [
              "{'attention_mask': tensor([[1, 1, 1,  ..., 0, 0, 0],\n",
              "         [1, 1, 1,  ..., 0, 0, 0],\n",
              "         [1, 1, 1,  ..., 0, 0, 0],\n",
              "         ...,\n",
              "         [1, 1, 1,  ..., 0, 0, 0],\n",
              "         [1, 1, 1,  ..., 0, 0, 0],\n",
              "         [1, 1, 1,  ..., 0, 0, 0]]),\n",
              " 'input_ids': tensor([[   104,  17857,   8096,  ...,      0,      0,      0],\n",
              "         [   104,   8385, 120210,  ...,      0,      0,      0],\n",
              "         [   104,  80460,  31017,  ...,      0,      0,      0],\n",
              "         ...,\n",
              "         [   104,   4842,   3274,  ...,      0,      0,      0],\n",
              "         [   104, 104023,   1373,  ...,      0,      0,      0],\n",
              "         [   104,    100,   1680,  ...,      0,      0,      0]]),\n",
              " 'targets': tensor([-1, -1, -1,  1, -1,  1,  1,  1, -1,  0, -1, -1, -1, -1,  1,  0]),\n",
              " 'tweet_text': ['ज्येष्ठ पत्रकार अनंत दीक्षित यांच्या निधनाचे वृत्त दु:खद आहे चार दशकं त्यांनी आपल्या परखड लेखणीने पत्रकारितेत अमूल्य योगदान दिले दीक्षित यांच्या मार्गदर्शनाखाली पत्रकारांची पिढी घडली अनंत दीक्षित यांना भावपूर्ण श्रद्धांजली आम्ही त्यांच्या परिवाराच्या दु:खात सहभागी आहोत',\n",
              "  'सर्वोच्च न्यायालयाचे निर्देश डावलून पुणे पोलिसांनी प्रा आनंद तेलतुंबडेंना अटक केली मात्र न्यायालयाने त्यांची अटक बेकायदेशीर ठरवून सरकारला जोरदार चपराक लगावली आहे कायदा हातात घेणा-या पोलीस अधिका-यांवर तात्काळ कारवाई केली पाहिजे AnandTeltumbde',\n",
              "  'उद्धव ठाकरेंनी भाजपासोबत युती करून शिवसैनिकांचा अवमान व विश्वासघात केला आहे फसवणूक झालेल्या शिवसैनिकांबद्दल मला सहानुभूती असून स्वार्थासाठी उद्धव ठाकरे भाजपसोबत गेले तरी मोदींचे सरकार घालवण्यातच महाराष्ट्राचे हित आहे हे जाणणारे शिवसैनिक मोदींच्या विरोधात काँग्रेसला मतदान करतील',\n",
              "  'आपला समाज खूप मोठा आहे त्यात अनेक घटक अंतर्भूत आहेत यातील दिव्यांग हा एक घटक, जो शारीरिकदृष्ट्या कमकुवत आहे, त्याच्याकडे समाजाचे दुर्लक्ष होतेय त्यामुळे सरकारने अशा व्यक्तींसाठी उपक्रम राबवून त्यांना समाजात सन्मानाने जगता येईल, याकडे लक्ष देण्याची गरज आहे',\n",
              "  'बलात्काराचा बदला बलात्काराने घेतला पाहिजे हे म्हणणारे सावरकर आम्हाला मान्य नाहीत द्वेष आणि तिरस्कार हिंदू धर्मातही अभिप्रेत कधीच नव्हता आम्ही सावरकरांच्या विचारांचा विरोध करताच राहू त्यात व्यक्तीद्वेष नाही तर वैचारिक विरोध आहे हा देश गांधींच्या विचारांनीच चालेल',\n",
              "  'जरी मी देशाच्या सेवेत मृत्यू पावली तरी मला त्याचा अभिमान वाटेल माझ्या रक्ताचे प्रत्येक थेंब या राष्ट्राच्या विकासास हातभार लावेल आणि ते मजबूत व गतिमान बनवेल-श्रीमती इंदिरा गांधी स्वतंत्र भारताच्या पहिल्या महिला पंतप्रधान इंदिरा गांधी यांना विनम्र अभिवादन IndiraGandhi',\n",
              "  'आज, बारामती शहर परिसरात सुरु असणाऱ्या विविध विकास कामांना प्रत्यक्ष भेटी देत कामाचा आढावा घेतला शहरासह तालुक्यातील कायदा-सुव्यवस्था सुरळीत राखण्यासाठी अवैध व्यवसाय करणाऱ्यांवर कडक कारवाई करण्याचे निर्देश दिले',\n",
              "  'च्या माजी अध्यक्ष स्व प्रभाताई राव यांना जयंतीनिमित्त विनम्र अभिवादन',\n",
              "  'पालखी सोहळ्यात अपघात झाल्याची बातमी दुःखद आहे या रस्त्याचे चौपदरीकरण रखडले आहे जी, महाराष्ट्राच्या भावविश्वात पालखी सोहळ्याला मोठे महत्त्व आहे या सोहळ्यात अपघात घडणे खेदजनक आहे कृपया आपण वैयक्तिक लक्ष घालून पालखी मार्गाचे काम पुर्ण करण्याचे आदेश द्यावेत,ही विनंती',\n",
              "  'आगामी निवडणुकांच्या पार्श्वभूमीवर आज म्हसळा तालुक्यातील कार्यकर्त्यांशी संवाद साधला व त्यांना मार्गदर्शन केले Mhasala Raigad maharashtra assemblyelection2019',\n",
              "  'अखिल भारतीय विद्यार्थी परिषदेपासूनचे माझे सहकारी सुनील शिंदे यांचे वडील अनंत शिंदे म्हणजे आमच्या सर्वांचे दादा यांचे आज सकाळी देहावसान झाले त्यांच्या निधनाने आम्हां सर्वांना अतिशय दु:ख झाले आहे दादांना भावपूर्ण श्रद्धांजली',\n",
              "  'सोलापूरचा कापड व्यवसाय बंद झालेला आहे हा उद्योग शेजारच्या राज्याने बळकावला आहे मात्र सोलापूरला काही देण्याची दानत या सरकारकडे नाही हल्लाबोल सोलापूर',\n",
              "  'पोलिसांनी ठरवलं तर मंदिरासमोरची चप्पल पण चोरीला जाऊ शकत नाही सिंघम चा हा डायलॉग शंभर टक्के खरा आहे पण सुशांत सिंग रजपूतच्या केसमध्ये मुंबई पोलिसांनी का ठरवले नाही कुणी त्यांना ठरवू दिले नाही कुणी त्यांना त्यांच्या नाव-लौकिक,ख्यातीप्रमाणे काम करु दिले नाही 1 2',\n",
              "  'माध्यमांची मुस्कटदाबी आणि अभिव्यक्तीची गळचेपी थांबवा मा राज्यपाल भगतसिंह कोश्यारीजी यांची आज भेट घेऊन त्यांना निवेदन दिले यावेळी माझे सहकारी विनोद तावडेजी, प्रवीण दरेकर, आशीष शेलार, मंगलप्रभात लोढाजी उपस्थित होते',\n",
              "  'कर्जतच्या मारकेवाडीत पोलीस मित्र संघटनेच्या वतीनं आयोजित जाहीर मेळाव्याला उपस्थित राहिलो पोलीस मित्रबांधव आणि त्यांच्या कुटुंबीयांशी संवाद साधला जनतेच्या सुरक्षेखातर अहोरात्र कर्तव्यदक्षता बजावणाऱ्या पोलिसांसोबतच त्यांच्या पाठीशी खंबीर उभं असलेल्या कुटुंबीयांचंही कौतुक केलं',\n",
              "  '💥गजरौला उत्तर प्रदेश येथे अखिल भारतीय किसान संघर्ष समन्वय समितीची सभा सुरु 💥येथे बोलताना खासदार राजू'],\n",
              " 'type_ids': tensor([[0, 0, 0,  ..., 0, 0, 0],\n",
              "         [0, 0, 0,  ..., 0, 0, 0],\n",
              "         [0, 0, 0,  ..., 0, 0, 0],\n",
              "         ...,\n",
              "         [0, 0, 0,  ..., 0, 0, 0],\n",
              "         [0, 0, 0,  ..., 0, 0, 0],\n",
              "         [0, 0, 0,  ..., 0, 0, 0]])}"
            ]
          },
          "metadata": {},
          "execution_count": 36
        }
      ]
    },
    {
      "cell_type": "code",
      "source": [
        "input_ids"
      ],
      "metadata": {
        "colab": {
          "base_uri": "https://localhost:8080/"
        },
        "id": "_lrayt93VASj",
        "outputId": "afad2b80-f736-4ac0-f3ed-2df86f3df9da"
      },
      "execution_count": null,
      "outputs": [
        {
          "output_type": "execute_result",
          "data": {
            "text/plain": [
              "tensor([[   104,  17857,   8096,  ...,      0,      0,      0],\n",
              "        [   104,   8385, 120210,  ...,      0,      0,      0],\n",
              "        [   104,  80460,  31017,  ...,      0,      0,      0],\n",
              "        ...,\n",
              "        [   104,   4842,   3274,  ...,      0,      0,      0],\n",
              "        [   104, 104023,   1373,  ...,      0,      0,      0],\n",
              "        [   104,    100,   1680,  ...,      0,      0,      0]],\n",
              "       device='cuda:0')"
            ]
          },
          "metadata": {},
          "execution_count": 37
        }
      ]
    },
    {
      "cell_type": "markdown",
      "source": [
        "Forward Pass: This line represents the forward pass of the PyTorch model, where input tensors are processed through the model's layers to generate predictions.\n",
        "Input Features: input_ids, attention_mask, and token_type_ids are input features required by the model. They represent tokenized input sequences, attention masks, and token type information, respectively."
      ],
      "metadata": {
        "id": "cUz_tfc158-2"
      }
    },
    {
      "cell_type": "code",
      "source": [
        "model(input_ids, attention_mask, token_type_ids)              # is invoking the forward pass of a PyTorch model, passing input tensors (input_ids, attention_mask, and token_type_ids) through the model"
      ],
      "metadata": {
        "colab": {
          "base_uri": "https://localhost:8080/"
        },
        "id": "KEmieWKDVG7c",
        "outputId": "a065ef02-fcf2-47fd-dd8e-b7bf179c7674"
      },
      "execution_count": null,
      "outputs": [
        {
          "output_type": "execute_result",
          "data": {
            "text/plain": [
              "tensor([[ 0.0636, -0.0958, -0.0917],\n",
              "        [ 0.0677, -0.0912, -0.0942],\n",
              "        [ 0.0581, -0.0963, -0.0944],\n",
              "        [ 0.0669, -0.0905, -0.0974],\n",
              "        [ 0.0545, -0.0832, -0.0897],\n",
              "        [ 0.0599, -0.0980, -0.0969],\n",
              "        [ 0.0684, -0.0864, -0.0951],\n",
              "        [ 0.0511, -0.0947, -0.0991],\n",
              "        [ 0.0554, -0.0961, -0.0974],\n",
              "        [ 0.0594, -0.0908, -0.0891],\n",
              "        [ 0.0677, -0.0945, -0.1015],\n",
              "        [ 0.0537, -0.0921, -0.0944],\n",
              "        [ 0.0618, -0.0953, -0.0950],\n",
              "        [ 0.0611, -0.0899, -0.0908],\n",
              "        [ 0.0627, -0.0927, -0.0955],\n",
              "        [ 0.0653, -0.0940, -0.0981]], device='cuda:0',\n",
              "       grad_fn=<AddmmBackward0>)"
            ]
          },
          "metadata": {},
          "execution_count": 38
        }
      ]
    },
    {
      "cell_type": "markdown",
      "source": [
        "Softmax Activation: Softmax is applied to convert raw logits (model outputs) into probability distributions. It squashes the logits, making them interpretable as probabilities.\n",
        "Model Prediction: The model produces logits for each class, and applying softmax ensures that the values are between 0 and 1 and sum to 1, representing probabilities.\n",
        "dim=1: Specifies the dimension along which softmax is applied. In this case, it's typically the second dimension (dimension with index 1), which corresponds to the classes.\n",
        "\n",
        "\n",
        "\n",
        "softmax, you can interpret probabilities as the model's confidence scores for each class."
      ],
      "metadata": {
        "id": "85b_T4-L6zDQ"
      }
    },
    {
      "cell_type": "code",
      "source": [
        "F.softmax(model(input_ids, attention_mask, token_type_ids), dim=1)      #applies the softmax function to the logits produced by the model, obtaining probability distributions over classes"
      ],
      "metadata": {
        "colab": {
          "base_uri": "https://localhost:8080/"
        },
        "id": "W5Fn4IAqVIP-",
        "outputId": "22757fd8-d6cd-48ff-d94f-36046aca5fcb"
      },
      "execution_count": null,
      "outputs": [
        {
          "output_type": "execute_result",
          "data": {
            "text/plain": [
              "tensor([[0.3717, 0.3132, 0.3150],\n",
              "        [0.3691, 0.3145, 0.3165],\n",
              "        [0.3683, 0.3165, 0.3152],\n",
              "        [0.3672, 0.3164, 0.3164],\n",
              "        [0.3685, 0.3158, 0.3158],\n",
              "        [0.3689, 0.3154, 0.3157],\n",
              "        [0.3701, 0.3152, 0.3148],\n",
              "        [0.3707, 0.3146, 0.3147],\n",
              "        [0.3694, 0.3152, 0.3154],\n",
              "        [0.3691, 0.3159, 0.3150],\n",
              "        [0.3689, 0.3157, 0.3154],\n",
              "        [0.3693, 0.3169, 0.3139],\n",
              "        [0.3693, 0.3148, 0.3159],\n",
              "        [0.3682, 0.3171, 0.3148],\n",
              "        [0.3690, 0.3148, 0.3162],\n",
              "        [0.3671, 0.3171, 0.3158]], device='cuda:0', grad_fn=<SoftmaxBackward0>)"
            ]
          },
          "metadata": {},
          "execution_count": 39
        }
      ]
    },
    {
      "cell_type": "markdown",
      "source": [
        "EPOCHS = 10: Specifies the number of times the entire training dataset will be processed by the model during training.\n",
        "\n",
        "optimizer = AdamW(...): Initializes the AdamW optimizer. AdamW is a variant of the Adam optimizer with weight decay, which helps prevent overfitting by penalizing large weights. The learning rate (lr) is set to 1e-5, and correct_bias=False disables bias correction.\n",
        "\n",
        "total_steps = len(train_data_loader) * EPOCHS: Calculates the total number of optimization steps that will be taken during training. It's used for scheduling the learning rate.\n",
        "\n",
        "scheduler = get_linear_schedule_with_warmup(...): Sets up a linear learning rate scheduler with warmup. This scheduler adjusts the learning rate during training. It starts with a warmup phase (num_warmup_steps=0) where the learning rate gradually increases, followed by a linear decay. The total number of training steps is provided.\n",
        "\n",
        "loss_fn = nn.CrossEntropyLoss().to(device): Initializes the cross-entropy loss function. Cross-entropy loss is commonly used for classification tasks. Moving the loss function to the specified device (device) ensures consistency with the model's device."
      ],
      "metadata": {
        "id": "7h7lynjG8w7g"
      }
    },
    {
      "cell_type": "markdown",
      "source": [
        "Why:\n",
        "\n",
        "EPOCHS: Specifies the number of times the model iterates over the entire training dataset. Each iteration is called an epoch.\n",
        "\n",
        "AdamW Optimizer: AdamW is a popular optimizer for training neural networks. It adapts the learning rates for each parameter individually and includes weight decay to prevent overfitting.\n",
        "\n",
        "Learning Rate Scheduler: Adjusting the learning rate during training can improve convergence. The scheduler starts with a warmup phase and then linearly decays the learning rate.\n",
        "\n",
        "Cross-Entropy Loss: Commonly used for classification tasks, the cross-entropy loss measures the dissimilarity between predicted class probabilities and true class labels."
      ],
      "metadata": {
        "id": "CcMEEY2M8_Og"
      }
    },
    {
      "cell_type": "code",
      "source": [
        "EPOCHS = 10                              #Specifies the number of times the entire training dataset will be processed\n",
        "optimizer = AdamW(model.parameters(), lr=1e-5, correct_bias=False)            #Initializes the AdamW optimizer. AdamW is a variant of the Adam optimizer with weight decay, which helps prevent overfitting by penalizing large weights. The learning rate (lr) is set to 1e-5, and correct_bias=False disables bias correction.\n",
        "total_steps = len(train_data_loader) * EPOCHS                                                    #Calculates the total number of optimization steps that will be taken during training. It's used for scheduling the learning rate.\n",
        "\n",
        "scheduler = get_linear_schedule_with_warmup(                                                #Sets up a linear learning rate scheduler with warmup\n",
        "  optimizer,\n",
        "  num_warmup_steps=0,                                                 #It starts with a warmup phase (num_warmup_steps=0) where the learning rate gradually increases, followed by a linear decay.\n",
        "  num_training_steps=total_steps\n",
        ")\n",
        "\n",
        "loss_fn = nn.CrossEntropyLoss().to(device)                    # Initializes the cross-entropy loss function. Cross-entropy loss is commonly used for classification tasks."
      ],
      "metadata": {
        "id": "Svns7YsrVKCY"
      },
      "execution_count": null,
      "outputs": []
    },
    {
      "cell_type": "markdown",
      "source": [
        "for below funtion  model: The neural network model being trained.\n",
        "data_loader: The PyTorch DataLoader providing batches of training data.\n",
        "loss_fn: The loss function used for training, e.g., cross-entropy loss.\n",
        "optimizer: The optimization algorithm used to update the model's parameters, e.g., AdamW.\n",
        "device: The device (CPU or GPU) on which the model and data tensors should be located.\n",
        "scheduler: The learning rate scheduler to adjust the learning rate during training.\n",
        "n_examples: The total number of training examples in the dataset."
      ],
      "metadata": {
        "id": "eiRLSTb5_7Wg"
      }
    },
    {
      "cell_type": "markdown",
      "source": [
        "why : This function encapsulates the training logic for one epoch, making the training process modular and easier to manage.\n",
        "It ensures that the model parameters are updated based on the calculated gradients, and learning rate scheduling is applied.\n",
        "By using PyTorch's automatic differentiation, the function handles backpropagation and parameter updates without manual computation of gradients"
      ],
      "metadata": {
        "id": "nSFiqNW7_q4v"
      }
    },
    {
      "cell_type": "code",
      "source": [
        "def train_epoch(model, data_loader, loss_fn, optimizer, device, scheduler, n_examples):       #for training a neural network for one epoch (one pass through the entire training dataset\n",
        "  model = model.train()                       #Sets the model to training mode, enabling the gradient computation and parameter updates.\n",
        "\n",
        "   #Lists to store the training losses and the number of correct predictions.\n",
        "  losses = []\n",
        "  correct_predictions = 0\n",
        "\n",
        "   # Iterates over batches of training data using the provided data loader.\n",
        "  for d in tqdm(data_loader):\n",
        "      #Moves input data (input IDs, attention mask, token type IDs, and targets) to the specified device\n",
        "    input_ids = d[\"input_ids\"].to(device)\n",
        "    attention_mask = d[\"attention_mask\"].to(device)\n",
        "    token_type_ids = d['type_ids'].to(device)\n",
        "    targets = d[\"targets\"].to(device)\n",
        "    targets+=1\n",
        "\n",
        "     #Performs a forward pass through the model to obtain predictions.\n",
        "    outputs = model(\n",
        "      input_ids=input_ids,\n",
        "      attention_mask=attention_mask,\n",
        "      token_type_ids=token_type_ids\n",
        "    )\n",
        "\n",
        "\n",
        "\n",
        "    loss = loss_fn(outputs, targets)        #Calculates the loss using the specified loss function  The loss function used for training, e.g., cross-entropy loss.\n",
        "\n",
        "      # Tracking Correct Predictions and Loss ,,,,,Tracks the number of correct predictions and records the loss for the current batch.\n",
        "     _, preds = torch.max(outputs, dim=1)\n",
        "    correct_predictions += torch.sum(preds == targets)\n",
        "    losses.append(loss.item())\n",
        "\n",
        "     # Backpropagation and Optimization:  Performs backpropagation, gradient clipping, optimization, and learning rate scheduling.\n",
        "    loss.backward()\n",
        "    nn.utils.clip_grad_norm_(model.parameters(), max_norm=1.0)\n",
        "    optimizer.step()                                          #  The optimization algorithm used to update the model's parameters, e.g., AdamW.\n",
        "    scheduler.step()                                #The learning rate scheduler to adjust the learning rate during training.\n",
        "    optimizer.zero_grad()\n",
        "\n",
        "  return correct_predictions.double() / n_examples, np.mean(losses)      #Computes the accuracy and average loss for the entire epoch.\n"
      ],
      "metadata": {
        "id": "laG5vgmIVMam"
      },
      "execution_count": null,
      "outputs": []
    },
    {
      "cell_type": "markdown",
      "source": [
        " for below funtion   model: The neural network model being trained.\n",
        "data_loader: The PyTorch DataLoader providing batches of training data.\n",
        "loss_fn: The loss function used for training, e.g., cross-entropy loss.\n",
        "optimizer: The optimization algorithm used to update the model's parameters, e.g., AdamW.\n",
        "device: The device (CPU or GPU) on which the model and data tensors should be located.\n",
        "scheduler: The learning rate scheduler to adjust the learning rate during training.\n",
        "n_examples: The total number of training examples in the dataset."
      ],
      "metadata": {
        "id": "tf9ssHLwAB7H"
      }
    },
    {
      "cell_type": "markdown",
      "source": [
        "# Why:\n",
        "\n",
        "This function evaluates the performance of the model on a validation or test dataset, providing insights into how well the model generalizes to unseen data.\n",
        "It ensures that the model is in evaluation mode to avoid updating parameters during evaluation and to handle dropout layers appropriately.\n",
        "By using torch.no_grad(), the function reduces memory consumption during evaluation, as gradient information is not needed.\n",
        "The accuracy and loss metrics help assess the model's performance and generalization capabilities"
      ],
      "metadata": {
        "id": "HbS3IQExAS0X"
      }
    },
    {
      "cell_type": "code",
      "source": [
        "def eval_model(model, data_loader, loss_fn, device, n_examples):\n",
        "  model = model.eval()                 #Sets the model to training mode, enabling the gradient computation and parameter updates\n",
        "\n",
        "  #Lists to store the training losses and the number of correct prediction\n",
        "  losses = []\n",
        "  correct_predictions = 0\n",
        "\n",
        "  with torch.no_grad():                #By using torch.no_grad(), the function reduces memory consumption during evaluation, as gradient information is not needed.\n",
        "    for d in data_loader:\n",
        "      input_ids = d[\"input_ids\"].to(device)\n",
        "      attention_mask = d[\"attention_mask\"].to(device)\n",
        "      token_type_ids = d['type_ids'].to(device)\n",
        "      targets = d[\"targets\"].to(device)\n",
        "      targets+=1\n",
        "\n",
        "     #Performs a forward pass through the model to obtain predictions.\n",
        "      outputs = model(\n",
        "        input_ids=input_ids,\n",
        "        attention_mask=attention_mask,\n",
        "        token_type_ids=token_type_ids\n",
        "\n",
        "      )\n",
        "\n",
        "      #Tracks the number of correct predictions and records the loss for the current batch.\n",
        "      _, preds = torch.max(outputs, dim=1)\n",
        "\n",
        "      loss = loss_fn(outputs, targets)    #Calculates the loss using the specified loss functio\n",
        "\n",
        "      correct_predictions += torch.sum(preds == targets)\n",
        "      losses.append(loss.item())\n",
        "\n",
        "  return correct_predictions.double() / n_examples, np.mean(losses)     #Computes the accuracy and average loss for the entire evaluation dataset\n"
      ],
      "metadata": {
        "id": "TNBvhja9VO-H"
      },
      "execution_count": null,
      "outputs": []
    },
    {
      "cell_type": "markdown",
      "source": [
        "# Why:\n",
        "\n",
        "This training loop iterates over multiple epochs, updating the model's parameters to improve its performance on the training data.\n",
        "The training and validation metrics are printed for each epoch, providing insights into the model's learning progress and generalization capabilities.\n",
        "The best model (based on validation accuracy) is saved, allowing for later use or deployment of the best-performing model.\n",
        "The history dictionary captures the training and validation metrics over epochs, enabling the analysis of the model's performance over time."
      ],
      "metadata": {
        "id": "T1MnJ5ukD9IP"
      }
    },
    {
      "cell_type": "code",
      "source": [
        "\n",
        "history = defaultdict(list)                   #Initializes a dictionary history to store training and validation metrics at each epoch.\n",
        "best_accuracy = 0\n",
        "\n",
        " #Training Loop\n",
        "for epoch in range(EPOCHS):\n",
        "\n",
        "  #Prints the current epoch number.\n",
        "  print(f'Epoch {epoch + 1}/{EPOCHS}')\n",
        "  print('-' * 10)\n",
        "\n",
        "\n",
        "  #Training Phase\n",
        "  train_acc, train_loss = train_epoch(                     #Calls the train_epoch function to train the model on the training data for one epoch.  Retrieves the training accuracy and loss.\n",
        "    model,\n",
        "    train_data_loader,\n",
        "    loss_fn,\n",
        "    optimizer,\n",
        "    device,\n",
        "    scheduler,\n",
        "    len(df_train)\n",
        "  )\n",
        "\n",
        "  print(f'\\n--> Train loss {train_loss} accuracy {train_acc}')\n",
        "\n",
        "\n",
        "#Validation Phase\n",
        "#Calls the eval_model function to evaluate the model on the validation data for the current epoch.\n",
        "# Retrieves the validation accuracy and loss.\n",
        "  val_acc, val_loss = eval_model(\n",
        "    model,\n",
        "    val_data_loader,\n",
        "    loss_fn,\n",
        "    device,\n",
        "    len(df_valid)\n",
        "  )\n",
        "\n",
        "#Printing Validation Metrics\n",
        "  print(f'--> Val   loss {val_loss} accuracy {val_acc}')\n",
        "  print()\n",
        "\n",
        "\n",
        "#Updates the history dictionary with training and validation metrics.\n",
        "  history['train_acc'].append(train_acc)\n",
        "  history['train_loss'].append(train_loss)\n",
        "  history['val_acc'].append(val_acc)\n",
        "  history['val_loss'].append(val_loss)\n",
        "\n",
        "#Checks if the current validation accuracy is better than the best accuracy achieved so far.\n",
        "#If true, saves the model's state dictionary to a file ('muril_bilstm_model_state.bin') and updates best_accuracy\n",
        "  if val_acc > best_accuracy:\n",
        "    torch.save(model.state_dict(), 'muril_bilstm_model_state.bin')\n",
        "    best_accuracy = val_acc\n"
      ],
      "metadata": {
        "id": "VPjImpMiVRd8"
      },
      "execution_count": null,
      "outputs": []
    },
    {
      "cell_type": "markdown",
      "source": [
        "# Results"
      ],
      "metadata": {
        "id": "1NkzS2D-f9XA"
      }
    },
    {
      "cell_type": "markdown",
      "source": [
        "# Why:\n",
        "\n",
        "During the training loop, model computations and tensor operations are typically performed on a GPU if one is available. This is because GPUs are well-suited for parallel processing and can significantly speed up deep learning computations.\n",
        "After training is complete, if you want to perform operations or analysis on the accuracy values using standard CPU-based operations (e.g., for plotting, analysis, or saving to a file), you might need to move the tensors back to CPU memory. This is what the .cpu() method accomplishes.\n",
        "The history dictionary likely contains tensors that were computed on the GPU during training, and moving them to the CPU allows for further processing or visualization using standard CPU-based tools."
      ],
      "metadata": {
        "id": "JB82ndi_FHHz"
      }
    },
    {
      "cell_type": "code",
      "source": [
        "#The loop iterates over each element in the \"train_acc\" list within the history dictionary.\n",
        "#For each element (which is likely a PyTorch tensor representing training accuracy), it applies the .cpu() method, moving the tensor from GPU memory to CPU memory.\n",
        "\n",
        "for i in range(len(history[\"train_acc\"])):\n",
        "  history[\"train_acc\"][i]=history[\"train_acc\"][i].cpu()"
      ],
      "metadata": {
        "id": "Up4xxKpHf_hq"
      },
      "execution_count": null,
      "outputs": []
    },
    {
      "cell_type": "code",
      "source": [
        "for i in range(len(history[\"val_acc\"])):\n",
        "  history[\"val_acc\"][i]=history[\"val_acc\"][i].cpu()"
      ],
      "metadata": {
        "id": "CNzDUH_XgDGe"
      },
      "execution_count": null,
      "outputs": []
    },
    {
      "cell_type": "markdown",
      "source": [
        "#Why:\n",
        "\n",
        "The plot provides a visual representation of the model's performance during training and validation over multiple epochs. It helps to analyze how well the model is learning from the training data and generalizing to unseen validation data.\n",
        "Monitoring training and validation accuracy over epochs is common in deep learning to identify trends, overfitting, or underfitting. A rising training accuracy alongside a falling validation accuracy might indicate overfitting.\n",
        "The legend distinguishes between the training and validation accuracy curves, making it easier to interpret the plot."
      ],
      "metadata": {
        "id": "Kt3avd6FFy7o"
      }
    },
    {
      "cell_type": "code",
      "source": [
        "plt.plot(history['train_acc'], label='train accuracy')     #Plots the training accuracy values stored in the history dictionary over epochs. Each point on the plot represents the training accuracy at a specific epoch.\n",
        "plt.plot(history['val_acc'], label='validation accuracy')  #Plots the validation accuracy values stored in the history dictionary over epochs. Each point on the plot represents the validation accuracy at a specific epoch.\n",
        "\n",
        "plt.title('Training history')    #Sets the title of the plot to \"Training history.\"\n",
        "plt.ylabel('Accuracy')   #ets the label for the y-axis to \"Accuracy.\"\n",
        "plt.xlabel('Epoch')   #Sets the label for the x-axis to \"Epoch.\"\n",
        "plt.legend()     #Displays a legend indicating which line corresponds to training accuracy and which one corresponds to validation accuracy\n",
        "plt.ylim([.8, 1]);     #Sets the y-axis limits to be between 0.8 and 1, ensuring that the plot focuses on the range of accuracy values."
      ],
      "metadata": {
        "id": "7hPPTemggFnu"
      },
      "execution_count": null,
      "outputs": []
    },
    {
      "cell_type": "markdown",
      "source": [
        "# Evaluation"
      ],
      "metadata": {
        "id": "xcYEBaOHgh1c"
      }
    },
    {
      "cell_type": "markdown",
      "source": [
        "# Why:\n",
        "\n",
        "Model Initialization:\n",
        "SentimentClassifier(len(class_names), muril_model): Creates a new instance of the sentiment analysis model. This step is necessary before loading the learned parameters.\n",
        "Loading Model State:\n",
        "model2.load_state_dict(torch.load('muril_bilstm_model_state.bin')): Loads the trained model's state dictionary. This dictionary contains the learned parameters (weights and biases) that were saved after training. Loading the state dictionary effectively initializes the model with the previously learned parameters.\n",
        "Evaluation Mode:\n",
        "model2.eval(): Sets the model to evaluation mode. During training, dropout layers are often used for regularization. However, during evaluation or making predictions, dropout is typically turned off to get more deterministic and consistent results. Setting the model to evaluation mode ensures that dropout layers behave accordingly."
      ],
      "metadata": {
        "id": "3GcERTzxGYrf"
      }
    },
    {
      "cell_type": "code",
      "source": [
        "#Creates an instance of the SentimentClassifier class. This class appears to be a sentiment analysis model with some additional layers, including a bidirectional LSTM.\n",
        "model2 = SentimentClassifier(len(class_names), muril_model)\n",
        "# Loads the trained model's state dictionary from a file named 'muril_bilstm_model_state.bin.' The state dictionary contains the learned parameters (weights and biases) of the model.\n",
        "model2.load_state_dict(torch.load('muril_bilstm_model_state.bin'))\n",
        "# Sets the model to evaluation mode. In PyTorch, calling model.eval() sets the model in evaluation mode, which disables certain operations like dropout. It is crucial to set the model to evaluation mode when making predictions or evaluating on a validation/test set.\n",
        "model2.eval()"
      ],
      "metadata": {
        "id": "kEUGlUHvZEfK"
      },
      "execution_count": null,
      "outputs": []
    },
    {
      "cell_type": "markdown",
      "source": [
        "# Why:\n",
        "\n",
        "Hardware Acceleration:\n",
        "Moving the model to a GPU (device = torch.device('cuda' if torch.cuda.is_available() else 'cpu')) is common if GPU acceleration is available. GPUs can significantly speed up the computation of deep learning models compared to CPUs.\n",
        "Consistency with Data:\n",
        "It ensures consistency between the device on which the model is located and the device on which the input data will be processed. If the input data is on a GPU, it is efficient to have the model on the same GPU to avoid unnecessary data transfers between devices.\n",
        "Prediction Performance:\n",
        "When making predictions or inference on new data, having the model on the same device as the input data can lead to faster execution.\n",
        "CUDA Compatibility:\n",
        "For PyTorch models, moving the model to a GPU involves using CUDA, PyTorch's backend for GPU acceleration. If the model was designed to be compatible with CUDA, this operation is necessary for utilizing the GPU's parallel processing capabilities."
      ],
      "metadata": {
        "id": "wwjt_OxgGtKd"
      }
    },
    {
      "cell_type": "code",
      "source": [
        "#Moves the model (model2) to the specified computing device (device).\n",
        "# The device is a variable that represents the target hardware (e.g., GPU or CPU).\n",
        "\n",
        "model2 = model2.to(device)"
      ],
      "metadata": {
        "id": "KMn_DI0dZrYV"
      },
      "execution_count": null,
      "outputs": []
    },
    {
      "cell_type": "markdown",
      "source": [
        "#Why:\n",
        "\n",
        "Model Evaluation:\n",
        "The code is evaluating the trained model (model2) on the test dataset (test_data_loader) to assess its performance on unseen data. Evaluation involves making predictions on the test set and comparing them with the ground truth labels to compute accuracy and potentially other metrics.\n",
        "Accuracy Extraction:\n",
        "test_acc.item(): Extracts the numeric value of the test accuracy from the PyTorch tensor. This step is necessary because the accuracy is likely stored as a PyTorch tensor, and extracting the actual numeric value makes it more convenient for further analysis or reporting"
      ],
      "metadata": {
        "id": "fRd_N6r4HDPh"
      }
    },
    {
      "cell_type": "code",
      "source": [
        "#Evaluates the performance of the model2 on the test data using the eval_model function.\n",
        "#The function returns both the test accuracy (test_acc) and the underscore variable (_), which typically represents the loss during evaluation.\n",
        "#test_acc.item(): Retrieves the numeric value of the test accuracy as a Python float.\n",
        "\n",
        "\n",
        "test_acc, _ = eval_model(\n",
        "  model2,\n",
        "  test_data_loader,\n",
        "  loss_fn,\n",
        "  device,\n",
        "  len(df_test)\n",
        ")\n",
        "\n",
        "test_acc.item()"
      ],
      "metadata": {
        "id": "1DbgLmPHgkjg",
        "colab": {
          "base_uri": "https://localhost:8080/"
        },
        "outputId": "1ad06199-aa9d-4ef5-e38c-1882600a52fd"
      },
      "execution_count": null,
      "outputs": [
        {
          "output_type": "execute_result",
          "data": {
            "text/plain": [
              "0.8404444444444444"
            ]
          },
          "metadata": {},
          "execution_count": 49
        }
      ]
    },
    {
      "cell_type": "markdown",
      "source": [
        "model = model.eval(): This line sets the model to evaluation mode. During evaluation, the model behaves differently, and operations like dropout are turned off.\n",
        "\n",
        "Initialization of lists:\n",
        "\n",
        "tweet_texts, predictions, prediction_probs, and real_values are initialized to store tweet texts, predicted labels, prediction probabilities, and real values (ground truth labels), respectively.\n",
        "with torch.no_grad():: This context manager ensures that gradient computation is disabled during the inference loop. This reduces memory consumption and speeds up the process.\n",
        "\n",
        "Iterating over batches:\n",
        "\n",
        "The function iterates over batches from the provided data_loader. Each batch (d) contains information about tweet texts, input IDs, attention masks, token type IDs, and targets.\n",
        "Extracting data:\n",
        "\n",
        "Relevant information (texts, input IDs, attention masks, token type IDs, targets) is extracted from the batch.\n",
        "Making predictions:\n",
        "\n",
        "The model is used to make predictions on the batch, and both predicted labels (preds) and softmax probabilities (probs) are obtained.\n",
        "Collecting information:\n",
        "\n",
        "Information for each instance in the batch is collected and appended to the corresponding lists.\n",
        "Converting lists to tensors:\n",
        "\n",
        "The collected lists are converted to PyTorch tensors using torch.stack to facilitate further analysis.\n",
        "Returning information:\n",
        "\n",
        "The function returns the lists containing tweet texts, predicted labels, prediction probabilities, and real values."
      ],
      "metadata": {
        "id": "pvCS-WVHdfKE"
      }
    },
    {
      "cell_type": "markdown",
      "source": [
        "# Why:\n",
        "\n",
        "Evaluation and Analysis:\n",
        "The function is designed for obtaining predictions from a trained model on a given dataset. This is particularly useful for analyzing model performance, understanding which tweets are being misclassified, and examining prediction probabilities.\n",
        "Interpretability:\n",
        "Collecting information such as tweet texts, predicted labels, and prediction probabilities facilitates interpretability. Users can inspect individual predictions to understand why the model made certain decisions.\n",
        "Visualization and Reporting:\n",
        "The returned lists can be used for further visualization, reporting, or analysis. For example, one might generate a confusion matrix, calculate precision and recall, or visualize the distribution of prediction probabilities."
      ],
      "metadata": {
        "id": "LnIRr4kAH1eG"
      }
    },
    {
      "cell_type": "code",
      "source": [
        "#The function takes a trained model (model) and a data loader (data_loader) as input.\n",
        "#It iterates over batches of data from the data loader, makes predictions using the model, and collects relevant information such as tweet texts, predicted labels, prediction probabilities, and real values (ground truth labels).\n",
        "#The collected information is then returned as four lists: tweet_texts, predictions, prediction_probs, and real_values\n",
        "\n",
        "def get_predictions(model, data_loader):\n",
        "  ## Set the model to evaluation mode\n",
        "  model = model.eval()\n",
        "\n",
        " ## Initialize lists to store information\n",
        "  tweet_texts = []\n",
        "  predictions = []\n",
        "  prediction_probs = []\n",
        "  real_values = []\n",
        "\n",
        " ## Disable gradient computation during inference\n",
        "  with torch.no_grad():\n",
        "    # Iterate over batches from the data loader\n",
        "    for d in data_loader:\n",
        "\n",
        "      texts = d[\"tweet_text\"]\n",
        "      input_ids = d[\"input_ids\"].to(device)\n",
        "      attention_mask = d[\"attention_mask\"].to(device)\n",
        "      token_type_ids = d['type_ids'].to(device)\n",
        "      targets = d[\"targets\"].to(device)\n",
        "\n",
        "        # Make predictions using the model\n",
        "      outputs = model(\n",
        "        input_ids=input_ids,\n",
        "        attention_mask=attention_mask,\n",
        "        token_type_ids = token_type_ids\n",
        "      )\n",
        "      # Get predicted labels and softmax probabilities\n",
        "      _, preds = torch.max(outputs, dim=1)\n",
        "\n",
        "      probs = F.softmax(outputs, dim=1)\n",
        "     # Collect information for each instance\n",
        "      tweet_texts.extend(texts)\n",
        "      predictions.extend(preds)\n",
        "      prediction_probs.extend(probs)\n",
        "      real_values.extend(targets)\n",
        "\n",
        "  # Convert lists to PyTorch tensors\n",
        "  predictions = torch.stack(predictions).cpu()\n",
        "  prediction_probs = torch.stack(prediction_probs).cpu()\n",
        "  real_values = torch.stack(real_values).cpu()\n",
        "  # Return the collected information\n",
        "  return tweet_texts, predictions, prediction_probs, real_values"
      ],
      "metadata": {
        "id": "qG9tcBizgoTx"
      },
      "execution_count": null,
      "outputs": []
    },
    {
      "cell_type": "markdown",
      "source": [
        "y_tweet_texts: This variable will contain the tweet texts from the test dataset. Each element in this list corresponds to the text of a tweet in the test set. It is obtained as the first element returned by the get_predictions function.\n",
        "\n",
        "y_pred: This variable will contain the predicted labels (classifications) for each tweet in the test dataset. Each element represents the predicted sentiment class for a corresponding tweet. It is obtained as the second element returned by the get_predictions function.\n",
        "\n",
        "y_pred_probs: This variable will contain the predicted probabilities for each sentiment class for each tweet in the test dataset. It represents the confidence of the model in its predictions. It is obtained as the third element returned by the get_predictions function.\n",
        "\n",
        "y_test: This variable will contain the actual (ground truth) labels for each tweet in the test dataset. Each element represents the true sentiment class of a corresponding tweet. It is obtained as the fourth element returned by the get_predictions function."
      ],
      "metadata": {
        "id": "vymMM5Byd8gf"
      }
    },
    {
      "cell_type": "markdown",
      "source": [
        "# why\n",
        "y_tweet_texts: This can be useful for inspecting the actual content of tweets associated with predictions, facilitating qualitative analysis.\n",
        "\n",
        "y_pred: This array provides the model's predictions for each tweet. You can use this information to assess the model's accuracy, precision, recall, and other classification metrics.\n",
        "\n",
        "y_pred_probs: These probabilities can be valuable for understanding the model's confidence in its predictions. For example, you might want to investigate cases where the model's predictions have low confidence.\n",
        "\n",
        "y_test: This array contains the true sentiment labels for each tweet. It serves as the ground truth against which the model's predictions can be compared, allowing for the calculation of evaluation metrics."
      ],
      "metadata": {
        "id": "Ptz-2uoPeEce"
      }
    },
    {
      "cell_type": "code",
      "source": [
        "#y_tweet_texts: This variable will contain the tweet texts from the test dataset. Each element in this list corresponds to the text of a tweet in the test set. It is obtained as the first element returned by the get_predictions function.\n",
        "\n",
        "y_tweet_texts, y_pred, y_pred_probs, y_test = get_predictions(\n",
        "  model,\n",
        "  test_data_loader\n",
        ")"
      ],
      "metadata": {
        "id": "Jy1hyBzdgp4w"
      },
      "execution_count": null,
      "outputs": []
    },
    {
      "cell_type": "code",
      "source": [
        "y_pred-=1         # is likely used to adjust the predicted labels (y_pred) by subtracting 1 from each element. This operation is performed to align the predicted labels with the original labels in a specific context."
      ],
      "metadata": {
        "id": "WAg0axWf2sQN"
      },
      "execution_count": null,
      "outputs": []
    },
    {
      "cell_type": "markdown",
      "source": [
        "y_test: This is the true (ground truth) sentiment labels from your test dataset.\n",
        "\n",
        "y_pred: These are the predicted sentiment labels generated by your model.\n",
        "\n",
        "target_names: This is an optional parameter that you have set to class_names, which likely contains the class names corresponding to the sentiment labels ('-1', '0', '1')."
      ],
      "metadata": {
        "id": "qxv-yK9Ae1fY"
      }
    },
    {
      "cell_type": "code",
      "source": [
        "#The classification_report function is commonly used to generate a text report showing the main classification metrics. In your case\n",
        "#, it is applied to evaluate the performance of your sentiment classification model.\n",
        "\n",
        "print(classification_report(y_test, y_pred, target_names=class_names))"
      ],
      "metadata": {
        "id": "gSGiEUjVgsd-",
        "colab": {
          "base_uri": "https://localhost:8080/"
        },
        "outputId": "5a19e658-a033-4453-b650-504687aeb6f1"
      },
      "execution_count": null,
      "outputs": [
        {
          "output_type": "stream",
          "name": "stdout",
          "text": [
            "              precision    recall  f1-score   support\n",
            "\n",
            "          -1       0.87      0.89      0.88       750\n",
            "           0       0.78      0.82      0.80       750\n",
            "           1       0.87      0.80      0.83       750\n",
            "\n",
            "    accuracy                           0.84      2250\n",
            "   macro avg       0.84      0.84      0.84      2250\n",
            "weighted avg       0.84      0.84      0.84      2250\n",
            "\n"
          ]
        }
      ]
    },
    {
      "cell_type": "markdown",
      "source": [
        "confusion_matrix(y_test, y_pred): This line computes the confusion matrix based on the true labels (y_test) and predicted labels (y_pred). The confusion matrix is a table that shows the counts of true positive, true negative, false positive, and false negative predictions.\n",
        "\n",
        "pd.DataFrame(cm, index=class_names, columns=class_names): This line converts the confusion matrix array (cm) into a pandas DataFrame. It also sets the row and column names of the DataFrame using the class_names list.\n",
        "\n",
        "show_confusion_matrix(df_cm): This line calls a function (show_confusion_matrix) to display the confusion matrix using a heatmap. The heatmap is generated using seaborn (sns) with annotations, and it provides a visual representation of how well the model is performing in terms of classifying each sentiment."
      ],
      "metadata": {
        "id": "m-klTwJ5fRo7"
      }
    },
    {
      "cell_type": "code",
      "source": [
        "def show_confusion_matrix(confusion_matrix):\n",
        "  hmap = sns.heatmap(confusion_matrix, annot=True, fmt=\"d\", cmap=\"Blues\")\n",
        "  hmap.yaxis.set_ticklabels(hmap.yaxis.get_ticklabels(), rotation=0, ha='right')\n",
        "  hmap.xaxis.set_ticklabels(hmap.xaxis.get_ticklabels(), rotation=0, ha='right')\n",
        "  plt.ylabel('True sentiment')\n",
        "  plt.xlabel('Predicted sentiment');\n",
        "\n",
        "cm = confusion_matrix(y_test, y_pred)\n",
        "df_cm = pd.DataFrame(cm, index=class_names, columns=class_names)\n",
        "show_confusion_matrix(df_cm)"
      ],
      "metadata": {
        "id": "X_a_HrrDgvfh",
        "colab": {
          "base_uri": "https://localhost:8080/",
          "height": 289
        },
        "outputId": "a21d4812-e3e1-41c2-b5ad-b43580a827ef"
      },
      "execution_count": null,
      "outputs": [
        {
          "output_type": "display_data",
          "data": {
            "text/plain": [
              "<Figure size 432x288 with 2 Axes>"
            ],
            "image/png": "[encoded data removed]"
          },
          "metadata": {
            "image/png": {
              "width": 385,
              "height": 272
            },
            "needs_background": "light"
          }
        }
      ]
    },
    {
      "cell_type": "code",
      "source": [
        "y_test[50:60]  #retrieves the true sentiment labels for the examples from index 50 to 59 (10 elements) in the test dataset."
      ],
      "metadata": {
        "id": "7nq0Dy-fg0C1"
      },
      "execution_count": null,
      "outputs": []
    },
    {
      "cell_type": "code",
      "source": [
        "idx = 50               #  at index 50 This sets the variable idx to the value 50, indicating that we are interested in the example at index 50.\n",
        "\n",
        "tweet_text = y_tweet_texts[idx]        #Retrieves the tweet text corresponding to the example at index 50. #likely contains the tweet texts for the test dataset.\n",
        "#Retrieves the true sentiment label for the example at index 50 from the y_test array. This is the ground truth sentiment for the corresponding tweet.\n",
        "true_sentiment = y_test[idx]\n",
        "# Creates a DataFrame (pred_df) with two columns - class_names and values.\n",
        "#class_names: Contains the names of sentiment classes (['-1', '0', '1']\n",
        "pred_df = pd.DataFrame({\n",
        "  'class_names': class_names,    #Contains the names of sentiment classes (['-1', '0', '1']).\n",
        "  #y_pred_probs[idx] likely contains the predicted probabilities outputted by the model\n",
        "  'values': y_pred_probs[idx]   #Contains the predicted probabilities for each sentiment class for the example at index 50.\n",
        "})"
      ],
      "metadata": {
        "id": "OvUwvAxLg3J8"
      },
      "execution_count": null,
      "outputs": []
    },
    {
      "cell_type": "code",
      "source": [
        "#This part is printing the tweet text surrounded by newline characters to provide some separation in the output\n",
        "print('\\n\\n',tweet_text, '\\n\\n')\n",
        "\n",
        "#horizontal bar plot is created using Seaborn (sns).\n",
        "# The x-axis represents the probability values ('values' column from the DataFrame pred_df),\n",
        "#and the y-axis represents the class names ('class_names' column from pred_df). This plot visualizes the predicted probabilities for each sentiment class.\n",
        "\n",
        "\n",
        "sns.barplot(x='values', y='class_names', data=pred_df, orient='h')\n",
        "#These lines set the labels for the y-axis and x-axis, providing context to the information presented in the plot.\n",
        "plt.ylabel('sentiment')\n",
        "plt.xlabel('probability')\n",
        "#This line sets the x-axis limits to be between 0 and 1, ensuring that the probabilities are displayed within the valid probability range.\n",
        "plt.xlim([0, 1]);"
      ],
      "metadata": {
        "id": "Q1lsnXkag4z8",
        "colab": {
          "base_uri": "https://localhost:8080/",
          "height": 376
        },
        "outputId": "8aaca90e-559f-4bf8-a54c-6bd3fbec36f6"
      },
      "execution_count": null,
      "outputs": [
        {
          "output_type": "stream",
          "name": "stdout",
          "text": [
            "\n",
            "\n",
            " आमचे मार्गदर्शक, अहमदनगर शहराचे माजी महापौर व माजी नगराध्यक्ष दीप चव्हाण साहेबांना वाढदिवसाच्या मनःपूर्वक शुभेच्छा \n",
            "\n",
            "\n"
          ]
        },
        {
          "output_type": "display_data",
          "data": {
            "text/plain": [
              "<Figure size 432x288 with 1 Axes>"
            ],
            "image/png": "[encoded data removed]"
          },
          "metadata": {
            "image/png": {
              "width": 400,
              "height": 272
            },
            "needs_background": "light"
          }
        }
      ]
    },
    {
      "cell_type": "code",
      "source": [
        "y_test[14], y_tweet_texts[14]  #y_test[14] gives you the true sentiment label,\n",
        "# and y_tweet_texts[14] gives you the text of the tweet at the 14th position in the dataset."
      ],
      "metadata": {
        "id": "Fut-BCNug6SP"
      },
      "execution_count": null,
      "outputs": []
    },
    {
      "cell_type": "markdown",
      "source": [
        "# Custom Prediction"
      ],
      "metadata": {
        "id": "S-Q6fKgFyYIV"
      }
    },
    {
      "cell_type": "markdown",
      "source": [
        "Stripping White Spaces:\n",
        "\n",
        "line = line.strip(): Removes leading and trailing white spaces.\n",
        "Removing URLs:\n",
        "\n",
        "Various re.sub calls are used to remove URLs from the text.\n",
        "Replacing Specific Characters:\n",
        "\n",
        "line = re.sub(r'\\s+:\\s+',\" \",line): Replaces colon surrounded by spaces with a single space.\n",
        "line = re.sub(r'\\s+-\\s+',\" \",line): Replaces hyphen surrounded by spaces with a single space.\n",
        "Splitting and Tokenizing:\n",
        "\n",
        "re.split(r'\\s+|[!$%&()*+./;<=>?\\^{|}~'\"]\\s*', line)`: Splits the text into tokens based on spaces and a set of punctuation characters.\n",
        "Removes empty tokens and tokens containing only spaces and newline characters.\n",
        "Handling Special Tokens:\n",
        "\n",
        "Filters tokens based on specific conditions (e.g., removing '@' mentions and certain punctuation).\n",
        "Returning Processed Tokens:\n",
        "\n",
        "Returns the list of processed tokens."
      ],
      "metadata": {
        "id": "o8QRwH7bjioy"
      }
    },
    {
      "cell_type": "code",
      "source": [
        "# strip -> punctuations  -> @ mentions delete -> url delete ->  remove # from #-tokens -> stop words delete (no delete )  -> rare words no delete)\n",
        "def preprocess(line):\n",
        "\n",
        "  line = line.strip()                 #line.strip()Removes leading and trailing white spaces.\n",
        "  line = re.sub(r'\\S*\\.com\\S*',\" \",line)              #re.sub calls are used to remove URLs from the text\n",
        "  line = re.sub(r'\\S*\\.in\\S*',\" \",line)   #re.sub(r'\\s+:\\s+',\" \",line): Replaces colon surrounded by spaces with a single space.\n",
        "  line = re.sub(r'\\S*\\.net\\S*',\" \",line)\n",
        "  line = re.sub(r'\\S*\\.me\\S*',\" \",line)\n",
        "  line = re.sub(r'\\s+:\\s+',\" \",line)  #re.sub(r'\\s+-\\s+',\" \",line): Replaces hyphen surrounded by spaces with a single space.\n",
        "  line = re.sub(r'\\s+-\\s+',\" \",line)\n",
        "\n",
        "\n",
        "  line = re.sub(r'/https?\\/\\/(.*\\.(in))\\//',\" \",line)\n",
        "  line = re.split(r'\\s+|[!$%&()*+./;<=>?\\^`{|}~\\'\\\"]\\s*', line)   #re.split(r'\\s+|[!$%&()*+./;<=>?\\^{|}~'\"]\\s*', line)`: Splits the text into tokens based on spaces and a set of punctuation characters.\n",
        "  line = [token.strip() for token in line if token != '' and token != ' ' and token != '\\n']\n",
        "\n",
        "  if len(line) > 1:\n",
        "    tokens = []\n",
        "    for i in range(len(line)):\n",
        "      if line[i][0] == '#':\n",
        "        tokens.append(line[i][1:])\n",
        "      elif line[i][0] == '@' or line[i][0] in string.punctuation :\n",
        "        continue\n",
        "      else:\n",
        "        tokens.append(line[i])\n",
        "    return tokens             #Returns the list of processed tokens.\n"
      ],
      "metadata": {
        "id": "MSw8o7WT0vD-"
      },
      "execution_count": null,
      "outputs": []
    },
    {
      "cell_type": "markdown",
      "source": [
        "purpose of the provided code is to preprocess the given tweet_text. The preprocessing involves cleaning the text and transforming it into a format suitable for further analysis or natural language processing tasks. The specific steps in the preprocess function include:\n",
        "\n",
        "Stripping leading and trailing whitespaces from the text.\n",
        "Using regular expressions to remove specific patterns, such as URLs and certain punctuations.\n",
        "Tokenizing the text by splitting it based on whitespaces and specified delimiters.\n",
        "Filtering out tokens starting with '#' or '@' and certain punctuation.\n",
        "The final result is a cleaned and tokenized version of the input text, which is then joined into a string using whitespaces"
      ],
      "metadata": {
        "id": "4OEZNONCkfyg"
      }
    },
    {
      "cell_type": "code",
      "source": [
        "tweet_text = \"नमो सरकारला साधी अडचने पार पाडण्याची बुद्धी नाही आहे. एकदम मूर्खपणाचे लक्षण आहे\"\n",
        "tweet_text = \"प्रौढ प्रताप पुरंदर, क्षत्रिय कुलावतंस, सिंहासनाधीश्वर, महाराजाधिराज महाराज श्रीमंत श्री छत्रपती शिवाजी महाराज की जय\"\n",
        "tweet_text = \"मनाचे वेधना किती सोसावे सामान्य माणसाने\"\n",
        "tweet_text = \"माननीय महोदय संजय विचारे यांच्या अपघाताची बातमी आज कळाली. खूप वाईट वाटले.\"\n",
        "tweet_text = \"नमो सरकारला साधी अडचने पार पाडण्याची बुद्धी नाही आहे. एकदम मूर्खपणाचे लक्षण आहे\"\n",
        "tweet_text = \"गढ आला पण माझा सिंह गेला\"\n",
        "tweet_text = \"मैदानात हजारो कंडोम पाकीटं कुणी फेकली?; खुलासा होताच अधिकाऱ्यांनी डोक्यावर हात मारला\"\n",
        "tweet_text = \"महाशिवरात्रीच्या सर्वांना हार्दिक हार्दिक शुभेच्छा\"\n",
        "tweet_text= \"नमो सरकारला साधी अडचने पार पाडण्याची बुद्धी नाही आहे. एकदम मूर्खपणाचे लक्षण आहे\"\n",
        "tweet_text = \"हिंदू धर्मात मुलांना लहानपणापासून आपला धर्मग्रंथ गीता शिकवला जात नाही हे सत्य आहे.\"\n",
        "tweet_text = \"प्रा. यारकुंडकरांसारख्या थोर वयकतीमत्वाचा परिचय देताना, मला आज प्रचंड अभिमान वाटतोय.\"\n",
        "tweet_text = preprocess(tweet_text)\n",
        "tweet_text = \" \".join(tweet_text)"
      ],
      "metadata": {
        "id": "qNzE5THryqEX"
      },
      "execution_count": null,
      "outputs": []
    },
    {
      "cell_type": "markdown",
      "source": [
        "purpose of this code is to convert the preprocessed text into a format compatible with transformer-based models. The resulting encoded_tweet will be a dictionary containing the input IDs, token type IDs, and attention mask, in a format suitable for direct use in the model's forward pass. This is a common step when working with pre-trained language models"
      ],
      "metadata": {
        "id": "7g2Qk7j6lMr1"
      }
    },
    {
      "cell_type": "code",
      "source": [
        "\n",
        "encoded_tweet = tokenizer.encode_plus(\n",
        "  tweet_text,                   #The preprocessed text that needs to be encoded.\n",
        "  max_length=MAX_LEN,       # The maximum length of the resulting sequence. Tokens beyond this length will be truncated or padded accordingly.\n",
        "  add_special_tokens=True,   #Whether to add special tokens like [CLS] and [SEP] to the encoded sequence.\n",
        "  return_token_type_ids=True,   #Whether to return token type IDs, which indicate to which part of the input sequence a token belongs (useful for models that support sequence pairs).\n",
        "  pad_to_max_length=True,  #Whether to pad the sequence to the specified max_length if it is less than that length.\n",
        "  return_attention_mask=True, #Whether to return an attention mask, indicating which tokens should be attended to and which should be ignored.\n",
        "  return_tensors='pt',  #Specifies the type of PyTorch tensors to be returned ('pt' for PyTorch tensors).\n",
        ")\n"
      ],
      "metadata": {
        "id": "mcj_N_NPyv3D"
      },
      "execution_count": null,
      "outputs": []
    },
    {
      "cell_type": "code",
      "source": [
        "#input_ids, attention_mask, and token_type_ids are moved to the specified device (GPU or CPU) using .to(device)\n",
        "#The model is then used to make predictions on the provided input tensors (input_ids, attention_mask, token_type_ids).\n",
        "input_ids = encoded_tweet['input_ids'].to(device)\n",
        "attention_mask = encoded_tweet['attention_mask'].to(device)\n",
        "token_type_ids = encoded_tweet['token_type_ids'].to(device)\n",
        "\n",
        "\n",
        "#The output is obtained from the model, and torch.max is used to get the\n",
        "#index of the maximum value along the specified dimension (in this case, dimension 1, which corresponds to the predicted classes).\n",
        "output = model(input_ids, attention_mask, token_type_ids)\n",
        "_, prediction = torch.max(output, dim=1)\n",
        "\n",
        "\n",
        "#The original tweet_text and the predicted class are then printed.\n",
        "print(f'Tweet text: {tweet_text}')\n",
        "#The predicted class is obtained using class_names[prediction], where prediction is the index of the predicted class, and class_names is a list of class labels.\n",
        "print(f'Sarcasm  : {class_names[prediction]}')"
      ],
      "metadata": {
        "id": "lQ86vuoRyyrh",
        "colab": {
          "base_uri": "https://localhost:8080/",
          "height": 284
        },
        "outputId": "0ea6548f-0900-42d1-da5d-ebe76232a420"
      },
      "execution_count": null,
      "outputs": [
        {
          "output_type": "error",
          "ename": "NameError",
          "evalue": "ignored",
          "traceback": [
            "\u001b[0;31m---------------------------------------------------------------------------\u001b[0m",
            "\u001b[0;31mNameError\u001b[0m                                 Traceback (most recent call last)",
            "\u001b[0;32m<ipython-input-1-fb595e66397e>\u001b[0m in \u001b[0;36m<cell line: 3>\u001b[0;34m()\u001b[0m\n\u001b[1;32m      1\u001b[0m \u001b[0;31m#input_ids, attention_mask, and token_type_ids are moved to the specified device (GPU or CPU) using .to(device)\u001b[0m\u001b[0;34m\u001b[0m\u001b[0;34m\u001b[0m\u001b[0m\n\u001b[1;32m      2\u001b[0m \u001b[0;31m#The model is then used to make predictions on the provided input tensors (input_ids, attention_mask, token_type_ids).\u001b[0m\u001b[0;34m\u001b[0m\u001b[0;34m\u001b[0m\u001b[0m\n\u001b[0;32m----> 3\u001b[0;31m \u001b[0minput_ids\u001b[0m \u001b[0;34m=\u001b[0m \u001b[0mencoded_tweet\u001b[0m\u001b[0;34m[\u001b[0m\u001b[0;34m'input_ids'\u001b[0m\u001b[0;34m]\u001b[0m\u001b[0;34m.\u001b[0m\u001b[0mto\u001b[0m\u001b[0;34m(\u001b[0m\u001b[0mdevice\u001b[0m\u001b[0;34m)\u001b[0m\u001b[0;34m\u001b[0m\u001b[0;34m\u001b[0m\u001b[0m\n\u001b[0m\u001b[1;32m      4\u001b[0m \u001b[0mattention_mask\u001b[0m \u001b[0;34m=\u001b[0m \u001b[0mencoded_tweet\u001b[0m\u001b[0;34m[\u001b[0m\u001b[0;34m'attention_mask'\u001b[0m\u001b[0;34m]\u001b[0m\u001b[0;34m.\u001b[0m\u001b[0mto\u001b[0m\u001b[0;34m(\u001b[0m\u001b[0mdevice\u001b[0m\u001b[0;34m)\u001b[0m\u001b[0;34m\u001b[0m\u001b[0;34m\u001b[0m\u001b[0m\n\u001b[1;32m      5\u001b[0m \u001b[0mtoken_type_ids\u001b[0m \u001b[0;34m=\u001b[0m \u001b[0mencoded_tweet\u001b[0m\u001b[0;34m[\u001b[0m\u001b[0;34m'token_type_ids'\u001b[0m\u001b[0;34m]\u001b[0m\u001b[0;34m.\u001b[0m\u001b[0mto\u001b[0m\u001b[0;34m(\u001b[0m\u001b[0mdevice\u001b[0m\u001b[0;34m)\u001b[0m\u001b[0;34m\u001b[0m\u001b[0;34m\u001b[0m\u001b[0m\n",
            "\u001b[0;31mNameError\u001b[0m: name 'encoded_tweet' is not defined"
          ]
        }
      ]
    },
    {
      "cell_type": "code",
      "source": [
        "import pandas as pd\n",
        "\n",
        "# Example data (not actual user numbers)\n",
        "data = {\n",
        "    'Year': list(range(2012, 2017)),\n",
        "    'Cloud_Users_Millions':[ 500, 625, 810, 1000, 1300]\n",
        "}\n",
        "\n",
        "# Create a DataFrame\n",
        "cloud_users_df = pd.DataFrame(data)\n",
        "\n",
        "# Display the dataset\n",
        "print(cloud_users_df)\n"
      ],
      "metadata": {
        "id": "Ib0RmKH-y0hT",
        "colab": {
          "base_uri": "https://localhost:8080/"
        },
        "outputId": "fd0d6880-a0a2-49bb-b2a4-442f46e9a345"
      },
      "execution_count": null,
      "outputs": [
        {
          "output_type": "stream",
          "name": "stdout",
          "text": [
            "   Year  Cloud_Users_Millions\n",
            "0  2012                   500\n",
            "1  2013                   625\n",
            "2  2014                   810\n",
            "3  2015                  1000\n",
            "4  2016                  1300\n"
          ]
        }
      ]
    },
    {
      "cell_type": "code",
      "source": [
        "import matplotlib.pyplot as plt\n",
        "\n",
        "# Plotting\n",
        "plt.figure(figsize=(10, 6))\n",
        "plt.plot(cloud_users_df['Year'], cloud_users_df['Cloud_Users_Millions'], marker='o', linestyle='-', color='b')\n",
        "plt.title('Cloud Computing Users Over Time')\n",
        "plt.xlabel('Year')\n",
        "plt.ylabel('Number of Users (Millions)')\n",
        "plt.grid(True)\n",
        "plt.show()\n"
      ],
      "metadata": {
        "colab": {
          "base_uri": "https://localhost:8080/",
          "height": 417
        },
        "id": "g0t_QW_OyHxI",
        "outputId": "549405cf-57c0-4a4d-97f0-db610750494a"
      },
      "execution_count": null,
      "outputs": [
        {
          "output_type": "display_data",
          "data": {
            "text/plain": [
              "<Figure size 1000x600 with 1 Axes>"
            ],
            "image/png": "[encoded data removed]"
          },
          "metadata": {}
        }
      ]
    },
    {
      "cell_type": "code",
      "source": [
        "import matplotlib.pyplot as plt\n",
        "from wordcloud import WordCloud\n",
        "\n",
        "# Sample data\n",
        "data = {'AWS': 50, 'Azure': 30, 'Google Cloud': 20, 'IBM Cloud': 15, 'Others': 10}\n",
        "\n",
        "# Generate word cloud\n",
        "wordcloud = WordCloud(width=800, height=400, background_color='white').generate_from_frequencies(data)\n",
        "\n",
        "# Plot the WordCloud image\n",
        "plt.figure(figsize=(10, 5))\n",
        "plt.imshow(wordcloud, interpolation='bilinear')\n",
        "plt.axis('off')\n",
        "plt.show()\n"
      ],
      "metadata": {
        "colab": {
          "base_uri": "https://localhost:8080/",
          "height": 339
        },
        "id": "uJ4sT1DnyOW3",
        "outputId": "07b89bb5-e220-4ba7-817c-0bae02f37857"
      },
      "execution_count": null,
      "outputs": [
        {
          "output_type": "display_data",
          "data": {
            "text/plain": [
              "<Figure size 1000x500 with 1 Axes>"
            ],
            "image/png": "[encoded data removed]"
          },
          "metadata": {}
        }
      ]
    },
    {
      "cell_type": "code",
      "source": [
        "import matplotlib.pyplot as plt\n",
        "import random\n",
        "\n",
        "cloud_providers = [\"AWS\", \"Azure\", \"GCP\", \"IBM\", \"Oracle\", \"Alibaba\", \"DigitalOcean\", \"VMware\", \"Rackspace\", \"OpenShift\",\n",
        "                   \"Salesforce\", \"Heroku\", \"Cisco\", \"SAP\", \"Adobe\", \"HP\", \"Dell\", \"NetApp\", \"Akamai\", \"CloudFoundry\"]\n",
        "\n",
        "# Assigning random colors to each cloud provider\n",
        "colors = [f'#{random.randint(0, 0xFFFFFF):06x}' for _ in range(len(cloud_providers))]\n",
        "\n",
        "# Plotting the bar graph\n",
        "plt.figure(figsize=(10, 6))\n",
        "plt.bar(cloud_providers, [random.randint(100, 1000) for _ in range(len(cloud_providers))], color=colors)\n",
        "plt.title('Cloud Providers and User Numbers')\n",
        "plt.xlabel('Cloud Providers')\n",
        "plt.ylabel('Number of Users')\n",
        "plt.xticks(rotation=45, ha='right')  # Rotate x-axis labels for better visibility\n",
        "plt.tight_layout()\n",
        "\n",
        "# Show the plot\n",
        "plt.show()\n"
      ],
      "metadata": {
        "colab": {
          "base_uri": "https://localhost:8080/",
          "height": 391
        },
        "id": "h1XpLyYr05Pz",
        "outputId": "ba4b03b2-7523-4690-af9b-4dcf6f947435"
      },
      "execution_count": null,
      "outputs": [
        {
          "output_type": "display_data",
          "data": {
            "text/plain": [
              "<Figure size 1000x600 with 1 Axes>"
            ],
            "image/png": "[encoded data removed]"
          },
          "metadata": {}
        }
      ]
    },
    {
      "cell_type": "code",
      "source": [
        "import matplotlib.pyplot as plt\n",
        "from wordcloud import WordCloud\n",
        "\n",
        "# Sample data\n",
        "cloud_data = {'AWS': 50, 'Azure': 30, 'GCP': 20, 'IBM': 15, 'Oracle': 10,\n",
        "              'Alibaba': 25, 'DigitalOcean': 12, 'VMware': 18, 'Rackspace': 8,\n",
        "              'OpenShift': 6, 'Salesforce': 15, 'Heroku': 22, 'Cisco': 14,\n",
        "              'SAP': 8, 'Adobe': 10, 'HP': 5, 'Dell': 7, 'NetApp': 9, 'Akamai': 12,\n",
        "              'CloudFoundry': 11}\n",
        "\n",
        "# Generate word cloud with font sizes based on user numbers\n",
        "wordcloud = WordCloud(width=800, height=400, background_color='white',\n",
        "                      prefer_horizontal=1.0, relative_scaling=0.5,\n",
        "                      colormap='viridis').generate_from_frequencies(cloud_data)\n",
        "\n",
        "# Plot the WordCloud image\n",
        "plt.figure(figsize=(15, 8))\n",
        "plt.imshow(wordcloud, interpolation='bilinear')\n",
        "plt.axis('off')\n",
        "plt.show()\n"
      ],
      "metadata": {
        "colab": {
          "base_uri": "https://localhost:8080/",
          "height": 638
        },
        "id": "XH25BOGY2cCR",
        "outputId": "624b13ab-0a2a-4943-a868-0212d0357dae"
      },
      "execution_count": null,
      "outputs": [
        {
          "output_type": "display_data",
          "data": {
            "text/plain": [
              "<Figure size 1500x800 with 1 Axes>"
            ],
            "image/png": "[encoded data removed]"
          },
          "metadata": {}
        }
      ]
    },
    {
      "cell_type": "code",
      "source": [],
      "metadata": {
        "id": "C4JJ7Oie60ON"
      },
      "execution_count": null,
      "outputs": []
    }
  ]
}