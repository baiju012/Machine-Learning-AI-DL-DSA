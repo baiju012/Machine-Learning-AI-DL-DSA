{
  "nbformat": 4,
  "nbformat_minor": 0,
  "metadata": {
    "colab": {
      "provenance": [],
      "collapsed_sections": [
        "T4-RKh__QMPQ",
        "gaDc0mN-QJA_",
        "6cPfl8pHQreT",
        "1NkzS2D-f9XA",
        "xcYEBaOHgh1c",
        "S-Q6fKgFyYIV"
      ],
      "machine_shape": "hm"
    },
    "kernelspec": {
      "name": "python3",
      "display_name": "Python 3"
    },
    "language_info": {
      "name": "python"
    },
    "accelerator": "GPU",
    "widgets": {
      "application/vnd.jupyter.widget-state+json": {
        "a25bf9c40b704fb6a5779578b7723f6e": {
          "model_module": "@jupyter-widgets/controls",
          "model_name": "HBoxModel",
          "model_module_version": "1.5.0",
          "state": {
            "_dom_classes": [],
            "_model_module": "@jupyter-widgets/controls",
            "_model_module_version": "1.5.0",
            "_model_name": "HBoxModel",
            "_view_count": null,
            "_view_module": "@jupyter-widgets/controls",
            "_view_module_version": "1.5.0",
            "_view_name": "HBoxView",
            "box_style": "",
            "children": [
              "IPY_MODEL_e36b07f65fa74c6bbfbe23deca3182aa",
              "IPY_MODEL_815ca9835f6145378f3e5aa9228667a0",
              "IPY_MODEL_54a56f3f3c9f4c0c8f8847bc56607ccf"
            ],
            "layout": "IPY_MODEL_c4face41bac24197a9cf6baee9dda52e"
          }
        },
        "e36b07f65fa74c6bbfbe23deca3182aa": {
          "model_module": "@jupyter-widgets/controls",
          "model_name": "HTMLModel",
          "model_module_version": "1.5.0",
          "state": {
            "_dom_classes": [],
            "_model_module": "@jupyter-widgets/controls",
            "_model_module_version": "1.5.0",
            "_model_name": "HTMLModel",
            "_view_count": null,
            "_view_module": "@jupyter-widgets/controls",
            "_view_module_version": "1.5.0",
            "_view_name": "HTMLView",
            "description": "",
            "description_tooltip": null,
            "layout": "IPY_MODEL_7d0583f710af4bde8bb87f39f3b526ba",
            "placeholder": "​",
            "style": "IPY_MODEL_e02bf868211243938749488893fc2a14",
            "value": "tokenizer_config.json: 100%"
          }
        },
        "815ca9835f6145378f3e5aa9228667a0": {
          "model_module": "@jupyter-widgets/controls",
          "model_name": "FloatProgressModel",
          "model_module_version": "1.5.0",
          "state": {
            "_dom_classes": [],
            "_model_module": "@jupyter-widgets/controls",
            "_model_module_version": "1.5.0",
            "_model_name": "FloatProgressModel",
            "_view_count": null,
            "_view_module": "@jupyter-widgets/controls",
            "_view_module_version": "1.5.0",
            "_view_name": "ProgressView",
            "bar_style": "success",
            "description": "",
            "description_tooltip": null,
            "layout": "IPY_MODEL_b213a87041754432a99c9b0036c1518a",
            "max": 49,
            "min": 0,
            "orientation": "horizontal",
            "style": "IPY_MODEL_c7f235f344064b11ad36cb6c6b4a6e4f",
            "value": 49
          }
        },
        "54a56f3f3c9f4c0c8f8847bc56607ccf": {
          "model_module": "@jupyter-widgets/controls",
          "model_name": "HTMLModel",
          "model_module_version": "1.5.0",
          "state": {
            "_dom_classes": [],
            "_model_module": "@jupyter-widgets/controls",
            "_model_module_version": "1.5.0",
            "_model_name": "HTMLModel",
            "_view_count": null,
            "_view_module": "@jupyter-widgets/controls",
            "_view_module_version": "1.5.0",
            "_view_name": "HTMLView",
            "description": "",
            "description_tooltip": null,
            "layout": "IPY_MODEL_b32c814cf0c84b52aba01c58b395de46",
            "placeholder": "​",
            "style": "IPY_MODEL_148b7cdcf9314ab8830583fc7dd286a2",
            "value": " 49.0/49.0 [00:00&lt;00:00, 1.13kB/s]"
          }
        },
        "c4face41bac24197a9cf6baee9dda52e": {
          "model_module": "@jupyter-widgets/base",
          "model_name": "LayoutModel",
          "model_module_version": "1.2.0",
          "state": {
            "_model_module": "@jupyter-widgets/base",
            "_model_module_version": "1.2.0",
            "_model_name": "LayoutModel",
            "_view_count": null,
            "_view_module": "@jupyter-widgets/base",
            "_view_module_version": "1.2.0",
            "_view_name": "LayoutView",
            "align_content": null,
            "align_items": null,
            "align_self": null,
            "border": null,
            "bottom": null,
            "display": null,
            "flex": null,
            "flex_flow": null,
            "grid_area": null,
            "grid_auto_columns": null,
            "grid_auto_flow": null,
            "grid_auto_rows": null,
            "grid_column": null,
            "grid_gap": null,
            "grid_row": null,
            "grid_template_areas": null,
            "grid_template_columns": null,
            "grid_template_rows": null,
            "height": null,
            "justify_content": null,
            "justify_items": null,
            "left": null,
            "margin": null,
            "max_height": null,
            "max_width": null,
            "min_height": null,
            "min_width": null,
            "object_fit": null,
            "object_position": null,
            "order": null,
            "overflow": null,
            "overflow_x": null,
            "overflow_y": null,
            "padding": null,
            "right": null,
            "top": null,
            "visibility": null,
            "width": null
          }
        },
        "7d0583f710af4bde8bb87f39f3b526ba": {
          "model_module": "@jupyter-widgets/base",
          "model_name": "LayoutModel",
          "model_module_version": "1.2.0",
          "state": {
            "_model_module": "@jupyter-widgets/base",
            "_model_module_version": "1.2.0",
            "_model_name": "LayoutModel",
            "_view_count": null,
            "_view_module": "@jupyter-widgets/base",
            "_view_module_version": "1.2.0",
            "_view_name": "LayoutView",
            "align_content": null,
            "align_items": null,
            "align_self": null,
            "border": null,
            "bottom": null,
            "display": null,
            "flex": null,
            "flex_flow": null,
            "grid_area": null,
            "grid_auto_columns": null,
            "grid_auto_flow": null,
            "grid_auto_rows": null,
            "grid_column": null,
            "grid_gap": null,
            "grid_row": null,
            "grid_template_areas": null,
            "grid_template_columns": null,
            "grid_template_rows": null,
            "height": null,
            "justify_content": null,
            "justify_items": null,
            "left": null,
            "margin": null,
            "max_height": null,
            "max_width": null,
            "min_height": null,
            "min_width": null,
            "object_fit": null,
            "object_position": null,
            "order": null,
            "overflow": null,
            "overflow_x": null,
            "overflow_y": null,
            "padding": null,
            "right": null,
            "top": null,
            "visibility": null,
            "width": null
          }
        },
        "e02bf868211243938749488893fc2a14": {
          "model_module": "@jupyter-widgets/controls",
          "model_name": "DescriptionStyleModel",
          "model_module_version": "1.5.0",
          "state": {
            "_model_module": "@jupyter-widgets/controls",
            "_model_module_version": "1.5.0",
            "_model_name": "DescriptionStyleModel",
            "_view_count": null,
            "_view_module": "@jupyter-widgets/base",
            "_view_module_version": "1.2.0",
            "_view_name": "StyleView",
            "description_width": ""
          }
        },
        "b213a87041754432a99c9b0036c1518a": {
          "model_module": "@jupyter-widgets/base",
          "model_name": "LayoutModel",
          "model_module_version": "1.2.0",
          "state": {
            "_model_module": "@jupyter-widgets/base",
            "_model_module_version": "1.2.0",
            "_model_name": "LayoutModel",
            "_view_count": null,
            "_view_module": "@jupyter-widgets/base",
            "_view_module_version": "1.2.0",
            "_view_name": "LayoutView",
            "align_content": null,
            "align_items": null,
            "align_self": null,
            "border": null,
            "bottom": null,
            "display": null,
            "flex": null,
            "flex_flow": null,
            "grid_area": null,
            "grid_auto_columns": null,
            "grid_auto_flow": null,
            "grid_auto_rows": null,
            "grid_column": null,
            "grid_gap": null,
            "grid_row": null,
            "grid_template_areas": null,
            "grid_template_columns": null,
            "grid_template_rows": null,
            "height": null,
            "justify_content": null,
            "justify_items": null,
            "left": null,
            "margin": null,
            "max_height": null,
            "max_width": null,
            "min_height": null,
            "min_width": null,
            "object_fit": null,
            "object_position": null,
            "order": null,
            "overflow": null,
            "overflow_x": null,
            "overflow_y": null,
            "padding": null,
            "right": null,
            "top": null,
            "visibility": null,
            "width": null
          }
        },
        "c7f235f344064b11ad36cb6c6b4a6e4f": {
          "model_module": "@jupyter-widgets/controls",
          "model_name": "ProgressStyleModel",
          "model_module_version": "1.5.0",
          "state": {
            "_model_module": "@jupyter-widgets/controls",
            "_model_module_version": "1.5.0",
            "_model_name": "ProgressStyleModel",
            "_view_count": null,
            "_view_module": "@jupyter-widgets/base",
            "_view_module_version": "1.2.0",
            "_view_name": "StyleView",
            "bar_color": null,
            "description_width": ""
          }
        },
        "b32c814cf0c84b52aba01c58b395de46": {
          "model_module": "@jupyter-widgets/base",
          "model_name": "LayoutModel",
          "model_module_version": "1.2.0",
          "state": {
            "_model_module": "@jupyter-widgets/base",
            "_model_module_version": "1.2.0",
            "_model_name": "LayoutModel",
            "_view_count": null,
            "_view_module": "@jupyter-widgets/base",
            "_view_module_version": "1.2.0",
            "_view_name": "LayoutView",
            "align_content": null,
            "align_items": null,
            "align_self": null,
            "border": null,
            "bottom": null,
            "display": null,
            "flex": null,
            "flex_flow": null,
            "grid_area": null,
            "grid_auto_columns": null,
            "grid_auto_flow": null,
            "grid_auto_rows": null,
            "grid_column": null,
            "grid_gap": null,
            "grid_row": null,
            "grid_template_areas": null,
            "grid_template_columns": null,
            "grid_template_rows": null,
            "height": null,
            "justify_content": null,
            "justify_items": null,
            "left": null,
            "margin": null,
            "max_height": null,
            "max_width": null,
            "min_height": null,
            "min_width": null,
            "object_fit": null,
            "object_position": null,
            "order": null,
            "overflow": null,
            "overflow_x": null,
            "overflow_y": null,
            "padding": null,
            "right": null,
            "top": null,
            "visibility": null,
            "width": null
          }
        },
        "148b7cdcf9314ab8830583fc7dd286a2": {
          "model_module": "@jupyter-widgets/controls",
          "model_name": "DescriptionStyleModel",
          "model_module_version": "1.5.0",
          "state": {
            "_model_module": "@jupyter-widgets/controls",
            "_model_module_version": "1.5.0",
            "_model_name": "DescriptionStyleModel",
            "_view_count": null,
            "_view_module": "@jupyter-widgets/base",
            "_view_module_version": "1.2.0",
            "_view_name": "StyleView",
            "description_width": ""
          }
        },
        "cc600a8a36194646b7189c51ba1bd1b1": {
          "model_module": "@jupyter-widgets/controls",
          "model_name": "HBoxModel",
          "model_module_version": "1.5.0",
          "state": {
            "_dom_classes": [],
            "_model_module": "@jupyter-widgets/controls",
            "_model_module_version": "1.5.0",
            "_model_name": "HBoxModel",
            "_view_count": null,
            "_view_module": "@jupyter-widgets/controls",
            "_view_module_version": "1.5.0",
            "_view_name": "HBoxView",
            "box_style": "",
            "children": [
              "IPY_MODEL_950569d7e84947aea98e6cf251db5008",
              "IPY_MODEL_cc4abf699ccc4a33829194ffaff810f7",
              "IPY_MODEL_89e32671c7ff4d9f853905c55d323cd5"
            ],
            "layout": "IPY_MODEL_3a29166be86b4f12802212c4f12bcd00"
          }
        },
        "950569d7e84947aea98e6cf251db5008": {
          "model_module": "@jupyter-widgets/controls",
          "model_name": "HTMLModel",
          "model_module_version": "1.5.0",
          "state": {
            "_dom_classes": [],
            "_model_module": "@jupyter-widgets/controls",
            "_model_module_version": "1.5.0",
            "_model_name": "HTMLModel",
            "_view_count": null,
            "_view_module": "@jupyter-widgets/controls",
            "_view_module_version": "1.5.0",
            "_view_name": "HTMLView",
            "description": "",
            "description_tooltip": null,
            "layout": "IPY_MODEL_c6bc8db6b9654a698c6addf5bb48eea1",
            "placeholder": "​",
            "style": "IPY_MODEL_6a4319b6ab2c49cfa01b98b88c9406b3",
            "value": "vocab.txt: 100%"
          }
        },
        "cc4abf699ccc4a33829194ffaff810f7": {
          "model_module": "@jupyter-widgets/controls",
          "model_name": "FloatProgressModel",
          "model_module_version": "1.5.0",
          "state": {
            "_dom_classes": [],
            "_model_module": "@jupyter-widgets/controls",
            "_model_module_version": "1.5.0",
            "_model_name": "FloatProgressModel",
            "_view_count": null,
            "_view_module": "@jupyter-widgets/controls",
            "_view_module_version": "1.5.0",
            "_view_name": "ProgressView",
            "bar_style": "success",
            "description": "",
            "description_tooltip": null,
            "layout": "IPY_MODEL_15354135ff1742eabba001dfdf9fb218",
            "max": 995526,
            "min": 0,
            "orientation": "horizontal",
            "style": "IPY_MODEL_e025f1754c9f4927a58279d8febbb577",
            "value": 995526
          }
        },
        "89e32671c7ff4d9f853905c55d323cd5": {
          "model_module": "@jupyter-widgets/controls",
          "model_name": "HTMLModel",
          "model_module_version": "1.5.0",
          "state": {
            "_dom_classes": [],
            "_model_module": "@jupyter-widgets/controls",
            "_model_module_version": "1.5.0",
            "_model_name": "HTMLModel",
            "_view_count": null,
            "_view_module": "@jupyter-widgets/controls",
            "_view_module_version": "1.5.0",
            "_view_name": "HTMLView",
            "description": "",
            "description_tooltip": null,
            "layout": "IPY_MODEL_17921811f66149d5a2bde9ae06378015",
            "placeholder": "​",
            "style": "IPY_MODEL_5760fb57e26d4c5f876b4e43d0e534b7",
            "value": " 996k/996k [00:00&lt;00:00, 13.0MB/s]"
          }
        },
        "3a29166be86b4f12802212c4f12bcd00": {
          "model_module": "@jupyter-widgets/base",
          "model_name": "LayoutModel",
          "model_module_version": "1.2.0",
          "state": {
            "_model_module": "@jupyter-widgets/base",
            "_model_module_version": "1.2.0",
            "_model_name": "LayoutModel",
            "_view_count": null,
            "_view_module": "@jupyter-widgets/base",
            "_view_module_version": "1.2.0",
            "_view_name": "LayoutView",
            "align_content": null,
            "align_items": null,
            "align_self": null,
            "border": null,
            "bottom": null,
            "display": null,
            "flex": null,
            "flex_flow": null,
            "grid_area": null,
            "grid_auto_columns": null,
            "grid_auto_flow": null,
            "grid_auto_rows": null,
            "grid_column": null,
            "grid_gap": null,
            "grid_row": null,
            "grid_template_areas": null,
            "grid_template_columns": null,
            "grid_template_rows": null,
            "height": null,
            "justify_content": null,
            "justify_items": null,
            "left": null,
            "margin": null,
            "max_height": null,
            "max_width": null,
            "min_height": null,
            "min_width": null,
            "object_fit": null,
            "object_position": null,
            "order": null,
            "overflow": null,
            "overflow_x": null,
            "overflow_y": null,
            "padding": null,
            "right": null,
            "top": null,
            "visibility": null,
            "width": null
          }
        },
        "c6bc8db6b9654a698c6addf5bb48eea1": {
          "model_module": "@jupyter-widgets/base",
          "model_name": "LayoutModel",
          "model_module_version": "1.2.0",
          "state": {
            "_model_module": "@jupyter-widgets/base",
            "_model_module_version": "1.2.0",
            "_model_name": "LayoutModel",
            "_view_count": null,
            "_view_module": "@jupyter-widgets/base",
            "_view_module_version": "1.2.0",
            "_view_name": "LayoutView",
            "align_content": null,
            "align_items": null,
            "align_self": null,
            "border": null,
            "bottom": null,
            "display": null,
            "flex": null,
            "flex_flow": null,
            "grid_area": null,
            "grid_auto_columns": null,
            "grid_auto_flow": null,
            "grid_auto_rows": null,
            "grid_column": null,
            "grid_gap": null,
            "grid_row": null,
            "grid_template_areas": null,
            "grid_template_columns": null,
            "grid_template_rows": null,
            "height": null,
            "justify_content": null,
            "justify_items": null,
            "left": null,
            "margin": null,
            "max_height": null,
            "max_width": null,
            "min_height": null,
            "min_width": null,
            "object_fit": null,
            "object_position": null,
            "order": null,
            "overflow": null,
            "overflow_x": null,
            "overflow_y": null,
            "padding": null,
            "right": null,
            "top": null,
            "visibility": null,
            "width": null
          }
        },
        "6a4319b6ab2c49cfa01b98b88c9406b3": {
          "model_module": "@jupyter-widgets/controls",
          "model_name": "DescriptionStyleModel",
          "model_module_version": "1.5.0",
          "state": {
            "_model_module": "@jupyter-widgets/controls",
            "_model_module_version": "1.5.0",
            "_model_name": "DescriptionStyleModel",
            "_view_count": null,
            "_view_module": "@jupyter-widgets/base",
            "_view_module_version": "1.2.0",
            "_view_name": "StyleView",
            "description_width": ""
          }
        },
        "15354135ff1742eabba001dfdf9fb218": {
          "model_module": "@jupyter-widgets/base",
          "model_name": "LayoutModel",
          "model_module_version": "1.2.0",
          "state": {
            "_model_module": "@jupyter-widgets/base",
            "_model_module_version": "1.2.0",
            "_model_name": "LayoutModel",
            "_view_count": null,
            "_view_module": "@jupyter-widgets/base",
            "_view_module_version": "1.2.0",
            "_view_name": "LayoutView",
            "align_content": null,
            "align_items": null,
            "align_self": null,
            "border": null,
            "bottom": null,
            "display": null,
            "flex": null,
            "flex_flow": null,
            "grid_area": null,
            "grid_auto_columns": null,
            "grid_auto_flow": null,
            "grid_auto_rows": null,
            "grid_column": null,
            "grid_gap": null,
            "grid_row": null,
            "grid_template_areas": null,
            "grid_template_columns": null,
            "grid_template_rows": null,
            "height": null,
            "justify_content": null,
            "justify_items": null,
            "left": null,
            "margin": null,
            "max_height": null,
            "max_width": null,
            "min_height": null,
            "min_width": null,
            "object_fit": null,
            "object_position": null,
            "order": null,
            "overflow": null,
            "overflow_x": null,
            "overflow_y": null,
            "padding": null,
            "right": null,
            "top": null,
            "visibility": null,
            "width": null
          }
        },
        "e025f1754c9f4927a58279d8febbb577": {
          "model_module": "@jupyter-widgets/controls",
          "model_name": "ProgressStyleModel",
          "model_module_version": "1.5.0",
          "state": {
            "_model_module": "@jupyter-widgets/controls",
            "_model_module_version": "1.5.0",
            "_model_name": "ProgressStyleModel",
            "_view_count": null,
            "_view_module": "@jupyter-widgets/base",
            "_view_module_version": "1.2.0",
            "_view_name": "StyleView",
            "bar_color": null,
            "description_width": ""
          }
        },
        "17921811f66149d5a2bde9ae06378015": {
          "model_module": "@jupyter-widgets/base",
          "model_name": "LayoutModel",
          "model_module_version": "1.2.0",
          "state": {
            "_model_module": "@jupyter-widgets/base",
            "_model_module_version": "1.2.0",
            "_model_name": "LayoutModel",
            "_view_count": null,
            "_view_module": "@jupyter-widgets/base",
            "_view_module_version": "1.2.0",
            "_view_name": "LayoutView",
            "align_content": null,
            "align_items": null,
            "align_self": null,
            "border": null,
            "bottom": null,
            "display": null,
            "flex": null,
            "flex_flow": null,
            "grid_area": null,
            "grid_auto_columns": null,
            "grid_auto_flow": null,
            "grid_auto_rows": null,
            "grid_column": null,
            "grid_gap": null,
            "grid_row": null,
            "grid_template_areas": null,
            "grid_template_columns": null,
            "grid_template_rows": null,
            "height": null,
            "justify_content": null,
            "justify_items": null,
            "left": null,
            "margin": null,
            "max_height": null,
            "max_width": null,
            "min_height": null,
            "min_width": null,
            "object_fit": null,
            "object_position": null,
            "order": null,
            "overflow": null,
            "overflow_x": null,
            "overflow_y": null,
            "padding": null,
            "right": null,
            "top": null,
            "visibility": null,
            "width": null
          }
        },
        "5760fb57e26d4c5f876b4e43d0e534b7": {
          "model_module": "@jupyter-widgets/controls",
          "model_name": "DescriptionStyleModel",
          "model_module_version": "1.5.0",
          "state": {
            "_model_module": "@jupyter-widgets/controls",
            "_model_module_version": "1.5.0",
            "_model_name": "DescriptionStyleModel",
            "_view_count": null,
            "_view_module": "@jupyter-widgets/base",
            "_view_module_version": "1.2.0",
            "_view_name": "StyleView",
            "description_width": ""
          }
        },
        "1c66f344ca1449e8b61073d61d011ab7": {
          "model_module": "@jupyter-widgets/controls",
          "model_name": "HBoxModel",
          "model_module_version": "1.5.0",
          "state": {
            "_dom_classes": [],
            "_model_module": "@jupyter-widgets/controls",
            "_model_module_version": "1.5.0",
            "_model_name": "HBoxModel",
            "_view_count": null,
            "_view_module": "@jupyter-widgets/controls",
            "_view_module_version": "1.5.0",
            "_view_name": "HBoxView",
            "box_style": "",
            "children": [
              "IPY_MODEL_ae4a7c300ef54c3891d20acce654e703",
              "IPY_MODEL_9020230c52e9461b99aaa13b3e132ca7",
              "IPY_MODEL_a12f7cc8976f4fafb9eb0d6b80667bab"
            ],
            "layout": "IPY_MODEL_a4e60da4c6d24279847d8eedeb68fe56"
          }
        },
        "ae4a7c300ef54c3891d20acce654e703": {
          "model_module": "@jupyter-widgets/controls",
          "model_name": "HTMLModel",
          "model_module_version": "1.5.0",
          "state": {
            "_dom_classes": [],
            "_model_module": "@jupyter-widgets/controls",
            "_model_module_version": "1.5.0",
            "_model_name": "HTMLModel",
            "_view_count": null,
            "_view_module": "@jupyter-widgets/controls",
            "_view_module_version": "1.5.0",
            "_view_name": "HTMLView",
            "description": "",
            "description_tooltip": null,
            "layout": "IPY_MODEL_ad858b94c58245df98f801192e079950",
            "placeholder": "​",
            "style": "IPY_MODEL_2d70c231371546468c4320833aa6d9e8",
            "value": "tokenizer.json: 100%"
          }
        },
        "9020230c52e9461b99aaa13b3e132ca7": {
          "model_module": "@jupyter-widgets/controls",
          "model_name": "FloatProgressModel",
          "model_module_version": "1.5.0",
          "state": {
            "_dom_classes": [],
            "_model_module": "@jupyter-widgets/controls",
            "_model_module_version": "1.5.0",
            "_model_name": "FloatProgressModel",
            "_view_count": null,
            "_view_module": "@jupyter-widgets/controls",
            "_view_module_version": "1.5.0",
            "_view_name": "ProgressView",
            "bar_style": "success",
            "description": "",
            "description_tooltip": null,
            "layout": "IPY_MODEL_b38eaa1e3bce47be88a776b6de264240",
            "max": 1961828,
            "min": 0,
            "orientation": "horizontal",
            "style": "IPY_MODEL_28829cabaae941308159b3ab77de0ba9",
            "value": 1961828
          }
        },
        "a12f7cc8976f4fafb9eb0d6b80667bab": {
          "model_module": "@jupyter-widgets/controls",
          "model_name": "HTMLModel",
          "model_module_version": "1.5.0",
          "state": {
            "_dom_classes": [],
            "_model_module": "@jupyter-widgets/controls",
            "_model_module_version": "1.5.0",
            "_model_name": "HTMLModel",
            "_view_count": null,
            "_view_module": "@jupyter-widgets/controls",
            "_view_module_version": "1.5.0",
            "_view_name": "HTMLView",
            "description": "",
            "description_tooltip": null,
            "layout": "IPY_MODEL_8d422eac4a2b4547813e42a70664410a",
            "placeholder": "​",
            "style": "IPY_MODEL_10607d8e19f649eaa94ac7d692168cf5",
            "value": " 1.96M/1.96M [00:00&lt;00:00, 8.63MB/s]"
          }
        },
        "a4e60da4c6d24279847d8eedeb68fe56": {
          "model_module": "@jupyter-widgets/base",
          "model_name": "LayoutModel",
          "model_module_version": "1.2.0",
          "state": {
            "_model_module": "@jupyter-widgets/base",
            "_model_module_version": "1.2.0",
            "_model_name": "LayoutModel",
            "_view_count": null,
            "_view_module": "@jupyter-widgets/base",
            "_view_module_version": "1.2.0",
            "_view_name": "LayoutView",
            "align_content": null,
            "align_items": null,
            "align_self": null,
            "border": null,
            "bottom": null,
            "display": null,
            "flex": null,
            "flex_flow": null,
            "grid_area": null,
            "grid_auto_columns": null,
            "grid_auto_flow": null,
            "grid_auto_rows": null,
            "grid_column": null,
            "grid_gap": null,
            "grid_row": null,
            "grid_template_areas": null,
            "grid_template_columns": null,
            "grid_template_rows": null,
            "height": null,
            "justify_content": null,
            "justify_items": null,
            "left": null,
            "margin": null,
            "max_height": null,
            "max_width": null,
            "min_height": null,
            "min_width": null,
            "object_fit": null,
            "object_position": null,
            "order": null,
            "overflow": null,
            "overflow_x": null,
            "overflow_y": null,
            "padding": null,
            "right": null,
            "top": null,
            "visibility": null,
            "width": null
          }
        },
        "ad858b94c58245df98f801192e079950": {
          "model_module": "@jupyter-widgets/base",
          "model_name": "LayoutModel",
          "model_module_version": "1.2.0",
          "state": {
            "_model_module": "@jupyter-widgets/base",
            "_model_module_version": "1.2.0",
            "_model_name": "LayoutModel",
            "_view_count": null,
            "_view_module": "@jupyter-widgets/base",
            "_view_module_version": "1.2.0",
            "_view_name": "LayoutView",
            "align_content": null,
            "align_items": null,
            "align_self": null,
            "border": null,
            "bottom": null,
            "display": null,
            "flex": null,
            "flex_flow": null,
            "grid_area": null,
            "grid_auto_columns": null,
            "grid_auto_flow": null,
            "grid_auto_rows": null,
            "grid_column": null,
            "grid_gap": null,
            "grid_row": null,
            "grid_template_areas": null,
            "grid_template_columns": null,
            "grid_template_rows": null,
            "height": null,
            "justify_content": null,
            "justify_items": null,
            "left": null,
            "margin": null,
            "max_height": null,
            "max_width": null,
            "min_height": null,
            "min_width": null,
            "object_fit": null,
            "object_position": null,
            "order": null,
            "overflow": null,
            "overflow_x": null,
            "overflow_y": null,
            "padding": null,
            "right": null,
            "top": null,
            "visibility": null,
            "width": null
          }
        },
        "2d70c231371546468c4320833aa6d9e8": {
          "model_module": "@jupyter-widgets/controls",
          "model_name": "DescriptionStyleModel",
          "model_module_version": "1.5.0",
          "state": {
            "_model_module": "@jupyter-widgets/controls",
            "_model_module_version": "1.5.0",
            "_model_name": "DescriptionStyleModel",
            "_view_count": null,
            "_view_module": "@jupyter-widgets/base",
            "_view_module_version": "1.2.0",
            "_view_name": "StyleView",
            "description_width": ""
          }
        },
        "b38eaa1e3bce47be88a776b6de264240": {
          "model_module": "@jupyter-widgets/base",
          "model_name": "LayoutModel",
          "model_module_version": "1.2.0",
          "state": {
            "_model_module": "@jupyter-widgets/base",
            "_model_module_version": "1.2.0",
            "_model_name": "LayoutModel",
            "_view_count": null,
            "_view_module": "@jupyter-widgets/base",
            "_view_module_version": "1.2.0",
            "_view_name": "LayoutView",
            "align_content": null,
            "align_items": null,
            "align_self": null,
            "border": null,
            "bottom": null,
            "display": null,
            "flex": null,
            "flex_flow": null,
            "grid_area": null,
            "grid_auto_columns": null,
            "grid_auto_flow": null,
            "grid_auto_rows": null,
            "grid_column": null,
            "grid_gap": null,
            "grid_row": null,
            "grid_template_areas": null,
            "grid_template_columns": null,
            "grid_template_rows": null,
            "height": null,
            "justify_content": null,
            "justify_items": null,
            "left": null,
            "margin": null,
            "max_height": null,
            "max_width": null,
            "min_height": null,
            "min_width": null,
            "object_fit": null,
            "object_position": null,
            "order": null,
            "overflow": null,
            "overflow_x": null,
            "overflow_y": null,
            "padding": null,
            "right": null,
            "top": null,
            "visibility": null,
            "width": null
          }
        },
        "28829cabaae941308159b3ab77de0ba9": {
          "model_module": "@jupyter-widgets/controls",
          "model_name": "ProgressStyleModel",
          "model_module_version": "1.5.0",
          "state": {
            "_model_module": "@jupyter-widgets/controls",
            "_model_module_version": "1.5.0",
            "_model_name": "ProgressStyleModel",
            "_view_count": null,
            "_view_module": "@jupyter-widgets/base",
            "_view_module_version": "1.2.0",
            "_view_name": "StyleView",
            "bar_color": null,
            "description_width": ""
          }
        },
        "8d422eac4a2b4547813e42a70664410a": {
          "model_module": "@jupyter-widgets/base",
          "model_name": "LayoutModel",
          "model_module_version": "1.2.0",
          "state": {
            "_model_module": "@jupyter-widgets/base",
            "_model_module_version": "1.2.0",
            "_model_name": "LayoutModel",
            "_view_count": null,
            "_view_module": "@jupyter-widgets/base",
            "_view_module_version": "1.2.0",
            "_view_name": "LayoutView",
            "align_content": null,
            "align_items": null,
            "align_self": null,
            "border": null,
            "bottom": null,
            "display": null,
            "flex": null,
            "flex_flow": null,
            "grid_area": null,
            "grid_auto_columns": null,
            "grid_auto_flow": null,
            "grid_auto_rows": null,
            "grid_column": null,
            "grid_gap": null,
            "grid_row": null,
            "grid_template_areas": null,
            "grid_template_columns": null,
            "grid_template_rows": null,
            "height": null,
            "justify_content": null,
            "justify_items": null,
            "left": null,
            "margin": null,
            "max_height": null,
            "max_width": null,
            "min_height": null,
            "min_width": null,
            "object_fit": null,
            "object_position": null,
            "order": null,
            "overflow": null,
            "overflow_x": null,
            "overflow_y": null,
            "padding": null,
            "right": null,
            "top": null,
            "visibility": null,
            "width": null
          }
        },
        "10607d8e19f649eaa94ac7d692168cf5": {
          "model_module": "@jupyter-widgets/controls",
          "model_name": "DescriptionStyleModel",
          "model_module_version": "1.5.0",
          "state": {
            "_model_module": "@jupyter-widgets/controls",
            "_model_module_version": "1.5.0",
            "_model_name": "DescriptionStyleModel",
            "_view_count": null,
            "_view_module": "@jupyter-widgets/base",
            "_view_module_version": "1.2.0",
            "_view_name": "StyleView",
            "description_width": ""
          }
        },
        "c41d3354756c4a1e9f54f8dc8b2e22cf": {
          "model_module": "@jupyter-widgets/controls",
          "model_name": "HBoxModel",
          "model_module_version": "1.5.0",
          "state": {
            "_dom_classes": [],
            "_model_module": "@jupyter-widgets/controls",
            "_model_module_version": "1.5.0",
            "_model_name": "HBoxModel",
            "_view_count": null,
            "_view_module": "@jupyter-widgets/controls",
            "_view_module_version": "1.5.0",
            "_view_name": "HBoxView",
            "box_style": "",
            "children": [
              "IPY_MODEL_931b61ead1b14621ab3b6f152e652bde",
              "IPY_MODEL_983652809ed8463ab8fd7a0021b7d52c",
              "IPY_MODEL_e5ffec1b63884b818baf1a9c7a5391c4"
            ],
            "layout": "IPY_MODEL_e7abfe4e69e340d38792020b4caaa390"
          }
        },
        "931b61ead1b14621ab3b6f152e652bde": {
          "model_module": "@jupyter-widgets/controls",
          "model_name": "HTMLModel",
          "model_module_version": "1.5.0",
          "state": {
            "_dom_classes": [],
            "_model_module": "@jupyter-widgets/controls",
            "_model_module_version": "1.5.0",
            "_model_name": "HTMLModel",
            "_view_count": null,
            "_view_module": "@jupyter-widgets/controls",
            "_view_module_version": "1.5.0",
            "_view_name": "HTMLView",
            "description": "",
            "description_tooltip": null,
            "layout": "IPY_MODEL_7b094c03f4d64b749185412bee1ae089",
            "placeholder": "​",
            "style": "IPY_MODEL_14c9bbb922494356b5e9ae306378b9ee",
            "value": "config.json: 100%"
          }
        },
        "983652809ed8463ab8fd7a0021b7d52c": {
          "model_module": "@jupyter-widgets/controls",
          "model_name": "FloatProgressModel",
          "model_module_version": "1.5.0",
          "state": {
            "_dom_classes": [],
            "_model_module": "@jupyter-widgets/controls",
            "_model_module_version": "1.5.0",
            "_model_name": "FloatProgressModel",
            "_view_count": null,
            "_view_module": "@jupyter-widgets/controls",
            "_view_module_version": "1.5.0",
            "_view_name": "ProgressView",
            "bar_style": "success",
            "description": "",
            "description_tooltip": null,
            "layout": "IPY_MODEL_85b3db9005a949f5a3673ec6c1470250",
            "max": 625,
            "min": 0,
            "orientation": "horizontal",
            "style": "IPY_MODEL_8381753b2dc04c7b92adf80b3f5e19d6",
            "value": 625
          }
        },
        "e5ffec1b63884b818baf1a9c7a5391c4": {
          "model_module": "@jupyter-widgets/controls",
          "model_name": "HTMLModel",
          "model_module_version": "1.5.0",
          "state": {
            "_dom_classes": [],
            "_model_module": "@jupyter-widgets/controls",
            "_model_module_version": "1.5.0",
            "_model_name": "HTMLModel",
            "_view_count": null,
            "_view_module": "@jupyter-widgets/controls",
            "_view_module_version": "1.5.0",
            "_view_name": "HTMLView",
            "description": "",
            "description_tooltip": null,
            "layout": "IPY_MODEL_cc9ac0e76c5743e78a02d98d2283640f",
            "placeholder": "​",
            "style": "IPY_MODEL_a585902ba4954c7a987beea799b03176",
            "value": " 625/625 [00:00&lt;00:00, 7.33kB/s]"
          }
        },
        "e7abfe4e69e340d38792020b4caaa390": {
          "model_module": "@jupyter-widgets/base",
          "model_name": "LayoutModel",
          "model_module_version": "1.2.0",
          "state": {
            "_model_module": "@jupyter-widgets/base",
            "_model_module_version": "1.2.0",
            "_model_name": "LayoutModel",
            "_view_count": null,
            "_view_module": "@jupyter-widgets/base",
            "_view_module_version": "1.2.0",
            "_view_name": "LayoutView",
            "align_content": null,
            "align_items": null,
            "align_self": null,
            "border": null,
            "bottom": null,
            "display": null,
            "flex": null,
            "flex_flow": null,
            "grid_area": null,
            "grid_auto_columns": null,
            "grid_auto_flow": null,
            "grid_auto_rows": null,
            "grid_column": null,
            "grid_gap": null,
            "grid_row": null,
            "grid_template_areas": null,
            "grid_template_columns": null,
            "grid_template_rows": null,
            "height": null,
            "justify_content": null,
            "justify_items": null,
            "left": null,
            "margin": null,
            "max_height": null,
            "max_width": null,
            "min_height": null,
            "min_width": null,
            "object_fit": null,
            "object_position": null,
            "order": null,
            "overflow": null,
            "overflow_x": null,
            "overflow_y": null,
            "padding": null,
            "right": null,
            "top": null,
            "visibility": null,
            "width": null
          }
        },
        "7b094c03f4d64b749185412bee1ae089": {
          "model_module": "@jupyter-widgets/base",
          "model_name": "LayoutModel",
          "model_module_version": "1.2.0",
          "state": {
            "_model_module": "@jupyter-widgets/base",
            "_model_module_version": "1.2.0",
            "_model_name": "LayoutModel",
            "_view_count": null,
            "_view_module": "@jupyter-widgets/base",
            "_view_module_version": "1.2.0",
            "_view_name": "LayoutView",
            "align_content": null,
            "align_items": null,
            "align_self": null,
            "border": null,
            "bottom": null,
            "display": null,
            "flex": null,
            "flex_flow": null,
            "grid_area": null,
            "grid_auto_columns": null,
            "grid_auto_flow": null,
            "grid_auto_rows": null,
            "grid_column": null,
            "grid_gap": null,
            "grid_row": null,
            "grid_template_areas": null,
            "grid_template_columns": null,
            "grid_template_rows": null,
            "height": null,
            "justify_content": null,
            "justify_items": null,
            "left": null,
            "margin": null,
            "max_height": null,
            "max_width": null,
            "min_height": null,
            "min_width": null,
            "object_fit": null,
            "object_position": null,
            "order": null,
            "overflow": null,
            "overflow_x": null,
            "overflow_y": null,
            "padding": null,
            "right": null,
            "top": null,
            "visibility": null,
            "width": null
          }
        },
        "14c9bbb922494356b5e9ae306378b9ee": {
          "model_module": "@jupyter-widgets/controls",
          "model_name": "DescriptionStyleModel",
          "model_module_version": "1.5.0",
          "state": {
            "_model_module": "@jupyter-widgets/controls",
            "_model_module_version": "1.5.0",
            "_model_name": "DescriptionStyleModel",
            "_view_count": null,
            "_view_module": "@jupyter-widgets/base",
            "_view_module_version": "1.2.0",
            "_view_name": "StyleView",
            "description_width": ""
          }
        },
        "85b3db9005a949f5a3673ec6c1470250": {
          "model_module": "@jupyter-widgets/base",
          "model_name": "LayoutModel",
          "model_module_version": "1.2.0",
          "state": {
            "_model_module": "@jupyter-widgets/base",
            "_model_module_version": "1.2.0",
            "_model_name": "LayoutModel",
            "_view_count": null,
            "_view_module": "@jupyter-widgets/base",
            "_view_module_version": "1.2.0",
            "_view_name": "LayoutView",
            "align_content": null,
            "align_items": null,
            "align_self": null,
            "border": null,
            "bottom": null,
            "display": null,
            "flex": null,
            "flex_flow": null,
            "grid_area": null,
            "grid_auto_columns": null,
            "grid_auto_flow": null,
            "grid_auto_rows": null,
            "grid_column": null,
            "grid_gap": null,
            "grid_row": null,
            "grid_template_areas": null,
            "grid_template_columns": null,
            "grid_template_rows": null,
            "height": null,
            "justify_content": null,
            "justify_items": null,
            "left": null,
            "margin": null,
            "max_height": null,
            "max_width": null,
            "min_height": null,
            "min_width": null,
            "object_fit": null,
            "object_position": null,
            "order": null,
            "overflow": null,
            "overflow_x": null,
            "overflow_y": null,
            "padding": null,
            "right": null,
            "top": null,
            "visibility": null,
            "width": null
          }
        },
        "8381753b2dc04c7b92adf80b3f5e19d6": {
          "model_module": "@jupyter-widgets/controls",
          "model_name": "ProgressStyleModel",
          "model_module_version": "1.5.0",
          "state": {
            "_model_module": "@jupyter-widgets/controls",
            "_model_module_version": "1.5.0",
            "_model_name": "ProgressStyleModel",
            "_view_count": null,
            "_view_module": "@jupyter-widgets/base",
            "_view_module_version": "1.2.0",
            "_view_name": "StyleView",
            "bar_color": null,
            "description_width": ""
          }
        },
        "cc9ac0e76c5743e78a02d98d2283640f": {
          "model_module": "@jupyter-widgets/base",
          "model_name": "LayoutModel",
          "model_module_version": "1.2.0",
          "state": {
            "_model_module": "@jupyter-widgets/base",
            "_model_module_version": "1.2.0",
            "_model_name": "LayoutModel",
            "_view_count": null,
            "_view_module": "@jupyter-widgets/base",
            "_view_module_version": "1.2.0",
            "_view_name": "LayoutView",
            "align_content": null,
            "align_items": null,
            "align_self": null,
            "border": null,
            "bottom": null,
            "display": null,
            "flex": null,
            "flex_flow": null,
            "grid_area": null,
            "grid_auto_columns": null,
            "grid_auto_flow": null,
            "grid_auto_rows": null,
            "grid_column": null,
            "grid_gap": null,
            "grid_row": null,
            "grid_template_areas": null,
            "grid_template_columns": null,
            "grid_template_rows": null,
            "height": null,
            "justify_content": null,
            "justify_items": null,
            "left": null,
            "margin": null,
            "max_height": null,
            "max_width": null,
            "min_height": null,
            "min_width": null,
            "object_fit": null,
            "object_position": null,
            "order": null,
            "overflow": null,
            "overflow_x": null,
            "overflow_y": null,
            "padding": null,
            "right": null,
            "top": null,
            "visibility": null,
            "width": null
          }
        },
        "a585902ba4954c7a987beea799b03176": {
          "model_module": "@jupyter-widgets/controls",
          "model_name": "DescriptionStyleModel",
          "model_module_version": "1.5.0",
          "state": {
            "_model_module": "@jupyter-widgets/controls",
            "_model_module_version": "1.5.0",
            "_model_name": "DescriptionStyleModel",
            "_view_count": null,
            "_view_module": "@jupyter-widgets/base",
            "_view_module_version": "1.2.0",
            "_view_name": "StyleView",
            "description_width": ""
          }
        },
        "cee2e4a670c7412d90637bff471f5f92": {
          "model_module": "@jupyter-widgets/controls",
          "model_name": "HBoxModel",
          "model_module_version": "1.5.0",
          "state": {
            "_dom_classes": [],
            "_model_module": "@jupyter-widgets/controls",
            "_model_module_version": "1.5.0",
            "_model_name": "HBoxModel",
            "_view_count": null,
            "_view_module": "@jupyter-widgets/controls",
            "_view_module_version": "1.5.0",
            "_view_name": "HBoxView",
            "box_style": "",
            "children": [
              "IPY_MODEL_2494dc38155443769f7d06f7c84d80cf",
              "IPY_MODEL_3937a293057a49b4a559ca5523a8911a",
              "IPY_MODEL_4790ed551bf54a88bbe854022d3e0cfd"
            ],
            "layout": "IPY_MODEL_8053c7defd524468907ae574e2bdd889"
          }
        },
        "2494dc38155443769f7d06f7c84d80cf": {
          "model_module": "@jupyter-widgets/controls",
          "model_name": "HTMLModel",
          "model_module_version": "1.5.0",
          "state": {
            "_dom_classes": [],
            "_model_module": "@jupyter-widgets/controls",
            "_model_module_version": "1.5.0",
            "_model_name": "HTMLModel",
            "_view_count": null,
            "_view_module": "@jupyter-widgets/controls",
            "_view_module_version": "1.5.0",
            "_view_name": "HTMLView",
            "description": "",
            "description_tooltip": null,
            "layout": "IPY_MODEL_96b6a91141d647158b213ccf4d704956",
            "placeholder": "​",
            "style": "IPY_MODEL_c3775b53628047ec8eec83c4c0303779",
            "value": "model.safetensors: 100%"
          }
        },
        "3937a293057a49b4a559ca5523a8911a": {
          "model_module": "@jupyter-widgets/controls",
          "model_name": "FloatProgressModel",
          "model_module_version": "1.5.0",
          "state": {
            "_dom_classes": [],
            "_model_module": "@jupyter-widgets/controls",
            "_model_module_version": "1.5.0",
            "_model_name": "FloatProgressModel",
            "_view_count": null,
            "_view_module": "@jupyter-widgets/controls",
            "_view_module_version": "1.5.0",
            "_view_name": "ProgressView",
            "bar_style": "success",
            "description": "",
            "description_tooltip": null,
            "layout": "IPY_MODEL_39fd0572dc4c40ef9b5fe5e57da061dd",
            "max": 714290682,
            "min": 0,
            "orientation": "horizontal",
            "style": "IPY_MODEL_e47afcce675c4c05ba3643284b03b526",
            "value": 714290682
          }
        },
        "4790ed551bf54a88bbe854022d3e0cfd": {
          "model_module": "@jupyter-widgets/controls",
          "model_name": "HTMLModel",
          "model_module_version": "1.5.0",
          "state": {
            "_dom_classes": [],
            "_model_module": "@jupyter-widgets/controls",
            "_model_module_version": "1.5.0",
            "_model_name": "HTMLModel",
            "_view_count": null,
            "_view_module": "@jupyter-widgets/controls",
            "_view_module_version": "1.5.0",
            "_view_name": "HTMLView",
            "description": "",
            "description_tooltip": null,
            "layout": "IPY_MODEL_4fde9b155db54e68ba9be2072f9988ed",
            "placeholder": "​",
            "style": "IPY_MODEL_7749337913ba44bcbe757d82dc950274",
            "value": " 714M/714M [00:05&lt;00:00, 296MB/s]"
          }
        },
        "8053c7defd524468907ae574e2bdd889": {
          "model_module": "@jupyter-widgets/base",
          "model_name": "LayoutModel",
          "model_module_version": "1.2.0",
          "state": {
            "_model_module": "@jupyter-widgets/base",
            "_model_module_version": "1.2.0",
            "_model_name": "LayoutModel",
            "_view_count": null,
            "_view_module": "@jupyter-widgets/base",
            "_view_module_version": "1.2.0",
            "_view_name": "LayoutView",
            "align_content": null,
            "align_items": null,
            "align_self": null,
            "border": null,
            "bottom": null,
            "display": null,
            "flex": null,
            "flex_flow": null,
            "grid_area": null,
            "grid_auto_columns": null,
            "grid_auto_flow": null,
            "grid_auto_rows": null,
            "grid_column": null,
            "grid_gap": null,
            "grid_row": null,
            "grid_template_areas": null,
            "grid_template_columns": null,
            "grid_template_rows": null,
            "height": null,
            "justify_content": null,
            "justify_items": null,
            "left": null,
            "margin": null,
            "max_height": null,
            "max_width": null,
            "min_height": null,
            "min_width": null,
            "object_fit": null,
            "object_position": null,
            "order": null,
            "overflow": null,
            "overflow_x": null,
            "overflow_y": null,
            "padding": null,
            "right": null,
            "top": null,
            "visibility": null,
            "width": null
          }
        },
        "96b6a91141d647158b213ccf4d704956": {
          "model_module": "@jupyter-widgets/base",
          "model_name": "LayoutModel",
          "model_module_version": "1.2.0",
          "state": {
            "_model_module": "@jupyter-widgets/base",
            "_model_module_version": "1.2.0",
            "_model_name": "LayoutModel",
            "_view_count": null,
            "_view_module": "@jupyter-widgets/base",
            "_view_module_version": "1.2.0",
            "_view_name": "LayoutView",
            "align_content": null,
            "align_items": null,
            "align_self": null,
            "border": null,
            "bottom": null,
            "display": null,
            "flex": null,
            "flex_flow": null,
            "grid_area": null,
            "grid_auto_columns": null,
            "grid_auto_flow": null,
            "grid_auto_rows": null,
            "grid_column": null,
            "grid_gap": null,
            "grid_row": null,
            "grid_template_areas": null,
            "grid_template_columns": null,
            "grid_template_rows": null,
            "height": null,
            "justify_content": null,
            "justify_items": null,
            "left": null,
            "margin": null,
            "max_height": null,
            "max_width": null,
            "min_height": null,
            "min_width": null,
            "object_fit": null,
            "object_position": null,
            "order": null,
            "overflow": null,
            "overflow_x": null,
            "overflow_y": null,
            "padding": null,
            "right": null,
            "top": null,
            "visibility": null,
            "width": null
          }
        },
        "c3775b53628047ec8eec83c4c0303779": {
          "model_module": "@jupyter-widgets/controls",
          "model_name": "DescriptionStyleModel",
          "model_module_version": "1.5.0",
          "state": {
            "_model_module": "@jupyter-widgets/controls",
            "_model_module_version": "1.5.0",
            "_model_name": "DescriptionStyleModel",
            "_view_count": null,
            "_view_module": "@jupyter-widgets/base",
            "_view_module_version": "1.2.0",
            "_view_name": "StyleView",
            "description_width": ""
          }
        },
        "39fd0572dc4c40ef9b5fe5e57da061dd": {
          "model_module": "@jupyter-widgets/base",
          "model_name": "LayoutModel",
          "model_module_version": "1.2.0",
          "state": {
            "_model_module": "@jupyter-widgets/base",
            "_model_module_version": "1.2.0",
            "_model_name": "LayoutModel",
            "_view_count": null,
            "_view_module": "@jupyter-widgets/base",
            "_view_module_version": "1.2.0",
            "_view_name": "LayoutView",
            "align_content": null,
            "align_items": null,
            "align_self": null,
            "border": null,
            "bottom": null,
            "display": null,
            "flex": null,
            "flex_flow": null,
            "grid_area": null,
            "grid_auto_columns": null,
            "grid_auto_flow": null,
            "grid_auto_rows": null,
            "grid_column": null,
            "grid_gap": null,
            "grid_row": null,
            "grid_template_areas": null,
            "grid_template_columns": null,
            "grid_template_rows": null,
            "height": null,
            "justify_content": null,
            "justify_items": null,
            "left": null,
            "margin": null,
            "max_height": null,
            "max_width": null,
            "min_height": null,
            "min_width": null,
            "object_fit": null,
            "object_position": null,
            "order": null,
            "overflow": null,
            "overflow_x": null,
            "overflow_y": null,
            "padding": null,
            "right": null,
            "top": null,
            "visibility": null,
            "width": null
          }
        },
        "e47afcce675c4c05ba3643284b03b526": {
          "model_module": "@jupyter-widgets/controls",
          "model_name": "ProgressStyleModel",
          "model_module_version": "1.5.0",
          "state": {
            "_model_module": "@jupyter-widgets/controls",
            "_model_module_version": "1.5.0",
            "_model_name": "ProgressStyleModel",
            "_view_count": null,
            "_view_module": "@jupyter-widgets/base",
            "_view_module_version": "1.2.0",
            "_view_name": "StyleView",
            "bar_color": null,
            "description_width": ""
          }
        },
        "4fde9b155db54e68ba9be2072f9988ed": {
          "model_module": "@jupyter-widgets/base",
          "model_name": "LayoutModel",
          "model_module_version": "1.2.0",
          "state": {
            "_model_module": "@jupyter-widgets/base",
            "_model_module_version": "1.2.0",
            "_model_name": "LayoutModel",
            "_view_count": null,
            "_view_module": "@jupyter-widgets/base",
            "_view_module_version": "1.2.0",
            "_view_name": "LayoutView",
            "align_content": null,
            "align_items": null,
            "align_self": null,
            "border": null,
            "bottom": null,
            "display": null,
            "flex": null,
            "flex_flow": null,
            "grid_area": null,
            "grid_auto_columns": null,
            "grid_auto_flow": null,
            "grid_auto_rows": null,
            "grid_column": null,
            "grid_gap": null,
            "grid_row": null,
            "grid_template_areas": null,
            "grid_template_columns": null,
            "grid_template_rows": null,
            "height": null,
            "justify_content": null,
            "justify_items": null,
            "left": null,
            "margin": null,
            "max_height": null,
            "max_width": null,
            "min_height": null,
            "min_width": null,
            "object_fit": null,
            "object_position": null,
            "order": null,
            "overflow": null,
            "overflow_x": null,
            "overflow_y": null,
            "padding": null,
            "right": null,
            "top": null,
            "visibility": null,
            "width": null
          }
        },
        "7749337913ba44bcbe757d82dc950274": {
          "model_module": "@jupyter-widgets/controls",
          "model_name": "DescriptionStyleModel",
          "model_module_version": "1.5.0",
          "state": {
            "_model_module": "@jupyter-widgets/controls",
            "_model_module_version": "1.5.0",
            "_model_name": "DescriptionStyleModel",
            "_view_count": null,
            "_view_module": "@jupyter-widgets/base",
            "_view_module_version": "1.2.0",
            "_view_name": "StyleView",
            "description_width": ""
          }
        }
      }
    }
  },
  "cells": [
    {
      "cell_type": "markdown",
      "metadata": {
        "id": "view-in-github"
      },
      "source": [
        "<a href=\"https://colab.research.google.com/github/Daishinkan002/Sentiment-Analysis-of-Marathi-Tweets/blob/main/marathi_sentiment_m_bert_bilstm_DL.ipynb\" target=\"_parent\"><img src=\"https://colab.research.google.com/assets/colab-badge.svg\" alt=\"Open In Colab\"/></a>"
      ]
    },
    {
      "cell_type": "markdown",
      "source": [
        "# Import Libraries"
      ],
      "metadata": {
        "id": "T4-RKh__QMPQ"
      }
    },
    {
      "cell_type": "code",
      "source": [
        "import os\n",
        "import re\n",
        "import string\n",
        "from tqdm import tqdm\n",
        "import pandas as pd\n",
        "import tensorflow as tf\n",
        "from multiprocessing import Pool\n",
        "import numpy as np\n",
        "import pickle\n",
        "os.system('pip install -qq transformers')\n",
        "os.system('pip install -q -U watermark')\n",
        "import transformers\n",
        "from transformers import BertModel, BertTokenizer, AdamW, get_linear_schedule_with_warmup\n",
        "import torch\n",
        "from transformers import AutoModel, AutoTokenizer\n",
        "import numpy as np\n",
        "import pandas as pd\n",
        "import seaborn as sns\n",
        "from pylab import rcParams\n",
        "import matplotlib.pyplot as plt\n",
        "from matplotlib import rc\n",
        "from sklearn.model_selection import train_test_split\n",
        "from sklearn.metrics import confusion_matrix, classification_report\n",
        "from collections import defaultdict\n",
        "from textwrap import wrap\n",
        "\n",
        "from torch import nn, optim\n",
        "from torch.utils.data import Dataset, DataLoader\n",
        "import torch.nn.functional as F\n",
        "\n",
        "%matplotlib inline\n",
        "%config InlineBackend.figure_format='retina'\n",
        "\n",
        "sns.set(style='whitegrid', palette='muted', font_scale=1.2)\n",
        "\n",
        "HAPPY_COLORS_PALETTE = [\"#01BEFE\", \"#FFDD00\", \"#FF7D00\", \"#FF006D\", \"#ADFF02\", \"#8F00FF\"]\n",
        "\n",
        "sns.set_palette(sns.color_palette(HAPPY_COLORS_PALETTE))\n",
        "\n",
        "rcParams['figure.figsize'] = 12, 8\n",
        "\n",
        "RANDOM_SEED = 42\n",
        "np.random.seed(RANDOM_SEED)\n",
        "torch.manual_seed(RANDOM_SEED)\n",
        "\n",
        "device = torch.device(\"cuda:0\" if torch.cuda.is_available() else \"cpu\")\n",
        "device"
      ],
      "metadata": {
        "id": "aV6NTQHLP9A7",
        "colab": {
          "base_uri": "https://localhost:8080/"
        },
        "outputId": "835559e6-1403-441d-e080-7d352089a6ae"
      },
      "execution_count": null,
      "outputs": [
        {
          "output_type": "execute_result",
          "data": {
            "text/plain": [
              "device(type='cuda', index=0)"
            ]
          },
          "metadata": {},
          "execution_count": 4
        }
      ]
    },
    {
      "cell_type": "code",
      "source": [
        "%reload_ext watermark\n",
        "%watermark -v -p numpy,pandas,torch,transformers"
      ],
      "metadata": {
        "colab": {
          "base_uri": "https://localhost:8080/"
        },
        "id": "UlnjNs4UQGHI",
        "outputId": "976ff6e7-4490-4203-e605-0841b095cd5d"
      },
      "execution_count": null,
      "outputs": [
        {
          "output_type": "stream",
          "name": "stdout",
          "text": [
            "Python implementation: CPython\n",
            "Python version       : 3.10.12\n",
            "IPython version      : 7.34.0\n",
            "\n",
            "numpy       : 1.26.4\n",
            "pandas      : 2.1.4\n",
            "torch       : 2.4.0+cu121\n",
            "transformers: 4.42.4\n",
            "\n"
          ]
        }
      ]
    },
    {
      "cell_type": "markdown",
      "source": [
        "# Dataset Loading"
      ],
      "metadata": {
        "id": "gaDc0mN-QJA_"
      }
    },
    {
      "cell_type": "code",
      "source": [
        "from google.colab import drive\n",
        "drive.mount('/content/gdrive')"
      ],
      "metadata": {
        "colab": {
          "base_uri": "https://localhost:8080/"
        },
        "id": "nzLM9i3cQYqk",
        "outputId": "6a282c6a-0026-4a6b-e2b0-605e7de37032"
      },
      "execution_count": null,
      "outputs": [
        {
          "output_type": "stream",
          "name": "stdout",
          "text": [
            "Mounted at /content/gdrive\n"
          ]
        }
      ]
    },
    {
      "cell_type": "code",
      "source": [
        "df_train = pd.read_csv('/content/gdrive/MyDrive/OriginalTelgu/Telugu_Train.csv')\n",
        "df_test = pd.read_csv('/content/gdrive/MyDrive/OriginalTelgu/Telugu_Test.csv')\n",
        "df_valid = pd.read_csv('/content/gdrive/MyDrive/OriginalTelgu/Telugu_Valid.csv')\n",
        "\n",
        "\n",
        "# df_train = pd.read_pickle('/content/gdrive/MyDrive/Major_Project/Marathi-Sentiment/Refined_Dataset/marathi_train.pkl')\n",
        "# df_test = pd.read_pickle('/content/gdrive/MyDrive/Major_Project/Marathi-Sentiment/Refined_Dataset/marathi_test.pkl')\n",
        "# df_valid = pd.read_pickle('/content/gdrive/MyDrive/Major_Project/Marathi-Sentiment/Refined_Dataset/marathi_valid.pkl')"
      ],
      "metadata": {
        "id": "zUSPe5MAQb6N"
      },
      "execution_count": null,
      "outputs": []
    },
    {
      "cell_type": "markdown",
      "source": [
        "# Data analysis"
      ],
      "metadata": {
        "id": "6cPfl8pHQreT"
      }
    },
    {
      "cell_type": "code",
      "source": [
        "sns.countplot(df_train.Category)\n",
        "plt.xlabel('Sentiment')"
      ],
      "metadata": {
        "colab": {
          "base_uri": "https://localhost:8080/",
          "height": 727
        },
        "id": "qxDwk1pgQ_j1",
        "outputId": "8d5fdf5b-45d1-43a5-fbcc-a8a01cf8b6b6"
      },
      "execution_count": null,
      "outputs": [
        {
          "output_type": "execute_result",
          "data": {
            "text/plain": [
              "Text(0.5, 0, 'Sentiment')"
            ]
          },
          "metadata": {},
          "execution_count": 8
        },
        {
          "output_type": "display_data",
          "data": {
            "text/plain": [
              "<Figure size 1200x800 with 1 Axes>"
            ],
            "image/png": "[encoded data removed]"
          },
          "metadata": {
            "image/png": {
              "width": 1120,
              "height": 693
            }
          }
        }
      ]
    },
    {
      "cell_type": "code",
      "source": [
        "sns.countplot(df_test.Category)\n",
        "plt.xlabel('Sentiment')"
      ],
      "metadata": {
        "colab": {
          "base_uri": "https://localhost:8080/",
          "height": 727
        },
        "id": "WNfwyyGiRCxK",
        "outputId": "9d95a49d-95d5-4260-b9dd-8257857e3716"
      },
      "execution_count": null,
      "outputs": [
        {
          "output_type": "execute_result",
          "data": {
            "text/plain": [
              "Text(0.5, 0, 'Sentiment')"
            ]
          },
          "metadata": {},
          "execution_count": 9
        },
        {
          "output_type": "display_data",
          "data": {
            "text/plain": [
              "<Figure size 1200x800 with 1 Axes>"
            ],
            "image/png": "[encoded data removed]"
          },
          "metadata": {
            "image/png": {
              "width": 1120,
              "height": 693
            }
          }
        }
      ]
    },
    {
      "cell_type": "code",
      "source": [
        "sns.countplot(df_valid.Category)\n",
        "plt.xlabel('Sentiment')"
      ],
      "metadata": {
        "colab": {
          "base_uri": "https://localhost:8080/",
          "height": 727
        },
        "id": "0wIRz7GKRDKf",
        "outputId": "bbba3367-9f65-40ce-be72-b7308de3c8b3"
      },
      "execution_count": null,
      "outputs": [
        {
          "output_type": "execute_result",
          "data": {
            "text/plain": [
              "Text(0.5, 0, 'Sentiment')"
            ]
          },
          "metadata": {},
          "execution_count": 10
        },
        {
          "output_type": "display_data",
          "data": {
            "text/plain": [
              "<Figure size 1200x800 with 1 Axes>"
            ],
            "image/png": "[encoded data removed]"
          },
          "metadata": {
            "image/png": {
              "width": 1120,
              "height": 693
            }
          }
        }
      ]
    },
    {
      "cell_type": "code",
      "source": [
        "pd.set_option(\"display.max_colwidth\", None)\n",
        "df_train.head(10)"
      ],
      "metadata": {
        "colab": {
          "base_uri": "https://localhost:8080/",
          "height": 1000
        },
        "id": "aSmHI1k8Z7Ji",
        "outputId": "44aba956-2c74-4b73-b1d8-4f04af7352e2"
      },
      "execution_count": null,
      "outputs": [
        {
          "output_type": "execute_result",
          "data": {
            "text/plain": [
              "                                                                                                            Title  \\\n",
              "0                                        Digestive Biscuits: ఆ బిస్కెట్లు ఆరోగ్యానికి మంచిది కావా? ఏం జరుగుతుంది?   \n",
              "1                                         AIIMS: నాగ్‌పూర్‌ ఎయిమ్స్‌లో 73 సీనియర్‌ రెసిడెంట్ పోస్టులు, అర్హతలివే!   \n",
              "2              Gold-Silver Price 08 October 2023: మళ్లీ పెరిగే ప్రయత్నంలో గోల్డ్‌ - ఈ రోజు బంగారం, వెండి ధరలు ఇవి   \n",
              "3                                   నిజామాబాద్‌లో పాలిటెక్నిక్ విద్యార్థి సూసైడ్‌- పరీక్షల భయమేనంటున్న ఫ్రెండ్స్!   \n",
              "4                                  Kamareddy News : ప్రభుత్వ ఆఫీస్ ను బార్ లా మార్చేసిన తహసీల్దార్, మందేస్తూ మజా!   \n",
              "5              Smartphones Under 15000: రూ.15,000 లోపు లభించే బెస్ట్ స్మార్ట్ ఫోన్లు ఇవే - అన్ని ఫీచర్లు అదుర్స్!   \n",
              "6  Omicron Variant: ఒమిక్రాన్‌ కోసం మరో కొత్త వ్యాక్సిన్ అవసరం కానుందా? దీనిపై వ్యాక్సిన్ తయారీదారులు ఏమంటున్నారు   \n",
              "7               త్రివిక్రమ్ 10 నిమిషాల్లో నా స్క్రిప్ట్ మొత్తం మార్చేశారు, అది 3 నిమిషాల్లో చెప్పిన కథ: సముద్రఖని   \n",
              "8            Annamayya District News : ఓ నిర్ణయం తీసుకుని ఇంటికి తిరిగి వస్తానని, ఇద్దరు పిల్లలతో వివాహిత సూసైడ్!   \n",
              "9                                                          ముస్లిం దంపతులను కొట్టి చంపిన హిందువులు, యూపీలో దారుణం   \n",
              "\n",
              "        Category  \\\n",
              "0      lifestyle   \n",
              "1           jobs   \n",
              "2       business   \n",
              "3          crime   \n",
              "4          crime   \n",
              "5           tech   \n",
              "6          world   \n",
              "7  entertainment   \n",
              "8          crime   \n",
              "9          crime   \n",
              "\n",
              "                                                                                                                                                                                                                                                                                                                                                                                                                                                                                                                                                                                                                                                                                                                                                                                                                                                                                                                                                                                                                                                                                                                                                                                                                                                                                                                                                                                                                                                                                                                                                                                                                                                                                                                                                                                                                                                                                                                                                                                                                                                                                                                                                                                                                                                                                                                                                                                                                                                                                                                                                                                                                                                                                                                                                                                                                                                                                                                                                                                                                                                                                                                                                                                                          News  \\\n",
              "0                                                                                                                                                                                                                                                                                                                                                                                                                                                                                              టీ కప్పుతో పాటు చాలా మంది డైజెస్టివ్ బిస్కెట్స్ కూడా పెట్టుకుని తింటారు. తక్కువ కేలరీలు, అధిక ఫైబర్ ప్రత్యామ్నాయాలుగా ఉండే ఈ కుకీస్ ఆరోగ్యానికి మంచిదని భావిస్తారు. నోట్లో వేసుకుంటేనే కరిగిపోయే విధంగా తక్కువ తీపి రుచిని కలిగి ఉంటాయి. ముతక గోధుమ పిండి, కృత్రిమ రైజింగ్ ఏజెంట్లు, ఉప్పుతో తయారు చేస్తారు. రుచిని బట్టి బిస్కెట్లలో కొన్ని సార్లు ఓట్  మీల్, కల్చర్డ్ స్కిమ్డ్ మిల్క్, గింజల పొడి కూడా కలుపుతారు. ఆకలిని తగ్గించేందుకు, జీర్ణక్రియ మెరుగు పడేందుకు, బరువు తగ్గేందుకు సహాయపడే ఫైబర్ పుష్కలంగా ఉంటుంది. వీటిని తింటే ఆరోగ్యానికి మేలు చేస్తాయని అనుకుంటారు. కానీ ఈ డైజెస్టివ్ బిస్కెట్స్ క్రమం తప్పకుండా తీసుకోవడం వల్ల కొన్ని దుష్ప్రభావాలు ఉన్నాయి.ఆయిల్, మాల్ట్ ఎక్స్ ట్రాక్ట్, రైజింగ్ ఏజెంట్ వంటి పదార్థాలు డైజెస్టివ్ బిస్కెట్స్ లో ఉపయోగిస్తారు. ఆరోగ్య నిపుణుల అభిప్రాయం ప్రకారం ఈ బిస్కెట్లను అతిగా తినడం వల్ల ఎక్కువ హాని చేస్తుంది.డైజెస్టివ్ బిస్కెట్స్ ఎక్కువగా గోధుమలతో తయారవుతాయి. వీటిలో ఇనులిన్ అధికంగా ఉంటుంది. ఈ సమ్మేళనం సహజమైన అరటి పండ్లు, గోధుమలు, ఉల్లిపాయలు, వెల్లుల్లి వంటి అనేక ఇతర ఆహారాల్లో లభించే కార్బోహైడ్రేట్ ఫైబర్. ఇనులిన్ చిన్న పేగుల గుండా పెద్ద పేగుకు వెళుతుంది. అక్కడ అది మంచి బ్యాక్టీరియా పెరుగుదలను ప్రేరేపిస్తుంది.. చాలా మందిలో ఇది గ్యాస్, ఉబ్బరం, ఆపానవాయువు, విరోచనాలకు కారణమవుతుంది. అలాగే మాల్ట్ సారం అధికంగా తీసుకున్నప్పుడు ఆపానవాయువుకు కారణమవుతుంది.ఇందులో వాడే కూరగాయల నూనె ఉడికించినప్పుడు ట్రాన్స్ ఫ్యాట్లను ఉత్పత్తి చేస్తుంది. ఈ ట్రాన్స్ ఫ్యాట్ ఆరోగ్యానికి హానికరం. దగ్గుకు కారణమవుతుంది. జపనీస్ సొసైటీ ఆఫ్ ఇంటర్నల్ మెడిసిన్ నిర్వహించిన ఒక అధ్యయనం ప్రకారం కూరగాయల నూనె లైపోయిడ్ న్యుమోనియాకు కారణమవుతుంది. దీని వల్ల విపరీతమైన దగ్గు వస్తుంది.చాలా మందికి సోడియం బైకార్బొనేట్ వంటి ఏజెంట్లను పెంచడం వల్ల అలర్జీ ఉంటుంది. దీని ఎక్కువగా బిస్కెట్లు, బ్రెడ్లు,బేక్డ్ ఉత్పత్తులలో ఉపయోగిస్తారు. డైజెస్టివ్ బిస్కెట్లు సోడియం బైకార్బోనెట్ లు ఉపయోగిస్తాయి. దీన్ని అతిగా తీసుకుంటే దాహం వేస్తుంది. కడుపు తిమ్మిరి, గ్యాస్ వంటి సమస్యలు ఎదురవుతాయి.ఆరోగ్య నిపుణుల అభిప్రాయం ప్రకారం అధిక రక్తపోటు, గుండె వైఫల్యం లేదా మూత్రపిండాల వ్యాధి వంటి కొన్ని ఆరోగ్య పరిస్థితులు ఉన్న వాళ్ళు డైజెస్టివ్ బిస్కెట్స్ తింటే దుష్ప్రభావాలు ఎక్కువగా ఉంటాయి. సోడియం బైకార్బోనేట్ కడుపును గ్యాస్ ఏర్పరుస్తుంది. పేరుకే డైజెస్టివ్ బిస్కెట్స్ ఆరోగ్యమని అంటారు. కానీ ఇవి కూడా సాధారణ బిస్కెట్స్ మాదిరిగానే మారిపోయాయి. వీటిలో సంతృప్త కొవ్వులు ఉంటాయి. అందుకే వీటిని అతిగా తినడం మంచిది కాదు.గమనిక: పలు అధ్యయనాలు, పరిశోధనల నుంచి సేకరించిన సమాచారాన్ని ఇక్కడ యథావిధిగా అందించాం. ఇది వైద్య నిపుణుల సూచనలకు ప్రత్యామ్నాయం కాదు. తప్పకుండా వైద్యుడు లేదా ఆహార నిపుణుల సలహా తీసుకున్న తర్వాతే ఈ ఆహారాన్ని మీ డైట్‌లో చేర్చుకోవాలి. ఈ సమాచారం కేవలం మీ అవగాహన కోసమే.Also Read: లిప్ స్టిక్ వల్ల పెదాలు నల్లగా మారిపోతున్నాయా? ఇలా చేస్తే ఆ సమస్యే ఉండదు   \n",
              "1  నాగ్‌పూర్‌లోని ఆల్ ఇండియా ఇన్‌స్టిట్యూట్ ఆఫ్ మెడికల్ సైన్సెస్(ఎయిమ్స్) వివిధ విభాగాలో ఖాళీగా ఉన్న సీనియర్‌ రెసిడెంట్ పోస్టుల భర్తీకి నోటిఫికేషన్ విడుదల చేసింది. దీనిద్వారా మొత్తం 73 పోస్టులను భర్తీ చేయనున్నారు. సంబంధిత స్పెషలైజేషన్‌లో పీజీ డిగ్రీ ఉత్తీర్ణత ఉన్నవారు దరఖాస్తు చేసుకోవడానికి అర్హులు. సరైన అర్హతలు గల అభ్యర్థులు ఆన్‌లైన్ ద్వారా దరఖాస్తులు సమర్పించాలి. ఈ పోస్టులకి దరఖాస్తు ప్రక్రియ జూన్ 9న ప్రారంభమైంది. జులై 8 వరకు దరఖాస్తు చేసుకోవచ్చు.  వివరాలు..మొత్తం ఖాళీలు: 73* సీనియర్‌ రెసిడెంట్‌ పోస్టులువిభాగాలు: అనస్థీషియాలజీ, అనాటమీ, ప్రసూతి శాస్త్రం & గైనకాలజీ, పీడియాట్రిక్స్, ఫార్మకాలజీ, జనరల్ మెడిసిన్, ఫిజికల్ మెడిసిన్, సర్జికల్ గ్యాస్ట్రోఎంటరాలజీ, యారాలజీ, పాథాలజీ, సైకాయాట్రీ తదితరాలు.అర్హత: సంబంధిత స్పెషలైజేషన్‌లో పీజీ డిగ్రీ ఉత్తీర్ణత.వయోపరిమితి: 45 సంవత్సరాలు మించకూడదు.దరఖాస్తు ఫీజు: జనరల్/ఈడబ్ల్యూఎస్/ఓబీసీ అభ్యర్థులకు రూ.500. ఎస్సీ/ఎస్టీ అభ్యర్థులకు రూ.250. పీడబ్ల్యూడీ అభ్యర్థులకు దరఖాస్తు ఫీజు నుంచి మినహాయింపు ఉంది.దరఖాస్తు విధానం: ఆన్‌లైన్‌ ద్వారా దరఖాస్తు చేసుకోవాలి.ఎంపిక విధానం: ఇంటర్వ్యూ ద్వారా ఎంపిక చేస్తారు.జీతభత్యాలు: నెలకు రూ.67700 చెల్లిస్తారు.ముఖ్యమైన తేదీలు..➥ ఆన్‌లైన్‌ దరఖాస్తు ప్రక్రియ ప్రారంభం: 09.06.2023.➥ ఆన్‌లైన్‌ దరఖాస్తు చివరి తేది: 08.07.2023. NotificationWebsiteAlso Read:టీహెచ్‌డీసీ లిమిటెడ్‌లో 181 జూనియర్ ఇంజినీర్ ట్రైనీ పోస్టులు, వివరాలు ఇలా!ఉత్తరాఖండ్ రాష్ట్రం డెహ్రాడూన్‌లోని తెహ్రీ హైడ్రో డెవలప్‌మెంట్ కార్పొరేషన్ ఇండియా లిమిటెడ్(టీహెచ్‌డీసీ) జూనియర్ ఇంజినీర్ ట్రైనీ పోస్టుల భర్తీకి నోటిఫికేషన్ విడుదల చేసింది. దీనిద్వారా మొత్తం 181 పోస్టులను భర్తీ చేయనున్నారు. సంబంధిత విభాగంలో డిప్లొమా, బీఎస్సీ, బీఈ, బీటెక్‌ ఉత్తీర్ణత ఉన్నవారు దరఖాస్తు చేసుకోవడానికి అర్హులు. సరైన అర్హతలు గల అభ్యర్థులు ఆన్‌లైన్ ద్వారా దరఖాస్తులు సమర్పించాలి. జూన్ 9 నుంచి దరఖాస్తు ప్రక్రియ ప్రారంభంకానుంది. అభ్యర్థులు జూన్ 30 వరకు దరఖాస్తులు సమర్పించవచ్చు. కంప్యూటర్ బేస్డ్ టెస్ట్, ఇంటర్వ్యూ/ వైవా ద్వారా ఎంపిక చేస్తారు. నోటిఫికేషన్, పోస్టుల వివరాల కోసం క్లిక్ చేయండి..బీఈఎల్‌లో ప్రొబేషనరీ, సీనియర్ ఇంజినీర్‌ పోస్టులు, అర్హతలివే!బెంగళూరులోని భారత్ ఎలక్ట్రానిక్స్ లిమిటెడ్ (బీఈఎల్) ప్రొబేషనరీ ఇంజినీర్ & సీనియర్ ఇంజినీర్ పోస్టుల భర్తీకి నోటిఫికేషన్ విడుదల చేసింది. దీనిద్వారా మొత్తం 11 పోస్టులను భర్తీ చేయనున్నారు. పోస్టుని అనుసరించి సంబంధిత స్పెషలైజేషన్‌‌లో ఎంఎస్‌సీ(టెక్), ఎంఈ/ఎంటెక్, బీఈ/ బీటెక్‌ ఉత్తీర్ణత ఉన్నవారు దరఖాస్తు చేసుకోవడానికి అర్హులు. సరైన అర్హతలు గల అభ్యర్థులు ఆఫ్‌లైన్ ద్వారా దరఖాస్తులు సమర్పించాలి. ఈ పోస్టులకి ఇప్పటికే దరఖాస్తు ప్రక్రియ ప్రారంభం కాగా జూన్ 23 వరకు దరఖాస్తు చేసుకోవచ్చు. రాతపరీక్ష, ఇంటర్వ్యూ ద్వారా ఉద్యోగ ఎంపిక ఉంటుంది. నోటిఫికేషన్, పోస్టుల వివరాల కోసం క్లిక్ చేయండి.. విశాఖపట్నం జిల్లాలో 34 అంగన్‌వాడీ పోస్టులు, వివరాలు ఇలా!విశాఖపట్నం జిల్లా మహిళా అభివృద్ధి, శిశు సంక్షేమ శాఖ పరిధిలోని ఐసీడీఎస్ ప్రాజెక్టుల్లోని అంగన్వాడీ కేంద్రాల్లో అంగన్వాడీ వర్కర్, అంగన్‌వాడీ హెల్పర్ ఖాళీల భర్తీకి నోటిఫికేషన్ విడుదల చేసింది. దీనిద్వారా మొత్తం 34 పోస్టులను భర్తీ చేయనున్నారు. 10వ తరగతి ఉత్తీర్ణత ఉన్నవారు దరఖాస్తు చేసుకోవడానికి అర్హులు. సరైన అర్హతలు గల అభ్యర్థులు ఆఫ్‌లైన్ ద్వారా దరఖాస్తులు సమర్పించాలి. జూన్ 15 వరకు దరఖాస్తులు సమర్పించవచ్చు. నోటిఫికేషన్, పోస్టుల వివరాల కోసం క్లిక్ చేయండి.. మరిన్ని ఉద్యోగ వార్తల కోసం క్లిక్ చేయండి..   \n",
              "2                                                                                                                                                                                                                                                                                                                    Gold-Silver Price Today 08 October 2023: అంతర్జాతీయ మార్కెట్‌లో పసిడి మళ్లీ నిలదొక్కుకునే ప్రయత్నం చేస్తోంది, అయితే వరుసగా రెండో వారం కూడా నష్టాలతో ముగిసింది. ప్రస్తుతం, ఔన్స్‌ (28.35 గ్రాములు) బంగారం ధర 1,847 డాలర్ల వద్ద ఉంది. మన దేశంలో 10 గ్రాముల ఆర్నమెంట్‌ బంగారం ధర ₹ 250, స్వచ్ఛమైన పసిడి ధర ₹ 310 చొప్పున పెరిగాయి. కిలో వెండి రేటు ₹ 1500 పైకి చేరింది.తెలుగు రాష్ట్రాల్లో ఇవాళ బంగారం, వెండి రేట్లు:తెలంగాణలో బంగారం, వెండి ధరలు (Gold Rates in Telangana)హైదరాబాద్‌ (Gold Rate in Hyderabad) మార్కెట్‌లో 10 గ్రాముల (తులం) 22 క్యారెట్ల బంగారం ధర ₹ 52,750 కి చేరింది. 10 గ్రాముల 24 క్యారెట్ల బంగారం ధర ₹ 57,540 గా ఉంది. కిలో వెండి ధర హైదరాబాద్ మార్కెట్‌లో ₹ 75,000 గా ఉంది. ఏపీ, తెలంగాణవ్యాప్తంగా ఇదే ధర అమల్లో ఉంది.ఆంధ్రప్రదేశ్‌లో బంగారం, వెండి ధరలు (Gold Rates in Andhra Pradesh)విజయవాడలో ‍(Gold Rate in Vijayawada) 10 గ్రాముల 22 క్యారెట్ల ఆర్నమెంటు బంగారం ధర ₹ 52,750 కి చేరింది. 24 క్యారెట్ల బిస్కెట్ బంగారం ధర ₹ 57,540 గా నమోదైంది. ఇక్కడ కిలో వెండి ధర ₹ 75,000 గా ఉంది. విశాఖపట్నం (Gold Rate in Visakhapatnam) మార్కెట్‌లో బంగారం, వెండికి విజయవాడ రేటే అమలవుతోంది. దేశంలోని వివిధ నగరాల్లో పసిడి ధరలు (Today's Gold Rate in Major Cities) చెన్నైలో (Gold Rate in Chennai) 22 క్యారెట్ల ఆభరణాల బంగారం ధర ఇవాళ ₹ 53,700 గా ఉండగా, 24 క్యారెట్ల బంగారం ధర ₹ 58,580 కి చేరింది. కోయంబత్తూలోనూ ఇదే రేటు అమల్లో ఉంది.ముంబయిలో (Gold Rate in Mumbai) 22 క్యారెట్ల బంగారం ధర ₹ 52,750 గా ఉండగా, 24 క్యారెట్ల బంగారం ధర ₹ 57,540 కి చేరింది. పుణెలోనూ ఇదే రేటు అమల్లో ఉంది.దిల్లీలో (Gold Rate in Delhi) 22 క్యారెట్ల ఆభరణాల బంగారం ధర ₹ 52,900 గా ఉండగా, 24 క్యారెట్ల బంగారం ధర ₹ 57,690 గా నమోదైంది. జైపుర్‌, లఖ్‌నవూలోనూ ఇదే రేటు అమల్లో ఉంది.కోల్‌కతా (Gold Rate in Kolkata) 22 క్యారెట్ల ఆభరణాల బంగారం ధర ₹ 52,750 గా, 24 క్యారెట్ల బంగారం ధర ₹ 57,540 గా ఉంది. నాగ్‌పుర్‌లోనూ ఇదే రేటు అమల్లో ఉంది.బెంగళూరులో (Gold Rate in Bangalore) 22 క్యారెట్ల ఆభరణాల బంగారం ధర ₹ 52,750 గా, 24 క్యారెట్ల బంగారం ధర ₹ 57,540 గా ఉంది. మైసూరులోనూ ఇదే రేటు అమల్లో ఉంది.కేరళలో (Gold Rate in Kerala) 22 క్యారెట్ల ఆభరణాల బంగారం ధర ₹ 52,750 గా, 24 క్యారెట్ల బంగారం ధర ₹ 57,540 గా ఉంది. భవనేశ్వర్‌లోనూ ఇదే రేటు అమల్లో ఉంది.ప్లాటినం ధర (Today's Platinum Rate)10 గ్రాముల 'ప్లాటినం' ధర ₹ 510 పెరిగి ₹ 23,430 వద్దకు చేరింది. హైదరాబాద్‌, విజయవాడ, విశాఖపట్నం సహా దేశంలోని ఇతర నగరాల్లోనూ ఇదే ధర అమల్లో ఉంది.ధరల్లో మార్పులు ఎందుకు?పసిడి, వెండి, ప్లాటినం సహా అలంకరణ లోహాల ధరలు ప్రతిరోజూ మారుతుంటాయి. ప్రపంచవ్యాప్తంగా జరిగే అనేక పరిణామాల మీద ఈ మార్పులు ఆధారపడి ఉంటాయి. అంతర్జాతీయ మార్కెట్‌లో ధరలు పెరగడం లేదా తగ్గడం వల్ల మన దేశంలో ధరలు మారుతుంటాయి. ప్రపంచ మార్కెట్‌లో అలంకరణ లోహాల రేట్లు పెరగడానికి, తగ్గడానికి చాలా కారకాలు పని చేస్తాయి. ద్రవ్యోల్బణం, ప్రపంచ కేంద్ర బ్యాంకుల వద్ద బంగారం నిల్వలు, వడ్డీ రేట్ల పెరుగుదల లేదా తగ్గుదల, వివిధ జ్యువెలరీ మార్కెట్లలోని డిమాండ్‌లో హెచ్చుతగ్గులు వంటి ఎన్నో అంశాలు అలంకరణ లోహాల ధరలను ప్రభావితం చేస్తాయి.   \n",
              "3                                                                                                                                                                                                                                                                                                                                                                                                                                                                                                                                                                                                                                                                                                                                                                                                                                                                                                                                                                                                                                                                                                                                                                                                                                                                                                                                                                                                                                                                                                                                                                                                                                                                                                                                                                                                                                                   పరీక్షల భయం ఓ విద్యార్థిని ప్రాణం తీసింది. నిజామాబాద్‌లో జరిగిన ఈ దుర్ఘటన అందర్నీ విషాదంలో నింపింది. స్థానిక  వీఆర్‌ఈసీ ఇంజనీరింగ్ కాలేజీలో చదువుతున్న విద్యార్థిని పరీక్షల భయంతో బిల్డింగ్‌పై నుంచి దూకేసింది. నిజామాబాద్‌లోని వీఆర్‌ఈసీ ఇంజనీరింగ్ కాలేజీలో చదువుతున్న పదిహేడేళ్ల అక్షిత సూసైడ్‌ చేసుకోవడం కలకలం రేపింది. పాలిటెక్నిక్ మొదటి సంవత్సరం చదువుతున్న అక్షిత ఆదివారం అర్థరాత్రి ఆత్మహత్య చేసుకుంది. కాలేజీ హాస్టల్‌ భవనంపై నుంచి దూకి బలవన్మరణానికి పాల్పడింది. అక్షిత సూసైడ్ విషయం గమనించిన తోటి విద్యార్థులు విషయాన్ని కాలేజీ సిబ్బందికి చెప్పారు. వెంటనే ఈ స్పందించిన ఆమెను స్థానికంగా ఉన్న ఓ ప్రైవేటు ఆసుపత్రికి తరలించారు. అక్కడే చికిత్స పొందుతూ అక్షిత మృతి చెందింది. అక్షిత పాలిటెక్నిక్‌ ఈసీఈ విద్యార్థిని. ఇటీవలే మొదటి సెమిస్టర్ పరీక్షలు జరిగాయి. ఆమె ఒక సబ్జెక్ట్‌లో తప్పింది.  మొదటి సెమిస్టర్‌లోనే ఒక సబ్జెక్ట్‌ తప్పిన అక్షితకు పరీక్షలంటేనే భయం పట్టుకుంది. తరచూ తోటి స్నేహితుల వద్ద ఈ విషయాన్ని ప్రస్తావించేది. రేపటి(మంగళవారం) నుంచి రెండో సమిస్టర్ పరీక్షలు ప్రారంభం కానున్నాయి. ఇందులో ఫెయిల్ అవుతానేమో అన్న భయంతో సూసైడ్ చేసుకుంది. అయితే అక్షిత మృతిపై తల్లిదండ్రులు అనుమానం వ్యక్తం చేస్తున్నారు. తమ బిడ్డ సూసైడ్ చేసుకునేంత పిరికిది కాదని... పరీక్షలు అంటే ఎప్పుడూ భయపడేది కాదని అంటున్నారు. దీంతో తల్లిదండ్రుల ఫిర్యాదు మేరకు పోలీసులు కేసు నమోదు చేసుకున్నారు. దర్యాప్తు చేసి పూర్తి వివరాలు వెల్లడిస్తామన్నారు.    \n",
              "4                                                                                                                                                                                                                                                                                                                                                                                                                                                                                                                                                                                                                     Kamareddy News :  కామారెడ్డి జిల్లాలో ఓ తహసీల్దార్ ప్రభుత్వ గెస్ట్ హౌస్ లో మందేసి మజా చేశారు. నాగర్ కర్నూల్ నుంచి బదిలీపై వచ్చిన తహసీల్దార్ సుధాకర్, వీఆర్ఏ సాయిలుతో కలిసి గురువారం రాత్రి ప్రభుత్వ గెస్ట్ హౌస్ లో మద్యం సేవించారు. నిన్నటిరోజే విధుల్లో జాయిన్ అయిన తహసీల్దార్ సుధాకర్ మందు పార్టీలో చిక్కడం వివాదాస్పదం అవుతోంది.  వీఆర్ఏ సాయిలుతో కలిసి ప్రభుత్వ గెస్ట్ హౌస్ లో మందు పార్టీ చేసుకోవడాన్ని మీడియా బట్టబయలు చేసింది. బదిలీపై వచ్చి బార్ తెరిచి! నాగర్  కర్నూల్ నుంచి బదిలీపై వచ్చిన తహసీల్దార్ సుధాకర్ ఎల్లారెడ్డి తహసీల్దార్ కార్యాలయం గౌస్ట్ హౌస్ లో  మందు తాగుతూ అడ్డంగా దొరికిపోయారు. వీఆర్వో సాయిలును వెంటేసుకుని ఏకంగా ప్రభుత్వ కార్యాలయంలోనే మందు దుకాణం పెట్టాడు. బుధవారం సుధాకర్ కొత్తగా విధుల్లో జాయిన్ అయ్యారు. వచ్చిన మొదటి రోజు నుంచే కార్యాలయాన్ని ఏకంగా బార్ అండ్ రెస్టారెంట్ గా మార్చేశారని విమర్శలు వస్తున్నాయి. తహసీల్దార్  ప్రభుత్వ గెస్ట్ హౌస్ లో ఉంటున్నారు. అక్కడ కూడా వీఆర్ఏ సాయిలుతో కలిసి మందు తాగాడు. నాగర్  కర్నూల్ నుంచి బదిలీపై వచ్చిన సుధాకర్ ఇలాంటి పనులు చేయడం పట్ల పలువురు విమర్శిస్తున్నారు. ఇంట్లో నోట్ల కట్టలుమహారాష్ట్రలోని జల్నా జిల్లాలోని ఓ బిజినెస్‌ గ్రూప్‌పై ఆదాయపు పన్ను శాఖ ఇటీవల విస్తృతంగా సోదాలు చేపట్టింది. ఈ తనిఖీల్లో పెద్ద ఎత్తున నోట్ల కట్టలు బయటపడ్డాయి. దాదాపు రూ.56 కోట్ల నగదు లభ్యమవ్వగా.. దీన్ని లెక్కించడానికి అధికారులకు ఏకంగా 13 గంటల సమయం పట్టిందట. దీంతో పాటు వందల కోట్ల విలువైన బినామీ ఆస్తులను అధికారులు గుర్తించారు. జల్నాలో స్టీల్‌, వస్త్రాలు, రియల్‌ ఎస్టేల్‌ వ్యాపారం చేసే ఓ సంస్థ గత కొన్నేళ్లుగా పన్ను ఎగవేతకు పాల్పడినట్లు ఆదాయపు పన్ను శాఖకు విశ్వసనీయ సమాచారం అందింది. దీంతో ఈ నెల 1 నుంచి 8 వరకు 260 మంది ఐటీ సిబ్బంది ఐదు బృందాలుగా ఏర్పడి జిల్లా వ్యాప్తంగా విస్తృతంగా సోదాలు చేపట్టారు. ఆ సంస్థ యజమాని ఇళ్లు, కార్యాలయాల్లో తనిఖీలు జరిపారు.ఈ సోదాల్లో మొత్తం రూ.56 కోట్ల నగదు, రూ.14 కోట్ల విలువైన బంగారు, వజ్రాభరణాలను అధికారులు జప్తు చేసుకున్నారు. ఇతర ఆస్తులను చెందిన డిజిటల్‌ డేటా, పత్రాలను స్వాధీనం చేసుకున్నారు. ఈ నగదు మొత్తాన్ని అధికారులు ఐటీ ఆఫీసుకు తీసుకురాగా.. 13 గంటలకు పైగా శ్రమించి లెక్కించారట. ఈ సోదాల్లో దాదాపు రూ.390 కోట్ల మేర లెక్కల్లోకి రాని బినామీ ఆస్తులను గుర్తించినట్లు అధికారులు తెలిపారు. నోట్ల కట్టలకు సంబంధించిన ఫొటోలు ప్రస్తుతం సోషల్‌ మీడియాలో వైరల్‌గా మారాయి. అయితే వీరిదంతా పన్నులు ఎగ్గొట్టి చేసే వ్యాపారమే కానీ రాజకీయాలతో సంబంధం లేదని భావిస్తున్నారు. ఈ అంశంపై ఐటీ అధికారులు లోతుగా విచారణ జరుపుతున్నారు. రాజకీయ లింకులు ఉంటే.. సంచలనాత్మకం అయ్యే అవకాశం ఉంది. Also Read : Nizamabad: పెళ్లి చేయట్లేదని తండ్రి, బాబాయ్‌ హత్య - కర్రతో చావ బాదిన కొడుకు!Also Read : Hyderabad Crime : జీడిమెట్లలో దారుణం, బ్యూటిషన్ పై స్నేహితుడే అత్యాచారం!   \n",
              "5                                                                                                                                                                                                                                                                                                                                                                                                                                                                                                                                                                                                                                                                                                                                                                                                                                                                                         ప్రస్తుతం తక్కువ ధరలో మంచి స్మార్ట్ ఫోన్లు అందుబాటులో ఉన్నాయి. మధ్య తరగతి వినియోగదారుల బడ్జెట్ ధరలోనే అదిరిపోయే ఫీచర్లతో పలు ఫోన్లు లభిస్తున్నాయి. Samsung Galaxy F04, Oppo K10, Motorola G62 5G లాంటి లేటెస్ట్ స్మార్ట్ ఫోన్లు సైతం రూ. 15 వేలలోపే కొనుగోలు చేసే అవకాశం ఉంది. రూ.15 వేలల్లో లభించిన 5 బెస్ట్ స్మార్ట్ ఫోన్లను లిస్టు చేసి పెట్టాం. జస్ట్ చూసి, మీకు నచ్చిన స్మార్ట్ ఫోన్ ను కొనుగోలు చేసుకోవచ్చు.MediaTek P35 చిప్‌సెట్, RAM ప్లస్ ఫీచర్ తో Android 12పై రన్ అవుతోంది. 13MP+2MP డ్యూయల్ రియర్ కెమెరా సెటప్ ను కలిగి ఉంది.  ఈ స్మార్ట్ ఫోన్ గరిష్టంగా 8GB RAMతో వస్తుంది. ఈ ఫోన్ జాడే పర్పుల్, ఒపాల్ గ్రీన్ అనే రెండు స్టైలిష్ రంగులలో లభిస్తుంది. 4GB+64GB స్టోరేజ్ వేరియంట్‌ ఫోన్ ధర రూ. 9,499గా కంపెనీ నిర్ణయించింది. Samsung.com, Flipkartతో పాటు ఎంపిక చేసిన రిటైల్ అవుట్‌లెట్లలో అందుబాటులో ఉంది.  It’s #F4Fast, and it’s F 4 Finally here. The new Samsung Galaxy F04 comes loaded with amazing features, and you can grab one before anyone else. Match the features correctly and leave the right answers in the comments to win the #GalaxyF04, F 4 Free. T&C apply. pic.twitter.com/FN8kosSJgT\\n\\nPoco M4 Pro స్మార్ట్ ఫోన్ మూడు వేరియంట్స్ లో లభిస్తోంది. 6GB/64GB వేరియంట్ ధర రూ. 14,999,  6GB/128GB వేరియంట్ ధర రూ. 16,499, 8GB/128GB వేరియంట్ ధర రూ. 17,999గా కంపెనీ నిర్ణయించింది.ప్రస్తుతం Oppo K10 స్మార్ట్ ఫోన్ రూ.13,990 తగ్గింపు ధరతో అందుబాటులో ఉంది. 6GB RAM, 128GB స్టోరేజ్ వేరియంట్‌ను Flipkartలో ఎక్స్ఛేంజ్, బ్యాంక్ ఆఫర్లను ఉపయోగించి కూడా పొందవచ్చు. ఈ ఫోన్ Qualcomm Snapdragon 680 చిప్‌సెట్‌తో రన్ అవుతుంది. 6.59 అంగుళాల డిస్‌ ప్లే, ట్రిపుల్ రియర్ కెమెరా సెటప్, 5000mAh బ్యాటరీ ఉంది.Realme 9 5G స్మార్ట్ ఫోన్ 4GB RAM, 64GB స్టోరేజ్ వేరియంట్ ప్రస్తుతం ఫ్లిప్‌కార్ట్‌ లో రూ. 15,999 తగ్గింపు ధరతో అందుబాటులో ఉంది. Mediatek డైమెన్సిటీ 810 చిప్‌సెట్ ద్వారా ఈ ఫోన్ రన్ అవుతోంది. ఈ ఫోన్ 6.5 అంగుళాల డిస్‌ప్లే, ట్రిపుల్ రియర్ కెమెరా సెటప్, 5000mAH బ్యాటరీతో పాటు పలు లేటెస్ట్ ఫీచర్లు ఉన్నాయి. Motorola G62 5GMotorola G62 5G స్మార్ట్ ఫోన్ 6GB RAM, 128GB స్టోరేజ్ వేరియంట్ ధర ప్రస్తుతం రూ 14,999కి Flipkartలో అందుబాటులో ఉంది. Qualcomm Snapdragon 695 చిప్‌సెట్ ద్వారా రన్ అవుతుంది. ఈ ఫోన్ 6.55 అంగుళాల డిస్‌ప్లే, ట్రిపుల్ రియర్ కెమెరా సెటప్, 5000mAh బ్యాటరీ ఉంది.Read Also: వాట్సాప్ నుంచి మరో చక్కటి ఫీచర్ - ఈ ఆప్షన్‌తో ఇకపై ఈజీగా కాల్ చేసుకోవచ్చు!   \n",
              "6                   కొవిడ్‌-19లో కొత్త వేరియంట్‌ ఒమిక్రాన్‌ దక్షిణాఫ్రికాలో బయటపడిన తర్వాత ప్రపంచం మరోసారి తల్లడిల్లుతోంది. దీన్ని ఎదుర్కొవడానికి ప్రభుత్వాలు చర్యలు తీసుకుంటుంటే... ప్రస్తుతం మార్కెట్‌లో ఉన్న వ్యాక్సిన్లు ఎలా పని చేస్తాయనే పరిశోధనలు మొదలు పెట్టాయి వ్యాక్సిన్ తయారీ సంస్థలు. కరోనా టీకాలు తయారు చేస్తున్న ఫైజర్, భారత్‌ బయోటెక్, మోడెర్నా, గెమాలెయా వీళ్లాంతా ఈ కొత్త వేరియంట్‌ను ఎలా ఎదుర్కోవాలో ఆలోచనలు చేస్తున్నారు. ప్రాథమిక అధ్యయనాల ప్రకారం, ఓమిక్రాన్ వేరియంట్ అత్యంత వేగంగా వ్యాప్తి చెందే స్వభావం ఉన్నట్టు గుర్తించారు. డెల్టా వేరియంట్ కంటే ఎక్కువగా స్పీడ్‌తో  వ్యాప్తి చెందుతుందని శాస్త్రవేత్తలు చెప్పారు. ప్రస్తుత వ్యాక్సిన్‌లు దీనికి సరిపడవని... తక్కువ ప్రభావవంతంగా ఉండవచ్చని అంచనా వేస్తున్నారు. \\n\\n\\n\\nదక్షిణాఫ్రికాలో మొదట కనుగొనబడిన ఓమిక్రాన్ వేరియంట్‌కు ఎక్కువ సంఖ్యలో మ్యుటేషన్ ఉండటం వల్ల ఆందోళన కలిగిస్తుంది. దక్షిణాఫ్రికాలో దీన్ని గుర్తించనా 12కుపైగా దేశాల్లో కేసులు ట్రేస్ అయ్యాయి.  అందుకే ఆయా దేశాల ప్రభుత్వాలు  కఠిన ఆంక్షలు అమలు చేస్తున్నాయి. సరిహద్దులు మూసివేసి, ప్రయాణాలపై  ఆంక్షలు పెట్టాయి. స్పైక్‌ ప్రొటీన్ ప్రాంతంలో 30కిపైగా మ్యూటేషన్స్‌ కలిగి ఉందీ కొత్తగా గుర్తించిన ఒమిక్రాన్‌ వేరియంట్‌. దీని వల్ల బాడీలో ఇమ్యూన్‌ దెబ్బతింటుంది. దాన్ని తప్పించుకుని ఒమిక్రాన్ వేరియంట్‌ శరీరంలో ఎదుగుతుంది. అందుకే వ్యాక్సిన్‌లను చాలా క్రిటికల్‌గా విశ్లేషించి సరికొత్త పరిష్కార మార్గాన్ని గుర్తించాలంటున్నారు ఎయిమ్స్‌ చీఫ్‌ డాక్టర్‌ రణ్‌దీప్‌ గులేరియా. దీనిపై వ్యాక్సిన్ తయారీ దారులు ఏమంటున్నారంటే...రష్యన్ గమాలియా ఇనిస్టిట్యూట్: స్పుత్నిగ్ వీ కొవిడ్ వ్యాక్సిన్ కొత్త వేరియంట్‌ ఒమిక్రాన్‌ను ఎదుర్కోవడంలో సమర్థవంతంగా పని చేస్తుందని ప్రకటించింది. ఇప్పటికే దీనిపై పరిశోధనలు ప్రారంభించామని... త్వరలోనే పూర్తి స్థాయిలో మెడిసిన్ అందుబాటులోకి వస్తుందని ప్రకటనలో తెలిపింది. గమాలియా ఇనిస్టిట్యూట్ తయారు చేసిన  స్పుత్నిక్‌ వి, స్పుత్నిక్ లైట్‌ ఒమిక్రాన్ పట్ల న్యూట్రలైజ్‌గా పని చేస్తుందని.. దీంతోపాటు ఇతర మ్యూటేషన్లపై  ఎఫెక్టివ్‌గా పని చేస్తుందని ఆర్డీఐఎప్‌ హెడ్‌ కిరిల్‌ డిమమిత్రివ్‌ తెలిపారు. ఒక వేళ వ్యాక్సిన్‌ను అప్‌డేట్ చేయాల్సి వస్తే మాత్రం 45రోజుల్లో వ్యాక్సిన్ రెడీ చేసే సామర్థ్యం తమ వద్ద ఉందని కిరిల్ డిమిత్రివ్‌ పేర్కొన్నారు. మోడెర్న:ఒమిక్రాన్ వేరియంట్‌ ఎదుర్కోవడానికి కావాల్సిన వ్యాక్సిన్ తయారు చేయడానికి, రవాణాకు నెలల సమయం పడుతుందని యూఎస్‌ బేస్డ్‌ మోడర్నా సంస్థ తెలిపింది. దీనికి సంబంధించిన వ్యాక్సిన్ తయారీ 2022 ప్రారంభంలో మాత్రమే అందుబాటులోకి వస్తుందని చెప్పింది. ప్రస్తుతం అందుబాటులో ఉన్న వ్యాక్సిన్ వచ్చే రెండు, మూడు వారాలే రక్షణ ఉంటుందన్నారు. ఒక వేళ సరికొత్త వ్యాక్సిన్ తయారు చేయాలంటే మాత్రం 2022 వరకు ఆగాల్సిందేనంటున్నారు. ఫైజర్‌-బయోటెక్‌: యూఎస్‌ సంస్థ కొత్త వేరియంట్లు ముఖ్యంగా ఒమిక్రాన్ వేరియంట్‌ను లక్ష్యంగా చేసుకొని పని స్టార్ట్ చేసిందని ఏఎప్‌పీ నివేదించింది. ఫైజర్ ప్రస్తుతం తన వ్యాక్సిన్‌ను ఒమిక్రాన్‌ వేరియంట్‌కు వ్యతిరేకంగా పరీక్షిస్తోంది. Read Also: రోజుకు ఎనిమిది గ్లాసుల నీళ్లు చాలా? ఎక్కువ తాగితే ప్రమాదమా?Read Also: శీతాకాలంలో ఏ సమయంలో తగిలే ఎండ వల్ల విటమిన్ డి లభిస్తుంది? వైద్యులు ఏం చెబుతున్నారు?Read Also: మీ జీవితభాగస్వామిపై నమ్మకం పోయిందా? అయితే ఇలా చేయండి, బంధాన్ని నిలబెట్టుకోండి...Read Also: ఇంట్లో ఇవి ఉంటే నెగిటివ్ ఎనర్జీ... డబ్బును రాకుండా అడ్డుకుంటాయిఇంట్రస్టింగ్‌ వీడియోలు, విశ్లేషణల కోసం ABP Desam YouTube Channel సబ్‌స్క్రైబ్‌ చేయండి    \n",
              "7                                                                                                                                                                                                                                                                                                                                                                                                                                                                                                                                                                                                                           Samudrakani on Bro Movie : తమిళ దర్శకుడు, నటుడు సముద్రఖని తెరకెక్కించిన లేటెస్ట్ మూవీ 'బ్రో'. పవర్ స్టార్ పవన్ కళ్యాణ్, మెగా అల్లుడు సాయి ధరమ్ తేజ్ ప్రధాన పాత్రల్లో నటించిన ఈ సినిమా.. ఈ నెల 28న ప్రేక్షకుల ముందుకు రాబోతుంది. విడుదల తేదీ దగ్గర పడుతుండడంతో.. మూవీ యూనిట్ ఇప్పటికే ప్రమోషన్స్ మొదలుపెట్టింది. అందులో భాగంగా డైరెక్టర్ సముద్ర ఖని ఆసక్తికర విషయాలను పంచుకున్నారు. ఈ సినిమా ఎలా మొదలైందో చెబుతూ... అందుకు త్రివిక్రమ్ పాత్రను వివరిస్తూ పలు ఇంట్రస్టింగ్ సన్నివేశాలను తన మాటల్లో చెప్పారు.'బ్రో' సినిమా ప్రమోషన్స్ లో భాగంగా తాజాగా ఓ ఇంటర్వ్యూలో పాల్గొన్న సముద్రఖని.. అసలు ఈ సినిమా ఎలా స్టార్ట్ అయింది, అది పవన్ కళ్యాణ్, సాయి ధరమ్ తేజ్ వద్దకు ఎలా వెళ్లిందన్న విషయాలను చెప్పారు. 'బ్రో' మూవీ.. ఓటీటీ కోసం తీసిన తమిళ సినిమా 'వినోదయ సీతమ్' కు రీమేక్ అంటూ చెప్పుకొచ్చారు. 100 నిమిషాలు ఉండే ఈ స్టోరీలో ఎలాంటి బ్రేక్స్ లేవన్నారు. అయితే ఈ మూవీ రిలీజ్ సమయంలో తాను తెలుగులో ‘భీమ్లా నాయక్’ చేస్తున్నానని సముద్రఖని తెలిపారు. ఒకానొక సందర్భంలో మాటల మాంత్రికుడు త్రివిక్రమ్ దగ్గర 'వినోదయ సీతమ్' గురించి ప్రస్తావన వచ్చిందన్నారు.రీసెంట్ గా ఓ ఓటీటీ ఫిల్మ్ చేశానని, అందులోని కంటెంట్‌ను తివిక్రమ్‌కు చెప్పాన్నారు. ఆ సినిమాలోని లాస్ట్ డైలాగ్ చెప్పడంతో.. త్రివిక్రమ్ వెంటనే.. ఈ సినిమాలో నువ్వు యాక్ట్ చేయాలనుకుంటున్నావా అని అడిగారని చెప్పారు. దానికి సమాధానంగా.. నేను యాక్ట్ చేయనని.. డైరెక్ట్ చేయాలనుకుంటున్నానని.. ఈ విషయం ప్రజలకు చెప్పాలని చెప్పినట్టు సముద్రఖని తెలిపారు. \"అందరూ ఫ్యూచర్ అంటుంటారు కానీ.. అసలు ఫ్యూచర్ అనేది లేనే లేదు. అన్నీ ప్రజెంటే.. ఈ విషయం జనాలకు చెప్పాలనుకుంటున్నా\" అని త్రివిక్రమ్ తో చెప్పినట్టు ఆయన అన్నారు. కానీ ఈ సినిమాను మీరు లీడ్ చేయండని చెప్పగానే.. ఆయన తనను 5 నిమిషాలు చూసి.. వెంటనే కళ్యాణ్ సర్ చేస్తే ఓకేనా అనగానే తాను చాలా సంతోషించానని చెప్పారు. అలా 'బ్రో' సినిమా కథ, స్ర్కీన్ ప్లేను సెట్ చేసి.. పవన్ కళ్యాణ్, సాయి ధరమ్ తేజ్ హీరోలని చెప్పినట్టు ఆయన తెలిపారు. ఈ సినిమాను మనం తెలుగులో రీమేక్ చేస్తున్నామని త్రివిక్రమ్ అన్నారన్నారు. అలా త్రివిక్రమ్ కేవలం 10 నిమిషాల్లోనే స్క్రీన్‌ప్లే మార్చేశారని చెప్పారు. జీ 5 చెప్పిన దాని ప్రకారం 25 నిమిషాల్లో 5 స్ర్కిప్టులు చెప్పాలి. కానీ నేను మాత్రం కేవలం 20 నిమిషాల్లోనే 5 స్టోరీలు చెప్పాను. అందులో ఒకటి సెట్ అయింది కూడా. ఇంకా 3 నిమిషాలు ఉంది. అయితే ఇంకా 3 నిమిషాలు ఉంది కదా.. ఇంకో స్టోరీ చెప్తానన్నాను. ఆ 3 మినిట్స్ లో చెప్పిన స్టోరీనే ఇది. ఇది చెప్పగానే అన్నీ ఆపేసి, దీన్ని ఫస్ట్ చేద్దామన్నారు.Read Also : Indian 2 Movie: దర్శకుడు శంకర్ హైటెక్ ప్రయోగం - చనిపోయిన ఆ ఇద్దరు కూడా ‘భారతీయుడు-2’లో నటిస్తారట!ముఖ్యమైన, మరిన్ని ఆసక్తికర కథనాల కోసం ‘టెలిగ్రామ్’లో ‘ఏబీపీ దేశం’లో జాయిన్ అవ్వండి.Join Us on Telegram: https://t.me/abpdesamofficial   \n",
              "8                                                                                                                                                                                                                                                                                                              Annamayya District News : భార్యా భర్తల దాంపత్య జీవితం ప్రేమానురాగాలకు, ఆప్యాయతలకు నిదర్శనంగా ఉండాలంటారు. ఎన్ని కష్టాలు ఎదురైనా ఇద్దరూ క‌లిసి ఎదుర్కొంటేనే ఆ జీవితం నిండు నూరేళ్లు సాగుతుంది.  ఇక ఒకరినొకరు అర్ధం చేసుకుంటూ మనస్పర్ధలు లేకుండా జీవితం సాగించాలి.. అంతే కానీ చిన్న చిన్న విషయాలకు గొడవ పడుతూ ఒకరిపై ఒకరు ద్వేషం పెంచుకుంటే ఆ సంసారం కత్తి మీద సాముల మారుతుంది. భర్తతో గొడవ పడిన ఓ వివాహిత తన ఇద్దరు పిల్లలతో కలిసి బావిలో దూకి ఆత్మహత్య చేసుకున్న ఘటన అన్నమయ్య జిల్లాలో చోటు చేసుకుంది. అసలేం జరిగింది? అన్నమయ్య జిల్లా గుర్రంకొండ మండలం దిగువ బురుజు పల్లెకు చెందిన ప్రతాప్ రెడ్డి, ఓబులేశ్వరి కుమార్తె లావణ్యను 2016లో పీలేరు మండలం దిగువపల్లెకు చెందిన సుబ్రహ్మణ్యంరెడ్డితో వివాహం జరిపించారు. లావణ్య, సుబ్రమణ్యం రెడ్డికి పరమేష్ (4), మౌనిక (3) పిల్లలు ఉన్నారు. అయితే లావణ్య భర్త సుబ్రహ్మణ్యం రెడ్డి వృత్తి రీత్యా తెలంగాణ మహబూబాబాద్‌లో ప్రైవేట్ కంపెనీలో ఉద్యోగం చేస్తూ కుటుంబాన్ని పోషిస్తున్నాడు. ఇటీవల్ల లావణ్య, సుబ్రహ్మణ్యం రెడ్డిల మధ్య మనస్పర్థలు వచ్చాయి. దీంతో లావణ్య తల్లిదండ్రులు, సుబ్రహ్మణ్యం రెడ్డి తల్లిదండ్రులు కలిసి భార్య భర్తల మధ్య తగదాలను తీర్చే ప్రయత్నం చేశారు. కానీ ఇరువురు తరచూ చిన్న చిన్న విషయాలకు గొడవ పడుతూ ఉండేవారు. ఈ క్రమంలో మూడు నెలల క్రితం లావణ్య భర్తతో గొడవపడి పుట్టింటికి చేరుకుంది. అప్పటి నుండి లావణ్య తన ఇద్దరు పిల్లలను తన వద్దే ఉంచుకుని ఉద్యోగం ప్రయత్నం చేస్తూ వస్తుంది. ఇంటికి తిరిగి వస్తానని చెప్పి ఈ నెల 16న లావణ్య తాత సురేంద్రరెడ్డి కర్మక్రియలకు సుబ్రహ్మణ్యం రెడ్డి మహబూబాబాద్ నుంచి దిగువ ఓబులవారిపల్లెకు వచ్చాడు.  సురేంద్రరెడ్డి కర్మక్రియలు పూర్తైన తర్వాత సుబ్రహ్మణ్యం రెడ్డి, తన భార్య, పిల్లలను తనతో పాటు పంపించాలని లావణ్య తల్లిదండ్రులను కోరాడు. సుబ్రమణ్యం రెడ్డి కోరిక మేరకు లావణ్యను కాపురానికి పంపేందుకు తల్లిదండ్రులు లావణ్యకు నచ్చజెప్పారు.  కానీ లావణ్య భర్తతో వెళ్లడానికి నిరాకరించింది. పిల్లలనైనా తనతో పంపించాలని సుబ్రమణ్యం రెడ్డి కోరాడు. సుబ్రమణ్యం రెడ్డితో గొడవపడి లావణ్య పిల్లలను పంపించేందుకు నిరాకరించి భర్త మీద కోపంతో శుక్రవారం మధ్యాహ్నం తన ఇద్దరు పిల్లలను బలవంతంగా వెంట బెట్టుకొని వ్యవసాయ బావి వద్దకు వెళ్లింది లావణ్య. సుబ్రమణ్యం రెడ్డి, కొందరు గ్రామస్తులు వచ్చి లావణ్యకు నచ్చజెప్పే ప్రయత్నం చేశారు. ఎవరూ ఎన్ని చెప్పినా లావణ్య ఏమాత్రం పట్టించుకోకుండా అందరూ తనను ఒంటరిగా వదిలి వెళ్లాలని చెప్పింది. ఒక నిర్ణయం తీసుకుని ఇంటికి తిరిగి వస్తానని చెప్పడంతో లావణ్యను అక్కడే వదిలి వెళ్లిపోయారు. బావిలో దూకి ఆత్మహత్యఅయితే  ఎవరు లేని సమయంలో పిల్లలతో సహా లావణ్య బావిలో దూకి ఆత్మహత్య చేసుకుంది. ఎంత సేపటికి లావణ్య రాకపోయే సరికి అనుమానం వచ్చిన గ్రామస్తులు అంతా గాలించారు. కానీ లావణ్య ఆచూకీ లభించకపోయే సరికి పొలం వద్ద ఉన్న బావిలో గాలించగా లావణ్య మృతదేహం గుర్తించారు. దీంతో పోలీసులకు సమాచారం అందించారు గ్రామస్తులు. లావణ్య, పరమేష్ మృతదేహాలను వెలికి తీశారు. కానీ మౌనిక మృతదేహం లభించక పోవడంతో గజ ఈతగాళ్ళు మృతదేహం కోసం గాలిస్తున్నారు. ఈ ఘటనతో దిగువ బురుజుపల్లెలో తీవ్ర విషాదం అలుముకుంది. ఈ ఘటనపై గుర్రంకొండ ఎస్ఐ దినేష్ కుమార్ కేసు నమోదు చేసి దర్యాప్తు చేస్తున్నారు.    \n",
              "9                                                                                                                                                                                                                                                                                                                                                                                                                                                                                                                                                                                                                                                         UP Crime News: యూపీలో ఘటన..యూపీలో దారుణం జరిగింది. ఓ ముస్లిం కుటుంబానికి చెందిన భార్యాభర్తల్ని విచక్షణారహితంగా కొట్టి చంపారు. ఐరన్‌ రాడ్‌లు, కర్రలతో దారుణంగా కొట్టారు. ఈ కేసులో ముగ్గురిని పోలీసులు అరెస్ట్ చేశారు. హిందూ యువతిని ముస్లిం యువకుడు ప్రేమించడమే కాకుండా ఈ ఇద్దరూ ఇంట్లో నుంచి పారిపోవడం రెండు కుటుంబాల్లోనూ కలకలం రేపింది. ఈ అసహనంతోనే యువతి కుటుంబ సభ్యులు ఆ ముస్లిం యువకుడి తల్లిదండ్రులపై దాడి చేశారు. అబ్బాస్, కమ్రూల్ నిషా అక్కడికక్కడే ప్రాణాలు కోల్పోయారు. వెంటనే నిందితులు అక్కడి నుంచి పారిపోయారు. కొన్నేళ్ల క్రితం యువతీ యువకులు పారిపోయారు. దీనిపై యువతి కుటుంబ సభ్యులు యువకుడిపై కేసు పెట్టారు. కొన్నాళ్ల పాటు జైలు శిక్ష అనుభవించాడు. కొద్ది రోజుల క్రితమే విడుదలయ్యాడు. ఈ జంటపై దాడి చేయాలని కుటుంబ సభ్యులు ప్లాన్ చేసుకున్నారు. స్థానికులు చెప్పిన వివరాల ప్రకారం..2020లో వీళ్లిద్దరూ పారిపోయారు. అప్పటికి ఆ యువతి మైనర్. పోలీసు కేసు నమోదు చేసిన వెంటనే యువకుడిని అదుపులోకి తీసుకున్నారు. అయితే..ఈ ఏడాది జూన్‌లో ఇద్దరూ మరోసారి పారిపోయారు. పెళ్లి కూడా చేసుకున్నారు. ఈ కోపంతోనే యువతి కుటుంబ సభ్యులు ఒక్కసారిగా దాడి చేశారు. యువకుడి తల్లిదండ్రులు ఈ దాడిలో ప్రాణాలు కోల్పోయారు. ఈ కేసులో ప్రధాన నిందితులను అరెస్ట్ చేసిన పోలీసులు..మిగతా వారి కోసం గాలిస్తున్నారు. ముస్లిం యువకుడిపై దాడి..ఇటీవలే యూపీలోని బులందశర్‌లో ఓ ముస్లిం యువకుడిని ముగ్గురు దారుణంగా కొట్టారు. \"జై శ్రీరాం\" అని నినాదాలు చేయాలంటూ చితకబాదారు. అలా కొడుతూ వీడియో కూడా తీశారు. ఈ వీడియో సోషల్ మీడియాలో వైరల్ అయింది. పోలీసులు ఆ వీడియోలోని ఇద్దరు నిందితులనీ అదుపులోకి తీసుకున్నారు. జూన్ 13న ఈ ఘటన జరిగినట్టు పోలీసులు వెల్లడించారు. జూన్ 17న వాళ్లను అరెస్ట్ చేశారు. బాధిత కుటుంబ సభ్యులు వచ్చి ఫిర్యాదు చేసిన వెంటనే చర్యలు తీసుకున్నారు. ఫిర్యాదులో ఉన్న వివరాల ప్రకారం..జూన్ 13వ తేదీన బాధితుడు సాహిల్ బస్‌స్టాండ్‌లో నిలబడి ఉన్నాడు. అప్పుడే ఓ ముగ్గురు యువకులు బైక్‌పైన వచ్చి బలవంతంగా సాహిల్‌ని కూర్చోబెట్టుకున్నారు. ఎవరూ లేని చోటకు తీసుకెళ్లారు. తమలో ఒకరి మొబైల్ పోయిందని, చోరీ చేసింది నువ్వేనా అని ప్రశ్నించారు. తనకేమీ తెలియదని బాధితుడు బదులిచ్చాడు. ఆ తరవాత ముగ్గురూ చెట్టుకి కట్టేసి విచక్షణారహితంగా కొట్టారు. గుండుకొట్టించారు. జై శ్రీరాం అని గట్టిగా నినాదాలు చేయాలని బలవంతం చేశారు. ఇదంతా వీడియో తీసి సోషల్ మీడియాలో పోస్ట్ చేశారు. ఎలాగోలా అక్కడి నుంచి తప్పించుకున్న బాధితుడు పోలీసులను ఆశ్రయించాడు. అయితే...పోలీసులు కూడా ఎలాంటి చర్యలు తీసుకోలేదని, పైగా తనపై దొంగతనం కేసు నమోదు చేసి అరెస్ట్ చేశారని ఆరోపించాడు బాధితుడు. అంతే కాదు. ఆ ముగ్గురిపై పెట్టిన కేసుని విత్‌డ్రా చేసుకోవాలని ఒత్తిడి చేశారని ఆరోపించారు. Also Read: లద్దాఖ్‌ డెవలప్‌మెంట్‌ని ప్రమోట్ చేస్తున్న రాహుల్‌కి థాంక్స్, కేంద్రమంత్రుల సెటైర్లు   \n",
              "\n",
              "                                                                                                                                                                                                                                                                                                                                                                                                                                                                                                                                                                                                                                                                                                                                                                                                                                                                                                                                                                                                                                                                                                                                           Sub Article  \n",
              "0                                                                                                                                                                                                                                                                                                                                                                 ఆయిల్, మాల్ట్ ఎక్స్ ట్రాక్ట్, రైజింగ్ ఏజెంట్ వంటి పదార్థాలు డైజెస్టివ్ బిస్కెట్స్ లో ఉపయోగిస్తారు ఆరోగ్య నిపుణుల అభిప్రాయం ప్రకారం ఈ బిస్కెట్లను అతిగా తినడం వల్ల ఎక్కువ హాని చేస్తుందిడైజెస్టివ్ బిస్కెట్స్ ఎక్కువగా గోధుమలతో తయారవుతాయి వీటిలో ఇనులిన్ అధికంగా ఉంటుంది ఈ సమ్మేళనం సహజమైన అరటి పండ్లు, గోధుమలు, ఉల్లిపాయలు, వెల్లుల్లి వంటి అనేక ఇతర ఆహారాల్లో లభించే కార్బోహైడ్రేట్ ఫైబర్ ఇనులిన్ చిన్న పేగుల గుండా పెద్ద పేగుకు వెళుతుంది అక్కడ అది మంచి బ్యాక్టీరియా పెరుగుదలను ప్రేరేపిస్తుంది చాలా మందిలో ఇది గ్యాస్, ఉబ్బరం, ఆపానవాయువు, విరోచనాలకు కారణమవుతుంది అలాగే మాల్ట్ సారం అధికంగా తీసుకున్నప్పుడు ఆపానవాయువుకు కారణమవుతుందిఇందులో వాడే కూరగాయల నూనె ఉడికించినప్పుడు ట్రాన్స్ ఫ్యాట్లను ఉత్పత్తి చేస్తుంది ఈ ట్రాన్స్ ఫ్యాట్ ఆరోగ్యానికి హానికరం దగ్గుకు కారణమవుతుంది  \n",
              "1                                                                                                                                                                                                                                                                                                                                                                                                                                                                                                                                                                                                                                                            అర్హత: సంబంధిత స్పెషలైజేషన్‌లో పీజీ డిగ్రీ ఉత్తీర్ణతవయోపరిమితి: 45 సంవత్సరాలు మించకూడదుదరఖాస్తు ఫీజు: జనరల్/ఈడబ్ల్యూఎస్/ఓబీసీ అభ్యర్థులకు రూ500 ఎస్సీ/ఎస్టీ అభ్యర్థులకు రూ250 పీడబ్ల్యూడీ అభ్యర్థులకు దరఖాస్తు ఫీజు నుంచి మినహాయింపు ఉందిదరఖాస్తు విధానం: ఆన్‌లైన్‌ ద్వారా దరఖాస్తు చేసుకోవాలిఎంపిక విధానం: ఇంటర్వ్యూ ద్వారా ఎంపిక చేస్తారుజీతభత్యాలు: నెలకు రూ67700 చెల్లిస్తారుముఖ్యమైన తేదీలు➥ ఆన్‌లైన్‌ దరఖాస్తు ప్రక్రియ ప్రారంభం: 09062023➥ ఆన్‌లైన్‌ దరఖాస్తు చివరి తేది: 08072023  \n",
              "2                                                                                                                                                                                                                                             10 గ్రాముల 24 క్యారెట్ల బంగారం ధర ₹ 57,540 గా ఉంది కిలో వెండి ధర హైదరాబాద్ మార్కెట్‌లో ₹ 75,000 గా ఉంది ఏపీ, తెలంగాణవ్యాప్తంగా ఇదే ధర అమల్లో ఉందిఆంధ్రప్రదేశ్‌లో బంగారం, వెండి ధరలు (Gold Rates in Andhra Pradesh)విజయవాడలో ‍(Gold Rate in Vijayawada) 10 గ్రాముల 22 క్యారెట్ల ఆర్నమెంటు బంగారం ధర ₹ 52,750 కి చేరింది 24 క్యారెట్ల బిస్కెట్ బంగారం ధర ₹ 57,540 గా నమోదైంది ఇక్కడ కిలో వెండి ధర ₹ 75,000 గా ఉంది విశాఖపట్నం (Gold Rate in Visakhapatnam) మార్కెట్‌లో బంగారం, వెండికి విజయవాడ రేటే అమలవుతోంది దేశంలోని వివిధ నగరాల్లో పసిడి ధరలు (Today's Gold Rate in Major Cities) చెన్నైలో (Gold Rate in Chennai) 22 క్యారెట్ల ఆభరణాల బంగారం ధర ఇవాళ ₹ 53,700 గా ఉండగా, 24 క్యారెట్ల బంగారం ధర ₹ 58,580 కి చేరింది కోయంబత్తూలోనూ ఇదే రేటు అమల్లో ఉందిముంబయిలో (Gold Rate in Mumbai) 22 క్యారెట్ల బంగారం ధర ₹ 52,750 గా ఉండగా, 24 క్యారెట్ల బంగారం ధర ₹ 57,540 కి చేరింది పుణెలోనూ ఇదే రేటు అమల్లో ఉంది  \n",
              "3                                                                                                                                                                                                                                                                                                                                                                                                                                                                                                                                                                                                                                                                                     కాలేజీ హాస్టల్‌ భవనంపై నుంచి దూకి బలవన్మరణానికి పాల్పడింది అక్షిత సూసైడ్ విషయం గమనించిన తోటి విద్యార్థులు విషయాన్ని కాలేజీ సిబ్బందికి చెప్పారు వెంటనే ఈ స్పందించిన ఆమెను స్థానికంగా ఉన్న ఓ ప్రైవేటు ఆసుపత్రికి తరలించారు అక్కడే చికిత్స పొందుతూ అక్షిత మృతి చెందింది అక్షిత పాలిటెక్నిక్‌ ఈసీఈ విద్యార్థిని ఇటీవలే మొదటి సెమిస్టర్ పరీక్షలు జరిగాయి ఆమె ఒక సబ్జెక్ట్‌లో తప్పింది  మొదటి సెమిస్టర్‌లోనే ఒక సబ్జెక్ట్‌ తప్పిన అక్షితకు పరీక్షలంటేనే భయం పట్టుకుంది  \n",
              "4                                                                                                                                                                                                                                                                                                                                                                                                                                                                                                                                                       ఆ సంస్థ యజమాని ఇళ్లు, కార్యాలయాల్లో తనిఖీలు జరిపారుఈ సోదాల్లో మొత్తం రూ56 కోట్ల నగదు, రూ14 కోట్ల విలువైన బంగారు, వజ్రాభరణాలను అధికారులు జప్తు చేసుకున్నారు ఇతర ఆస్తులను చెందిన డిజిటల్‌ డేటా, పత్రాలను స్వాధీనం చేసుకున్నారు ఈ నగదు మొత్తాన్ని అధికారులు ఐటీ ఆఫీసుకు తీసుకురాగా 13 గంటలకు పైగా శ్రమించి లెక్కించారట ఈ సోదాల్లో దాదాపు రూ390 కోట్ల మేర లెక్కల్లోకి రాని బినామీ ఆస్తులను గుర్తించినట్లు అధికారులు తెలిపారు నోట్ల కట్టలకు సంబంధించిన ఫొటోలు ప్రస్తుతం సోషల్‌ మీడియాలో వైరల్‌గా మారాయి అయితే వీరిదంతా పన్నులు ఎగ్గొట్టి చేసే వ్యాపారమే కానీ రాజకీయాలతో సంబంధం లేదని భావిస్తున్నారు  \n",
              "5                                                                                                                                                                                                                                                                                                                                                                                                                                                                           The new Samsung Galaxy F04 comes loaded with amazing features, and you can grab one before anyone else Match the features correctly and leave the right answers in the comments to win the #GalaxyF04, F 4 Free T&C apply pictwittercom/FN8kosSJgT\\n\\nPoco M4 Pro స్మార్ట్ ఫోన్ మూడు వేరియంట్స్ లో లభిస్తోంది 6GB/64GB వేరియంట్ ధర రూ 14,999,  6GB/128GB వేరియంట్ ధర రూ 16,499, 8GB/128GB వేరియంట్ ధర రూ 17,999గా కంపెనీ నిర్ణయించిందిప్రస్తుతం Oppo K10 స్మార్ట్ ఫోన్ రూ13,990 తగ్గింపు ధరతో అందుబాటులో ఉంది 6GB RAM, 128GB స్టోరేజ్ వేరియంట్‌ను Flipkartలో ఎక్స్ఛేంజ్, బ్యాంక్ ఆఫర్లను ఉపయోగించి కూడా పొందవచ్చు ఈ ఫోన్ Qualcomm Snapdragon 680 చిప్‌సెట్‌తో రన్ అవుతుంది  \n",
              "6                                                                                                                                                                                         తక్కువ ప్రభావవంతంగా ఉండవచ్చని అంచనా వేస్తున్నారు \\n\\n\\n\\nదక్షిణాఫ్రికాలో మొదట కనుగొనబడిన ఓమిక్రాన్ వేరియంట్‌కు ఎక్కువ సంఖ్యలో మ్యుటేషన్ ఉండటం వల్ల ఆందోళన కలిగిస్తుంది దక్షిణాఫ్రికాలో దీన్ని గుర్తించనా 12కుపైగా దేశాల్లో కేసులు ట్రేస్ అయ్యాయి  అందుకే ఆయా దేశాల ప్రభుత్వాలు  కఠిన ఆంక్షలు అమలు చేస్తున్నాయి సరిహద్దులు మూసివేసి, ప్రయాణాలపై  ఆంక్షలు పెట్టాయి స్పైక్‌ ప్రొటీన్ ప్రాంతంలో 30కిపైగా మ్యూటేషన్స్‌ కలిగి ఉందీ కొత్తగా గుర్తించిన ఒమిక్రాన్‌ వేరియంట్‌ దీని వల్ల బాడీలో ఇమ్యూన్‌ దెబ్బతింటుంది దాన్ని తప్పించుకుని ఒమిక్రాన్ వేరియంట్‌ శరీరంలో ఎదుగుతుంది అందుకే వ్యాక్సిన్‌లను చాలా క్రిటికల్‌గా విశ్లేషించి సరికొత్త పరిష్కార మార్గాన్ని గుర్తించాలంటున్నారు ఎయిమ్స్‌ చీఫ్‌ డాక్టర్‌ రణ్‌దీప్‌ గులేరియా దీనిపై వ్యాక్సిన్ తయారీ దారులు ఏమంటున్నారంటేరష్యన్ గమాలియా ఇనిస్టిట్యూట్: స్పుత్నిగ్ వీ కొవిడ్ వ్యాక్సిన్ కొత్త వేరియంట్‌ ఒమిక్రాన్‌ను ఎదుర్కోవడంలో సమర్థవంతంగా పని చేస్తుందని ప్రకటించింది ఇప్పటికే దీనిపై పరిశోధనలు ప్రారంభించామని  \n",
              "7                                                                                                                                                                      మూవీ యూనిట్ ఇప్పటికే ప్రమోషన్స్ మొదలుపెట్టింది అందులో భాగంగా డైరెక్టర్ సముద్ర ఖని ఆసక్తికర విషయాలను పంచుకున్నారు ఈ సినిమా ఎలా మొదలైందో చెబుతూ అందుకు త్రివిక్రమ్ పాత్రను వివరిస్తూ పలు ఇంట్రస్టింగ్ సన్నివేశాలను తన మాటల్లో చెప్పారు'బ్రో' సినిమా ప్రమోషన్స్ లో భాగంగా తాజాగా ఓ ఇంటర్వ్యూలో పాల్గొన్న సముద్రఖని అసలు ఈ సినిమా ఎలా స్టార్ట్ అయింది, అది పవన్ కళ్యాణ్, సాయి ధరమ్ తేజ్ వద్దకు ఎలా వెళ్లిందన్న విషయాలను చెప్పారు 'బ్రో' మూవీ ఓటీటీ కోసం తీసిన తమిళ సినిమా 'వినోదయ సీతమ్' కు రీమేక్ అంటూ చెప్పుకొచ్చారు 100 నిమిషాలు ఉండే ఈ స్టోరీలో ఎలాంటి బ్రేక్స్ లేవన్నారు అయితే ఈ మూవీ రిలీజ్ సమయంలో తాను తెలుగులో ‘భీమ్లా నాయక్’ చేస్తున్నానని సముద్రఖని తెలిపారు ఒకానొక సందర్భంలో మాటల మాంత్రికుడు త్రివిక్రమ్ దగ్గర 'వినోదయ సీతమ్' గురించి ప్రస్తావన వచ్చిందన్నారురీసెంట్ గా ఓ ఓటీటీ ఫిల్మ్ చేశానని, అందులోని కంటెంట్‌ను తివిక్రమ్‌కు చెప్పాన్నారు ఆ సినిమాలోని లాస్ట్ డైలాగ్ చెప్పడంతో త్రివిక్రమ్ వెంటనే ఈ సినిమాలో నువ్వు యాక్ట్ చేయాలనుకుంటున్నావా అని అడిగారని చెప్పారు  \n",
              "8   అప్పటి నుండి లావణ్య తన ఇద్దరు పిల్లలను తన వద్దే ఉంచుకుని ఉద్యోగం ప్రయత్నం చేస్తూ వస్తుంది ఇంటికి తిరిగి వస్తానని చెప్పి ఈ నెల 16న లావణ్య తాత సురేంద్రరెడ్డి కర్మక్రియలకు సుబ్రహ్మణ్యం రెడ్డి మహబూబాబాద్ నుంచి దిగువ ఓబులవారిపల్లెకు వచ్చాడు  సురేంద్రరెడ్డి కర్మక్రియలు పూర్తైన తర్వాత సుబ్రహ్మణ్యం రెడ్డి, తన భార్య, పిల్లలను తనతో పాటు పంపించాలని లావణ్య తల్లిదండ్రులను కోరాడు సుబ్రమణ్యం రెడ్డి కోరిక మేరకు లావణ్యను కాపురానికి పంపేందుకు తల్లిదండ్రులు లావణ్యకు నచ్చజెప్పారు  కానీ లావణ్య భర్తతో వెళ్లడానికి నిరాకరించింది పిల్లలనైనా తనతో పంపించాలని సుబ్రమణ్యం రెడ్డి కోరాడు సుబ్రమణ్యం రెడ్డితో గొడవపడి లావణ్య పిల్లలను పంపించేందుకు నిరాకరించి భర్త మీద కోపంతో శుక్రవారం మధ్యాహ్నం తన ఇద్దరు పిల్లలను బలవంతంగా వెంట బెట్టుకొని వ్యవసాయ బావి వద్దకు వెళ్లింది లావణ్య సుబ్రమణ్యం రెడ్డి, కొందరు గ్రామస్తులు వచ్చి లావణ్యకు నచ్చజెప్పే ప్రయత్నం చేశారు ఎవరూ ఎన్ని చెప్పినా లావణ్య ఏమాత్రం పట్టించుకోకుండా అందరూ తనను ఒంటరిగా వదిలి వెళ్లాలని చెప్పింది ఒక నిర్ణయం తీసుకుని ఇంటికి తిరిగి వస్తానని చెప్పడంతో లావణ్యను అక్కడే వదిలి వెళ్లిపోయారు బావిలో దూకి ఆత్మహత్యఅయితే  ఎవరు లేని సమయంలో పిల్లలతో సహా లావణ్య బావిలో దూకి ఆత్మహత్య చేసుకుంది  \n",
              "9                                                                                                                                                                                                                                                                                                                                                        ఈ ఏడాది జూన్‌లో ఇద్దరూ మరోసారి పారిపోయారు పెళ్లి కూడా చేసుకున్నారు ఈ కోపంతోనే యువతి కుటుంబ సభ్యులు ఒక్కసారిగా దాడి చేశారు యువకుడి తల్లిదండ్రులు ఈ దాడిలో ప్రాణాలు కోల్పోయారు ఈ కేసులో ప్రధాన నిందితులను అరెస్ట్ చేసిన పోలీసులుమిగతా వారి కోసం గాలిస్తున్నారు ముస్లిం యువకుడిపై దాడిఇటీవలే యూపీలోని బులందశర్‌లో ఓ ముస్లిం యువకుడిని ముగ్గురు దారుణంగా కొట్టారు \"జై శ్రీరాం\" అని నినాదాలు చేయాలంటూ చితకబాదారు అలా కొడుతూ వీడియో కూడా తీశారు ఈ వీడియో సోషల్ మీడియాలో వైరల్ అయింది పోలీసులు ఆ వీడియోలోని ఇద్దరు నిందితులనీ అదుపులోకి తీసుకున్నారు జూన్ 13న ఈ ఘటన జరిగినట్టు పోలీసులు వెల్లడించారు జూన్ 17న వాళ్లను అరెస్ట్ చేశారు బాధిత కుటుంబ సభ్యులు వచ్చి ఫిర్యాదు చేసిన వెంటనే చర్యలు తీసుకున్నారు ఫిర్యాదులో ఉన్న వివరాల ప్రకారంజూన్ 13వ తేదీన బాధితుడు సాహిల్ బస్‌స్టాండ్‌లో నిలబడి ఉన్నాడు  "
            ],
            "text/html": [
              "\n",
              "  <div id=\"df-f5a0d0cb-26fb-45d6-9600-478cc3829026\" class=\"colab-df-container\">\n",
              "    <div>\n",
              "<style scoped>\n",
              "    .dataframe tbody tr th:only-of-type {\n",
              "        vertical-align: middle;\n",
              "    }\n",
              "\n",
              "    .dataframe tbody tr th {\n",
              "        vertical-align: top;\n",
              "    }\n",
              "\n",
              "    .dataframe thead th {\n",
              "        text-align: right;\n",
              "    }\n",
              "</style>\n",
              "<table border=\"1\" class=\"dataframe\">\n",
              "  <thead>\n",
              "    <tr style=\"text-align: right;\">\n",
              "      <th></th>\n",
              "      <th>Title</th>\n",
              "      <th>Category</th>\n",
              "      <th>News</th>\n",
              "      <th>Sub Article</th>\n",
              "    </tr>\n",
              "  </thead>\n",
              "  <tbody>\n",
              "    <tr>\n",
              "      <th>0</th>\n",
              "      <td>Digestive Biscuits: ఆ బిస్కెట్లు ఆరోగ్యానికి మంచిది కావా? ఏం జరుగుతుంది?</td>\n",
              "      <td>lifestyle</td>\n",
              "      <td>టీ కప్పుతో పాటు చాలా మంది డైజెస్టివ్ బిస్కెట్స్ కూడా పెట్టుకుని తింటారు. తక్కువ కేలరీలు, అధిక ఫైబర్ ప్రత్యామ్నాయాలుగా ఉండే ఈ కుకీస్ ఆరోగ్యానికి మంచిదని భావిస్తారు. నోట్లో వేసుకుంటేనే కరిగిపోయే విధంగా తక్కువ తీపి రుచిని కలిగి ఉంటాయి. ముతక గోధుమ పిండి, కృత్రిమ రైజింగ్ ఏజెంట్లు, ఉప్పుతో తయారు చేస్తారు. రుచిని బట్టి బిస్కెట్లలో కొన్ని సార్లు ఓట్  మీల్, కల్చర్డ్ స్కిమ్డ్ మిల్క్, గింజల పొడి కూడా కలుపుతారు. ఆకలిని తగ్గించేందుకు, జీర్ణక్రియ మెరుగు పడేందుకు, బరువు తగ్గేందుకు సహాయపడే ఫైబర్ పుష్కలంగా ఉంటుంది. వీటిని తింటే ఆరోగ్యానికి మేలు చేస్తాయని అనుకుంటారు. కానీ ఈ డైజెస్టివ్ బిస్కెట్స్ క్రమం తప్పకుండా తీసుకోవడం వల్ల కొన్ని దుష్ప్రభావాలు ఉన్నాయి.ఆయిల్, మాల్ట్ ఎక్స్ ట్రాక్ట్, రైజింగ్ ఏజెంట్ వంటి పదార్థాలు డైజెస్టివ్ బిస్కెట్స్ లో ఉపయోగిస్తారు. ఆరోగ్య నిపుణుల అభిప్రాయం ప్రకారం ఈ బిస్కెట్లను అతిగా తినడం వల్ల ఎక్కువ హాని చేస్తుంది.డైజెస్టివ్ బిస్కెట్స్ ఎక్కువగా గోధుమలతో తయారవుతాయి. వీటిలో ఇనులిన్ అధికంగా ఉంటుంది. ఈ సమ్మేళనం సహజమైన అరటి పండ్లు, గోధుమలు, ఉల్లిపాయలు, వెల్లుల్లి వంటి అనేక ఇతర ఆహారాల్లో లభించే కార్బోహైడ్రేట్ ఫైబర్. ఇనులిన్ చిన్న పేగుల గుండా పెద్ద పేగుకు వెళుతుంది. అక్కడ అది మంచి బ్యాక్టీరియా పెరుగుదలను ప్రేరేపిస్తుంది.. చాలా మందిలో ఇది గ్యాస్, ఉబ్బరం, ఆపానవాయువు, విరోచనాలకు కారణమవుతుంది. అలాగే మాల్ట్ సారం అధికంగా తీసుకున్నప్పుడు ఆపానవాయువుకు కారణమవుతుంది.ఇందులో వాడే కూరగాయల నూనె ఉడికించినప్పుడు ట్రాన్స్ ఫ్యాట్లను ఉత్పత్తి చేస్తుంది. ఈ ట్రాన్స్ ఫ్యాట్ ఆరోగ్యానికి హానికరం. దగ్గుకు కారణమవుతుంది. జపనీస్ సొసైటీ ఆఫ్ ఇంటర్నల్ మెడిసిన్ నిర్వహించిన ఒక అధ్యయనం ప్రకారం కూరగాయల నూనె లైపోయిడ్ న్యుమోనియాకు కారణమవుతుంది. దీని వల్ల విపరీతమైన దగ్గు వస్తుంది.చాలా మందికి సోడియం బైకార్బొనేట్ వంటి ఏజెంట్లను పెంచడం వల్ల అలర్జీ ఉంటుంది. దీని ఎక్కువగా బిస్కెట్లు, బ్రెడ్లు,బేక్డ్ ఉత్పత్తులలో ఉపయోగిస్తారు. డైజెస్టివ్ బిస్కెట్లు సోడియం బైకార్బోనెట్ లు ఉపయోగిస్తాయి. దీన్ని అతిగా తీసుకుంటే దాహం వేస్తుంది. కడుపు తిమ్మిరి, గ్యాస్ వంటి సమస్యలు ఎదురవుతాయి.ఆరోగ్య నిపుణుల అభిప్రాయం ప్రకారం అధిక రక్తపోటు, గుండె వైఫల్యం లేదా మూత్రపిండాల వ్యాధి వంటి కొన్ని ఆరోగ్య పరిస్థితులు ఉన్న వాళ్ళు డైజెస్టివ్ బిస్కెట్స్ తింటే దుష్ప్రభావాలు ఎక్కువగా ఉంటాయి. సోడియం బైకార్బోనేట్ కడుపును గ్యాస్ ఏర్పరుస్తుంది. పేరుకే డైజెస్టివ్ బిస్కెట్స్ ఆరోగ్యమని అంటారు. కానీ ఇవి కూడా సాధారణ బిస్కెట్స్ మాదిరిగానే మారిపోయాయి. వీటిలో సంతృప్త కొవ్వులు ఉంటాయి. అందుకే వీటిని అతిగా తినడం మంచిది కాదు.గమనిక: పలు అధ్యయనాలు, పరిశోధనల నుంచి సేకరించిన సమాచారాన్ని ఇక్కడ యథావిధిగా అందించాం. ఇది వైద్య నిపుణుల సూచనలకు ప్రత్యామ్నాయం కాదు. తప్పకుండా వైద్యుడు లేదా ఆహార నిపుణుల సలహా తీసుకున్న తర్వాతే ఈ ఆహారాన్ని మీ డైట్‌లో చేర్చుకోవాలి. ఈ సమాచారం కేవలం మీ అవగాహన కోసమే.Also Read: లిప్ స్టిక్ వల్ల పెదాలు నల్లగా మారిపోతున్నాయా? ఇలా చేస్తే ఆ సమస్యే ఉండదు</td>\n",
              "      <td>ఆయిల్, మాల్ట్ ఎక్స్ ట్రాక్ట్, రైజింగ్ ఏజెంట్ వంటి పదార్థాలు డైజెస్టివ్ బిస్కెట్స్ లో ఉపయోగిస్తారు ఆరోగ్య నిపుణుల అభిప్రాయం ప్రకారం ఈ బిస్కెట్లను అతిగా తినడం వల్ల ఎక్కువ హాని చేస్తుందిడైజెస్టివ్ బిస్కెట్స్ ఎక్కువగా గోధుమలతో తయారవుతాయి వీటిలో ఇనులిన్ అధికంగా ఉంటుంది ఈ సమ్మేళనం సహజమైన అరటి పండ్లు, గోధుమలు, ఉల్లిపాయలు, వెల్లుల్లి వంటి అనేక ఇతర ఆహారాల్లో లభించే కార్బోహైడ్రేట్ ఫైబర్ ఇనులిన్ చిన్న పేగుల గుండా పెద్ద పేగుకు వెళుతుంది అక్కడ అది మంచి బ్యాక్టీరియా పెరుగుదలను ప్రేరేపిస్తుంది చాలా మందిలో ఇది గ్యాస్, ఉబ్బరం, ఆపానవాయువు, విరోచనాలకు కారణమవుతుంది అలాగే మాల్ట్ సారం అధికంగా తీసుకున్నప్పుడు ఆపానవాయువుకు కారణమవుతుందిఇందులో వాడే కూరగాయల నూనె ఉడికించినప్పుడు ట్రాన్స్ ఫ్యాట్లను ఉత్పత్తి చేస్తుంది ఈ ట్రాన్స్ ఫ్యాట్ ఆరోగ్యానికి హానికరం దగ్గుకు కారణమవుతుంది</td>\n",
              "    </tr>\n",
              "    <tr>\n",
              "      <th>1</th>\n",
              "      <td>AIIMS: నాగ్‌పూర్‌ ఎయిమ్స్‌లో 73 సీనియర్‌ రెసిడెంట్ పోస్టులు, అర్హతలివే!</td>\n",
              "      <td>jobs</td>\n",
              "      <td>నాగ్‌పూర్‌లోని ఆల్ ఇండియా ఇన్‌స్టిట్యూట్ ఆఫ్ మెడికల్ సైన్సెస్(ఎయిమ్స్) వివిధ విభాగాలో ఖాళీగా ఉన్న సీనియర్‌ రెసిడెంట్ పోస్టుల భర్తీకి నోటిఫికేషన్ విడుదల చేసింది. దీనిద్వారా మొత్తం 73 పోస్టులను భర్తీ చేయనున్నారు. సంబంధిత స్పెషలైజేషన్‌లో పీజీ డిగ్రీ ఉత్తీర్ణత ఉన్నవారు దరఖాస్తు చేసుకోవడానికి అర్హులు. సరైన అర్హతలు గల అభ్యర్థులు ఆన్‌లైన్ ద్వారా దరఖాస్తులు సమర్పించాలి. ఈ పోస్టులకి దరఖాస్తు ప్రక్రియ జూన్ 9న ప్రారంభమైంది. జులై 8 వరకు దరఖాస్తు చేసుకోవచ్చు.  వివరాలు..మొత్తం ఖాళీలు: 73* సీనియర్‌ రెసిడెంట్‌ పోస్టులువిభాగాలు: అనస్థీషియాలజీ, అనాటమీ, ప్రసూతి శాస్త్రం &amp; గైనకాలజీ, పీడియాట్రిక్స్, ఫార్మకాలజీ, జనరల్ మెడిసిన్, ఫిజికల్ మెడిసిన్, సర్జికల్ గ్యాస్ట్రోఎంటరాలజీ, యారాలజీ, పాథాలజీ, సైకాయాట్రీ తదితరాలు.అర్హత: సంబంధిత స్పెషలైజేషన్‌లో పీజీ డిగ్రీ ఉత్తీర్ణత.వయోపరిమితి: 45 సంవత్సరాలు మించకూడదు.దరఖాస్తు ఫీజు: జనరల్/ఈడబ్ల్యూఎస్/ఓబీసీ అభ్యర్థులకు రూ.500. ఎస్సీ/ఎస్టీ అభ్యర్థులకు రూ.250. పీడబ్ల్యూడీ అభ్యర్థులకు దరఖాస్తు ఫీజు నుంచి మినహాయింపు ఉంది.దరఖాస్తు విధానం: ఆన్‌లైన్‌ ద్వారా దరఖాస్తు చేసుకోవాలి.ఎంపిక విధానం: ఇంటర్వ్యూ ద్వారా ఎంపిక చేస్తారు.జీతభత్యాలు: నెలకు రూ.67700 చెల్లిస్తారు.ముఖ్యమైన తేదీలు..➥ ఆన్‌లైన్‌ దరఖాస్తు ప్రక్రియ ప్రారంభం: 09.06.2023.➥ ఆన్‌లైన్‌ దరఖాస్తు చివరి తేది: 08.07.2023. NotificationWebsiteAlso Read:టీహెచ్‌డీసీ లిమిటెడ్‌లో 181 జూనియర్ ఇంజినీర్ ట్రైనీ పోస్టులు, వివరాలు ఇలా!ఉత్తరాఖండ్ రాష్ట్రం డెహ్రాడూన్‌లోని తెహ్రీ హైడ్రో డెవలప్‌మెంట్ కార్పొరేషన్ ఇండియా లిమిటెడ్(టీహెచ్‌డీసీ) జూనియర్ ఇంజినీర్ ట్రైనీ పోస్టుల భర్తీకి నోటిఫికేషన్ విడుదల చేసింది. దీనిద్వారా మొత్తం 181 పోస్టులను భర్తీ చేయనున్నారు. సంబంధిత విభాగంలో డిప్లొమా, బీఎస్సీ, బీఈ, బీటెక్‌ ఉత్తీర్ణత ఉన్నవారు దరఖాస్తు చేసుకోవడానికి అర్హులు. సరైన అర్హతలు గల అభ్యర్థులు ఆన్‌లైన్ ద్వారా దరఖాస్తులు సమర్పించాలి. జూన్ 9 నుంచి దరఖాస్తు ప్రక్రియ ప్రారంభంకానుంది. అభ్యర్థులు జూన్ 30 వరకు దరఖాస్తులు సమర్పించవచ్చు. కంప్యూటర్ బేస్డ్ టెస్ట్, ఇంటర్వ్యూ/ వైవా ద్వారా ఎంపిక చేస్తారు. నోటిఫికేషన్, పోస్టుల వివరాల కోసం క్లిక్ చేయండి..బీఈఎల్‌లో ప్రొబేషనరీ, సీనియర్ ఇంజినీర్‌ పోస్టులు, అర్హతలివే!బెంగళూరులోని భారత్ ఎలక్ట్రానిక్స్ లిమిటెడ్ (బీఈఎల్) ప్రొబేషనరీ ఇంజినీర్ &amp; సీనియర్ ఇంజినీర్ పోస్టుల భర్తీకి నోటిఫికేషన్ విడుదల చేసింది. దీనిద్వారా మొత్తం 11 పోస్టులను భర్తీ చేయనున్నారు. పోస్టుని అనుసరించి సంబంధిత స్పెషలైజేషన్‌‌లో ఎంఎస్‌సీ(టెక్), ఎంఈ/ఎంటెక్, బీఈ/ బీటెక్‌ ఉత్తీర్ణత ఉన్నవారు దరఖాస్తు చేసుకోవడానికి అర్హులు. సరైన అర్హతలు గల అభ్యర్థులు ఆఫ్‌లైన్ ద్వారా దరఖాస్తులు సమర్పించాలి. ఈ పోస్టులకి ఇప్పటికే దరఖాస్తు ప్రక్రియ ప్రారంభం కాగా జూన్ 23 వరకు దరఖాస్తు చేసుకోవచ్చు. రాతపరీక్ష, ఇంటర్వ్యూ ద్వారా ఉద్యోగ ఎంపిక ఉంటుంది. నోటిఫికేషన్, పోస్టుల వివరాల కోసం క్లిక్ చేయండి.. విశాఖపట్నం జిల్లాలో 34 అంగన్‌వాడీ పోస్టులు, వివరాలు ఇలా!విశాఖపట్నం జిల్లా మహిళా అభివృద్ధి, శిశు సంక్షేమ శాఖ పరిధిలోని ఐసీడీఎస్ ప్రాజెక్టుల్లోని అంగన్వాడీ కేంద్రాల్లో అంగన్వాడీ వర్కర్, అంగన్‌వాడీ హెల్పర్ ఖాళీల భర్తీకి నోటిఫికేషన్ విడుదల చేసింది. దీనిద్వారా మొత్తం 34 పోస్టులను భర్తీ చేయనున్నారు. 10వ తరగతి ఉత్తీర్ణత ఉన్నవారు దరఖాస్తు చేసుకోవడానికి అర్హులు. సరైన అర్హతలు గల అభ్యర్థులు ఆఫ్‌లైన్ ద్వారా దరఖాస్తులు సమర్పించాలి. జూన్ 15 వరకు దరఖాస్తులు సమర్పించవచ్చు. నోటిఫికేషన్, పోస్టుల వివరాల కోసం క్లిక్ చేయండి.. మరిన్ని ఉద్యోగ వార్తల కోసం క్లిక్ చేయండి..</td>\n",
              "      <td>అర్హత: సంబంధిత స్పెషలైజేషన్‌లో పీజీ డిగ్రీ ఉత్తీర్ణతవయోపరిమితి: 45 సంవత్సరాలు మించకూడదుదరఖాస్తు ఫీజు: జనరల్/ఈడబ్ల్యూఎస్/ఓబీసీ అభ్యర్థులకు రూ500 ఎస్సీ/ఎస్టీ అభ్యర్థులకు రూ250 పీడబ్ల్యూడీ అభ్యర్థులకు దరఖాస్తు ఫీజు నుంచి మినహాయింపు ఉందిదరఖాస్తు విధానం: ఆన్‌లైన్‌ ద్వారా దరఖాస్తు చేసుకోవాలిఎంపిక విధానం: ఇంటర్వ్యూ ద్వారా ఎంపిక చేస్తారుజీతభత్యాలు: నెలకు రూ67700 చెల్లిస్తారుముఖ్యమైన తేదీలు➥ ఆన్‌లైన్‌ దరఖాస్తు ప్రక్రియ ప్రారంభం: 09062023➥ ఆన్‌లైన్‌ దరఖాస్తు చివరి తేది: 08072023</td>\n",
              "    </tr>\n",
              "    <tr>\n",
              "      <th>2</th>\n",
              "      <td>Gold-Silver Price 08 October 2023: మళ్లీ పెరిగే ప్రయత్నంలో గోల్డ్‌ - ఈ రోజు బంగారం, వెండి ధరలు ఇవి</td>\n",
              "      <td>business</td>\n",
              "      <td>Gold-Silver Price Today 08 October 2023: అంతర్జాతీయ మార్కెట్‌లో పసిడి మళ్లీ నిలదొక్కుకునే ప్రయత్నం చేస్తోంది, అయితే వరుసగా రెండో వారం కూడా నష్టాలతో ముగిసింది. ప్రస్తుతం, ఔన్స్‌ (28.35 గ్రాములు) బంగారం ధర 1,847 డాలర్ల వద్ద ఉంది. మన దేశంలో 10 గ్రాముల ఆర్నమెంట్‌ బంగారం ధర ₹ 250, స్వచ్ఛమైన పసిడి ధర ₹ 310 చొప్పున పెరిగాయి. కిలో వెండి రేటు ₹ 1500 పైకి చేరింది.తెలుగు రాష్ట్రాల్లో ఇవాళ బంగారం, వెండి రేట్లు:తెలంగాణలో బంగారం, వెండి ధరలు (Gold Rates in Telangana)హైదరాబాద్‌ (Gold Rate in Hyderabad) మార్కెట్‌లో 10 గ్రాముల (తులం) 22 క్యారెట్ల బంగారం ధర ₹ 52,750 కి చేరింది. 10 గ్రాముల 24 క్యారెట్ల బంగారం ధర ₹ 57,540 గా ఉంది. కిలో వెండి ధర హైదరాబాద్ మార్కెట్‌లో ₹ 75,000 గా ఉంది. ఏపీ, తెలంగాణవ్యాప్తంగా ఇదే ధర అమల్లో ఉంది.ఆంధ్రప్రదేశ్‌లో బంగారం, వెండి ధరలు (Gold Rates in Andhra Pradesh)విజయవాడలో ‍(Gold Rate in Vijayawada) 10 గ్రాముల 22 క్యారెట్ల ఆర్నమెంటు బంగారం ధర ₹ 52,750 కి చేరింది. 24 క్యారెట్ల బిస్కెట్ బంగారం ధర ₹ 57,540 గా నమోదైంది. ఇక్కడ కిలో వెండి ధర ₹ 75,000 గా ఉంది. విశాఖపట్నం (Gold Rate in Visakhapatnam) మార్కెట్‌లో బంగారం, వెండికి విజయవాడ రేటే అమలవుతోంది. దేశంలోని వివిధ నగరాల్లో పసిడి ధరలు (Today's Gold Rate in Major Cities) చెన్నైలో (Gold Rate in Chennai) 22 క్యారెట్ల ఆభరణాల బంగారం ధర ఇవాళ ₹ 53,700 గా ఉండగా, 24 క్యారెట్ల బంగారం ధర ₹ 58,580 కి చేరింది. కోయంబత్తూలోనూ ఇదే రేటు అమల్లో ఉంది.ముంబయిలో (Gold Rate in Mumbai) 22 క్యారెట్ల బంగారం ధర ₹ 52,750 గా ఉండగా, 24 క్యారెట్ల బంగారం ధర ₹ 57,540 కి చేరింది. పుణెలోనూ ఇదే రేటు అమల్లో ఉంది.దిల్లీలో (Gold Rate in Delhi) 22 క్యారెట్ల ఆభరణాల బంగారం ధర ₹ 52,900 గా ఉండగా, 24 క్యారెట్ల బంగారం ధర ₹ 57,690 గా నమోదైంది. జైపుర్‌, లఖ్‌నవూలోనూ ఇదే రేటు అమల్లో ఉంది.కోల్‌కతా (Gold Rate in Kolkata) 22 క్యారెట్ల ఆభరణాల బంగారం ధర ₹ 52,750 గా, 24 క్యారెట్ల బంగారం ధర ₹ 57,540 గా ఉంది. నాగ్‌పుర్‌లోనూ ఇదే రేటు అమల్లో ఉంది.బెంగళూరులో (Gold Rate in Bangalore) 22 క్యారెట్ల ఆభరణాల బంగారం ధర ₹ 52,750 గా, 24 క్యారెట్ల బంగారం ధర ₹ 57,540 గా ఉంది. మైసూరులోనూ ఇదే రేటు అమల్లో ఉంది.కేరళలో (Gold Rate in Kerala) 22 క్యారెట్ల ఆభరణాల బంగారం ధర ₹ 52,750 గా, 24 క్యారెట్ల బంగారం ధర ₹ 57,540 గా ఉంది. భవనేశ్వర్‌లోనూ ఇదే రేటు అమల్లో ఉంది.ప్లాటినం ధర (Today's Platinum Rate)10 గ్రాముల 'ప్లాటినం' ధర ₹ 510 పెరిగి ₹ 23,430 వద్దకు చేరింది. హైదరాబాద్‌, విజయవాడ, విశాఖపట్నం సహా దేశంలోని ఇతర నగరాల్లోనూ ఇదే ధర అమల్లో ఉంది.ధరల్లో మార్పులు ఎందుకు?పసిడి, వెండి, ప్లాటినం సహా అలంకరణ లోహాల ధరలు ప్రతిరోజూ మారుతుంటాయి. ప్రపంచవ్యాప్తంగా జరిగే అనేక పరిణామాల మీద ఈ మార్పులు ఆధారపడి ఉంటాయి. అంతర్జాతీయ మార్కెట్‌లో ధరలు పెరగడం లేదా తగ్గడం వల్ల మన దేశంలో ధరలు మారుతుంటాయి. ప్రపంచ మార్కెట్‌లో అలంకరణ లోహాల రేట్లు పెరగడానికి, తగ్గడానికి చాలా కారకాలు పని చేస్తాయి. ద్రవ్యోల్బణం, ప్రపంచ కేంద్ర బ్యాంకుల వద్ద బంగారం నిల్వలు, వడ్డీ రేట్ల పెరుగుదల లేదా తగ్గుదల, వివిధ జ్యువెలరీ మార్కెట్లలోని డిమాండ్‌లో హెచ్చుతగ్గులు వంటి ఎన్నో అంశాలు అలంకరణ లోహాల ధరలను ప్రభావితం చేస్తాయి.</td>\n",
              "      <td>10 గ్రాముల 24 క్యారెట్ల బంగారం ధర ₹ 57,540 గా ఉంది కిలో వెండి ధర హైదరాబాద్ మార్కెట్‌లో ₹ 75,000 గా ఉంది ఏపీ, తెలంగాణవ్యాప్తంగా ఇదే ధర అమల్లో ఉందిఆంధ్రప్రదేశ్‌లో బంగారం, వెండి ధరలు (Gold Rates in Andhra Pradesh)విజయవాడలో ‍(Gold Rate in Vijayawada) 10 గ్రాముల 22 క్యారెట్ల ఆర్నమెంటు బంగారం ధర ₹ 52,750 కి చేరింది 24 క్యారెట్ల బిస్కెట్ బంగారం ధర ₹ 57,540 గా నమోదైంది ఇక్కడ కిలో వెండి ధర ₹ 75,000 గా ఉంది విశాఖపట్నం (Gold Rate in Visakhapatnam) మార్కెట్‌లో బంగారం, వెండికి విజయవాడ రేటే అమలవుతోంది దేశంలోని వివిధ నగరాల్లో పసిడి ధరలు (Today's Gold Rate in Major Cities) చెన్నైలో (Gold Rate in Chennai) 22 క్యారెట్ల ఆభరణాల బంగారం ధర ఇవాళ ₹ 53,700 గా ఉండగా, 24 క్యారెట్ల బంగారం ధర ₹ 58,580 కి చేరింది కోయంబత్తూలోనూ ఇదే రేటు అమల్లో ఉందిముంబయిలో (Gold Rate in Mumbai) 22 క్యారెట్ల బంగారం ధర ₹ 52,750 గా ఉండగా, 24 క్యారెట్ల బంగారం ధర ₹ 57,540 కి చేరింది పుణెలోనూ ఇదే రేటు అమల్లో ఉంది</td>\n",
              "    </tr>\n",
              "    <tr>\n",
              "      <th>3</th>\n",
              "      <td>నిజామాబాద్‌లో పాలిటెక్నిక్ విద్యార్థి సూసైడ్‌- పరీక్షల భయమేనంటున్న ఫ్రెండ్స్!</td>\n",
              "      <td>crime</td>\n",
              "      <td>పరీక్షల భయం ఓ విద్యార్థిని ప్రాణం తీసింది. నిజామాబాద్‌లో జరిగిన ఈ దుర్ఘటన అందర్నీ విషాదంలో నింపింది. స్థానిక  వీఆర్‌ఈసీ ఇంజనీరింగ్ కాలేజీలో చదువుతున్న విద్యార్థిని పరీక్షల భయంతో బిల్డింగ్‌పై నుంచి దూకేసింది. నిజామాబాద్‌లోని వీఆర్‌ఈసీ ఇంజనీరింగ్ కాలేజీలో చదువుతున్న పదిహేడేళ్ల అక్షిత సూసైడ్‌ చేసుకోవడం కలకలం రేపింది. పాలిటెక్నిక్ మొదటి సంవత్సరం చదువుతున్న అక్షిత ఆదివారం అర్థరాత్రి ఆత్మహత్య చేసుకుంది. కాలేజీ హాస్టల్‌ భవనంపై నుంచి దూకి బలవన్మరణానికి పాల్పడింది. అక్షిత సూసైడ్ విషయం గమనించిన తోటి విద్యార్థులు విషయాన్ని కాలేజీ సిబ్బందికి చెప్పారు. వెంటనే ఈ స్పందించిన ఆమెను స్థానికంగా ఉన్న ఓ ప్రైవేటు ఆసుపత్రికి తరలించారు. అక్కడే చికిత్స పొందుతూ అక్షిత మృతి చెందింది. అక్షిత పాలిటెక్నిక్‌ ఈసీఈ విద్యార్థిని. ఇటీవలే మొదటి సెమిస్టర్ పరీక్షలు జరిగాయి. ఆమె ఒక సబ్జెక్ట్‌లో తప్పింది.  మొదటి సెమిస్టర్‌లోనే ఒక సబ్జెక్ట్‌ తప్పిన అక్షితకు పరీక్షలంటేనే భయం పట్టుకుంది. తరచూ తోటి స్నేహితుల వద్ద ఈ విషయాన్ని ప్రస్తావించేది. రేపటి(మంగళవారం) నుంచి రెండో సమిస్టర్ పరీక్షలు ప్రారంభం కానున్నాయి. ఇందులో ఫెయిల్ అవుతానేమో అన్న భయంతో సూసైడ్ చేసుకుంది. అయితే అక్షిత మృతిపై తల్లిదండ్రులు అనుమానం వ్యక్తం చేస్తున్నారు. తమ బిడ్డ సూసైడ్ చేసుకునేంత పిరికిది కాదని... పరీక్షలు అంటే ఎప్పుడూ భయపడేది కాదని అంటున్నారు. దీంతో తల్లిదండ్రుల ఫిర్యాదు మేరకు పోలీసులు కేసు నమోదు చేసుకున్నారు. దర్యాప్తు చేసి పూర్తి వివరాలు వెల్లడిస్తామన్నారు.</td>\n",
              "      <td>కాలేజీ హాస్టల్‌ భవనంపై నుంచి దూకి బలవన్మరణానికి పాల్పడింది అక్షిత సూసైడ్ విషయం గమనించిన తోటి విద్యార్థులు విషయాన్ని కాలేజీ సిబ్బందికి చెప్పారు వెంటనే ఈ స్పందించిన ఆమెను స్థానికంగా ఉన్న ఓ ప్రైవేటు ఆసుపత్రికి తరలించారు అక్కడే చికిత్స పొందుతూ అక్షిత మృతి చెందింది అక్షిత పాలిటెక్నిక్‌ ఈసీఈ విద్యార్థిని ఇటీవలే మొదటి సెమిస్టర్ పరీక్షలు జరిగాయి ఆమె ఒక సబ్జెక్ట్‌లో తప్పింది  మొదటి సెమిస్టర్‌లోనే ఒక సబ్జెక్ట్‌ తప్పిన అక్షితకు పరీక్షలంటేనే భయం పట్టుకుంది</td>\n",
              "    </tr>\n",
              "    <tr>\n",
              "      <th>4</th>\n",
              "      <td>Kamareddy News : ప్రభుత్వ ఆఫీస్ ను బార్ లా మార్చేసిన తహసీల్దార్, మందేస్తూ మజా!</td>\n",
              "      <td>crime</td>\n",
              "      <td>Kamareddy News :  కామారెడ్డి జిల్లాలో ఓ తహసీల్దార్ ప్రభుత్వ గెస్ట్ హౌస్ లో మందేసి మజా చేశారు. నాగర్ కర్నూల్ నుంచి బదిలీపై వచ్చిన తహసీల్దార్ సుధాకర్, వీఆర్ఏ సాయిలుతో కలిసి గురువారం రాత్రి ప్రభుత్వ గెస్ట్ హౌస్ లో మద్యం సేవించారు. నిన్నటిరోజే విధుల్లో జాయిన్ అయిన తహసీల్దార్ సుధాకర్ మందు పార్టీలో చిక్కడం వివాదాస్పదం అవుతోంది.  వీఆర్ఏ సాయిలుతో కలిసి ప్రభుత్వ గెస్ట్ హౌస్ లో మందు పార్టీ చేసుకోవడాన్ని మీడియా బట్టబయలు చేసింది. బదిలీపై వచ్చి బార్ తెరిచి! నాగర్  కర్నూల్ నుంచి బదిలీపై వచ్చిన తహసీల్దార్ సుధాకర్ ఎల్లారెడ్డి తహసీల్దార్ కార్యాలయం గౌస్ట్ హౌస్ లో  మందు తాగుతూ అడ్డంగా దొరికిపోయారు. వీఆర్వో సాయిలును వెంటేసుకుని ఏకంగా ప్రభుత్వ కార్యాలయంలోనే మందు దుకాణం పెట్టాడు. బుధవారం సుధాకర్ కొత్తగా విధుల్లో జాయిన్ అయ్యారు. వచ్చిన మొదటి రోజు నుంచే కార్యాలయాన్ని ఏకంగా బార్ అండ్ రెస్టారెంట్ గా మార్చేశారని విమర్శలు వస్తున్నాయి. తహసీల్దార్  ప్రభుత్వ గెస్ట్ హౌస్ లో ఉంటున్నారు. అక్కడ కూడా వీఆర్ఏ సాయిలుతో కలిసి మందు తాగాడు. నాగర్  కర్నూల్ నుంచి బదిలీపై వచ్చిన సుధాకర్ ఇలాంటి పనులు చేయడం పట్ల పలువురు విమర్శిస్తున్నారు. ఇంట్లో నోట్ల కట్టలుమహారాష్ట్రలోని జల్నా జిల్లాలోని ఓ బిజినెస్‌ గ్రూప్‌పై ఆదాయపు పన్ను శాఖ ఇటీవల విస్తృతంగా సోదాలు చేపట్టింది. ఈ తనిఖీల్లో పెద్ద ఎత్తున నోట్ల కట్టలు బయటపడ్డాయి. దాదాపు రూ.56 కోట్ల నగదు లభ్యమవ్వగా.. దీన్ని లెక్కించడానికి అధికారులకు ఏకంగా 13 గంటల సమయం పట్టిందట. దీంతో పాటు వందల కోట్ల విలువైన బినామీ ఆస్తులను అధికారులు గుర్తించారు. జల్నాలో స్టీల్‌, వస్త్రాలు, రియల్‌ ఎస్టేల్‌ వ్యాపారం చేసే ఓ సంస్థ గత కొన్నేళ్లుగా పన్ను ఎగవేతకు పాల్పడినట్లు ఆదాయపు పన్ను శాఖకు విశ్వసనీయ సమాచారం అందింది. దీంతో ఈ నెల 1 నుంచి 8 వరకు 260 మంది ఐటీ సిబ్బంది ఐదు బృందాలుగా ఏర్పడి జిల్లా వ్యాప్తంగా విస్తృతంగా సోదాలు చేపట్టారు. ఆ సంస్థ యజమాని ఇళ్లు, కార్యాలయాల్లో తనిఖీలు జరిపారు.ఈ సోదాల్లో మొత్తం రూ.56 కోట్ల నగదు, రూ.14 కోట్ల విలువైన బంగారు, వజ్రాభరణాలను అధికారులు జప్తు చేసుకున్నారు. ఇతర ఆస్తులను చెందిన డిజిటల్‌ డేటా, పత్రాలను స్వాధీనం చేసుకున్నారు. ఈ నగదు మొత్తాన్ని అధికారులు ఐటీ ఆఫీసుకు తీసుకురాగా.. 13 గంటలకు పైగా శ్రమించి లెక్కించారట. ఈ సోదాల్లో దాదాపు రూ.390 కోట్ల మేర లెక్కల్లోకి రాని బినామీ ఆస్తులను గుర్తించినట్లు అధికారులు తెలిపారు. నోట్ల కట్టలకు సంబంధించిన ఫొటోలు ప్రస్తుతం సోషల్‌ మీడియాలో వైరల్‌గా మారాయి. అయితే వీరిదంతా పన్నులు ఎగ్గొట్టి చేసే వ్యాపారమే కానీ రాజకీయాలతో సంబంధం లేదని భావిస్తున్నారు. ఈ అంశంపై ఐటీ అధికారులు లోతుగా విచారణ జరుపుతున్నారు. రాజకీయ లింకులు ఉంటే.. సంచలనాత్మకం అయ్యే అవకాశం ఉంది. Also Read : Nizamabad: పెళ్లి చేయట్లేదని తండ్రి, బాబాయ్‌ హత్య - కర్రతో చావ బాదిన కొడుకు!Also Read : Hyderabad Crime : జీడిమెట్లలో దారుణం, బ్యూటిషన్ పై స్నేహితుడే అత్యాచారం!</td>\n",
              "      <td>ఆ సంస్థ యజమాని ఇళ్లు, కార్యాలయాల్లో తనిఖీలు జరిపారుఈ సోదాల్లో మొత్తం రూ56 కోట్ల నగదు, రూ14 కోట్ల విలువైన బంగారు, వజ్రాభరణాలను అధికారులు జప్తు చేసుకున్నారు ఇతర ఆస్తులను చెందిన డిజిటల్‌ డేటా, పత్రాలను స్వాధీనం చేసుకున్నారు ఈ నగదు మొత్తాన్ని అధికారులు ఐటీ ఆఫీసుకు తీసుకురాగా 13 గంటలకు పైగా శ్రమించి లెక్కించారట ఈ సోదాల్లో దాదాపు రూ390 కోట్ల మేర లెక్కల్లోకి రాని బినామీ ఆస్తులను గుర్తించినట్లు అధికారులు తెలిపారు నోట్ల కట్టలకు సంబంధించిన ఫొటోలు ప్రస్తుతం సోషల్‌ మీడియాలో వైరల్‌గా మారాయి అయితే వీరిదంతా పన్నులు ఎగ్గొట్టి చేసే వ్యాపారమే కానీ రాజకీయాలతో సంబంధం లేదని భావిస్తున్నారు</td>\n",
              "    </tr>\n",
              "    <tr>\n",
              "      <th>5</th>\n",
              "      <td>Smartphones Under 15000: రూ.15,000 లోపు లభించే బెస్ట్ స్మార్ట్ ఫోన్లు ఇవే - అన్ని ఫీచర్లు అదుర్స్!</td>\n",
              "      <td>tech</td>\n",
              "      <td>ప్రస్తుతం తక్కువ ధరలో మంచి స్మార్ట్ ఫోన్లు అందుబాటులో ఉన్నాయి. మధ్య తరగతి వినియోగదారుల బడ్జెట్ ధరలోనే అదిరిపోయే ఫీచర్లతో పలు ఫోన్లు లభిస్తున్నాయి. Samsung Galaxy F04, Oppo K10, Motorola G62 5G లాంటి లేటెస్ట్ స్మార్ట్ ఫోన్లు సైతం రూ. 15 వేలలోపే కొనుగోలు చేసే అవకాశం ఉంది. రూ.15 వేలల్లో లభించిన 5 బెస్ట్ స్మార్ట్ ఫోన్లను లిస్టు చేసి పెట్టాం. జస్ట్ చూసి, మీకు నచ్చిన స్మార్ట్ ఫోన్ ను కొనుగోలు చేసుకోవచ్చు.MediaTek P35 చిప్‌సెట్, RAM ప్లస్ ఫీచర్ తో Android 12పై రన్ అవుతోంది. 13MP+2MP డ్యూయల్ రియర్ కెమెరా సెటప్ ను కలిగి ఉంది.  ఈ స్మార్ట్ ఫోన్ గరిష్టంగా 8GB RAMతో వస్తుంది. ఈ ఫోన్ జాడే పర్పుల్, ఒపాల్ గ్రీన్ అనే రెండు స్టైలిష్ రంగులలో లభిస్తుంది. 4GB+64GB స్టోరేజ్ వేరియంట్‌ ఫోన్ ధర రూ. 9,499గా కంపెనీ నిర్ణయించింది. Samsung.com, Flipkartతో పాటు ఎంపిక చేసిన రిటైల్ అవుట్‌లెట్లలో అందుబాటులో ఉంది.  It’s #F4Fast, and it’s F 4 Finally here. The new Samsung Galaxy F04 comes loaded with amazing features, and you can grab one before anyone else. Match the features correctly and leave the right answers in the comments to win the #GalaxyF04, F 4 Free. T&amp;C apply. pic.twitter.com/FN8kosSJgT\\n\\nPoco M4 Pro స్మార్ట్ ఫోన్ మూడు వేరియంట్స్ లో లభిస్తోంది. 6GB/64GB వేరియంట్ ధర రూ. 14,999,  6GB/128GB వేరియంట్ ధర రూ. 16,499, 8GB/128GB వేరియంట్ ధర రూ. 17,999గా కంపెనీ నిర్ణయించింది.ప్రస్తుతం Oppo K10 స్మార్ట్ ఫోన్ రూ.13,990 తగ్గింపు ధరతో అందుబాటులో ఉంది. 6GB RAM, 128GB స్టోరేజ్ వేరియంట్‌ను Flipkartలో ఎక్స్ఛేంజ్, బ్యాంక్ ఆఫర్లను ఉపయోగించి కూడా పొందవచ్చు. ఈ ఫోన్ Qualcomm Snapdragon 680 చిప్‌సెట్‌తో రన్ అవుతుంది. 6.59 అంగుళాల డిస్‌ ప్లే, ట్రిపుల్ రియర్ కెమెరా సెటప్, 5000mAh బ్యాటరీ ఉంది.Realme 9 5G స్మార్ట్ ఫోన్ 4GB RAM, 64GB స్టోరేజ్ వేరియంట్ ప్రస్తుతం ఫ్లిప్‌కార్ట్‌ లో రూ. 15,999 తగ్గింపు ధరతో అందుబాటులో ఉంది. Mediatek డైమెన్సిటీ 810 చిప్‌సెట్ ద్వారా ఈ ఫోన్ రన్ అవుతోంది. ఈ ఫోన్ 6.5 అంగుళాల డిస్‌ప్లే, ట్రిపుల్ రియర్ కెమెరా సెటప్, 5000mAH బ్యాటరీతో పాటు పలు లేటెస్ట్ ఫీచర్లు ఉన్నాయి. Motorola G62 5GMotorola G62 5G స్మార్ట్ ఫోన్ 6GB RAM, 128GB స్టోరేజ్ వేరియంట్ ధర ప్రస్తుతం రూ 14,999కి Flipkartలో అందుబాటులో ఉంది. Qualcomm Snapdragon 695 చిప్‌సెట్ ద్వారా రన్ అవుతుంది. ఈ ఫోన్ 6.55 అంగుళాల డిస్‌ప్లే, ట్రిపుల్ రియర్ కెమెరా సెటప్, 5000mAh బ్యాటరీ ఉంది.Read Also: వాట్సాప్ నుంచి మరో చక్కటి ఫీచర్ - ఈ ఆప్షన్‌తో ఇకపై ఈజీగా కాల్ చేసుకోవచ్చు!</td>\n",
              "      <td>The new Samsung Galaxy F04 comes loaded with amazing features, and you can grab one before anyone else Match the features correctly and leave the right answers in the comments to win the #GalaxyF04, F 4 Free T&amp;C apply pictwittercom/FN8kosSJgT\\n\\nPoco M4 Pro స్మార్ట్ ఫోన్ మూడు వేరియంట్స్ లో లభిస్తోంది 6GB/64GB వేరియంట్ ధర రూ 14,999,  6GB/128GB వేరియంట్ ధర రూ 16,499, 8GB/128GB వేరియంట్ ధర రూ 17,999గా కంపెనీ నిర్ణయించిందిప్రస్తుతం Oppo K10 స్మార్ట్ ఫోన్ రూ13,990 తగ్గింపు ధరతో అందుబాటులో ఉంది 6GB RAM, 128GB స్టోరేజ్ వేరియంట్‌ను Flipkartలో ఎక్స్ఛేంజ్, బ్యాంక్ ఆఫర్లను ఉపయోగించి కూడా పొందవచ్చు ఈ ఫోన్ Qualcomm Snapdragon 680 చిప్‌సెట్‌తో రన్ అవుతుంది</td>\n",
              "    </tr>\n",
              "    <tr>\n",
              "      <th>6</th>\n",
              "      <td>Omicron Variant: ఒమిక్రాన్‌ కోసం మరో కొత్త వ్యాక్సిన్ అవసరం కానుందా? దీనిపై వ్యాక్సిన్ తయారీదారులు ఏమంటున్నారు</td>\n",
              "      <td>world</td>\n",
              "      <td>కొవిడ్‌-19లో కొత్త వేరియంట్‌ ఒమిక్రాన్‌ దక్షిణాఫ్రికాలో బయటపడిన తర్వాత ప్రపంచం మరోసారి తల్లడిల్లుతోంది. దీన్ని ఎదుర్కొవడానికి ప్రభుత్వాలు చర్యలు తీసుకుంటుంటే... ప్రస్తుతం మార్కెట్‌లో ఉన్న వ్యాక్సిన్లు ఎలా పని చేస్తాయనే పరిశోధనలు మొదలు పెట్టాయి వ్యాక్సిన్ తయారీ సంస్థలు. కరోనా టీకాలు తయారు చేస్తున్న ఫైజర్, భారత్‌ బయోటెక్, మోడెర్నా, గెమాలెయా వీళ్లాంతా ఈ కొత్త వేరియంట్‌ను ఎలా ఎదుర్కోవాలో ఆలోచనలు చేస్తున్నారు. ప్రాథమిక అధ్యయనాల ప్రకారం, ఓమిక్రాన్ వేరియంట్ అత్యంత వేగంగా వ్యాప్తి చెందే స్వభావం ఉన్నట్టు గుర్తించారు. డెల్టా వేరియంట్ కంటే ఎక్కువగా స్పీడ్‌తో  వ్యాప్తి చెందుతుందని శాస్త్రవేత్తలు చెప్పారు. ప్రస్తుత వ్యాక్సిన్‌లు దీనికి సరిపడవని... తక్కువ ప్రభావవంతంగా ఉండవచ్చని అంచనా వేస్తున్నారు. \\n\\n\\n\\nదక్షిణాఫ్రికాలో మొదట కనుగొనబడిన ఓమిక్రాన్ వేరియంట్‌కు ఎక్కువ సంఖ్యలో మ్యుటేషన్ ఉండటం వల్ల ఆందోళన కలిగిస్తుంది. దక్షిణాఫ్రికాలో దీన్ని గుర్తించనా 12కుపైగా దేశాల్లో కేసులు ట్రేస్ అయ్యాయి.  అందుకే ఆయా దేశాల ప్రభుత్వాలు  కఠిన ఆంక్షలు అమలు చేస్తున్నాయి. సరిహద్దులు మూసివేసి, ప్రయాణాలపై  ఆంక్షలు పెట్టాయి. స్పైక్‌ ప్రొటీన్ ప్రాంతంలో 30కిపైగా మ్యూటేషన్స్‌ కలిగి ఉందీ కొత్తగా గుర్తించిన ఒమిక్రాన్‌ వేరియంట్‌. దీని వల్ల బాడీలో ఇమ్యూన్‌ దెబ్బతింటుంది. దాన్ని తప్పించుకుని ఒమిక్రాన్ వేరియంట్‌ శరీరంలో ఎదుగుతుంది. అందుకే వ్యాక్సిన్‌లను చాలా క్రిటికల్‌గా విశ్లేషించి సరికొత్త పరిష్కార మార్గాన్ని గుర్తించాలంటున్నారు ఎయిమ్స్‌ చీఫ్‌ డాక్టర్‌ రణ్‌దీప్‌ గులేరియా. దీనిపై వ్యాక్సిన్ తయారీ దారులు ఏమంటున్నారంటే...రష్యన్ గమాలియా ఇనిస్టిట్యూట్: స్పుత్నిగ్ వీ కొవిడ్ వ్యాక్సిన్ కొత్త వేరియంట్‌ ఒమిక్రాన్‌ను ఎదుర్కోవడంలో సమర్థవంతంగా పని చేస్తుందని ప్రకటించింది. ఇప్పటికే దీనిపై పరిశోధనలు ప్రారంభించామని... త్వరలోనే పూర్తి స్థాయిలో మెడిసిన్ అందుబాటులోకి వస్తుందని ప్రకటనలో తెలిపింది. గమాలియా ఇనిస్టిట్యూట్ తయారు చేసిన  స్పుత్నిక్‌ వి, స్పుత్నిక్ లైట్‌ ఒమిక్రాన్ పట్ల న్యూట్రలైజ్‌గా పని చేస్తుందని.. దీంతోపాటు ఇతర మ్యూటేషన్లపై  ఎఫెక్టివ్‌గా పని చేస్తుందని ఆర్డీఐఎప్‌ హెడ్‌ కిరిల్‌ డిమమిత్రివ్‌ తెలిపారు. ఒక వేళ వ్యాక్సిన్‌ను అప్‌డేట్ చేయాల్సి వస్తే మాత్రం 45రోజుల్లో వ్యాక్సిన్ రెడీ చేసే సామర్థ్యం తమ వద్ద ఉందని కిరిల్ డిమిత్రివ్‌ పేర్కొన్నారు. మోడెర్న:ఒమిక్రాన్ వేరియంట్‌ ఎదుర్కోవడానికి కావాల్సిన వ్యాక్సిన్ తయారు చేయడానికి, రవాణాకు నెలల సమయం పడుతుందని యూఎస్‌ బేస్డ్‌ మోడర్నా సంస్థ తెలిపింది. దీనికి సంబంధించిన వ్యాక్సిన్ తయారీ 2022 ప్రారంభంలో మాత్రమే అందుబాటులోకి వస్తుందని చెప్పింది. ప్రస్తుతం అందుబాటులో ఉన్న వ్యాక్సిన్ వచ్చే రెండు, మూడు వారాలే రక్షణ ఉంటుందన్నారు. ఒక వేళ సరికొత్త వ్యాక్సిన్ తయారు చేయాలంటే మాత్రం 2022 వరకు ఆగాల్సిందేనంటున్నారు. ఫైజర్‌-బయోటెక్‌: యూఎస్‌ సంస్థ కొత్త వేరియంట్లు ముఖ్యంగా ఒమిక్రాన్ వేరియంట్‌ను లక్ష్యంగా చేసుకొని పని స్టార్ట్ చేసిందని ఏఎప్‌పీ నివేదించింది. ఫైజర్ ప్రస్తుతం తన వ్యాక్సిన్‌ను ఒమిక్రాన్‌ వేరియంట్‌కు వ్యతిరేకంగా పరీక్షిస్తోంది. Read Also: రోజుకు ఎనిమిది గ్లాసుల నీళ్లు చాలా? ఎక్కువ తాగితే ప్రమాదమా?Read Also: శీతాకాలంలో ఏ సమయంలో తగిలే ఎండ వల్ల విటమిన్ డి లభిస్తుంది? వైద్యులు ఏం చెబుతున్నారు?Read Also: మీ జీవితభాగస్వామిపై నమ్మకం పోయిందా? అయితే ఇలా చేయండి, బంధాన్ని నిలబెట్టుకోండి...Read Also: ఇంట్లో ఇవి ఉంటే నెగిటివ్ ఎనర్జీ... డబ్బును రాకుండా అడ్డుకుంటాయిఇంట్రస్టింగ్‌ వీడియోలు, విశ్లేషణల కోసం ABP Desam YouTube Channel సబ్‌స్క్రైబ్‌ చేయండి</td>\n",
              "      <td>తక్కువ ప్రభావవంతంగా ఉండవచ్చని అంచనా వేస్తున్నారు \\n\\n\\n\\nదక్షిణాఫ్రికాలో మొదట కనుగొనబడిన ఓమిక్రాన్ వేరియంట్‌కు ఎక్కువ సంఖ్యలో మ్యుటేషన్ ఉండటం వల్ల ఆందోళన కలిగిస్తుంది దక్షిణాఫ్రికాలో దీన్ని గుర్తించనా 12కుపైగా దేశాల్లో కేసులు ట్రేస్ అయ్యాయి  అందుకే ఆయా దేశాల ప్రభుత్వాలు  కఠిన ఆంక్షలు అమలు చేస్తున్నాయి సరిహద్దులు మూసివేసి, ప్రయాణాలపై  ఆంక్షలు పెట్టాయి స్పైక్‌ ప్రొటీన్ ప్రాంతంలో 30కిపైగా మ్యూటేషన్స్‌ కలిగి ఉందీ కొత్తగా గుర్తించిన ఒమిక్రాన్‌ వేరియంట్‌ దీని వల్ల బాడీలో ఇమ్యూన్‌ దెబ్బతింటుంది దాన్ని తప్పించుకుని ఒమిక్రాన్ వేరియంట్‌ శరీరంలో ఎదుగుతుంది అందుకే వ్యాక్సిన్‌లను చాలా క్రిటికల్‌గా విశ్లేషించి సరికొత్త పరిష్కార మార్గాన్ని గుర్తించాలంటున్నారు ఎయిమ్స్‌ చీఫ్‌ డాక్టర్‌ రణ్‌దీప్‌ గులేరియా దీనిపై వ్యాక్సిన్ తయారీ దారులు ఏమంటున్నారంటేరష్యన్ గమాలియా ఇనిస్టిట్యూట్: స్పుత్నిగ్ వీ కొవిడ్ వ్యాక్సిన్ కొత్త వేరియంట్‌ ఒమిక్రాన్‌ను ఎదుర్కోవడంలో సమర్థవంతంగా పని చేస్తుందని ప్రకటించింది ఇప్పటికే దీనిపై పరిశోధనలు ప్రారంభించామని</td>\n",
              "    </tr>\n",
              "    <tr>\n",
              "      <th>7</th>\n",
              "      <td>త్రివిక్రమ్ 10 నిమిషాల్లో నా స్క్రిప్ట్ మొత్తం మార్చేశారు, అది 3 నిమిషాల్లో చెప్పిన కథ: సముద్రఖని</td>\n",
              "      <td>entertainment</td>\n",
              "      <td>Samudrakani on Bro Movie : తమిళ దర్శకుడు, నటుడు సముద్రఖని తెరకెక్కించిన లేటెస్ట్ మూవీ 'బ్రో'. పవర్ స్టార్ పవన్ కళ్యాణ్, మెగా అల్లుడు సాయి ధరమ్ తేజ్ ప్రధాన పాత్రల్లో నటించిన ఈ సినిమా.. ఈ నెల 28న ప్రేక్షకుల ముందుకు రాబోతుంది. విడుదల తేదీ దగ్గర పడుతుండడంతో.. మూవీ యూనిట్ ఇప్పటికే ప్రమోషన్స్ మొదలుపెట్టింది. అందులో భాగంగా డైరెక్టర్ సముద్ర ఖని ఆసక్తికర విషయాలను పంచుకున్నారు. ఈ సినిమా ఎలా మొదలైందో చెబుతూ... అందుకు త్రివిక్రమ్ పాత్రను వివరిస్తూ పలు ఇంట్రస్టింగ్ సన్నివేశాలను తన మాటల్లో చెప్పారు.'బ్రో' సినిమా ప్రమోషన్స్ లో భాగంగా తాజాగా ఓ ఇంటర్వ్యూలో పాల్గొన్న సముద్రఖని.. అసలు ఈ సినిమా ఎలా స్టార్ట్ అయింది, అది పవన్ కళ్యాణ్, సాయి ధరమ్ తేజ్ వద్దకు ఎలా వెళ్లిందన్న విషయాలను చెప్పారు. 'బ్రో' మూవీ.. ఓటీటీ కోసం తీసిన తమిళ సినిమా 'వినోదయ సీతమ్' కు రీమేక్ అంటూ చెప్పుకొచ్చారు. 100 నిమిషాలు ఉండే ఈ స్టోరీలో ఎలాంటి బ్రేక్స్ లేవన్నారు. అయితే ఈ మూవీ రిలీజ్ సమయంలో తాను తెలుగులో ‘భీమ్లా నాయక్’ చేస్తున్నానని సముద్రఖని తెలిపారు. ఒకానొక సందర్భంలో మాటల మాంత్రికుడు త్రివిక్రమ్ దగ్గర 'వినోదయ సీతమ్' గురించి ప్రస్తావన వచ్చిందన్నారు.రీసెంట్ గా ఓ ఓటీటీ ఫిల్మ్ చేశానని, అందులోని కంటెంట్‌ను తివిక్రమ్‌కు చెప్పాన్నారు. ఆ సినిమాలోని లాస్ట్ డైలాగ్ చెప్పడంతో.. త్రివిక్రమ్ వెంటనే.. ఈ సినిమాలో నువ్వు యాక్ట్ చేయాలనుకుంటున్నావా అని అడిగారని చెప్పారు. దానికి సమాధానంగా.. నేను యాక్ట్ చేయనని.. డైరెక్ట్ చేయాలనుకుంటున్నానని.. ఈ విషయం ప్రజలకు చెప్పాలని చెప్పినట్టు సముద్రఖని తెలిపారు. \"అందరూ ఫ్యూచర్ అంటుంటారు కానీ.. అసలు ఫ్యూచర్ అనేది లేనే లేదు. అన్నీ ప్రజెంటే.. ఈ విషయం జనాలకు చెప్పాలనుకుంటున్నా\" అని త్రివిక్రమ్ తో చెప్పినట్టు ఆయన అన్నారు. కానీ ఈ సినిమాను మీరు లీడ్ చేయండని చెప్పగానే.. ఆయన తనను 5 నిమిషాలు చూసి.. వెంటనే కళ్యాణ్ సర్ చేస్తే ఓకేనా అనగానే తాను చాలా సంతోషించానని చెప్పారు. అలా 'బ్రో' సినిమా కథ, స్ర్కీన్ ప్లేను సెట్ చేసి.. పవన్ కళ్యాణ్, సాయి ధరమ్ తేజ్ హీరోలని చెప్పినట్టు ఆయన తెలిపారు. ఈ సినిమాను మనం తెలుగులో రీమేక్ చేస్తున్నామని త్రివిక్రమ్ అన్నారన్నారు. అలా త్రివిక్రమ్ కేవలం 10 నిమిషాల్లోనే స్క్రీన్‌ప్లే మార్చేశారని చెప్పారు. జీ 5 చెప్పిన దాని ప్రకారం 25 నిమిషాల్లో 5 స్ర్కిప్టులు చెప్పాలి. కానీ నేను మాత్రం కేవలం 20 నిమిషాల్లోనే 5 స్టోరీలు చెప్పాను. అందులో ఒకటి సెట్ అయింది కూడా. ఇంకా 3 నిమిషాలు ఉంది. అయితే ఇంకా 3 నిమిషాలు ఉంది కదా.. ఇంకో స్టోరీ చెప్తానన్నాను. ఆ 3 మినిట్స్ లో చెప్పిన స్టోరీనే ఇది. ఇది చెప్పగానే అన్నీ ఆపేసి, దీన్ని ఫస్ట్ చేద్దామన్నారు.Read Also : Indian 2 Movie: దర్శకుడు శంకర్ హైటెక్ ప్రయోగం - చనిపోయిన ఆ ఇద్దరు కూడా ‘భారతీయుడు-2’లో నటిస్తారట!ముఖ్యమైన, మరిన్ని ఆసక్తికర కథనాల కోసం ‘టెలిగ్రామ్’లో ‘ఏబీపీ దేశం’లో జాయిన్ అవ్వండి.Join Us on Telegram: https://t.me/abpdesamofficial</td>\n",
              "      <td>మూవీ యూనిట్ ఇప్పటికే ప్రమోషన్స్ మొదలుపెట్టింది అందులో భాగంగా డైరెక్టర్ సముద్ర ఖని ఆసక్తికర విషయాలను పంచుకున్నారు ఈ సినిమా ఎలా మొదలైందో చెబుతూ అందుకు త్రివిక్రమ్ పాత్రను వివరిస్తూ పలు ఇంట్రస్టింగ్ సన్నివేశాలను తన మాటల్లో చెప్పారు'బ్రో' సినిమా ప్రమోషన్స్ లో భాగంగా తాజాగా ఓ ఇంటర్వ్యూలో పాల్గొన్న సముద్రఖని అసలు ఈ సినిమా ఎలా స్టార్ట్ అయింది, అది పవన్ కళ్యాణ్, సాయి ధరమ్ తేజ్ వద్దకు ఎలా వెళ్లిందన్న విషయాలను చెప్పారు 'బ్రో' మూవీ ఓటీటీ కోసం తీసిన తమిళ సినిమా 'వినోదయ సీతమ్' కు రీమేక్ అంటూ చెప్పుకొచ్చారు 100 నిమిషాలు ఉండే ఈ స్టోరీలో ఎలాంటి బ్రేక్స్ లేవన్నారు అయితే ఈ మూవీ రిలీజ్ సమయంలో తాను తెలుగులో ‘భీమ్లా నాయక్’ చేస్తున్నానని సముద్రఖని తెలిపారు ఒకానొక సందర్భంలో మాటల మాంత్రికుడు త్రివిక్రమ్ దగ్గర 'వినోదయ సీతమ్' గురించి ప్రస్తావన వచ్చిందన్నారురీసెంట్ గా ఓ ఓటీటీ ఫిల్మ్ చేశానని, అందులోని కంటెంట్‌ను తివిక్రమ్‌కు చెప్పాన్నారు ఆ సినిమాలోని లాస్ట్ డైలాగ్ చెప్పడంతో త్రివిక్రమ్ వెంటనే ఈ సినిమాలో నువ్వు యాక్ట్ చేయాలనుకుంటున్నావా అని అడిగారని చెప్పారు</td>\n",
              "    </tr>\n",
              "    <tr>\n",
              "      <th>8</th>\n",
              "      <td>Annamayya District News : ఓ నిర్ణయం తీసుకుని ఇంటికి తిరిగి వస్తానని, ఇద్దరు పిల్లలతో వివాహిత సూసైడ్!</td>\n",
              "      <td>crime</td>\n",
              "      <td>Annamayya District News : భార్యా భర్తల దాంపత్య జీవితం ప్రేమానురాగాలకు, ఆప్యాయతలకు నిదర్శనంగా ఉండాలంటారు. ఎన్ని కష్టాలు ఎదురైనా ఇద్దరూ క‌లిసి ఎదుర్కొంటేనే ఆ జీవితం నిండు నూరేళ్లు సాగుతుంది.  ఇక ఒకరినొకరు అర్ధం చేసుకుంటూ మనస్పర్ధలు లేకుండా జీవితం సాగించాలి.. అంతే కానీ చిన్న చిన్న విషయాలకు గొడవ పడుతూ ఒకరిపై ఒకరు ద్వేషం పెంచుకుంటే ఆ సంసారం కత్తి మీద సాముల మారుతుంది. భర్తతో గొడవ పడిన ఓ వివాహిత తన ఇద్దరు పిల్లలతో కలిసి బావిలో దూకి ఆత్మహత్య చేసుకున్న ఘటన అన్నమయ్య జిల్లాలో చోటు చేసుకుంది. అసలేం జరిగింది? అన్నమయ్య జిల్లా గుర్రంకొండ మండలం దిగువ బురుజు పల్లెకు చెందిన ప్రతాప్ రెడ్డి, ఓబులేశ్వరి కుమార్తె లావణ్యను 2016లో పీలేరు మండలం దిగువపల్లెకు చెందిన సుబ్రహ్మణ్యంరెడ్డితో వివాహం జరిపించారు. లావణ్య, సుబ్రమణ్యం రెడ్డికి పరమేష్ (4), మౌనిక (3) పిల్లలు ఉన్నారు. అయితే లావణ్య భర్త సుబ్రహ్మణ్యం రెడ్డి వృత్తి రీత్యా తెలంగాణ మహబూబాబాద్‌లో ప్రైవేట్ కంపెనీలో ఉద్యోగం చేస్తూ కుటుంబాన్ని పోషిస్తున్నాడు. ఇటీవల్ల లావణ్య, సుబ్రహ్మణ్యం రెడ్డిల మధ్య మనస్పర్థలు వచ్చాయి. దీంతో లావణ్య తల్లిదండ్రులు, సుబ్రహ్మణ్యం రెడ్డి తల్లిదండ్రులు కలిసి భార్య భర్తల మధ్య తగదాలను తీర్చే ప్రయత్నం చేశారు. కానీ ఇరువురు తరచూ చిన్న చిన్న విషయాలకు గొడవ పడుతూ ఉండేవారు. ఈ క్రమంలో మూడు నెలల క్రితం లావణ్య భర్తతో గొడవపడి పుట్టింటికి చేరుకుంది. అప్పటి నుండి లావణ్య తన ఇద్దరు పిల్లలను తన వద్దే ఉంచుకుని ఉద్యోగం ప్రయత్నం చేస్తూ వస్తుంది. ఇంటికి తిరిగి వస్తానని చెప్పి ఈ నెల 16న లావణ్య తాత సురేంద్రరెడ్డి కర్మక్రియలకు సుబ్రహ్మణ్యం రెడ్డి మహబూబాబాద్ నుంచి దిగువ ఓబులవారిపల్లెకు వచ్చాడు.  సురేంద్రరెడ్డి కర్మక్రియలు పూర్తైన తర్వాత సుబ్రహ్మణ్యం రెడ్డి, తన భార్య, పిల్లలను తనతో పాటు పంపించాలని లావణ్య తల్లిదండ్రులను కోరాడు. సుబ్రమణ్యం రెడ్డి కోరిక మేరకు లావణ్యను కాపురానికి పంపేందుకు తల్లిదండ్రులు లావణ్యకు నచ్చజెప్పారు.  కానీ లావణ్య భర్తతో వెళ్లడానికి నిరాకరించింది. పిల్లలనైనా తనతో పంపించాలని సుబ్రమణ్యం రెడ్డి కోరాడు. సుబ్రమణ్యం రెడ్డితో గొడవపడి లావణ్య పిల్లలను పంపించేందుకు నిరాకరించి భర్త మీద కోపంతో శుక్రవారం మధ్యాహ్నం తన ఇద్దరు పిల్లలను బలవంతంగా వెంట బెట్టుకొని వ్యవసాయ బావి వద్దకు వెళ్లింది లావణ్య. సుబ్రమణ్యం రెడ్డి, కొందరు గ్రామస్తులు వచ్చి లావణ్యకు నచ్చజెప్పే ప్రయత్నం చేశారు. ఎవరూ ఎన్ని చెప్పినా లావణ్య ఏమాత్రం పట్టించుకోకుండా అందరూ తనను ఒంటరిగా వదిలి వెళ్లాలని చెప్పింది. ఒక నిర్ణయం తీసుకుని ఇంటికి తిరిగి వస్తానని చెప్పడంతో లావణ్యను అక్కడే వదిలి వెళ్లిపోయారు. బావిలో దూకి ఆత్మహత్యఅయితే  ఎవరు లేని సమయంలో పిల్లలతో సహా లావణ్య బావిలో దూకి ఆత్మహత్య చేసుకుంది. ఎంత సేపటికి లావణ్య రాకపోయే సరికి అనుమానం వచ్చిన గ్రామస్తులు అంతా గాలించారు. కానీ లావణ్య ఆచూకీ లభించకపోయే సరికి పొలం వద్ద ఉన్న బావిలో గాలించగా లావణ్య మృతదేహం గుర్తించారు. దీంతో పోలీసులకు సమాచారం అందించారు గ్రామస్తులు. లావణ్య, పరమేష్ మృతదేహాలను వెలికి తీశారు. కానీ మౌనిక మృతదేహం లభించక పోవడంతో గజ ఈతగాళ్ళు మృతదేహం కోసం గాలిస్తున్నారు. ఈ ఘటనతో దిగువ బురుజుపల్లెలో తీవ్ర విషాదం అలుముకుంది. ఈ ఘటనపై గుర్రంకొండ ఎస్ఐ దినేష్ కుమార్ కేసు నమోదు చేసి దర్యాప్తు చేస్తున్నారు.</td>\n",
              "      <td>అప్పటి నుండి లావణ్య తన ఇద్దరు పిల్లలను తన వద్దే ఉంచుకుని ఉద్యోగం ప్రయత్నం చేస్తూ వస్తుంది ఇంటికి తిరిగి వస్తానని చెప్పి ఈ నెల 16న లావణ్య తాత సురేంద్రరెడ్డి కర్మక్రియలకు సుబ్రహ్మణ్యం రెడ్డి మహబూబాబాద్ నుంచి దిగువ ఓబులవారిపల్లెకు వచ్చాడు  సురేంద్రరెడ్డి కర్మక్రియలు పూర్తైన తర్వాత సుబ్రహ్మణ్యం రెడ్డి, తన భార్య, పిల్లలను తనతో పాటు పంపించాలని లావణ్య తల్లిదండ్రులను కోరాడు సుబ్రమణ్యం రెడ్డి కోరిక మేరకు లావణ్యను కాపురానికి పంపేందుకు తల్లిదండ్రులు లావణ్యకు నచ్చజెప్పారు  కానీ లావణ్య భర్తతో వెళ్లడానికి నిరాకరించింది పిల్లలనైనా తనతో పంపించాలని సుబ్రమణ్యం రెడ్డి కోరాడు సుబ్రమణ్యం రెడ్డితో గొడవపడి లావణ్య పిల్లలను పంపించేందుకు నిరాకరించి భర్త మీద కోపంతో శుక్రవారం మధ్యాహ్నం తన ఇద్దరు పిల్లలను బలవంతంగా వెంట బెట్టుకొని వ్యవసాయ బావి వద్దకు వెళ్లింది లావణ్య సుబ్రమణ్యం రెడ్డి, కొందరు గ్రామస్తులు వచ్చి లావణ్యకు నచ్చజెప్పే ప్రయత్నం చేశారు ఎవరూ ఎన్ని చెప్పినా లావణ్య ఏమాత్రం పట్టించుకోకుండా అందరూ తనను ఒంటరిగా వదిలి వెళ్లాలని చెప్పింది ఒక నిర్ణయం తీసుకుని ఇంటికి తిరిగి వస్తానని చెప్పడంతో లావణ్యను అక్కడే వదిలి వెళ్లిపోయారు బావిలో దూకి ఆత్మహత్యఅయితే  ఎవరు లేని సమయంలో పిల్లలతో సహా లావణ్య బావిలో దూకి ఆత్మహత్య చేసుకుంది</td>\n",
              "    </tr>\n",
              "    <tr>\n",
              "      <th>9</th>\n",
              "      <td>ముస్లిం దంపతులను కొట్టి చంపిన హిందువులు, యూపీలో దారుణం</td>\n",
              "      <td>crime</td>\n",
              "      <td>UP Crime News: యూపీలో ఘటన..యూపీలో దారుణం జరిగింది. ఓ ముస్లిం కుటుంబానికి చెందిన భార్యాభర్తల్ని విచక్షణారహితంగా కొట్టి చంపారు. ఐరన్‌ రాడ్‌లు, కర్రలతో దారుణంగా కొట్టారు. ఈ కేసులో ముగ్గురిని పోలీసులు అరెస్ట్ చేశారు. హిందూ యువతిని ముస్లిం యువకుడు ప్రేమించడమే కాకుండా ఈ ఇద్దరూ ఇంట్లో నుంచి పారిపోవడం రెండు కుటుంబాల్లోనూ కలకలం రేపింది. ఈ అసహనంతోనే యువతి కుటుంబ సభ్యులు ఆ ముస్లిం యువకుడి తల్లిదండ్రులపై దాడి చేశారు. అబ్బాస్, కమ్రూల్ నిషా అక్కడికక్కడే ప్రాణాలు కోల్పోయారు. వెంటనే నిందితులు అక్కడి నుంచి పారిపోయారు. కొన్నేళ్ల క్రితం యువతీ యువకులు పారిపోయారు. దీనిపై యువతి కుటుంబ సభ్యులు యువకుడిపై కేసు పెట్టారు. కొన్నాళ్ల పాటు జైలు శిక్ష అనుభవించాడు. కొద్ది రోజుల క్రితమే విడుదలయ్యాడు. ఈ జంటపై దాడి చేయాలని కుటుంబ సభ్యులు ప్లాన్ చేసుకున్నారు. స్థానికులు చెప్పిన వివరాల ప్రకారం..2020లో వీళ్లిద్దరూ పారిపోయారు. అప్పటికి ఆ యువతి మైనర్. పోలీసు కేసు నమోదు చేసిన వెంటనే యువకుడిని అదుపులోకి తీసుకున్నారు. అయితే..ఈ ఏడాది జూన్‌లో ఇద్దరూ మరోసారి పారిపోయారు. పెళ్లి కూడా చేసుకున్నారు. ఈ కోపంతోనే యువతి కుటుంబ సభ్యులు ఒక్కసారిగా దాడి చేశారు. యువకుడి తల్లిదండ్రులు ఈ దాడిలో ప్రాణాలు కోల్పోయారు. ఈ కేసులో ప్రధాన నిందితులను అరెస్ట్ చేసిన పోలీసులు..మిగతా వారి కోసం గాలిస్తున్నారు. ముస్లిం యువకుడిపై దాడి..ఇటీవలే యూపీలోని బులందశర్‌లో ఓ ముస్లిం యువకుడిని ముగ్గురు దారుణంగా కొట్టారు. \"జై శ్రీరాం\" అని నినాదాలు చేయాలంటూ చితకబాదారు. అలా కొడుతూ వీడియో కూడా తీశారు. ఈ వీడియో సోషల్ మీడియాలో వైరల్ అయింది. పోలీసులు ఆ వీడియోలోని ఇద్దరు నిందితులనీ అదుపులోకి తీసుకున్నారు. జూన్ 13న ఈ ఘటన జరిగినట్టు పోలీసులు వెల్లడించారు. జూన్ 17న వాళ్లను అరెస్ట్ చేశారు. బాధిత కుటుంబ సభ్యులు వచ్చి ఫిర్యాదు చేసిన వెంటనే చర్యలు తీసుకున్నారు. ఫిర్యాదులో ఉన్న వివరాల ప్రకారం..జూన్ 13వ తేదీన బాధితుడు సాహిల్ బస్‌స్టాండ్‌లో నిలబడి ఉన్నాడు. అప్పుడే ఓ ముగ్గురు యువకులు బైక్‌పైన వచ్చి బలవంతంగా సాహిల్‌ని కూర్చోబెట్టుకున్నారు. ఎవరూ లేని చోటకు తీసుకెళ్లారు. తమలో ఒకరి మొబైల్ పోయిందని, చోరీ చేసింది నువ్వేనా అని ప్రశ్నించారు. తనకేమీ తెలియదని బాధితుడు బదులిచ్చాడు. ఆ తరవాత ముగ్గురూ చెట్టుకి కట్టేసి విచక్షణారహితంగా కొట్టారు. గుండుకొట్టించారు. జై శ్రీరాం అని గట్టిగా నినాదాలు చేయాలని బలవంతం చేశారు. ఇదంతా వీడియో తీసి సోషల్ మీడియాలో పోస్ట్ చేశారు. ఎలాగోలా అక్కడి నుంచి తప్పించుకున్న బాధితుడు పోలీసులను ఆశ్రయించాడు. అయితే...పోలీసులు కూడా ఎలాంటి చర్యలు తీసుకోలేదని, పైగా తనపై దొంగతనం కేసు నమోదు చేసి అరెస్ట్ చేశారని ఆరోపించాడు బాధితుడు. అంతే కాదు. ఆ ముగ్గురిపై పెట్టిన కేసుని విత్‌డ్రా చేసుకోవాలని ఒత్తిడి చేశారని ఆరోపించారు. Also Read: లద్దాఖ్‌ డెవలప్‌మెంట్‌ని ప్రమోట్ చేస్తున్న రాహుల్‌కి థాంక్స్, కేంద్రమంత్రుల సెటైర్లు</td>\n",
              "      <td>ఈ ఏడాది జూన్‌లో ఇద్దరూ మరోసారి పారిపోయారు పెళ్లి కూడా చేసుకున్నారు ఈ కోపంతోనే యువతి కుటుంబ సభ్యులు ఒక్కసారిగా దాడి చేశారు యువకుడి తల్లిదండ్రులు ఈ దాడిలో ప్రాణాలు కోల్పోయారు ఈ కేసులో ప్రధాన నిందితులను అరెస్ట్ చేసిన పోలీసులుమిగతా వారి కోసం గాలిస్తున్నారు ముస్లిం యువకుడిపై దాడిఇటీవలే యూపీలోని బులందశర్‌లో ఓ ముస్లిం యువకుడిని ముగ్గురు దారుణంగా కొట్టారు \"జై శ్రీరాం\" అని నినాదాలు చేయాలంటూ చితకబాదారు అలా కొడుతూ వీడియో కూడా తీశారు ఈ వీడియో సోషల్ మీడియాలో వైరల్ అయింది పోలీసులు ఆ వీడియోలోని ఇద్దరు నిందితులనీ అదుపులోకి తీసుకున్నారు జూన్ 13న ఈ ఘటన జరిగినట్టు పోలీసులు వెల్లడించారు జూన్ 17న వాళ్లను అరెస్ట్ చేశారు బాధిత కుటుంబ సభ్యులు వచ్చి ఫిర్యాదు చేసిన వెంటనే చర్యలు తీసుకున్నారు ఫిర్యాదులో ఉన్న వివరాల ప్రకారంజూన్ 13వ తేదీన బాధితుడు సాహిల్ బస్‌స్టాండ్‌లో నిలబడి ఉన్నాడు</td>\n",
              "    </tr>\n",
              "  </tbody>\n",
              "</table>\n",
              "</div>\n",
              "    <div class=\"colab-df-buttons\">\n",
              "\n",
              "  <div class=\"colab-df-container\">\n",
              "    <button class=\"colab-df-convert\" onclick=\"convertToInteractive('df-f5a0d0cb-26fb-45d6-9600-478cc3829026')\"\n",
              "            title=\"Convert this dataframe to an interactive table.\"\n",
              "            style=\"display:none;\">\n",
              "\n",
              "  <svg xmlns=\"http://www.w3.org/2000/svg\" height=\"24px\" viewBox=\"0 -960 960 960\">\n",
              "    <path d=\"M120-120v-720h720v720H120Zm60-500h600v-160H180v160Zm220 220h160v-160H400v160Zm0 220h160v-160H400v160ZM180-400h160v-160H180v160Zm440 0h160v-160H620v160ZM180-180h160v-160H180v160Zm440 0h160v-160H620v160Z\"/>\n",
              "  </svg>\n",
              "    </button>\n",
              "\n",
              "  <style>\n",
              "    .colab-df-container {\n",
              "      display:flex;\n",
              "      gap: 12px;\n",
              "    }\n",
              "\n",
              "    .colab-df-convert {\n",
              "      background-color: #E8F0FE;\n",
              "      border: none;\n",
              "      border-radius: 50%;\n",
              "      cursor: pointer;\n",
              "      display: none;\n",
              "      fill: #1967D2;\n",
              "      height: 32px;\n",
              "      padding: 0 0 0 0;\n",
              "      width: 32px;\n",
              "    }\n",
              "\n",
              "    .colab-df-convert:hover {\n",
              "      background-color: #E2EBFA;\n",
              "      box-shadow: 0px 1px 2px rgba(60, 64, 67, 0.3), 0px 1px 3px 1px rgba(60, 64, 67, 0.15);\n",
              "      fill: #174EA6;\n",
              "    }\n",
              "\n",
              "    .colab-df-buttons div {\n",
              "      margin-bottom: 4px;\n",
              "    }\n",
              "\n",
              "    [theme=dark] .colab-df-convert {\n",
              "      background-color: #3B4455;\n",
              "      fill: #D2E3FC;\n",
              "    }\n",
              "\n",
              "    [theme=dark] .colab-df-convert:hover {\n",
              "      background-color: #434B5C;\n",
              "      box-shadow: 0px 1px 3px 1px rgba(0, 0, 0, 0.15);\n",
              "      filter: drop-shadow(0px 1px 2px rgba(0, 0, 0, 0.3));\n",
              "      fill: #FFFFFF;\n",
              "    }\n",
              "  </style>\n",
              "\n",
              "    <script>\n",
              "      const buttonEl =\n",
              "        document.querySelector('#df-f5a0d0cb-26fb-45d6-9600-478cc3829026 button.colab-df-convert');\n",
              "      buttonEl.style.display =\n",
              "        google.colab.kernel.accessAllowed ? 'block' : 'none';\n",
              "\n",
              "      async function convertToInteractive(key) {\n",
              "        const element = document.querySelector('#df-f5a0d0cb-26fb-45d6-9600-478cc3829026');\n",
              "        const dataTable =\n",
              "          await google.colab.kernel.invokeFunction('convertToInteractive',\n",
              "                                                    [key], {});\n",
              "        if (!dataTable) return;\n",
              "\n",
              "        const docLinkHtml = 'Like what you see? Visit the ' +\n",
              "          '<a target=\"_blank\" href=https://colab.research.google.com/notebooks/data_table.ipynb>data table notebook</a>'\n",
              "          + ' to learn more about interactive tables.';\n",
              "        element.innerHTML = '';\n",
              "        dataTable['output_type'] = 'display_data';\n",
              "        await google.colab.output.renderOutput(dataTable, element);\n",
              "        const docLink = document.createElement('div');\n",
              "        docLink.innerHTML = docLinkHtml;\n",
              "        element.appendChild(docLink);\n",
              "      }\n",
              "    </script>\n",
              "  </div>\n",
              "\n",
              "\n",
              "<div id=\"df-5dcb66e0-0d43-4e94-82d0-dbba44e3c1e9\">\n",
              "  <button class=\"colab-df-quickchart\" onclick=\"quickchart('df-5dcb66e0-0d43-4e94-82d0-dbba44e3c1e9')\"\n",
              "            title=\"Suggest charts\"\n",
              "            style=\"display:none;\">\n",
              "\n",
              "<svg xmlns=\"http://www.w3.org/2000/svg\" height=\"24px\"viewBox=\"0 0 24 24\"\n",
              "     width=\"24px\">\n",
              "    <g>\n",
              "        <path d=\"M19 3H5c-1.1 0-2 .9-2 2v14c0 1.1.9 2 2 2h14c1.1 0 2-.9 2-2V5c0-1.1-.9-2-2-2zM9 17H7v-7h2v7zm4 0h-2V7h2v10zm4 0h-2v-4h2v4z\"/>\n",
              "    </g>\n",
              "</svg>\n",
              "  </button>\n",
              "\n",
              "<style>\n",
              "  .colab-df-quickchart {\n",
              "      --bg-color: #E8F0FE;\n",
              "      --fill-color: #1967D2;\n",
              "      --hover-bg-color: #E2EBFA;\n",
              "      --hover-fill-color: #174EA6;\n",
              "      --disabled-fill-color: #AAA;\n",
              "      --disabled-bg-color: #DDD;\n",
              "  }\n",
              "\n",
              "  [theme=dark] .colab-df-quickchart {\n",
              "      --bg-color: #3B4455;\n",
              "      --fill-color: #D2E3FC;\n",
              "      --hover-bg-color: #434B5C;\n",
              "      --hover-fill-color: #FFFFFF;\n",
              "      --disabled-bg-color: #3B4455;\n",
              "      --disabled-fill-color: #666;\n",
              "  }\n",
              "\n",
              "  .colab-df-quickchart {\n",
              "    background-color: var(--bg-color);\n",
              "    border: none;\n",
              "    border-radius: 50%;\n",
              "    cursor: pointer;\n",
              "    display: none;\n",
              "    fill: var(--fill-color);\n",
              "    height: 32px;\n",
              "    padding: 0;\n",
              "    width: 32px;\n",
              "  }\n",
              "\n",
              "  .colab-df-quickchart:hover {\n",
              "    background-color: var(--hover-bg-color);\n",
              "    box-shadow: 0 1px 2px rgba(60, 64, 67, 0.3), 0 1px 3px 1px rgba(60, 64, 67, 0.15);\n",
              "    fill: var(--button-hover-fill-color);\n",
              "  }\n",
              "\n",
              "  .colab-df-quickchart-complete:disabled,\n",
              "  .colab-df-quickchart-complete:disabled:hover {\n",
              "    background-color: var(--disabled-bg-color);\n",
              "    fill: var(--disabled-fill-color);\n",
              "    box-shadow: none;\n",
              "  }\n",
              "\n",
              "  .colab-df-spinner {\n",
              "    border: 2px solid var(--fill-color);\n",
              "    border-color: transparent;\n",
              "    border-bottom-color: var(--fill-color);\n",
              "    animation:\n",
              "      spin 1s steps(1) infinite;\n",
              "  }\n",
              "\n",
              "  @keyframes spin {\n",
              "    0% {\n",
              "      border-color: transparent;\n",
              "      border-bottom-color: var(--fill-color);\n",
              "      border-left-color: var(--fill-color);\n",
              "    }\n",
              "    20% {\n",
              "      border-color: transparent;\n",
              "      border-left-color: var(--fill-color);\n",
              "      border-top-color: var(--fill-color);\n",
              "    }\n",
              "    30% {\n",
              "      border-color: transparent;\n",
              "      border-left-color: var(--fill-color);\n",
              "      border-top-color: var(--fill-color);\n",
              "      border-right-color: var(--fill-color);\n",
              "    }\n",
              "    40% {\n",
              "      border-color: transparent;\n",
              "      border-right-color: var(--fill-color);\n",
              "      border-top-color: var(--fill-color);\n",
              "    }\n",
              "    60% {\n",
              "      border-color: transparent;\n",
              "      border-right-color: var(--fill-color);\n",
              "    }\n",
              "    80% {\n",
              "      border-color: transparent;\n",
              "      border-right-color: var(--fill-color);\n",
              "      border-bottom-color: var(--fill-color);\n",
              "    }\n",
              "    90% {\n",
              "      border-color: transparent;\n",
              "      border-bottom-color: var(--fill-color);\n",
              "    }\n",
              "  }\n",
              "</style>\n",
              "\n",
              "  <script>\n",
              "    async function quickchart(key) {\n",
              "      const quickchartButtonEl =\n",
              "        document.querySelector('#' + key + ' button');\n",
              "      quickchartButtonEl.disabled = true;  // To prevent multiple clicks.\n",
              "      quickchartButtonEl.classList.add('colab-df-spinner');\n",
              "      try {\n",
              "        const charts = await google.colab.kernel.invokeFunction(\n",
              "            'suggestCharts', [key], {});\n",
              "      } catch (error) {\n",
              "        console.error('Error during call to suggestCharts:', error);\n",
              "      }\n",
              "      quickchartButtonEl.classList.remove('colab-df-spinner');\n",
              "      quickchartButtonEl.classList.add('colab-df-quickchart-complete');\n",
              "    }\n",
              "    (() => {\n",
              "      let quickchartButtonEl =\n",
              "        document.querySelector('#df-5dcb66e0-0d43-4e94-82d0-dbba44e3c1e9 button');\n",
              "      quickchartButtonEl.style.display =\n",
              "        google.colab.kernel.accessAllowed ? 'block' : 'none';\n",
              "    })();\n",
              "  </script>\n",
              "</div>\n",
              "\n",
              "    </div>\n",
              "  </div>\n"
            ],
            "application/vnd.google.colaboratory.intrinsic+json": {
              "type": "dataframe",
              "variable_name": "df_train",
              "summary": "{\n  \"name\": \"df_train\",\n  \"rows\": 21103,\n  \"fields\": [\n    {\n      \"column\": \"Title\",\n      \"properties\": {\n        \"dtype\": \"string\",\n        \"num_unique_values\": 19585,\n        \"samples\": [\n          \"Petrol-Diesel Price 21 March 2023: \\u0c05\\u0c28\\u0c02\\u0c24, \\u0c06\\u0c26\\u0c3f\\u0c32\\u0c3e\\u0c2c\\u0c3e\\u0c26\\u0c4d\\u200c\\u0c32\\u0c4b \\u0c24\\u0c17\\u0c4d\\u0c17\\u0c3f\\u0c28 \\u0c27\\u0c30\\u0c32\\u0c41 - \\u0c2e\\u0c40 \\u0c28\\u0c17\\u0c30\\u0c02\\u0c32\\u0c4b\\u0c28\\u0c42 \\u0c2e\\u0c3e\\u0c30\\u0c4d\\u0c2a\\u0c41\\u0c32\\u0c41\",\n          \"Burger: \\u0c2a\\u0c47\\u0c30\\u0c46\\u0c02\\u0c1f\\u0c4d\\u0c38\\u0c4d\\u200c\\u0c24\\u0c4b \\u0c35\\u0c38\\u0c4d\\u0c24\\u0c47\\u0c28\\u0c47 \\u0c2c\\u0c30\\u0c4d\\u0c17\\u0c30\\u0c4d \\u0c37\\u0c3e\\u0c2a\\u0c41\\u0c32\\u0c4b\\u0c15\\u0c3f \\u0c05\\u0c28\\u0c41\\u0c2e\\u0c24\\u0c3f\\u0c38\\u0c4d\\u0c24\\u0c3e\\u0c02... 18 \\u0c38\\u0c02\\u0c35\\u0c24\\u0c4d\\u0c38\\u0c30\\u0c3e\\u0c32\\u0c32\\u0c4b\\u0c2a\\u0c41 \\u0c35\\u0c3e\\u0c30\\u0c3f\\u0c15\\u0c3f \\u0c2c\\u0c30\\u0c4d\\u0c17\\u0c30\\u0c4d \\u0c37\\u0c3e\\u0c2a\\u0c4d \\u0c06\\u0c30\\u0c4d\\u0c21\\u0c30\\u0c4d\",\n          \"Ysrcp volunteer Tension : \\u0c35\\u0c30\\u0c41\\u0c38 \\u0c35\\u0c3f\\u0c35\\u0c3e\\u0c26\\u0c3e\\u0c32\\u0c41 - \\u0c30\\u0c3e\\u0c1c\\u0c15\\u0c40\\u0c2f \\u0c05\\u0c24\\u0c3f \\u0c24\\u0c46\\u0c32\\u0c3f\\u0c35\\u0c3f !  \\u0c35\\u0c3e\\u0c32\\u0c02\\u0c1f\\u0c40\\u0c30\\u0c4d\\u0c32\\u0c41 \\u0c35\\u0c48\\u0c0e\\u0c38\\u0c4d\\u0c06\\u0c30\\u0c4d\\u200c\\u0c38\\u0c40\\u0c2a\\u0c40\\u0c15\\u0c3f \\u0c17\\u0c41\\u0c26\\u0c3f\\u0c2c\\u0c02\\u0c21\\u0c32\\u0c41\\u0c17\\u0c3e \\u0c2e\\u0c3e\\u0c30\\u0c41\\u0c24\\u0c41\\u0c28\\u0c4d\\u0c28\\u0c3e\\u0c30\\u0c3e?\"\n        ],\n        \"semantic_type\": \"\",\n        \"description\": \"\"\n      }\n    },\n    {\n      \"column\": \"Category\",\n      \"properties\": {\n        \"dtype\": \"category\",\n        \"num_unique_values\": 10,\n        \"samples\": [\n          \"politics\",\n          \"jobs\",\n          \"world\"\n        ],\n        \"semantic_type\": \"\",\n        \"description\": \"\"\n      }\n    },\n    {\n      \"column\": \"News\",\n      \"properties\": {\n        \"dtype\": \"string\",\n        \"num_unique_values\": 19593,\n        \"samples\": [\n          \"\\u0c2d\\u0c3e\\u0c30\\u0c24\\u0c26\\u0c47\\u0c36\\u0c02\\u0c32\\u0c4b \\u0c07\\u0c02\\u0c1c\\u0c28\\u0c40\\u0c30\\u0c3f\\u0c02\\u0c17\\u0c4d \\u0c1a\\u0c26\\u0c35\\u0c3e\\u0c32\\u0c28\\u0c41\\u0c15\\u0c41\\u0c28\\u0c47 \\u0c35\\u0c3e\\u0c30\\u0c3f\\u0c32\\u0c4b \\u0c2e\\u0c46\\u0c1c\\u0c3e\\u0c30\\u0c3f\\u0c1f\\u0c40 \\u0c35\\u0c3f\\u0c26\\u0c4d\\u0c2f\\u0c3e\\u0c30\\u0c4d\\u0c25\\u0c41\\u0c32\\u0c15\\u0c41 \\u0c26\\u0c47\\u0c36 \\u0c10\\u0c10\\u0c1f\\u0c40\\u0c32\\u0c4d\\u0c32\\u0c4b (Indian Institutes of Technology) \\u0c1a\\u0c47\\u0c30\\u0c21\\u0c02 \\u0c05\\u0c28\\u0c47\\u0c26\\u0c3f \\u0c32\\u0c15\\u0c4d\\u0c37\\u0c4d\\u0c2f\\u0c02\\u0c17\\u0c3e \\u0c09\\u0c02\\u0c1f\\u0c41\\u0c02\\u0c26\\u0c3f. \\u0c10\\u0c10\\u0c1f\\u0c40\\u0c32\\u0c4d\\u0c32\\u0c4b \\u0c2a\\u0c4d\\u0c30\\u0c35\\u0c47\\u0c36\\u0c3e\\u0c32 \\u0c15\\u0c4b\\u0c38\\u0c02 \\u0c2a\\u0c4d\\u0c30\\u0c24\\u0c4d\\u0c2f\\u0c47\\u0c15 \\u0c15\\u0c4b\\u0c1a\\u0c3f\\u0c02\\u0c17\\u0c4d \\u0c38\\u0c48\\u0c24\\u0c02 \\u0c24\\u0c40\\u0c38\\u0c41\\u0c15\\u0c41\\u0c02\\u0c1f\\u0c3e\\u0c30\\u0c41. \\u0c07\\u0c15 \\u0c07\\u0c1f\\u0c40\\u0c35\\u0c32 \\u0c15\\u0c3e\\u0c32\\u0c02\\u0c32\\u0c4b \\u0c10\\u0c10\\u0c1f\\u0c40\\u0c32\\u0c41 \\u0c15\\u0c47\\u0c35\\u0c32\\u0c02 \\u0c38\\u0c3e\\u0c02\\u0c2a\\u0c4d\\u0c30\\u0c26\\u0c3e\\u0c2f\\u0c15 \\u0c15\\u0c4b\\u0c30\\u0c4d\\u0c38\\u0c41\\u0c32\\u0c28\\u0c41 \\u0c2e\\u0c3e\\u0c24\\u0c4d\\u0c30\\u0c2e\\u0c47 \\u0c15\\u0c3e\\u0c15\\u0c41\\u0c02\\u0c21\\u0c3e \\u0c2a\\u0c32\\u0c41 \\u0c15\\u0c4a\\u0c24\\u0c4d\\u0c24 \\u0c38\\u0c2c\\u0c4d\\u0c1c\\u0c46\\u0c15\\u0c4d\\u0c1f\\u0c41\\u0c32\\u0c4d\\u0c32\\u0c4b \\u0c2a\\u0c4d\\u0c30\\u0c35\\u0c47\\u0c36\\u0c3e\\u0c32\\u0c28\\u0c41 \\u0c06\\u0c39\\u0c4d\\u0c35\\u0c3e\\u0c28\\u0c3f\\u0c38\\u0c4d\\u0c24\\u0c3e\\u0c2f\\u0c3f. \\u0c08 \\u0c1c\\u0c3e\\u0c2c\\u0c3f\\u0c24\\u0c3e\\u0c32\\u0c4b \\u0c06\\u0c30\\u0c4d\\u0c1f\\u0c4d\\u0c38\\u0c4d, \\u0c15\\u0c3e\\u0c2e\\u0c30\\u0c4d\\u0c38\\u0c4d \\u0c35\\u0c02\\u0c1f\\u0c3f \\u0c2c\\u0c4d\\u0c2f\\u0c3e\\u0c17\\u0c4d\\u0c30\\u0c4c\\u0c02\\u0c21\\u0c4d \\u0c09\\u0c28\\u0c4d\\u0c28 \\u0c15\\u0c4b\\u0c30\\u0c4d\\u0c38\\u0c41\\u0c32\\u0c41 \\u0c15\\u0c42\\u0c21\\u0c3e \\u0c1a\\u0c47\\u0c30\\u0c3e\\u0c2f\\u0c3f. \\u0c21\\u0c3f\\u0c1c\\u0c48\\u0c28\\u0c4d, \\u0c2e\\u0c47\\u0c28\\u0c47\\u0c1c\\u0c4d\\u200c\\u0c2e\\u0c46\\u0c02\\u0c1f\\u0c4d, \\u0c07\\u0c24\\u0c30 \\u0c38\\u0c2c\\u0c4d\\u0c1c\\u0c46\\u0c15\\u0c4d\\u0c1f\\u0c41\\u0c32\\u0c32\\u0c4b \\u0c06\\u0c30\\u0c4d\\u0c1f\\u0c4d\\u0c38\\u0c4d, \\u0c15\\u0c3e\\u0c2e\\u0c30\\u0c4d\\u0c38\\u0c4d \\u0c28\\u0c47\\u0c2a\\u0c25\\u0c4d\\u0c2f\\u0c02 \\u0c09\\u0c28\\u0c4d\\u0c28 \\u0c35\\u0c3f\\u0c26\\u0c4d\\u0c2f\\u0c3e\\u0c30\\u0c4d\\u0c25\\u0c41\\u0c32\\u0c15\\u0c41 \\u0c10\\u0c10\\u0c1f\\u0c40\\u0c32\\u0c41 \\u0c2a\\u0c32\\u0c41 \\u0c15\\u0c4b\\u0c30\\u0c4d\\u0c38\\u0c41\\u0c32\\u0c28\\u0c41 \\u0c05\\u0c02\\u0c26\\u0c3f\\u0c38\\u0c4d\\u0c24\\u0c41\\u0c28\\u0c4d\\u0c28\\u0c3e\\u0c2f\\u0c3f.\\u00a01. \\u0c2c\\u0c4d\\u0c2f\\u0c3e\\u0c1a\\u0c3f\\u0c32\\u0c30\\u0c4d \\u0c06\\u0c2b\\u0c4d \\u0c21\\u0c3f\\u0c1c\\u0c48\\u0c28\\u0c4d (B.Des)\\u0c2c\\u0c4d\\u0c2f\\u0c3e\\u0c1a\\u0c3f\\u0c32\\u0c30\\u0c4d \\u0c06\\u0c2b\\u0c4d \\u0c21\\u0c3f\\u0c1c\\u0c48\\u0c28\\u0c4d \\u0c05\\u0c28\\u0c47\\u0c26\\u0c3f \\u0c28\\u0c3e\\u0c32\\u0c41\\u0c17\\u0c47\\u0c33\\u0c4d\\u0c32 \\u0c15\\u0c4b\\u0c30\\u0c4d\\u0c38\\u0c41. \\u0c07\\u0c02\\u0c26\\u0c41\\u0c32\\u0c4b \\u0c21\\u0c3f\\u0c1c\\u0c48\\u0c28\\u0c4d \\u0c38\\u0c42\\u0c24\\u0c4d\\u0c30\\u0c3e\\u0c32\\u0c41, \\u0c1a\\u0c3f\\u0c24\\u0c4d\\u0c30\\u0c3e\\u0c32\\u0c41, \\u0c2b\\u0c4a\\u0c1f\\u0c4b\\u0c17\\u0c4d\\u0c30\\u0c2b\\u0c40 \\u0c17\\u0c41\\u0c30\\u0c3f\\u0c02\\u0c1a\\u0c3f \\u0c2c\\u0c4b\\u0c27\\u0c3f\\u0c38\\u0c4d\\u0c24\\u0c3e\\u0c30\\u0c41. \\u0c05\\u0c02\\u0c21\\u0c30\\u0c4d \\u0c17\\u0c4d\\u0c30\\u0c3e\\u0c21\\u0c4d\\u0c2f\\u0c41\\u0c2f\\u0c47\\u0c1f\\u0c4d \\u0c15\\u0c3e\\u0c2e\\u0c28\\u0c4d \\u0c0e\\u0c02\\u0c1f\\u0c4d\\u0c30\\u0c28\\u0c4d\\u0c38\\u0c4d \\u0c0e\\u0c17\\u0c4d\\u0c1c\\u0c3e\\u0c2e\\u0c3f\\u0c28\\u0c47\\u0c37\\u0c28\\u0c4d \\u0c2b\\u0c30\\u0c4d \\u0c21\\u0c3f\\u0c1c\\u0c48\\u0c28\\u0c4d (UCEED) \\u0c26\\u0c4d\\u0c35\\u0c3e\\u0c30\\u0c3e \\u0c08 \\u0c15\\u0c4b\\u0c30\\u0c4d\\u0c38\\u0c41\\u0c32\\u0c4b \\u0c2a\\u0c4d\\u0c30\\u0c35\\u0c47\\u0c36\\u0c3e\\u0c32\\u0c41 \\u0c2a\\u0c4a\\u0c02\\u0c26\\u0c35\\u0c1a\\u0c4d\\u0c1a\\u0c41. \\u0c1c\\u0c3e\\u0c24\\u0c40\\u0c2f \\u0c38\\u0c4d\\u0c25\\u0c3e\\u0c2f\\u0c3f\\u0c32\\u0c4b \\u0c08 \\u0c2a\\u0c4d\\u0c30\\u0c35\\u0c47\\u0c36 \\u0c2a\\u0c30\\u0c40\\u0c15\\u0c4d\\u0c37\\u0c28\\u0c41 \\u0c28\\u0c3f\\u0c30\\u0c4d\\u0c35\\u0c39\\u0c3f\\u0c38\\u0c4d\\u0c24\\u0c3e\\u0c30\\u0c41. \\u0c10\\u0c10\\u0c1f\\u0c40 \\u0c2c\\u0c3e\\u0c02\\u0c2c\\u0c47 \\u0c08 \\u0c2a\\u0c30\\u0c40\\u0c15\\u0c4d\\u0c37 \\u0c28\\u0c3f\\u0c30\\u0c4d\\u0c35\\u0c39\\u0c23 \\u0c2d\\u0c3e\\u0c26\\u0c4d\\u0c2f\\u0c24\\u0c32\\u0c28\\u0c41 \\u0c1a\\u0c42\\u0c38\\u0c4d\\u0c24\\u0c4b\\u0c02\\u0c26\\u0c3f. \\u0c35\\u0c3f\\u0c1c\\u0c41\\u0c35\\u0c32\\u0c48\\u0c1c\\u0c47\\u0c37\\u0c28\\u0c4d \\u0c05\\u0c02\\u0c21\\u0c4d \\u0c38\\u0c4d\\u0c2a\\u0c47\\u0c37\\u0c3f\\u0c2f\\u0c32\\u0c4d \\u0c0e\\u0c2c\\u0c41\\u0c32\\u0c3f\\u0c1f\\u0c40, \\u0c21\\u0c3f\\u0c1c\\u0c48\\u0c28\\u0c4d \\u0c25\\u0c3f\\u0c02\\u0c15\\u0c3f\\u0c02\\u0c17\\u0c4d \\u0c05\\u0c02\\u0c21\\u0c4d \\u0c2a\\u0c4d\\u0c30\\u0c3e\\u0c2c\\u0c4d\\u0c32\\u0c2e\\u0c4d \\u0c38\\u0c3e\\u0c32\\u0c4d\\u0c35\\u0c3f\\u0c02\\u0c17\\u0c4d, \\u0c05\\u0c2c\\u0c4d\\u0c1c\\u0c30\\u0c4d\\u0c35\\u0c47\\u0c37\\u0c28\\u0c4d \\u0c05\\u0c02\\u0c21\\u0c4d \\u0c21\\u0c3f\\u0c1c\\u0c48\\u0c28\\u0c4d \\u0c38\\u0c46\\u0c28\\u0c4d\\u0c38\\u0c3f\\u0c1f\\u0c3f\\u0c35\\u0c40\\u0c1f\\u0c40, \\u0c05\\u0c28\\u0c32\\u0c1f\\u0c3f\\u0c15\\u0c32\\u0c4d \\u0c05\\u0c02\\u0c21\\u0c4d \\u0c32\\u0c3e\\u0c1c\\u0c3f\\u0c15\\u0c32\\u0c4d \\u0c30\\u0c40\\u0c1c\\u0c28\\u0c3f\\u0c02\\u0c17\\u0c4d, \\u0c32\\u0c3e\\u0c02\\u0c17\\u0c4d\\u0c35\\u0c47\\u0c1c\\u0c4d \\u0c05\\u0c02\\u0c21\\u0c4d \\u0c15\\u0c4d\\u0c30\\u0c3f\\u0c2f\\u0c47\\u0c1f\\u0c3f\\u0c35\\u0c3f\\u0c1f\\u0c40, \\u0c0e\\u0c28\\u0c4d\\u0c35\\u0c3f\\u0c30\\u0c3e\\u0c28\\u0c4d\\u200c\\u0c2e\\u0c46\\u0c02\\u0c1f\\u0c32\\u0c4d \\u0c05\\u0c02\\u0c21\\u0c4d \\u0c38\\u0c4b\\u0c37\\u0c32\\u0c4d \\u0c05\\u0c35\\u0c47\\u0c30\\u0c4d\\u200c\\u0c28\\u0c46\\u0c38\\u0c4d \\u0c05\\u0c28\\u0c47 \\u0c38\\u0c1c\\u0c4d\\u0c1c\\u0c46\\u0c15\\u0c4d\\u0c1f\\u0c41\\u0c32\\u0c41 \\u0c09\\u0c02\\u0c1f\\u0c3e\\u0c2f\\u0c3f.\\u00a0\\u0c10\\u0c10\\u0c1f\\u0c40 \\u0c39\\u0c48\\u0c26\\u0c30\\u0c3e\\u0c2c\\u0c3e\\u0c26\\u0c4d (20 \\u0c38\\u0c40\\u0c1f\\u0c4d\\u0c32\\u0c41), \\u0c10\\u0c10\\u0c1f\\u0c40 \\u0c2c\\u0c3e\\u0c02\\u0c2c\\u0c47 (37 \\u0c38\\u0c40\\u0c1f\\u0c4d\\u0c32\\u0c41), \\u0c10\\u0c10\\u0c1f\\u0c40 \\u0c17\\u0c4c\\u0c39\\u0c24\\u0c3f (56 \\u0c38\\u0c40\\u0c1f\\u0c4d\\u0c32\\u0c41) \\u0c38\\u0c39\\u0c3e \\u0c2e\\u0c42\\u0c21\\u0c41 \\u0c10\\u0c10\\u0c1f\\u0c40\\u0c32\\u0c41 \\u0c08 \\u0c15\\u0c4b\\u0c30\\u0c4d\\u0c38\\u0c41\\u0c28\\u0c41 \\u0c05\\u0c02\\u0c26\\u0c3f\\u0c38\\u0c4d\\u0c24\\u0c41\\u0c28\\u0c4d\\u0c28\\u0c3e\\u0c2f\\u0c3f. \\u0c10\\u0c10\\u0c1f\\u0c40 \\u0c22\\u0c40\\u0c32\\u0c4d\\u0c32\\u0c40 \\u0c15\\u0c42\\u0c21\\u0c3e \\u0c08 BDes \\u0c15\\u0c4b\\u0c30\\u0c4d\\u0c38\\u0c41\\u0c28\\u0c41 \\u0c2a\\u0c4d\\u0c30\\u0c35\\u0c47\\u0c36\\u0c2a\\u0c46\\u0c1f\\u0c4d\\u0c1f\\u0c3f\\u0c02\\u0c26\\u0c3f. \\u0c35\\u0c1a\\u0c4d\\u0c1a\\u0c47 \\u0c35\\u0c3f\\u0c26\\u0c4d\\u0c2f\\u0c3e \\u0c38\\u0c02\\u0c35\\u0c24\\u0c4d\\u0c38\\u0c30\\u0c02 \\u0c28\\u0c41\\u0c02\\u0c1a\\u0c3f \\u0c26\\u0c40\\u0c28\\u0c3f\\u0c28\\u0c3f \\u0c05\\u0c2e\\u0c32\\u0c41 \\u0c1a\\u0c47\\u0c2f\\u0c28\\u0c41\\u0c02\\u0c26\\u0c3f. \\u0c1c\\u0c2c\\u0c32\\u0c4d\\u200c\\u0c2a\\u0c42\\u0c30\\u0c4d\\u200c\\u0c32\\u0c4b\\u0c28\\u0c3f \\u0c07\\u0c02\\u0c21\\u0c3f\\u0c2f\\u0c28\\u0c4d \\u0c07\\u0c28\\u0c4d\\u200c\\u0c38\\u0c4d\\u0c1f\\u0c3f\\u0c1f\\u0c4d\\u0c2f\\u0c42\\u0c1f\\u0c4d \\u0c06\\u0c2b\\u0c4d \\u0c07\\u0c28\\u0c4d\\u0c2b\\u0c30\\u0c4d\\u0c2e\\u0c47\\u0c37\\u0c28\\u0c4d \\u0c1f\\u0c46\\u0c15\\u0c4d\\u0c28\\u0c3e\\u0c32\\u0c1c\\u0c40, \\u0c21\\u0c3f\\u0c1c\\u0c48\\u0c28\\u0c4d \\u0c05\\u0c02\\u0c21\\u0c4d \\u0c2e\\u0c4d\\u0c2f\\u0c3e\\u0c28\\u0c41\\u0c2b\\u0c4d\\u0c2f\\u0c3e\\u0c15\\u0c4d\\u0c1a\\u0c30\\u0c3f\\u0c02\\u0c17\\u0c4d (66 \\u0c38\\u0c40\\u0c1f\\u0c4d\\u0c32\\u0c41) \\u0c15\\u0c42\\u0c21\\u0c3e \\u0c08 \\u0c15\\u0c4b\\u0c30\\u0c4d\\u0c38\\u0c41\\u0c28\\u0c41 \\u0c05\\u0c02\\u0c26\\u0c3f\\u0c38\\u0c4d\\u0c24\\u0c41\\u0c02\\u0c26\\u0c3f.\\u00a0\\u0c35\\u0c3f\\u0c26\\u0c4d\\u0c2f\\u0c3e\\u0c30\\u0c4d\\u0c39\\u0c24, \\u0c35\\u0c2f\\u0c4b\\u0c2a\\u0c30\\u0c3f\\u0c2e\\u0c3f\\u0c24\\u0c3f \\u0c35\\u0c3f\\u0c35\\u0c30\\u0c3e\\u0c32\\u0c41..\\u00a0\\u0c08 \\u0c15\\u0c4b\\u0c30\\u0c4d\\u0c38\\u0c41\\u0c32\\u0c4b \\u0c1a\\u0c47\\u0c30\\u0c3e\\u0c32\\u0c28\\u0c41\\u0c15\\u0c41\\u0c28\\u0c47 \\u0c05\\u0c2d\\u0c4d\\u0c2f\\u0c30\\u0c4d\\u0c25\\u0c41\\u0c32\\u0c41 12\\u0c35 \\u0c24\\u0c30\\u0c17\\u0c24\\u0c3f \\u0c2a\\u0c3e\\u0c38\\u0c4d \\u0c05\\u0c2f\\u0c3f \\u0c09\\u0c02\\u0c21\\u0c3e\\u0c32\\u0c3f. \\u0c05\\u0c32\\u0c3e\\u0c17\\u0c47 24 \\u0c0f\\u0c33\\u0c4d\\u0c32 \\u0c15\\u0c02\\u0c1f\\u0c47 \\u0c24\\u0c15\\u0c4d\\u0c15\\u0c41\\u0c35 \\u0c35\\u0c2f\\u0c38\\u0c41 \\u0c09\\u0c28\\u0c4d\\u0c28 \\u0c35\\u0c3e\\u0c30\\u0c41 \\u0c08 \\u0c2a\\u0c4d\\u0c30\\u0c35\\u0c47\\u0c36 \\u0c2a\\u0c30\\u0c40\\u0c15\\u0c4d\\u0c37 \\u0c30\\u0c3e\\u0c38\\u0c47\\u0c02\\u0c26\\u0c41\\u0c15\\u0c41 \\u0c05\\u0c30\\u0c4d\\u0c39\\u0c41\\u0c32\\u0c41.\\u00a02. \\u0c2e\\u0c3e\\u0c38\\u0c4d\\u0c1f\\u0c30\\u0c4d \\u0c06\\u0c2b\\u0c4d \\u0c21\\u0c3f\\u0c1c\\u0c48\\u0c28\\u0c4d (M.Des)\\u0c2e\\u0c3e\\u0c38\\u0c4d\\u0c1f\\u0c30\\u0c4d \\u0c06\\u0c2b\\u0c4d \\u0c21\\u0c3f\\u0c1c\\u0c48\\u0c28\\u0c4d \\u0c05\\u0c28\\u0c47\\u0c26\\u0c3f \\u0c30\\u0c46\\u0c02\\u0c21\\u0c47\\u0c33\\u0c4d\\u0c32 \\u0c2a\\u0c4b\\u0c38\\u0c4d\\u0c1f\\u0c4d \\u0c17\\u0c4d\\u0c30\\u0c3e\\u0c21\\u0c4d\\u0c2f\\u0c41\\u0c2f\\u0c47\\u0c1f\\u0c4d \\u0c15\\u0c4b\\u0c30\\u0c4d\\u0c38\\u0c41. \\u0c21\\u0c3f\\u0c1c\\u0c48\\u0c28\\u0c4d \\u0c15\\u0c4b\\u0c30\\u0c4d\\u0c38\\u0c41\\u0c32\\u0c32\\u0c4b \\u0c38\\u0c4d\\u0c2a\\u0c46\\u0c37\\u0c32\\u0c48\\u0c1c\\u0c47\\u0c37\\u0c28\\u0c4d \\u0c15\\u0c4b\\u0c38\\u0c02 \\u0c26\\u0c40\\u0c28\\u0c3f\\u0c28\\u0c3f \\u0c2a\\u0c4d\\u0c30\\u0c24\\u0c4d\\u0c2f\\u0c47\\u0c15\\u0c02\\u0c17\\u0c3e \\u0c30\\u0c42\\u0c2a\\u0c4a\\u0c02\\u0c26\\u0c3f\\u0c02\\u0c1a\\u0c3e\\u0c30\\u0c41. \\u0c39\\u0c4d\\u0c2f\\u0c41\\u0c2e\\u0c3e\\u0c28\\u0c3f\\u0c1f\\u0c40\\u0c38\\u0c4d (humanities), \\u0c15\\u0c3e\\u0c2e\\u0c30\\u0c4d\\u0c38\\u0c4d (commerce) \\u0c2c\\u0c4d\\u0c2f\\u0c3e\\u0c17\\u0c4d\\u0c30\\u0c4c\\u0c02\\u0c21\\u0c4d \\u0c09\\u0c28\\u0c4d\\u0c28 \\u0c35\\u0c3f\\u0c26\\u0c4d\\u0c2f\\u0c3e\\u0c30\\u0c4d\\u0c25\\u0c41\\u0c32\\u0c41 \\u0c15\\u0c42\\u0c21\\u0c3e \\u0c26\\u0c40\\u0c28\\u0c3f\\u0c32\\u0c4b \\u0c1a\\u0c47\\u0c30\\u0c35\\u0c1a\\u0c4d\\u0c1a\\u0c41. \\u0c06\\u0c38\\u0c15\\u0c4d\\u0c24\\u0c3f \\u0c17\\u0c32 \\u0c05\\u0c2d\\u0c4d\\u0c2f\\u0c30\\u0c4d\\u0c25\\u0c41\\u0c32\\u0c41 \\u0c15\\u0c3e\\u0c2e\\u0c28\\u0c4d \\u0c0e\\u0c02\\u0c1f\\u0c4d\\u0c30\\u0c28\\u0c4d\\u0c38\\u0c4d \\u0c0e\\u0c17\\u0c4d\\u0c1c\\u0c3e\\u0c2e\\u0c4d \\u0c2b\\u0c30\\u0c4d \\u0c21\\u0c3f\\u0c1c\\u0c48\\u0c28\\u0c4d (Common Entrance Examination for Design- CEED) \\u0c2a\\u0c30\\u0c40\\u0c15\\u0c4d\\u0c37 \\u0c30\\u0c3e\\u0c2f\\u0c3e\\u0c32\\u0c3f. \\u0c38\\u0c40\\u0c08\\u0c08\\u0c21\\u0c40 \\u0c26\\u0c4d\\u0c35\\u0c3e\\u0c30\\u0c3e \\u0c10\\u0c10\\u0c1f\\u0c40\\u0c32\\u0c4d\\u0c32\\u0c4b \\u0c21\\u0c3f\\u0c1c\\u0c48\\u0c28\\u0c4d \\u0c15\\u0c4b\\u0c30\\u0c4d\\u0c38\\u0c41\\u0c32\\u0c32\\u0c4b \\u0c2a\\u0c4d\\u0c30\\u0c35\\u0c47\\u0c36\\u0c3e\\u0c32\\u0c41 \\u0c2a\\u0c4a\\u0c02\\u0c26\\u0c35\\u0c1a\\u0c4d\\u0c1a\\u0c41. \\u0c2a\\u0c4d\\u0c30\\u0c38\\u0c4d\\u0c24\\u0c41\\u0c24\\u0c02 \\u0c06\\u0c30\\u0c41 \\u0c10\\u0c10\\u0c1f\\u0c40\\u0c32\\u0c41 \\u0c08 \\u0c15\\u0c4b\\u0c30\\u0c4d\\u0c38\\u0c41\\u0c28\\u0c41 \\u0c05\\u0c02\\u0c26\\u0c3f\\u0c38\\u0c4d\\u0c24\\u0c41\\u0c28\\u0c4d\\u0c28\\u0c3e\\u0c2f\\u0c3f. \\u0c10\\u0c10\\u0c1f\\u0c40 \\u0c39\\u0c48\\u0c26\\u0c30\\u0c3e\\u0c2c\\u0c3e\\u0c26\\u0c4d, \\u0c10\\u0c10\\u0c1f\\u0c40 \\u0c2c\\u0c3e\\u0c02\\u0c2c\\u0c47, \\u0c10\\u0c10\\u0c1f\\u0c40 \\u0c17\\u0c41\\u0c35\\u0c3e\\u0c39\\u0c24\\u0c3f, \\u0c10\\u0c10\\u0c1f\\u0c40 \\u0c22\\u0c3f\\u0c32\\u0c4d\\u0c32\\u0c40, \\u0c10\\u0c10\\u0c1f\\u0c40 \\u0c15\\u0c3e\\u0c28\\u0c4d\\u0c2a\\u0c42\\u0c30\\u0c4d \\u0c15\\u0c3e\\u0c32\\u0c47\\u0c1c\\u0c40\\u0c32\\u0c4d\\u0c32\\u0c4b \\u0c08 \\u0c15\\u0c4b\\u0c30\\u0c4d\\u0c38\\u0c41\\u0c28\\u0c41 \\u0c2d\\u0c4b\\u0c26\\u0c3f\\u0c38\\u0c4d\\u0c24\\u0c41\\u0c28\\u0c4d\\u0c28\\u0c3e\\u0c2f\\u0c3f. \\u0c35\\u0c40\\u0c1f\\u0c3f\\u0c24\\u0c4b \\u0c2a\\u0c3e\\u0c1f\\u0c41 \\u0c1c\\u0c2c\\u0c32\\u0c4d\\u200c\\u0c2a\\u0c42\\u0c30\\u0c4d\\u200c\\u0c32\\u0c4b\\u0c28\\u0c3f \\u0c07\\u0c02\\u0c21\\u0c3f\\u0c2f\\u0c28\\u0c4d \\u0c07\\u0c28\\u0c4d\\u200c\\u0c38\\u0c4d\\u0c1f\\u0c3f\\u0c1f\\u0c4d\\u0c2f\\u0c42\\u0c1f\\u0c4d \\u0c06\\u0c2b\\u0c4d \\u0c07\\u0c28\\u0c4d\\u0c2b\\u0c30\\u0c4d\\u0c2e\\u0c47\\u0c37\\u0c28\\u0c4d \\u0c1f\\u0c46\\u0c15\\u0c4d\\u0c28\\u0c3e\\u0c32\\u0c1c\\u0c40, \\u0c21\\u0c3f\\u0c1c\\u0c48\\u0c28\\u0c4d \\u0c05\\u0c02\\u0c21\\u0c4d \\u0c2e\\u0c4d\\u0c2f\\u0c3e\\u0c28\\u0c41\\u0c2b\\u0c4d\\u0c2f\\u0c3e\\u0c15\\u0c4d\\u0c1a\\u0c30\\u0c3f\\u0c02\\u0c17\\u0c4d \\u0c15\\u0c42\\u0c21\\u0c3e \\u0c08 \\u0c15\\u0c4b\\u0c30\\u0c4d\\u0c38\\u0c41\\u0c28\\u0c41 \\u0c05\\u0c02\\u0c26\\u0c3f\\u0c38\\u0c4d\\u0c24\\u0c41\\u0c02\\u0c26\\u0c3f.\\u00a0\\u0c0e\\u0c35\\u0c30\\u0c46\\u0c35\\u0c30\\u0c41 \\u0c05\\u0c30\\u0c4d\\u0c39\\u0c41\\u0c32\\u0c02\\u0c1f\\u0c47?\\u0c21\\u0c3f\\u0c17\\u0c4d\\u0c30\\u0c40, \\u0c21\\u0c3f\\u0c2a\\u0c4d\\u0c32\\u0c4a\\u0c2e\\u0c3e \\u0c32\\u0c47\\u0c26\\u0c3e \\u0c2a\\u0c4b\\u0c38\\u0c4d\\u0c1f\\u0c41 \\u0c17\\u0c4d\\u0c30\\u0c3e\\u0c21\\u0c4d\\u0c2f\\u0c41\\u0c2f\\u0c47\\u0c1f\\u0c4d \\u0c15\\u0c4b\\u0c30\\u0c4d\\u0c38\\u0c41 \\u0c2a\\u0c42\\u0c30\\u0c4d\\u0c24\\u0c3f \\u0c1a\\u0c47\\u0c38\\u0c3f\\u0c28 \\u0c05\\u0c2d\\u0c4d\\u0c2f\\u0c30\\u0c4d\\u0c25\\u0c41\\u0c32\\u0c41 \\u0c08 \\u0c15\\u0c4b\\u0c30\\u0c4d\\u0c38\\u0c41\\u0c15\\u0c41 \\u0c26\\u0c30\\u0c16\\u0c3e\\u0c38\\u0c4d\\u0c24\\u0c41 \\u0c1a\\u0c47\\u0c38\\u0c41\\u0c15\\u0c4b\\u0c35\\u0c1a\\u0c4d\\u0c1a\\u0c41. \\u0c05\\u0c2d\\u0c4d\\u0c2f\\u0c30\\u0c4d\\u0c25\\u0c41\\u0c32\\u0c41 \\u0c35\\u0c3e\\u0c30\\u0c41 \\u0c0e\\u0c02\\u0c1a\\u0c41\\u0c15\\u0c41\\u0c28\\u0c4d\\u0c28 \\u0c15\\u0c4b\\u0c30\\u0c4d\\u0c38\\u0c41\\u0c28\\u0c41 \\u0c2c\\u0c1f\\u0c4d\\u0c1f\\u0c3f \\u0c38\\u0c02\\u0c2c\\u0c02\\u0c27\\u0c3f\\u0c24 \\u0c38\\u0c2c\\u0c4d\\u0c1c\\u0c46\\u0c15\\u0c4d\\u0c1f\\u0c41\\u0c32\\u0c4b \\u0c38\\u0c4d\\u0c2a\\u0c46\\u0c37\\u0c32\\u0c48\\u0c1c\\u0c47\\u0c37\\u0c28\\u0c4d\\u200c \\u0c2a\\u0c42\\u0c30\\u0c4d\\u0c24\\u0c3f \\u0c1a\\u0c47\\u0c38\\u0c3f \\u0c09\\u0c02\\u0c21\\u0c3e\\u0c32\\u0c3f. \\u0c35\\u0c40\\u0c30\\u0c3f\\u0c24\\u0c4b \\u0c2a\\u0c3e\\u0c1f\\u0c41 \\u0c1c\\u0c40\\u0c21\\u0c40 (\\u0c17\\u0c4d\\u0c30\\u0c3e\\u0c21\\u0c4d\\u0c2f\\u0c41\\u0c2f\\u0c47\\u0c1f\\u0c4d \\u0c21\\u0c3f\\u0c2a\\u0c4d\\u0c32\\u0c4a\\u0c2e\\u0c3e) \\u0c06\\u0c30\\u0c4d\\u0c1f\\u0c4d\\u0c38\\u0c4d \\u0c21\\u0c3f\\u0c2a\\u0c4d\\u0c32\\u0c4a\\u0c2e\\u0c3e \\u0c2a\\u0c4d\\u0c30\\u0c4b\\u0c17\\u0c4d\\u0c30\\u0c3e\\u0c02\\u0c32\\u0c4b \\u0c09\\u0c24\\u0c4d\\u0c24\\u0c40\\u0c30\\u0c4d\\u0c23\\u0c41\\u0c32\\u0c48\\u0c28 \\u0c35\\u0c3e\\u0c30\\u0c41 \\u0c38\\u0c40\\u0c08\\u0c08\\u0c21\\u0c40 \\u0c2a\\u0c30\\u0c40\\u0c15\\u0c4d\\u0c37 \\u0c30\\u0c3e\\u0c38\\u0c47\\u0c02\\u0c26\\u0c41\\u0c15\\u0c41 \\u0c05\\u0c30\\u0c4d\\u0c39\\u0c41\\u0c32\\u0c41.\\u00a03. \\u0c0e\\u0c02\\u0c0f \\u0c38\\u0c4d\\u0c2a\\u0c46\\u0c37\\u0c32\\u0c48\\u0c1c\\u0c47\\u0c37\\u0c28\\u0c4d..\\u00a0\\u0c2e\\u0c3e\\u0c38\\u0c4d\\u0c1f\\u0c30\\u0c4d \\u0c06\\u0c2b\\u0c4d \\u0c06\\u0c30\\u0c4d\\u0c1f\\u0c4d\\u0c38\\u0c4d \\u0c05\\u0c28\\u0c47\\u0c26\\u0c3f \\u0c30\\u0c46\\u0c02\\u0c21\\u0c47\\u0c33\\u0c4d\\u0c32 \\u0c2a\\u0c40\\u0c1c\\u0c40 \\u0c15\\u0c4b\\u0c30\\u0c4d\\u0c38\\u0c41. \\u0c07\\u0c02\\u0c26\\u0c41\\u0c32\\u0c4b \\u0c38\\u0c4b\\u0c37\\u0c32\\u0c4d \\u0c35\\u0c30\\u0c4d\\u0c15\\u0c4d, \\u0c2a\\u0c4a\\u0c32\\u0c3f\\u0c1f\\u0c3f\\u0c15\\u0c32\\u0c4d \\u0c38\\u0c48\\u0c28\\u0c4d\\u0c38\\u0c4d, \\u0c38\\u0c4b\\u0c37\\u0c3f\\u0c2f\\u0c3e\\u0c32\\u0c1c\\u0c40, \\u0c1c\\u0c3f\\u0c2f\\u0c4b\\u0c17\\u0c4d\\u0c30\\u0c2b\\u0c40, \\u0c2b\\u0c3f\\u0c32\\u0c3e\\u0c38\\u0c2b\\u0c40 \\u0c35\\u0c02\\u0c1f\\u0c3f \\u0c35\\u0c3e\\u0c1f\\u0c3f\\u0c32\\u0c4b \\u0c38\\u0c4d\\u0c2a\\u0c46\\u0c37\\u0c32\\u0c48\\u0c1c\\u0c47\\u0c37\\u0c28\\u0c4d \\u0c1a\\u0c47\\u0c2f\\u0c35\\u0c1a\\u0c4d\\u0c1a\\u0c41. \\u0c05\\u0c2d\\u0c4d\\u0c2f\\u0c30\\u0c4d\\u0c25\\u0c41\\u0c32\\u0c41 \\u0c0e\\u0c02\\u0c1a\\u0c41\\u0c15\\u0c41\\u0c28\\u0c4d\\u0c28 \\u0c38\\u0c4d\\u0c2a\\u0c46\\u0c37\\u0c32\\u0c48\\u0c1c\\u0c47\\u0c37\\u0c28\\u0c4d \\u0c06\\u0c27\\u0c3e\\u0c30\\u0c02\\u0c17\\u0c3e \\u0c38\\u0c2c\\u0c4d\\u0c1c\\u0c46\\u0c15\\u0c4d\\u0c1f\\u0c41\\u0c32\\u0c41 \\u0c09\\u0c02\\u0c1f\\u0c3e\\u0c2f\\u0c3f. \\u0c2a\\u0c4d\\u0c30\\u0c38\\u0c4d\\u0c24\\u0c41\\u0c24\\u0c02 \\u0c2e\\u0c42\\u0c21\\u0c41 \\u0c10\\u0c10\\u0c1f\\u0c40\\u0c32\\u0c41 \\u0c08 \\u0c15\\u0c4b\\u0c30\\u0c4d\\u0c38\\u0c41\\u0c28\\u0c41 \\u0c05\\u0c02\\u0c26\\u0c3f\\u0c38\\u0c4d\\u0c24\\u0c41\\u0c28\\u0c4d\\u0c28\\u0c3e\\u0c2f\\u0c3f. \\u0c35\\u0c40\\u0c1f\\u0c3f\\u0c32\\u0c4b \\u0c10\\u0c10\\u0c1f\\u0c40 \\u0c2e\\u0c26\\u0c4d\\u0c30\\u0c3e\\u0c38\\u0c4d, \\u0c10\\u0c10\\u0c1f\\u0c40 \\u0c17\\u0c3e\\u0c02\\u0c27\\u0c40\\u0c28\\u0c17\\u0c30\\u0c4d, \\u0c10\\u0c10\\u0c1f\\u0c40 \\u0c17\\u0c41\\u0c35\\u0c3e\\u0c39\\u0c24\\u0c3f \\u0c09\\u0c28\\u0c4d\\u0c28\\u0c3e\\u0c2f\\u0c3f. \\u0c0e\\u0c02\\u0c0f \\u0c15\\u0c4b\\u0c30\\u0c4d\\u0c38\\u0c41 \\u0c2a\\u0c4d\\u0c30\\u0c35\\u0c47\\u0c36\\u0c3e\\u0c32 \\u0c15\\u0c4b\\u0c38\\u0c02 \\u0c08 \\u0c10\\u0c10\\u0c1f\\u0c40\\u0c32\\u0c41 \\u0c35\\u0c47\\u0c1f\\u0c3f\\u0c15\\u0c35\\u0c47 \\u0c2a\\u0c4d\\u0c30\\u0c24\\u0c4d\\u0c2f\\u0c47\\u0c15 \\u0c28\\u0c4b\\u0c1f\\u0c3f\\u0c2b\\u0c3f\\u0c15\\u0c47\\u0c37\\u0c28\\u0c4d \\u0c07\\u0c38\\u0c4d\\u0c24\\u0c3e\\u0c2f\\u0c3f. \\u0c30\\u0c3e\\u0c24 \\u0c2a\\u0c30\\u0c40\\u0c15\\u0c4d\\u0c37, \\u0c07\\u0c02\\u0c1f\\u0c30\\u0c4d\\u0c35\\u0c4d\\u0c2f\\u0c42 \\u0c26\\u0c4d\\u0c35\\u0c3e\\u0c30\\u0c3e \\u0c2a\\u0c4d\\u0c30\\u0c35\\u0c47\\u0c36\\u0c3e\\u0c32\\u0c41 \\u0c15\\u0c32\\u0c4d\\u0c2a\\u0c3f\\u0c38\\u0c4d\\u0c24\\u0c3e\\u0c2f\\u0c3f.\\u00a0\\u0c0e\\u0c35\\u0c30\\u0c46\\u0c35\\u0c30\\u0c41 \\u0c05\\u0c30\\u0c4d\\u0c39\\u0c41\\u0c32\\u0c41?\\u00a0\\u0c17\\u0c41\\u0c30\\u0c4d\\u0c24\\u0c3f\\u0c02\\u0c2a\\u0c41 \\u0c2a\\u0c4a\\u0c02\\u0c26\\u0c3f\\u0c28 \\u0c2f\\u0c42\\u0c28\\u0c3f\\u0c35\\u0c30\\u0c4d\\u0c38\\u0c3f\\u0c1f\\u0c40 \\u0c28\\u0c41\\u0c02\\u0c1a\\u0c3f \\u0c2c\\u0c4d\\u0c2f\\u0c3e\\u0c1a\\u0c3f\\u0c32\\u0c30\\u0c4d \\u0c21\\u0c3f\\u0c17\\u0c4d\\u0c30\\u0c40 \\u0c2a\\u0c42\\u0c30\\u0c4d\\u0c24\\u0c3f \\u0c1a\\u0c47\\u0c38\\u0c3f\\u0c28 \\u0c35\\u0c3e\\u0c30\\u0c41 \\u0c0e\\u0c02\\u0c0f \\u0c15\\u0c4b\\u0c30\\u0c4d\\u0c38\\u0c41\\u0c32\\u0c4b \\u0c1a\\u0c47\\u0c30\\u0c35\\u0c1a\\u0c4d\\u0c1a\\u0c41. \\u0c05\\u0c2d\\u0c4d\\u0c2f\\u0c30\\u0c4d\\u0c25\\u0c41\\u0c32\\u0c41 \\u0c35\\u0c3e\\u0c30\\u0c41 \\u0c26\\u0c30\\u0c16\\u0c3e\\u0c38\\u0c4d\\u0c24\\u0c41 \\u0c1a\\u0c47\\u0c38\\u0c41\\u0c15\\u0c41\\u0c28\\u0c47 \\u0c10\\u0c10\\u0c1f\\u0c40\\u0c32\\u0c41 \\u0c2a\\u0c47\\u0c30\\u0c4d\\u0c15\\u0c4a\\u0c28\\u0c4d\\u0c28 \\u0c15\\u0c28\\u0c40\\u0c38 \\u0c09\\u0c24\\u0c4d\\u0c24\\u0c40\\u0c30\\u0c4d\\u0c23\\u0c24\\u0c3e \\u0c36\\u0c3e\\u0c24\\u0c3e\\u0c28\\u0c4d\\u0c28\\u0c3f \\u0c38\\u0c3e\\u0c27\\u0c3f\\u0c02\\u0c1a\\u0c3f \\u0c09\\u0c02\\u0c21\\u0c3e\\u0c32\\u0c3f. \\u00a04. \\u0c2e\\u0c3e\\u0c38\\u0c4d\\u0c1f\\u0c30\\u0c4d \\u0c06\\u0c2b\\u0c4d \\u0c2c\\u0c3f\\u0c1c\\u0c3f\\u0c28\\u0c46\\u0c38\\u0c4d \\u0c05\\u0c21\\u0c4d\\u0c2e\\u0c3f\\u0c28\\u0c3f\\u0c38\\u0c4d\\u0c1f\\u0c4d\\u0c30\\u0c47\\u0c37\\u0c28\\u0c4d (\\u0c0e\\u0c02\\u0c2c\\u0c40\\u0c0f)\\u0c26\\u0c47\\u0c36\\u0c35\\u0c4d\\u0c2f\\u0c3e\\u0c2a\\u0c4d\\u0c24\\u0c02\\u0c17\\u0c3e \\u0c2a\\u0c32\\u0c41 \\u0c10\\u0c10\\u0c1f\\u0c40\\u0c32\\u0c41 \\u0c05\\u0c02\\u0c26\\u0c3f\\u0c02\\u0c1a\\u0c47 \\u0c2e\\u0c47\\u0c28\\u0c47\\u0c1c\\u0c4d\\u200c\\u0c2e\\u0c46\\u0c02\\u0c1f\\u0c4d \\u0c15\\u0c4b\\u0c30\\u0c4d\\u0c38\\u0c41\\u0c32 \\u0c26\\u0c4d\\u0c35\\u0c3e\\u0c30\\u0c3e \\u0c0e\\u0c02\\u0c2c\\u0c40\\u0c0f\\u0c32\\u0c4b \\u0c2a\\u0c4d\\u0c30\\u0c35\\u0c47\\u0c36\\u0c3e\\u0c32\\u0c41 \\u0c2a\\u0c4a\\u0c02\\u0c26\\u0c35\\u0c1a\\u0c4d\\u0c1a\\u0c41. \\u0c26\\u0c40\\u0c28\\u0c3f \\u0c15\\u0c4b\\u0c38\\u0c02 \\u0c15\\u0c3e\\u0c2e\\u0c28\\u0c4d \\u0c05\\u0c21\\u0c4d\\u0c2e\\u0c3f\\u0c37\\u0c28\\u0c4d \\u0c1f\\u0c46\\u0c38\\u0c4d\\u0c1f\\u0c4d (\\u0c15\\u0c4d\\u0c2f\\u0c3e\\u0c1f\\u0c4d -CAT) \\u0c2a\\u0c30\\u0c40\\u0c15\\u0c4d\\u0c37 \\u0c30\\u0c3e\\u0c2f\\u0c3e\\u0c32\\u0c4d\\u0c38\\u0c3f \\u0c09\\u0c02\\u0c1f\\u0c41\\u0c02\\u0c26\\u0c3f. \\u0c15\\u0c4d\\u0c2f\\u0c3e\\u0c1f\\u0c4d \\u0c2a\\u0c30\\u0c40\\u0c15\\u0c4d\\u0c37 \\u0c2e\\u0c3e\\u0c30\\u0c4d\\u0c15\\u0c41\\u0c32\\u0c24\\u0c4b \\u0c2a\\u0c3e\\u0c1f\\u0c41 \\u0c17\\u0c4d\\u0c30\\u0c42\\u0c2a\\u0c4d \\u0c21\\u0c3f\\u0c38\\u0c4d\\u0c15\\u0c37\\u0c28\\u0c4d, \\u0c35\\u0c4d\\u0c2f\\u0c15\\u0c4d\\u0c24\\u0c3f\\u0c17\\u0c24 \\u0c07\\u0c02\\u0c1f\\u0c30\\u0c4d\\u0c35\\u0c4d\\u0c2f\\u0c42\\u0c32 \\u0c06\\u0c27\\u0c3e\\u0c30\\u0c02\\u0c17\\u0c3e \\u0c0e\\u0c02\\u0c2c\\u0c40\\u0c0f\\u0c32\\u0c4b \\u0c2a\\u0c4d\\u0c30\\u0c35\\u0c47\\u0c36\\u0c3e\\u0c32\\u0c41 \\u0c15\\u0c32\\u0c4d\\u0c2a\\u0c3f\\u0c38\\u0c4d\\u0c24\\u0c3e\\u0c30\\u0c41. \\u0c2a\\u0c4d\\u0c30\\u0c38\\u0c4d\\u0c24\\u0c41\\u0c24\\u0c02 8 \\u0c10\\u0c10\\u0c1f\\u0c40\\u0c32\\u0c41 \\u0c0e\\u0c02\\u0c2c\\u0c40\\u0c0f \\u0c15\\u0c4b\\u0c30\\u0c4d\\u0c38\\u0c41\\u0c28\\u0c41 \\u0c05\\u0c02\\u0c26\\u0c3f\\u0c38\\u0c4d\\u0c24\\u0c41\\u0c28\\u0c4d\\u0c28\\u0c3e\\u0c2f\\u0c3f. \\u0c10\\u0c10\\u0c1f\\u0c40 \\u0c2c\\u0c3e\\u0c02\\u0c2c\\u0c47, \\u0c10\\u0c10\\u0c1f\\u0c40 \\u0c22\\u0c3f\\u0c32\\u0c4d\\u0c32\\u0c40, \\u0c10\\u0c10\\u0c1f\\u0c40 \\u0c2e\\u0c26\\u0c4d\\u0c30\\u0c3e\\u0c38\\u0c4d, \\u0c10\\u0c10\\u0c1f\\u0c40 \\u0c30\\u0c42\\u0c30\\u0c4d\\u0c15\\u0c40, \\u0c10\\u0c10\\u0c1f\\u0c40 \\u0c15\\u0c3e\\u0c28\\u0c4d\\u0c2a\\u0c42\\u0c30\\u0c4d, \\u0c10\\u0c10\\u0c1f\\u0c40 \\u0c27\\u0c28\\u0c4d\\u200c\\u0c2c\\u0c3e\\u0c26\\u0c4d, \\u0c10\\u0c10\\u0c1f\\u0c40 \\u0c16\\u0c30\\u0c17\\u0c4d\\u200c\\u0c2a\\u0c42\\u0c30\\u0c4d, \\u0c10\\u0c10\\u0c1f\\u0c40 \\u0c1c\\u0c4b\\u0c27\\u0c4d\\u200c\\u0c2a\\u0c42\\u0c30\\u0c4d\\u200c \\u0c15\\u0c3e\\u0c32\\u0c47\\u0c1c\\u0c40\\u0c32\\u0c4d\\u0c32\\u0c4b \\u0c0e\\u0c02\\u0c2c\\u0c40\\u0c0f \\u0c15\\u0c4b\\u0c30\\u0c4d\\u0c38\\u0c41 \\u0c09\\u0c02\\u0c1f\\u0c41\\u0c02\\u0c26\\u0c3f. \\u00a0Also Read: Career Guidance: 2021\\u0c32\\u0c4b \\u0c21\\u0c3f\\u0c2e\\u0c3e\\u0c02\\u0c21\\u0c4d \\u0c09\\u0c28\\u0c4d\\u0c28 5 \\u0c15\\u0c4b\\u0c30\\u0c4d\\u0c38\\u0c41\\u0c32\\u0c41 \\u0c07\\u0c35\\u0c47.. \\u0c35\\u0c40\\u0c1f\\u0c3f\\u0c32\\u0c4b \\u0c2e\\u0c40\\u0c15\\u0c47\\u0c02 \\u0c15\\u0c3e\\u0c35\\u0c3e\\u0c32\\u0c4b \\u0c0e\\u0c02\\u0c1a\\u0c41\\u0c15\\u0c4b\\u0c02\\u0c21\\u0c3f..Also Read: Tips For Video Interviews: \\u0c08\\u0c1c\\u0c40\\u0c17\\u0c3e \\u0c07\\u0c02\\u0c1f\\u0c3f \\u0c28\\u0c41\\u0c02\\u0c1a\\u0c3f \\u0c07\\u0c02\\u0c1f\\u0c30\\u0c4d\\u0c35\\u0c4d\\u0c2f\\u0c42\\u0c32\\u0c41..\",\n          \"Fake ED Officers:\\u00a0\\u0c1b\\u0c24\\u0c4d\\u0c24\\u0c40\\u0c38\\u0c4d\\u200c\\u0c17\\u0c22\\u0c4d\\u200c\\u0c32\\u0c4b \\u0c18\\u0c1f\\u0c28..\\u0c1b\\u0c24\\u0c4d\\u0c24\\u0c40\\u0c38\\u0c4d\\u200c\\u0c17\\u0c22\\u0c4d\\u200c\\u0c32\\u0c4b \\u0c15\\u0c4a\\u0c28\\u0c4d\\u0c28\\u0c3f \\u0c30\\u0c4b\\u0c1c\\u0c41\\u0c32\\u0c41\\u0c17\\u0c3e \\u0c08\\u0c21\\u0c40 \\u0c38\\u0c4b\\u0c26\\u0c3e\\u0c32\\u0c41 \\u0c15\\u0c4a\\u0c28\\u0c38\\u0c3e\\u0c17\\u0c41\\u0c24\\u0c41\\u0c28\\u0c4d\\u0c28\\u0c3e\\u0c2f\\u0c3f. \\u0c32\\u0c3f\\u0c15\\u0c4d\\u0c15\\u0c30\\u0c4d \\u0c38\\u0c4d\\u0c15\\u0c3e\\u0c2e\\u0c4d\\u200c \\u0c15\\u0c47\\u0c38\\u0c41\\u0c32\\u0c4b \\u0c05\\u0c27\\u0c3f\\u0c15\\u0c3e\\u0c30\\u0c41\\u0c32\\u0c28\\u0c41, \\u0c2c\\u0c21\\u0c3e\\u0c35\\u0c4d\\u0c2f\\u0c3e\\u0c2a\\u0c3e\\u0c30\\u0c41\\u0c32\\u0c28\\u0c41 \\u0c05\\u0c30\\u0c46\\u0c38\\u0c4d\\u0c1f\\u0c4d \\u0c1a\\u0c47\\u0c36\\u0c3e\\u0c30\\u0c41. \\u0c2b\\u0c32\\u0c3f\\u0c24\\u0c02\\u0c17\\u0c3e...\\u0c2c\\u0c3f\\u0c1c\\u0c3f\\u0c28\\u0c46\\u0c38\\u0c4d\\u200c\\u0c2e\\u0c47\\u0c28\\u0c4d\\u200c\\u0c32\\u0c41 \\u0c08 \\u0c38\\u0c4b\\u0c26\\u0c3e\\u0c32\\u0c2a\\u0c48 \\u0c06\\u0c02\\u0c26\\u0c4b\\u0c33\\u0c28 \\u0c1a\\u0c46\\u0c02\\u0c26\\u0c41\\u0c24\\u0c41\\u0c28\\u0c4d\\u0c28\\u0c3e\\u0c30\\u0c41. \\u0c08 \\u0c2d\\u0c2f\\u0c3e\\u0c28\\u0c4d\\u0c28\\u0c47 \\u0c15\\u0c4d\\u0c2f\\u0c3e\\u0c37\\u0c4d \\u0c1a\\u0c47\\u0c38\\u0c41\\u0c15\\u0c41\\u0c28\\u0c4d\\u0c28\\u0c3e\\u0c21\\u0c41 \\u0c13 \\u0c2b\\u0c47\\u0c15\\u0c4d \\u0c08\\u0c21\\u0c40 \\u0c06\\u0c2b\\u0c40\\u0c38\\u0c30\\u0c4d. \\u0c08\\u0c21\\u0c40 \\u0c28\\u0c41\\u0c02\\u0c1a\\u0c3f \\u0c35\\u0c1a\\u0c4d\\u0c1a\\u0c3e\\u0c2e\\u0c28\\u0c3f \\u0c1a\\u0c46\\u0c2a\\u0c4d\\u0c2a\\u0c3f \\u0c2c\\u0c46\\u0c26\\u0c3f\\u0c30\\u0c3f\\u0c02\\u0c1a\\u0c3f \\u0c13 \\u0c35\\u0c4d\\u0c2f\\u0c3e\\u0c2a\\u0c3e\\u0c30\\u0c3f \\u0c07\\u0c02\\u0c1f\\u0c4d\\u0c32\\u0c4b \\u0c38\\u0c4b\\u0c26\\u0c3e\\u0c32\\u0c41 \\u0c1a\\u0c47\\u0c36\\u0c3e\\u0c21\\u0c41. \\u0c06 \\u0c24\\u0c30\\u0c35\\u0c3e\\u0c24 \\u0c2e\\u0c30\\u0c4b \\u0c28\\u0c32\\u0c41\\u0c17\\u0c41\\u0c30\\u0c41 \\u0c35\\u0c1a\\u0c4d\\u0c1a\\u0c3e\\u0c30\\u0c41. \\u0c2e\\u0c4a\\u0c24\\u0c4d\\u0c24\\u0c02 \\u0c10\\u0c26\\u0c41\\u0c17\\u0c41\\u0c30\\u0c41 \\u0c2b\\u0c47\\u0c15\\u0c4d \\u0c06\\u0c2b\\u0c40\\u0c38\\u0c30\\u0c4d\\u0c32\\u0c41 \\u0c38\\u0c4b\\u0c26\\u0c3e\\u0c32 \\u0c2a\\u0c47\\u0c30\\u0c41\\u0c24\\u0c4b \\u0c15\\u0c3e\\u0c38\\u0c47\\u0c2a\\u0c41 \\u0c39\\u0c21\\u0c3e\\u0c35\\u0c41\\u0c21\\u0c3f \\u0c1a\\u0c47\\u0c38\\u0c3f \\u0c1a\\u0c3f\\u0c35\\u0c30\\u0c15\\u0c41 \\u0c30\\u0c42.2 \\u0c15\\u0c4b\\u0c1f\\u0c4d\\u0c32\\u0c24\\u0c4b \\u0c09\\u0c21\\u0c3e\\u0c2f\\u0c3f\\u0c02\\u0c1a\\u0c3e\\u0c30\\u0c41. \\u0c08\\u0c21\\u0c40 \\u0c2a\\u0c47\\u0c30\\u0c41 \\u0c1a\\u0c46\\u0c2a\\u0c4d\\u0c2a\\u0c17\\u0c3e\\u0c28\\u0c47 \\u0c2d\\u0c2f\\u0c2a\\u0c21\\u0c3f\\u0c2a\\u0c4b\\u0c2f\\u0c3f\\u0c28\\u0c3e \\u0c06 \\u0c35\\u0c4d\\u0c2f\\u0c3e\\u0c2a\\u0c3e\\u0c30\\u0c3f \\u0c0f\\u0c2e\\u0c40 \\u0c2e\\u0c3e\\u0c1f\\u0c4d\\u0c32\\u0c3e\\u0c21\\u0c15\\u0c41\\u0c02\\u0c21\\u0c3e \\u0c09\\u0c02\\u0c21\\u0c3f\\u0c2a\\u0c4b\\u0c2f\\u0c3e\\u0c21\\u0c41. \\u0c30\\u0c42.2 \\u0c15\\u0c4b\\u0c1f\\u0c4d\\u0c32\\u0c41 \\u0c07\\u0c1a\\u0c4d\\u0c1a\\u0c47\\u0c02\\u0c24 \\u0c35\\u0c30\\u0c15\\u0c42 \\u0c35\\u0c3e\\u0c33\\u0c4d\\u0c32\\u0c41 \\u0c0a\\u0c30\\u0c41\\u0c15\\u0c4b\\u0c32\\u0c47\\u0c26\\u0c41. \\u0c05\\u0c15\\u0c4d\\u0c15\\u0c21\\u0c3f\\u0c24\\u0c4b\\u0c28\\u0c42 \\u0c06\\u0c17\\u0c3f\\u0c2a\\u0c4b\\u0c32\\u0c47\\u0c26\\u0c41 \\u0c06 \\u0c15\\u0c47\\u0c1f\\u0c41\\u0c17\\u0c3e\\u0c33\\u0c4d\\u0c32\\u0c41. \\u0c0e\\u0c15\\u0c4d\\u0c15\\u0c21\\u0c3e \\u0c05\\u0c28\\u0c41\\u0c2e\\u0c3e\\u0c28\\u0c02 \\u0c30\\u0c3e\\u0c15\\u0c41\\u0c02\\u0c21\\u0c3e \\u0c2a\\u0c15\\u0c4d\\u0c15\\u0c3e \\u0c38\\u0c4d\\u0c15\\u0c46\\u0c1a\\u0c4d \\u0c35\\u0c47\\u0c36\\u0c3e\\u0c30\\u0c41. \\u0c2c\\u0c4d\\u0c32\\u0c3e\\u0c15\\u0c4d \\u0c38\\u0c4d\\u0c15\\u0c3e\\u0c30\\u0c4d\\u0c2a\\u0c3f\\u0c2f\\u0c4b\\u0c32\\u0c4b\\u0c15\\u0c3f \\u0c06 \\u0c35\\u0c4d\\u0c2f\\u0c3e\\u0c2a\\u0c3e\\u0c30\\u0c3f\\u0c28\\u0c3f \\u0c0e\\u0c15\\u0c4d\\u0c15\\u0c3f\\u0c02\\u0c1a\\u0c3e\\u0c30\\u0c41. \\u0c05\\u0c1a\\u0c4d\\u0c1a\\u0c02 \\u0c08\\u0c21\\u0c40 \\u0c05\\u0c27\\u0c3f\\u0c15\\u0c3e\\u0c30\\u0c41\\u0c32\\u0c4d\\u0c32\\u0c3e\\u0c17\\u0c47 \\u0c28\\u0c2e\\u0c4d\\u0c2e\\u0c3f\\u0c38\\u0c4d\\u0c24\\u0c42 \\u0c2a\\u0c4d\\u0c30\\u0c36\\u0c4d\\u0c28\\u0c32\\u0c41 \\u0c35\\u0c47\\u0c36\\u0c3e\\u0c30\\u0c41. \\u0c1a\\u0c3e\\u0c32\\u0c3e \\u0c38\\u0c47\\u0c2a\\u0c41 \\u0c07\\u0c02\\u0c1f\\u0c30\\u0c3e\\u0c17\\u0c47\\u0c1f\\u0c4d \\u0c1a\\u0c47\\u0c36\\u0c3e\\u0c30\\u0c41. \\u0c15\\u0c4a\\u0c02\\u0c24 \\u0c26\\u0c42\\u0c30\\u0c02 \\u0c35\\u0c46\\u0c33\\u0c4d\\u0c32\\u0c3e\\u0c15 \\u0c09\\u0c28\\u0c4d\\u0c28\\u0c1f\\u0c4d\\u0c1f\\u0c41\\u0c02\\u0c21\\u0c3f \\u0c15\\u0c3e\\u0c30\\u0c4d\\u200c\\u0c32\\u0c4b \\u0c28\\u0c41\\u0c02\\u0c1a\\u0c3f \\u0c06 \\u0c35\\u0c4d\\u0c2f\\u0c3e\\u0c2a\\u0c3e\\u0c30\\u0c3f\\u0c28\\u0c3f \\u0c2c\\u0c2f\\u0c1f\\u0c15\\u0c41 \\u0c24\\u0c4b\\u0c36\\u0c3e\\u0c30\\u0c41. \\u0c06 \\u0c24\\u0c30\\u0c35\\u0c3e\\u0c24\\u0c47 \\u0c05\\u0c30\\u0c4d\\u0c25\\u0c2e\\u0c48\\u0c02\\u0c26\\u0c3f..\\u0c35\\u0c3e\\u0c33\\u0c4d\\u0c32\\u0c41 \\u0c05\\u0c38\\u0c32\\u0c41 \\u0c08\\u0c21\\u0c40 \\u0c05\\u0c27\\u0c3f\\u0c15\\u0c3e\\u0c30\\u0c41\\u0c32\\u0c41 \\u0c15\\u0c3e\\u0c30\\u0c28\\u0c3f. \\u0c35\\u0c46\\u0c02\\u0c1f\\u0c28\\u0c47 \\u0c2a\\u0c4b\\u0c32\\u0c40\\u0c38\\u0c4d\\u200c \\u0c38\\u0c4d\\u0c1f\\u0c47\\u0c37\\u0c28\\u0c4d\\u200c\\u0c15\\u0c3f \\u0c2a\\u0c30\\u0c3f\\u0c17\\u0c46\\u0c24\\u0c4d\\u0c24\\u0c3e\\u0c21\\u0c41 \\u0c06 \\u0c35\\u0c4d\\u0c2f\\u0c3e\\u0c2a\\u0c3e\\u0c30\\u0c3f. \\u0c1c\\u0c30\\u0c3f\\u0c17\\u0c3f\\u0c02\\u0c26\\u0c02\\u0c24\\u0c3e \\u0c35\\u0c3e\\u0c33\\u0c4d\\u0c32\\u0c15\\u0c41 \\u0c35\\u0c3f\\u0c35\\u0c30\\u0c3f\\u0c02\\u0c1a\\u0c3e\\u0c21\\u0c41. \\u0c26\\u0c40\\u0c28\\u0c4d\\u0c28\\u0c3f \\u0c38\\u0c40\\u0c30\\u0c3f\\u0c2f\\u0c38\\u0c4d\\u200c\\u0c17\\u0c3e \\u0c24\\u0c40\\u0c38\\u0c41\\u0c15\\u0c41\\u0c28\\u0c4d\\u0c28 \\u0c2a\\u0c4b\\u0c32\\u0c40\\u0c38\\u0c41\\u0c32\\u0c41 \\u0c05\\u0c2a\\u0c4d\\u0c30\\u0c2e\\u0c24\\u0c4d\\u0c24\\u0c2e\\u0c2f\\u0c4d\\u0c2f\\u0c3e\\u0c30\\u0c41. \\u0c0e\\u0c15\\u0c4d\\u0c15\\u0c21\\u0c48\\u0c24\\u0c47 \\u0c06 \\u0c35\\u0c4d\\u0c2f\\u0c3e\\u0c2a\\u0c3e\\u0c30\\u0c3f\\u0c28\\u0c3f \\u0c15\\u0c3f\\u0c02\\u0c26\\u0c15\\u0c41 \\u0c24\\u0c4b\\u0c38\\u0c47\\u0c38\\u0c3f \\u0c35\\u0c46\\u0c33\\u0c4d\\u0c32\\u0c3e\\u0c30\\u0c4b \\u0c06 \\u0c2a\\u0c4d\\u0c30\\u0c3e\\u0c02\\u0c24\\u0c02\\u0c32\\u0c4b\\u0c28\\u0c3f \\u0c38\\u0c40\\u0c38\\u0c40\\u0c1f\\u0c40\\u0c35\\u0c40\\u0c32\\u0c28\\u0c41 \\u0c2a\\u0c30\\u0c3f\\u0c36\\u0c40\\u0c32\\u0c3f\\u0c02\\u0c1a\\u0c3e\\u0c30\\u0c41. \\u0c2a\\u0c4b\\u0c32\\u0c40\\u0c38\\u0c41\\u0c32\\u0c41 \\u0c35\\u0c46\\u0c32\\u0c4d\\u0c32\\u0c21\\u0c3f\\u0c02\\u0c1a\\u0c3f\\u0c28 \\u0c35\\u0c3f\\u0c35\\u0c30\\u0c3e\\u0c32 \\u0c2a\\u0c4d\\u0c30\\u0c15\\u0c3e\\u0c30\\u0c02.. \\u0c13 \\u0c30\\u0c48\\u0c38\\u0c4d\\u200c\\u0c2e\\u0c3f\\u0c32\\u0c4d \\u0c28\\u0c21\\u0c41\\u0c2a\\u0c41\\u0c15\\u0c41\\u0c28\\u0c47 \\u0c35\\u0c3f\\u0c28\\u0c47\\u0c37\\u0c4d \\u0c17\\u0c41\\u0c2a\\u0c4d\\u0c24\\u0c3e \\u0c24\\u0c28 \\u0c07\\u0c02\\u0c1f\\u0c4d\\u0c32\\u0c4b \\u0c30\\u0c42.2\\u0c15\\u0c4b\\u0c1f\\u0c4d\\u0c32\\u0c41 \\u0c26\\u0c3e\\u0c1a\\u0c41\\u0c15\\u0c41\\u0c28\\u0c4d\\u0c28\\u0c3e\\u0c21\\u0c41. \\u0c07\\u0c26\\u0c3f \\u0c2a\\u0c38\\u0c3f\\u0c17\\u0c1f\\u0c4d\\u0c1f\\u0c3f\\u0c28 \\u0c06 \\u0c2b\\u0c47\\u0c15\\u0c4d \\u0c06\\u0c2b\\u0c40\\u0c38\\u0c30\\u0c4d\\u200c\\u0c32\\u0c41..\\u0c13 \\u0c2c\\u0c4d\\u0c32\\u0c3e\\u0c15\\u0c4d \\u0c38\\u0c4d\\u0c15\\u0c3e\\u0c30\\u0c4d\\u0c2a\\u0c3f\\u0c2f\\u0c4b\\u0c32\\u0c4b \\u0c35\\u0c46\\u0c33\\u0c4d\\u0c32\\u0c3e\\u0c30\\u0c41. \\u0c22\\u0c3f\\u0c32\\u0c4d\\u0c32\\u0c40 \\u0c28\\u0c41\\u0c02\\u0c1a\\u0c3f \\u0c35\\u0c1a\\u0c4d\\u0c1a\\u0c3e\\u0c2e\\u0c28\\u0c3f \\u0c1a\\u0c46\\u0c2a\\u0c4d\\u0c2a\\u0c3f \\u0c07\\u0c02\\u0c1f\\u0c4d\\u0c32\\u0c4b\\u0c15\\u0c3f \\u0c35\\u0c46\\u0c33\\u0c4d\\u0c32\\u0c3e\\u0c30\\u0c41. \\u0c15\\u0c3e\\u0c38\\u0c47\\u0c2a\\u0c41 \\u0c39\\u0c21\\u0c3e\\u0c35\\u0c41\\u0c21\\u0c3f \\u0c1a\\u0c47\\u0c38\\u0c3f \\u0c06 \\u0c24\\u0c30\\u0c35\\u0c3e\\u0c24 \\u0c28\\u0c47\\u0c30\\u0c41\\u0c17\\u0c3e \\u0c21\\u0c2c\\u0c4d\\u0c2c\\u0c41\\u0c32 \\u0c17\\u0c41\\u0c30\\u0c3f\\u0c02\\u0c1a\\u0c47 \\u0c2a\\u0c4d\\u0c30\\u0c38\\u0c4d\\u0c24\\u0c3e\\u0c35\\u0c3f\\u0c02\\u0c1a\\u0c3e\\u0c30\\u0c41. \\u0c06 \\u0c30\\u0c46\\u0c02\\u0c21\\u0c41 \\u0c15\\u0c4b\\u0c1f\\u0c4d\\u0c32\\u0c41 \\u0c0e\\u0c15\\u0c4d\\u0c15\\u0c21 \\u0c2a\\u0c46\\u0c1f\\u0c4d\\u0c1f\\u0c3e\\u0c30\\u0c4b \\u0c1a\\u0c46\\u0c2a\\u0c4d\\u0c2a\\u0c3e\\u0c32\\u0c28\\u0c3f \\u0c12\\u0c24\\u0c4d\\u0c24\\u0c3f\\u0c21\\u0c3f \\u0c24\\u0c46\\u0c1a\\u0c4d\\u0c1a\\u0c3e\\u0c30\\u0c41. \\u0c08 \\u0c15\\u0c47\\u0c38\\u0c41\\u0c32\\u0c4b \\u0c2e\\u0c41\\u0c17\\u0c4d\\u0c17\\u0c41\\u0c30\\u0c41\\u0c28\\u0c3f \\u0c28\\u0c3f\\u0c02\\u0c26\\u0c3f\\u0c24\\u0c41\\u0c32\\u0c28\\u0c41 \\u0c05\\u0c26\\u0c41\\u0c2a\\u0c41\\u0c32\\u0c4b\\u0c15\\u0c3f \\u0c24\\u0c40\\u0c38\\u0c41\\u0c15\\u0c41\\u0c28\\u0c4d\\u0c28\\u0c3e\\u0c30\\u0c41.\\u00a0\\u0c28\\u0c15\\u0c3f\\u0c32\\u0c40 \\u0c2a\\u0c4b\\u0c32\\u0c40\\u0c38\\u0c4d \\u0c38\\u0c4d\\u0c1f\\u0c47\\u0c37\\u0c28\\u0c4d..\\u0c13 \\u0c26\\u0c4a\\u0c02\\u0c17\\u0c32 \\u0c2e\\u0c41\\u0c20\\u0c3e \\u0c0f\\u0c15\\u0c02\\u0c17\\u0c3e \\u0c28\\u0c15\\u0c3f\\u0c32\\u0c40 \\u0c20\\u0c3e\\u0c23\\u0c3e \\u0c0f\\u0c30\\u0c4d\\u0c2a\\u0c3e\\u0c1f\\u0c41 \\u0c1a\\u0c47\\u0c38\\u0c3f \\u0c26\\u0c02\\u0c26\\u0c3e\\u0c32\\u0c41 \\u0c1a\\u0c47\\u0c2f\\u0c21\\u0c02 \\u0c2e\\u0c4a\\u0c26\\u0c32\\u0c41 \\u0c2a\\u0c46\\u0c1f\\u0c4d\\u0c1f\\u0c3f\\u0c02\\u0c26\\u0c3f. \\u0c08 \\u0c18\\u0c1f\\u0c28 \\u0c17\\u0c24\\u0c47\\u0c21\\u0c3e\\u0c26\\u0c3f \\u0c2c\\u0c40\\u0c39\\u0c3e\\u0c30\\u0c4d \\u0c32\\u0c4b \\u0c1c\\u0c30\\u0c3f\\u0c17\\u0c3f\\u0c02\\u0c26\\u0c3f. \\u0c2c\\u0c3e\\u0c02\\u0c15\\u0c3e \\u0c1c\\u0c3f\\u0c32\\u0c4d\\u0c32\\u0c3e\\u0c15\\u0c41 \\u0c1a\\u0c46\\u0c02\\u0c26\\u0c3f\\u0c28 \\u0c2d\\u0c4b\\u0c32\\u0c3e \\u0c2f\\u0c3e\\u0c26\\u0c35\\u0c4d \\u0c05\\u0c28\\u0c47 \\u0c35\\u0c4d\\u0c2f\\u0c15\\u0c4d\\u0c24\\u0c3f \\u0c08 \\u0c2e\\u0c41\\u0c20\\u0c3e\\u0c15\\u0c41 \\u0c28\\u0c3e\\u0c2f\\u0c15\\u0c24\\u0c4d\\u0c35\\u0c02 \\u0c35\\u0c39\\u0c3f\\u0c02\\u0c1a\\u0c3e\\u0c21\\u0c41. \\u0c24\\u0c28 \\u0c17\\u0c46\\u0c38\\u0c4d\\u0c1f\\u0c4d \\u0c39\\u0c4c\\u0c38\\u0c4d \\u0c28\\u0c41 \\u0c28\\u0c15\\u0c3f\\u0c32\\u0c40 \\u0c2a\\u0c4b\\u0c32\\u0c40\\u0c38\\u0c4d \\u0c38\\u0c4d\\u0c1f\\u0c47\\u0c37\\u0c28\\u0c4d \\u0c17\\u0c3e \\u0c2e\\u0c3e\\u0c30\\u0c4d\\u0c1a\\u0c3e\\u0c21\\u0c41. \\u0c08 \\u0c35\\u0c3f\\u0c37\\u0c2f\\u0c02 \\u0c0e\\u0c35\\u0c30\\u0c3f\\u0c15\\u0c40 \\u0c24\\u0c46\\u0c32\\u0c3f\\u0c2f\\u0c15\\u0c41\\u0c02\\u0c21\\u0c3e \\u0c15\\u0c4a\\u0c02\\u0c24 \\u0c2e\\u0c02\\u0c26\\u0c3f\\u0c15\\u0c3f \\u0c30\\u0c4b\\u0c1c\\u0c42 \\u0c30\\u0c42.500 \\u0c07\\u0c1a\\u0c4d\\u0c1a\\u0c3f \\u0c2f\\u0c42\\u0c28\\u0c3f\\u0c2b\\u0c3e\\u0c2e\\u0c4d \\u0c32\\u0c41 \\u0c05\\u0c02\\u0c26\\u0c3f\\u0c02\\u0c1a\\u0c3e\\u0c21\\u0c41. \\u0c35\\u0c3e\\u0c30\\u0c3f\\u0c15\\u0c3f \\u0c28\\u0c3e\\u0c1f\\u0c41 \\u0c24\\u0c41\\u0c2a\\u0c3e\\u0c15\\u0c41\\u0c32\\u0c41 \\u0c15\\u0c42\\u0c21\\u0c3e \\u0c07\\u0c1a\\u0c4d\\u0c1a\\u0c3e\\u0c21\\u0c41. \\u0c35\\u0c40\\u0c30\\u0c02\\u0c26\\u0c30\\u0c3f\\u0c15\\u0c40 \\u0c39\\u0c46\\u0c21\\u0c4d \\u0c17\\u0c3e \\u0c13 \\u0c21\\u0c40\\u0c0e\\u0c38\\u0c4d\\u0c2a\\u0c40\\u0c28\\u0c3f \\u0c0f\\u0c30\\u0c4d\\u0c2a\\u0c3e\\u0c1f\\u0c41 \\u0c1a\\u0c47\\u0c36\\u0c3e\\u0c21\\u0c41. \\u0c2e\\u0c4a\\u0c24\\u0c4d\\u0c24\\u0c3e\\u0c28\\u0c3f\\u0c15\\u0c3f \\u0c28\\u0c15\\u0c3f\\u0c32\\u0c40 \\u0c2a\\u0c4b\\u0c32\\u0c40\\u0c38\\u0c41\\u0c32\\u0c24\\u0c4b \\u0c2a\\u0c4b\\u0c32\\u0c40\\u0c38\\u0c4d \\u0c38\\u0c4d\\u0c1f\\u0c47\\u0c37\\u0c28\\u0c4d \\u0c0f\\u0c30\\u0c4d\\u0c2a\\u0c3e\\u0c1f\\u0c41 \\u0c1a\\u0c47\\u0c38\\u0c3f.. \\u0c0e\\u0c35\\u0c30\\u0c3f\\u0c15\\u0c40 \\u0c05\\u0c28\\u0c41\\u0c2e\\u0c3e\\u0c28\\u0c02 \\u0c30\\u0c3e\\u0c15\\u0c41\\u0c02\\u0c21\\u0c3e \\u0c30\\u0c28\\u0c4d \\u0c1a\\u0c47\\u0c36\\u0c3e\\u0c21\\u0c41 \\u0c2d\\u0c4b\\u0c32\\u0c3e \\u0c2f\\u0c3e\\u0c26\\u0c35\\u0c4d. \\u0c05\\u0c26\\u0c3f \\u0c28\\u0c15\\u0c3f\\u0c32\\u0c40 \\u0c2a\\u0c4b\\u0c32\\u0c40\\u0c38\\u0c4d \\u0c38\\u0c4d\\u0c1f\\u0c47\\u0c37\\u0c28\\u0c4d \\u0c05\\u0c28\\u0c3f \\u0c24\\u0c46\\u0c32\\u0c3f\\u0c2f\\u0c28\\u0c3f \\u0c1c\\u0c28\\u0c3e\\u0c32\\u0c41 \\u0c05\\u0c15\\u0c4d\\u0c15\\u0c21\\u0c3f\\u0c15\\u0c3f \\u0c35\\u0c1a\\u0c4d\\u0c1a\\u0c3f \\u0c2b\\u0c3f\\u0c30\\u0c4d\\u0c2f\\u0c3e\\u0c26\\u0c41\\u0c32\\u0c41 \\u0c15\\u0c42\\u0c21\\u0c3e \\u0c1a\\u0c47\\u0c2f\\u0c21\\u0c02 \\u0c2e\\u0c4a\\u0c26\\u0c32\\u0c41 \\u0c2a\\u0c46\\u0c1f\\u0c4d\\u0c1f\\u0c3e\\u0c30\\u0c41. \\u0c2b\\u0c3f\\u0c30\\u0c4d\\u0c2f\\u0c3e\\u0c26\\u0c41\\u0c26\\u0c3e\\u0c30\\u0c41\\u0c32 \\u0c28\\u0c41\\u0c02\\u0c1a\\u0c3f \\u0c15\\u0c42\\u0c21\\u0c3e \\u0c21\\u0c2c\\u0c4d\\u0c2c\\u0c41\\u0c32\\u0c41 \\u0c35\\u0c38\\u0c42\\u0c32\\u0c41 \\u0c1a\\u0c47\\u0c2f\\u0c21\\u0c02 \\u0c2e\\u0c4a\\u0c26\\u0c32\\u0c41 \\u0c2a\\u0c46\\u0c1f\\u0c4d\\u0c1f\\u0c3e\\u0c30\\u0c41. \\u0c2a\\u0c4b\\u0c32\\u0c40\\u0c38\\u0c41 \\u0c09\\u0c26\\u0c4d\\u0c2f\\u0c4b\\u0c17\\u0c3e\\u0c32\\u0c41 \\u0c38\\u0c48\\u0c24\\u0c02 \\u0c07\\u0c38\\u0c4d\\u0c24\\u0c3e\\u0c2e\\u0c28\\u0c3f \\u0c05\\u0c2e\\u0c3e\\u0c2f\\u0c15\\u0c41\\u0c32\\u0c28\\u0c41 \\u0c2e\\u0c4b\\u0c38\\u0c02 \\u0c1a\\u0c47\\u0c38\\u0c3f \\u0c2d\\u0c3e\\u0c30\\u0c40\\u0c17\\u0c3e \\u0c21\\u0c2c\\u0c4d\\u0c2c\\u0c41\\u0c32\\u0c41 \\u0c32\\u0c3e\\u0c17\\u0c41\\u0c24\\u0c41\\u0c28\\u0c4d\\u0c28\\u0c3e\\u0c30\\u0c41. \\u0c38\\u0c41\\u0c2e\\u0c3e\\u0c30\\u0c41 8 \\u0c28\\u0c46\\u0c32\\u0c32 \\u0c2a\\u0c3e\\u0c1f\\u0c41 \\u0c35\\u0c40\\u0c30\\u0c3f \\u0c26\\u0c02\\u0c26\\u0c3e \\u0c15\\u0c4a\\u0c28\\u0c38\\u0c3e\\u0c17\\u0c3f\\u0c02\\u0c26\\u0c3f. \\u0c08 \\u0c2a\\u0c4b\\u0c32\\u0c40\\u0c38\\u0c4d\\u0c1f\\u0c47\\u0c37\\u0c28\\u0c4d \\u0c38\\u0c48\\u0c24\\u0c02 \\u0c0e\\u0c02\\u0c24\\u0c4b \\u0c26\\u0c42\\u0c30\\u0c02\\u0c32\\u0c4b \\u0c32\\u0c47\\u0c26\\u0c41.. \\u0c05\\u0c38\\u0c32\\u0c41 \\u0c2a\\u0c4b\\u0c32\\u0c40\\u0c38\\u0c4d \\u0c38\\u0c4d\\u0c1f\\u0c47\\u0c37\\u0c28\\u0c4d \\u0c15\\u0c41 \\u0c05\\u0c24\\u0c4d\\u0c2f\\u0c02\\u0c24 \\u0c26\\u0c17\\u0c4d\\u0c17\\u0c30\\u0c17\\u0c3e\\u0c28\\u0c47 \\u0c09\\u0c02\\u0c26\\u0c3f. \\u0c13 \\u0c30\\u0c4b\\u0c1c\\u0c41 \\u0c05\\u0c38\\u0c32\\u0c41 \\u0c2a\\u0c4b\\u0c32\\u0c40\\u0c38\\u0c4d \\u0c38\\u0c4d\\u0c1f\\u0c47\\u0c37\\u0c28\\u0c4d \\u0c32\\u0c4b \\u0c2a\\u0c28\\u0c3f \\u0c1a\\u0c47\\u0c38\\u0c47 \\u0c36\\u0c02\\u0c2d\\u0c41 \\u0c2f\\u0c3e\\u0c26\\u0c35\\u0c4d.. \\u0c28\\u0c3e\\u0c1f\\u0c41 \\u0c24\\u0c41\\u0c2a\\u0c3e\\u0c15\\u0c41\\u0c32\\u0c24\\u0c4b \\u0c09\\u0c28\\u0c4d\\u0c28 \\u0c2a\\u0c4b\\u0c32\\u0c40\\u0c38\\u0c41\\u0c32\\u0c28\\u0c41 \\u0c1a\\u0c42\\u0c36\\u0c3e\\u0c21\\u0c41. \\u0c35\\u0c3e\\u0c33\\u0c4d\\u0c32 \\u0c24\\u0c40\\u0c30\\u0c41 \\u0c2e\\u0c40\\u0c26 \\u0c05\\u0c24\\u0c21\\u0c3f\\u0c15\\u0c3f \\u0c05\\u0c28\\u0c41\\u0c2e\\u0c3e\\u0c28\\u0c02 \\u0c35\\u0c1a\\u0c4d\\u0c1a\\u0c3f\\u0c02\\u0c26\\u0c3f. \\u0c05\\u0c38\\u0c32\\u0c41 \\u0c35\\u0c3f\\u0c37\\u0c2f\\u0c3e\\u0c28\\u0c4d\\u0c28\\u0c3f \\u0c06\\u0c30\\u0c3e \\u0c24\\u0c40\\u0c36\\u0c3e\\u0c21\\u0c41. \\u0c2e\\u0c4a\\u0c24\\u0c4d\\u0c24\\u0c02\\u0c17\\u0c3e \\u0c08 \\u0c2b\\u0c47\\u0c15\\u0c4d \\u0c2a\\u0c4b\\u0c32\\u0c40\\u0c38\\u0c4d \\u0c38\\u0c4d\\u0c1f\\u0c47\\u0c37\\u0c28\\u0c4d \\u0c35\\u0c4d\\u0c2f\\u0c35\\u0c39\\u0c3e\\u0c30\\u0c02 \\u0c2c\\u0c2f\\u0c1f\\u0c2a\\u0c21\\u0c3f\\u0c02\\u0c26\\u0c3f. \\u0c35\\u0c46\\u0c02\\u0c1f\\u0c28\\u0c47 \\u0c36\\u0c02\\u0c2d\\u0c41 \\u0c2f\\u0c3e\\u0c26\\u0c35\\u0c4d.. \\u0c08 \\u0c35\\u0c3f\\u0c37\\u0c2f\\u0c3e\\u0c28\\u0c4d\\u0c28\\u0c3f \\u0c24\\u0c28 \\u0c2a\\u0c48 \\u0c05\\u0c27\\u0c3f\\u0c15\\u0c3e\\u0c30\\u0c41\\u0c32\\u0c15\\u0c41 \\u0c1a\\u0c46\\u0c2a\\u0c4d\\u0c2a\\u0c3e\\u0c21\\u0c41. \\u0c26\\u0c40\\u0c02\\u0c24\\u0c4b \\u0c30\\u0c02\\u0c17\\u0c02\\u0c32\\u0c4b\\u0c15\\u0c3f \\u0c26\\u0c3f\\u0c17\\u0c3f\\u0c28 \\u0c2a\\u0c4b\\u0c32\\u0c40\\u0c38\\u0c41\\u0c32\\u0c41 \\u0c28\\u0c15\\u0c3f\\u0c32\\u0c40 \\u0c2a\\u0c4b\\u0c32\\u0c40\\u0c38\\u0c4d\\u0c1f\\u0c47\\u0c37\\u0c28\\u0c4d \\u0c30\\u0c28\\u0c4d \\u0c1a\\u0c47\\u0c38\\u0c4d\\u0c24\\u0c41\\u0c28\\u0c4d\\u0c28 \\u0c35\\u0c3e\\u0c30\\u0c3f\\u0c28\\u0c3f \\u0c2a\\u0c1f\\u0c4d\\u0c1f\\u0c41\\u0c15\\u0c41\\u0c28\\u0c4d\\u0c28\\u0c3e\\u0c30\\u0c41. \\u0c35\\u0c40\\u0c30\\u0c3f\\u0c32\\u0c4b \\u0c07\\u0c26\\u0c4d\\u0c26\\u0c30\\u0c41 \\u0c2e\\u0c39\\u0c3f\\u0c33\\u0c32\\u0c41, \\u0c06\\u0c30\\u0c41\\u0c17\\u0c41\\u0c30\\u0c41 \\u0c28\\u0c15\\u0c3f\\u0c32\\u0c40 \\u0c2a\\u0c4b\\u0c32\\u0c40\\u0c38\\u0c41\\u0c32\\u0c41 \\u0c09\\u0c28\\u0c4d\\u0c28\\u0c3e\\u0c30\\u0c41.\\u00a0Also Read: \\u0c2e\\u0c47\\u0c15\\u0c3f\\u0c28\\u0c4d \\u0c07\\u0c02\\u0c21\\u0c3f\\u0c2f\\u0c3e \\u0c15\\u0c3e\\u0c28\\u0c4d\\u0c38\\u0c46\\u0c2a\\u0c4d\\u0c1f\\u0c4d\\u200c\\u0c15\\u0c3f \\u0c2b\\u0c3f\\u0c26\\u0c3e \\u0c05\\u0c2f\\u0c3f\\u0c28 \\u0c2a\\u0c41\\u0c24\\u0c3f\\u0c28\\u0c4d, \\u0c2e\\u0c4b\\u0c26\\u0c40 \\u0c35\\u0c3f\\u0c1c\\u0c28\\u0c30\\u0c40\\u0c2a\\u0c48 \\u0c07\\u0c02\\u0c1f\\u0c4d\\u0c30\\u0c46\\u0c38\\u0c4d\\u0c1f\\u0c3f\\u0c02\\u0c17\\u0c4d \\u0c15\\u0c3e\\u0c2e\\u0c46\\u0c02\\u0c1f\\u0c4d\\u0c38\\u0c4d\",\n          \"\\u0c38\\u0c42\\u0c2a\\u0c30\\u0c4d \\u0c38\\u0c4d\\u0c1f\\u0c3e\\u0c30\\u0c4d \\u0c30\\u0c1c\\u0c28\\u0c40\\u0c15\\u0c3e\\u0c02\\u0c24\\u0c4d \\u0c39\\u0c40\\u0c30\\u0c4b\\u0c17\\u0c3e \\u0c28\\u0c1f\\u0c3f\\u0c02\\u0c1a\\u0c3f\\u0c28 \\u0c32\\u0c47\\u0c1f\\u0c46\\u0c38\\u0c4d\\u0c1f\\u0c4d \\u0c2e\\u0c42\\u0c35\\u0c40 '\\u0c1c\\u0c48\\u0c32\\u0c30\\u0c4d' \\u0c06\\u0c17\\u0c38\\u0c4d\\u0c1f\\u0c41 10\\u0c28 \\u0c35\\u0c3f\\u0c21\\u0c41\\u0c26\\u0c32\\u0c35\\u0c41\\u0c24\\u0c41\\u0c28\\u0c4d\\u0c28 \\u0c35\\u0c3f\\u0c37\\u0c2f\\u0c02 \\u0c24\\u0c46\\u0c32\\u0c3f\\u0c38\\u0c3f\\u0c02\\u0c26\\u0c47. \\u0c24\\u0c2e\\u0c3f\\u0c33\\u0c02 \\u0c24\\u0c4b \\u0c2a\\u0c3e\\u0c1f\\u0c41 \\u0c24\\u0c46\\u0c32\\u0c41\\u0c17\\u0c41\\u0c32\\u0c4b\\u0c28\\u0c42 \\u0c30\\u0c3f\\u0c32\\u0c40\\u0c1c\\u0c4d \\u0c15\\u0c3e\\u0c2c\\u0c4b\\u0c24\\u0c41\\u0c28\\u0c4d\\u0c28 \\u0c08 \\u0c38\\u0c3f\\u0c28\\u0c3f\\u0c2e\\u0c3e\\u0c2a\\u0c48 \\u0c07\\u0c2a\\u0c4d\\u0c2a\\u0c1f\\u0c3f\\u0c15\\u0c47 \\u0c35\\u0c3f\\u0c2a\\u0c30\\u0c40\\u0c24\\u0c2e\\u0c48\\u0c28 \\u0c39\\u0c48\\u0c2a\\u0c4d \\u0c28\\u0c46\\u0c32\\u0c15\\u0c4a\\u0c02\\u0c26\\u0c3f. \\u0c38\\u0c3f\\u0c28\\u0c3f\\u0c2e\\u0c3e \\u0c28\\u0c41\\u0c02\\u0c1a\\u0c3f \\u0c35\\u0c3f\\u0c21\\u0c41\\u0c26\\u0c32\\u0c48\\u0c28 \\u0c2a\\u0c3e\\u0c1f\\u0c32\\u0c41, \\u0c1f\\u0c4d\\u0c30\\u0c48\\u0c32\\u0c30\\u0c4d \\u0c06\\u0c15\\u0c1f\\u0c4d\\u0c1f\\u0c41\\u0c15\\u0c4b\\u0c35\\u0c21\\u0c02\\u0c24\\u0c4b \\u0c08 \\u0c38\\u0c3f\\u0c28\\u0c3f\\u0c2e\\u0c3e \\u0c15\\u0c4b\\u0c38\\u0c02 \\u0c2b\\u0c4d\\u0c2f\\u0c3e\\u0c28\\u0c4d\\u0c38\\u0c4d \\u0c24\\u0c4b \\u0c2a\\u0c3e\\u0c1f\\u0c41 \\u0c38\\u0c3f\\u0c28\\u0c40 \\u0c06\\u0c21\\u0c3f\\u0c2f\\u0c28\\u0c4d\\u0c38\\u0c4d \\u0c15\\u0c42\\u0c21\\u0c3e \\u0c0e\\u0c02\\u0c24\\u0c4b \\u0c06\\u0c38\\u0c15\\u0c4d\\u0c24\\u0c3f\\u0c17\\u0c3e \\u0c0e\\u0c26\\u0c41\\u0c30\\u0c41 \\u0c1a\\u0c42\\u0c38\\u0c4d\\u0c24\\u0c41\\u0c28\\u0c4d\\u0c28\\u0c3e\\u0c30\\u0c41. \\u0c07\\u0c2a\\u0c4d\\u0c2a\\u0c1f\\u0c3f\\u0c15\\u0c47 \\u0c05\\u0c28\\u0c4d\\u0c28\\u0c3f \\u0c15\\u0c3e\\u0c30\\u0c4d\\u0c2f\\u0c15\\u0c4d\\u0c30\\u0c2e\\u0c3e\\u0c32\\u0c28\\u0c41 \\u0c2a\\u0c42\\u0c30\\u0c4d\\u0c24\\u0c3f \\u0c1a\\u0c47\\u0c38\\u0c41\\u0c15\\u0c41\\u0c28\\u0c4d\\u0c28 \\u0c08 \\u0c38\\u0c3f\\u0c28\\u0c3f\\u0c2e\\u0c3e \\u0c1a\\u0c3f\\u0c24\\u0c4d\\u0c30 \\u0c06\\u0c21\\u0c3f\\u0c2f\\u0c4b \\u0c32\\u0c3e\\u0c02\\u0c1a\\u0c4d \\u0c35\\u0c47\\u0c21\\u0c41\\u0c15\\u0c28\\u0c3f \\u0c24\\u0c3e\\u0c1c\\u0c3e\\u0c17\\u0c3e \\u0c1a\\u0c46\\u0c28\\u0c4d\\u0c28\\u0c48\\u0c32\\u0c4b \\u0c28\\u0c3f\\u0c30\\u0c4d\\u0c35\\u0c39\\u0c3f\\u0c02\\u0c1a\\u0c3e\\u0c30\\u0c41. \\u0c07\\u0c15 \\u0c08 \\u0c06\\u0c21\\u0c3f\\u0c2f\\u0c4b \\u0c32\\u0c3e\\u0c02\\u0c1a\\u0c4d \\u0c32\\u0c4b \\u0c30\\u0c1c\\u0c28\\u0c40\\u0c15\\u0c3e\\u0c02\\u0c24\\u0c4d \\u0c38\\u0c4d\\u0c2a\\u0c40\\u0c1a\\u0c4d \\u0c15\\u0c3f \\u0c2b\\u0c4d\\u0c2f\\u0c3e\\u0c28\\u0c4d\\u0c38\\u0c4d \\u0c05\\u0c02\\u0c24\\u0c3e \\u0c2b\\u0c3f\\u0c26\\u0c3e \\u0c05\\u0c2f\\u0c3f\\u0c2a\\u0c4b\\u0c2f\\u0c3e\\u0c30\\u0c41. \\u0c35\\u0c47\\u0c26\\u0c3f\\u0c15\\u0c2a\\u0c48 \\u0c06\\u0c2f\\u0c28 \\u0c2e\\u0c3e\\u0c1f\\u0c4d\\u0c32\\u0c3e\\u0c21\\u0c3f\\u0c28 \\u0c2e\\u0c3e\\u0c1f\\u0c32\\u0c41, \\u0c2a\\u0c32\\u0c3f\\u0c15\\u0c3f\\u0c02\\u0c1a\\u0c3f\\u0c28 \\u0c39\\u0c3e\\u0c35\\u0c2d\\u0c3e\\u0c35\\u0c3e\\u0c32\\u0c41 \\u0c05\\u0c02\\u0c26\\u0c30\\u0c3f\\u0c28\\u0c40 \\u0c15\\u0c1f\\u0c4d\\u0c1f\\u0c3f\\u0c2a\\u0c21\\u0c47\\u0c38\\u0c3e\\u0c2f\\u0c3f.\\u0c05\\u0c2f\\u0c3f\\u0c24\\u0c47 \\u0c24\\u0c28 \\u0c38\\u0c4d\\u0c2a\\u0c40\\u0c1a\\u0c4d \\u0c32\\u0c4b \\u0c2d\\u0c3e\\u0c17\\u0c02\\u0c17\\u0c3e \\u0c38\\u0c40\\u0c28\\u0c3f\\u0c2f\\u0c30\\u0c4d \\u0c39\\u0c40\\u0c30\\u0c4b\\u0c2f\\u0c3f\\u0c28\\u0c4d \\u0c30\\u0c2e\\u0c4d\\u0c2f\\u0c15\\u0c43\\u0c37\\u0c4d\\u0c23 \\u0c17\\u0c41\\u0c30\\u0c3f\\u0c02\\u0c1a\\u0c3f \\u0c30\\u0c1c\\u0c28\\u0c40\\u0c15\\u0c3e\\u0c02\\u0c24\\u0c4d \\u0c1a\\u0c47\\u0c38\\u0c3f\\u0c28 \\u0c15\\u0c3e\\u0c2e\\u0c46\\u0c02\\u0c1f\\u0c4d\\u0c38\\u0c4d \\u0c05\\u0c2f\\u0c3f\\u0c24\\u0c47 \\u0c07\\u0c2a\\u0c4d\\u0c2a\\u0c41\\u0c21\\u0c41 \\u0c35\\u0c48\\u0c30\\u0c32\\u0c4d \\u0c05\\u0c35\\u0c41\\u0c24\\u0c41\\u0c28\\u0c4d\\u0c28\\u0c3e\\u0c2f\\u0c3f. \\u0c30\\u0c1c\\u0c28\\u0c40\\u0c15\\u0c3e\\u0c02\\u0c24\\u0c4d - \\u0c30\\u0c2e\\u0c4d\\u0c2f\\u0c15\\u0c43\\u0c37\\u0c4d\\u0c23 \\u0c15\\u0c3e\\u0c02\\u0c2c\\u0c3f\\u0c28\\u0c47\\u0c37\\u0c28\\u0c4d \\u0c32\\u0c4b \\u0c35\\u0c1a\\u0c4d\\u0c1a\\u0c3f\\u0c28 '\\u0c28\\u0c30\\u0c38\\u0c3f\\u0c02\\u0c39' \\u0c38\\u0c3f\\u0c28\\u0c3f\\u0c2e\\u0c3e \\u0c05\\u0c2a\\u0c4d\\u0c2a\\u0c1f\\u0c4d\\u0c32\\u0c4b \\u0c0e\\u0c02\\u0c24 \\u0c2a\\u0c46\\u0c26\\u0c4d\\u0c26 \\u0c39\\u0c3f\\u0c1f\\u0c4d \\u0c05\\u0c2f\\u0c3f\\u0c02\\u0c26\\u0c4b \\u0c24\\u0c46\\u0c32\\u0c3f\\u0c38\\u0c3f\\u0c02\\u0c26\\u0c47. \\u0c30\\u0c1c\\u0c28\\u0c40\\u0c15\\u0c3e\\u0c02\\u0c24\\u0c4d \\u0c15\\u0c46\\u0c30\\u0c40\\u0c30\\u0c4d \\u0c32\\u0c4b\\u0c28\\u0c47 \\u0c2e\\u0c48\\u0c32\\u0c4d \\u0c38\\u0c4d\\u0c1f\\u0c4b\\u0c28\\u0c4d \\u0c2e\\u0c42\\u0c35\\u0c40\\u0c17\\u0c3e \\u0c08 \\u0c38\\u0c3f\\u0c28\\u0c3f\\u0c2e\\u0c3e\\u0c28\\u0c3f \\u0c1a\\u0c46\\u0c2a\\u0c4d\\u0c2a\\u0c41\\u0c15\\u0c4b\\u0c35\\u0c1a\\u0c4d\\u0c1a\\u0c41. \\u0c05\\u0c2f\\u0c3f\\u0c24\\u0c47 \\u0c08 \\u0c38\\u0c3f\\u0c28\\u0c3f\\u0c2e\\u0c3e\\u0c32\\u0c4b \\u0c28\\u0c40\\u0c32\\u0c3e\\u0c02\\u0c2c\\u0c30\\u0c3f \\u0c2a\\u0c3e\\u0c24\\u0c4d\\u0c30\\u0c32\\u0c4b \\u0c30\\u0c2e\\u0c4d\\u0c2f\\u0c15\\u0c43\\u0c37\\u0c4d\\u0c23 \\u0c24\\u0c28 \\u0c35\\u0c3f\\u0c32\\u0c15\\u0c4d\\u0c37\\u0c23 \\u0c28\\u0c1f\\u0c28\\u0c24\\u0c4b \\u0c06\\u0c15\\u0c1f\\u0c4d\\u0c1f\\u0c41\\u0c15\\u0c41\\u0c02\\u0c26\\u0c3f. \\u0c07\\u0c15 '\\u0c28\\u0c30\\u0c38\\u0c3f\\u0c02\\u0c39' \\u0c24\\u0c30\\u0c4d\\u0c35\\u0c3e\\u0c24 \\u0c2e\\u0c33\\u0c4d\\u0c32\\u0c40 \\u0c35\\u0c40\\u0c33\\u0c4d\\u0c33\\u0c3f\\u0c26\\u0c4d\\u0c26\\u0c30\\u0c3f \\u0c1c\\u0c4b\\u0c21\\u0c3f \\u0c35\\u0c46\\u0c02\\u0c21\\u0c3f\\u0c24\\u0c46\\u0c30\\u0c2a\\u0c48 \\u0c15\\u0c28\\u0c3f\\u0c2a\\u0c3f\\u0c02\\u0c1a\\u0c32\\u0c47\\u0c26\\u0c41. \\u0c38\\u0c41\\u0c2e\\u0c3e\\u0c30\\u0c41 25 \\u0c38\\u0c02\\u0c35\\u0c24\\u0c4d\\u0c38\\u0c30\\u0c3e\\u0c32 \\u0c24\\u0c30\\u0c4d\\u0c35\\u0c3e\\u0c24 \\u0c07\\u0c2a\\u0c4d\\u0c2a\\u0c41\\u0c21\\u0c41 '\\u0c1c\\u0c48\\u0c32\\u0c30\\u0c4d' \\u0c38\\u0c3f\\u0c28\\u0c3f\\u0c2e\\u0c3e\\u0c32\\u0c4b \\u0c30\\u0c2e\\u0c4d\\u0c2f\\u0c15\\u0c43\\u0c37\\u0c4d\\u0c23 \\u0c28\\u0c1f\\u0c3f\\u0c02\\u0c1a\\u0c3e\\u0c30\\u0c41.\\u0c05\\u0c2f\\u0c3f\\u0c24\\u0c47 \\u0c24\\u0c3e\\u0c1c\\u0c3e\\u0c17\\u0c3e \\u0c1c\\u0c30\\u0c3f\\u0c17\\u0c3f\\u0c28 '\\u0c1c\\u0c48\\u0c32\\u0c30\\u0c4d' \\u0c06\\u0c21\\u0c3f\\u0c2f\\u0c4b \\u0c32\\u0c3e\\u0c02\\u0c1a\\u0c4d \\u0c32\\u0c4b \\u0c30\\u0c1c\\u0c28\\u0c40\\u0c15\\u0c3e\\u0c02\\u0c24\\u0c4d \\u0c2e\\u0c3e\\u0c1f\\u0c4d\\u0c32\\u0c3e\\u0c21\\u0c41\\u0c24\\u0c42.. \\\"25 \\u0c38\\u0c02\\u0c35\\u0c24\\u0c4d\\u0c38\\u0c30\\u0c3e\\u0c32 \\u0c24\\u0c30\\u0c4d\\u0c35\\u0c3e\\u0c24 \\u0c30\\u0c2e\\u0c4d\\u0c2f\\u0c15\\u0c43\\u0c37\\u0c4d\\u0c23\\u0c24\\u0c4b \\u0c15\\u0c32\\u0c3f\\u0c38\\u0c3f \\u0c2f\\u0c3e\\u0c15\\u0c4d\\u0c1f\\u0c4d \\u0c1a\\u0c47\\u0c38\\u0c4d\\u0c24\\u0c41\\u0c28\\u0c4d\\u0c28\\u0c3e. \\u0c38\\u0c3f\\u0c28\\u0c3f\\u0c2e\\u0c3e\\u0c32\\u0c4b \\u0c2e\\u0c3e \\u0c07\\u0c26\\u0c4d\\u0c26\\u0c30\\u0c3f \\u0c38\\u0c28\\u0c4d\\u0c28\\u0c3f\\u0c35\\u0c47\\u0c36\\u0c3e\\u0c32\\u0c41 \\u0c1a\\u0c3f\\u0c24\\u0c4d\\u0c30\\u0c40\\u0c15\\u0c30\\u0c3f\\u0c38\\u0c4d\\u0c24\\u0c41\\u0c28\\u0c4d\\u0c28 \\u0c38\\u0c2e\\u0c2f\\u0c02\\u0c32\\u0c4b \\u0c26\\u0c30\\u0c4d\\u0c36\\u0c15\\u0c41\\u0c21\\u0c41 \\u0c28\\u0c46\\u0c32\\u0c4d\\u0c38\\u0c28\\u0c4d \\u0c07\\u0c26\\u0c3f \\u0c0e\\u0c15\\u0c4d\\u0c15\\u0c41\\u0c35\\u0c48\\u0c02\\u0c26\\u0c3f, \\u0c05\\u0c26\\u0c3f \\u0c24\\u0c15\\u0c4d\\u0c15\\u0c41\\u0c35\\u0c48\\u0c02\\u0c26\\u0c28\\u0c3f 8 \\u0c1f\\u0c47\\u0c15\\u0c4d \\u0c32\\u0c41 \\u0c24\\u0c40\\u0c38\\u0c41\\u0c15\\u0c41\\u0c28\\u0c4d\\u0c28\\u0c3e\\u0c21\\u0c41. \\u0c28\\u0c40\\u0c32\\u0c3e\\u0c02\\u0c2c\\u0c30\\u0c3f \\u0c2e\\u0c41\\u0c02\\u0c26\\u0c41 \\u0c08 \\u0c28\\u0c30\\u0c38\\u0c3f\\u0c02\\u0c39 \\u0c2a\\u0c30\\u0c41\\u0c35\\u0c41 \\u0c24\\u0c40\\u0c38\\u0c47\\u0c38\\u0c3e\\u0c21\\u0c41 \\u0c28\\u0c46\\u0c32\\u0c4d\\u0c38\\u0c28\\u0c4d\\\" \\u0c05\\u0c02\\u0c1f\\u0c42 \\u0c24\\u0c28 \\u0c38\\u0c30\\u0c26\\u0c3e \\u0c15\\u0c3e\\u0c2e\\u0c46\\u0c02\\u0c1f\\u0c4d\\u0c38\\u0c4d \\u0c24\\u0c4b \\u0c05\\u0c02\\u0c26\\u0c30\\u0c3f\\u0c28\\u0c40 \\u0c28\\u0c35\\u0c4d\\u0c35\\u0c3f\\u0c02\\u0c1a\\u0c3e\\u0c30\\u0c41. \\u0c07\\u0c15 \\u0c30\\u0c1c\\u0c28\\u0c40 \\u0c15\\u0c3e\\u0c2e\\u0c46\\u0c02\\u0c1f\\u0c4d\\u0c38\\u0c4d \\u0c15\\u0c3f \\u0c30\\u0c2e\\u0c4d\\u0c2f\\u0c15\\u0c43\\u0c37\\u0c4d\\u0c23, \\u0c26\\u0c30\\u0c4d\\u0c36\\u0c15\\u0c41\\u0c21\\u0c41 \\u0c28\\u0c46\\u0c32\\u0c4d\\u0c38\\u0c28\\u0c4d \\u0c24\\u0c46\\u0c17 \\u0c28\\u0c35\\u0c4d\\u0c35\\u0c41\\u0c15\\u0c41\\u0c28\\u0c4d\\u0c28\\u0c3e\\u0c30\\u0c41. \\u0c07\\u0c02\\u0c26\\u0c41\\u0c15\\u0c41 \\u0c38\\u0c02\\u0c2c\\u0c02\\u0c27\\u0c3f\\u0c02\\u0c1a\\u0c3f\\u0c28 \\u0c35\\u0c40\\u0c21\\u0c3f\\u0c2f\\u0c4b\\u0c32\\u0c41 \\u0c2a\\u0c4d\\u0c30\\u0c38\\u0c4d\\u0c24\\u0c41\\u0c24\\u0c02 \\u0c28\\u0c46\\u0c1f\\u0c4d\\u0c1f\\u0c3f\\u0c02\\u0c1f \\u0c24\\u0c46\\u0c17 \\u0c35\\u0c48\\u0c30\\u0c32\\u0c4d \\u0c05\\u0c35\\u0c41\\u0c24\\u0c41\\u0c28\\u0c4d\\u0c28\\u0c3e\\u0c2f\\u0c3f. \\u0c08 \\u0c35\\u0c40\\u0c21\\u0c3f\\u0c2f\\u0c4b\\u0c32\\u0c4b \\u0c30\\u0c1c\\u0c28\\u0c40\\u0c15\\u0c3e\\u0c02\\u0c24\\u0c4d \\u0c38\\u0c30\\u0c26\\u0c3e \\u0c2e\\u0c3e\\u0c1f\\u0c32\\u0c15\\u0c3f \\u0c28\\u0c46\\u0c1f\\u0c3f\\u0c1c\\u0c28\\u0c4d\\u0c38\\u0c4d \\u0c38\\u0c48\\u0c24\\u0c02 \\u0c2e\\u0c02\\u0c24\\u0c4d\\u0c30\\u0c2e\\u0c41\\u0c17\\u0c4d\\u0c27\\u0c41\\u0c32\\u0c41 \\u0c05\\u0c35\\u0c41\\u0c24\\u0c41\\u0c28\\u0c4d\\u0c28\\u0c3e\\u0c30\\u0c41.\\u0c2e\\u0c30\\u0c4b\\u0c35\\u0c48\\u0c2a\\u0c41 \\u0c38\\u0c4d\\u0c2a\\u0c40\\u0c1a\\u0c4d \\u0c32\\u0c4b \\u0c2d\\u0c3e\\u0c17\\u0c02\\u0c17\\u0c3e \\u0c30\\u0c1c\\u0c28\\u0c40\\u0c15\\u0c3e\\u0c02\\u0c24\\u0c4d \\u0c24\\u0c28 \\u0c1c\\u0c40\\u0c35\\u0c3f\\u0c24\\u0c02\\u0c32\\u0c4b \\u0c0e\\u0c26\\u0c41\\u0c30\\u0c48\\u0c28 \\u0c2a\\u0c30\\u0c3f\\u0c38\\u0c4d\\u0c25\\u0c3f\\u0c24\\u0c41\\u0c32\\u0c28\\u0c41 \\u0c35\\u0c3f\\u0c35\\u0c30\\u0c3f\\u0c38\\u0c4d\\u0c24\\u0c42..\\\"\\u0c2e\\u0c4b\\u0c30\\u0c17\\u0c28\\u0c3f \\u0c15\\u0c41\\u0c15\\u0c4d\\u0c15 \\u0c32\\u0c47\\u0c26\\u0c41. \\u0c35\\u0c3f\\u0c2e\\u0c30\\u0c4d\\u0c36\\u0c3f\\u0c02\\u0c1a\\u0c28\\u0c3f \\u0c28\\u0c4b\\u0c30\\u0c41 \\u0c32\\u0c47\\u0c26\\u0c41. \\u0c07\\u0c35\\u0c3f \\u0c30\\u0c46\\u0c02\\u0c21\\u0c42 \\u0c1c\\u0c30\\u0c17\\u0c28\\u0c3f \\u0c0a\\u0c30\\u0c41 \\u0c32\\u0c47\\u0c26\\u0c41. \\u0c2e\\u0c28\\u0c02 \\u0c2e\\u0c28 \\u0c2a\\u0c28\\u0c3f \\u0c1a\\u0c42\\u0c38\\u0c41\\u0c15\\u0c41\\u0c02\\u0c1f\\u0c42 \\u0c2a\\u0c4b\\u0c24\\u0c42\\u0c28\\u0c47 \\u0c09\\u0c02\\u0c21\\u0c3e\\u0c32\\u0c3f. \\u0c05\\u0c30\\u0c4d\\u0c25\\u0c2e\\u0c48\\u0c02\\u0c26\\u0c3e \\u0c30\\u0c3e\\u0c1c\\u0c3e\\\" \\u0c05\\u0c02\\u0c1f\\u0c42 \\u0c30\\u0c1c\\u0c28\\u0c40\\u0c15\\u0c3e\\u0c02\\u0c24\\u0c4d \\u0c1a\\u0c46\\u0c2a\\u0c4d\\u0c2a\\u0c21\\u0c02\\u0c24\\u0c4b \\u0c05\\u0c2d\\u0c3f\\u0c2e\\u0c3e\\u0c28\\u0c41\\u0c32 \\u0c15\\u0c47\\u0c30\\u0c3f\\u0c02\\u0c24\\u0c32\\u0c24\\u0c4b \\u0c06\\u0c21\\u0c3f\\u0c1f\\u0c4b\\u0c30\\u0c3f\\u0c2f\\u0c02 \\u0c05\\u0c02\\u0c24\\u0c3e \\u0c26\\u0c26\\u0c4d\\u0c26\\u0c30\\u0c3f\\u0c32\\u0c4d\\u0c32\\u0c3f\\u0c2a\\u0c4b\\u0c2f\\u0c3f\\u0c02\\u0c26\\u0c3f. \\u0c05\\u0c32\\u0c3e\\u0c17\\u0c47 \\u0c26\\u0c41\\u0c30\\u0c4d\\u0c2f\\u0c4b\\u0c27\\u0c28\\u0c41\\u0c21\\u0c41 \\u0c2a\\u0c3e\\u0c24\\u0c4d\\u0c30 \\u0c17\\u0c41\\u0c30\\u0c3f\\u0c02\\u0c1a\\u0c3f \\u0c30\\u0c1c\\u0c28\\u0c40\\u0c15\\u0c3e\\u0c02\\u0c24\\u0c4d \\u0c39\\u0c3e\\u0c35\\u0c2d\\u0c3e\\u0c35\\u0c3e\\u0c32\\u0c41 \\u0c2a\\u0c32\\u0c3f\\u0c15\\u0c3f\\u0c38\\u0c4d\\u0c24\\u0c42 \\u0c1a\\u0c46\\u0c2a\\u0c4d\\u0c2a\\u0c3f\\u0c28 \\u0c21\\u0c48\\u0c32\\u0c3e\\u0c17\\u0c4d \\u0c15\\u0c42\\u0c21\\u0c3e \\u0c2a\\u0c4d\\u0c30\\u0c24\\u0c3f \\u0c12\\u0c15\\u0c4d\\u0c15\\u0c30\\u0c3f \\u0c1a\\u0c47\\u0c24 \\u0c1a\\u0c2a\\u0c4d\\u0c2a\\u0c1f\\u0c4d\\u0c32\\u0c41 \\u0c15\\u0c4a\\u0c1f\\u0c4d\\u0c1f\\u0c3f\\u0c02\\u0c1a\\u0c3f\\u0c02\\u0c26\\u0c3f. \\u0c2e\\u0c4a\\u0c24\\u0c4d\\u0c24\\u0c02\\u0c17\\u0c3e \\u0c30\\u0c1c\\u0c28\\u0c40\\u0c15\\u0c3e\\u0c02\\u0c24\\u0c4d \\u0c24\\u0c28 \\u0c38\\u0c4d\\u0c2a\\u0c40\\u0c1a\\u0c4d \\u0c24\\u0c4b \\u0c17\\u0c42\\u0c38\\u0c4d \\u0c2c\\u0c02\\u0c2a\\u0c4d\\u0c38\\u0c4d \\u0c24\\u0c46\\u0c2a\\u0c4d\\u0c2a\\u0c3f\\u0c02\\u0c1a\\u0c3e\\u0c30\\u0c28\\u0c47 \\u0c1a\\u0c46\\u0c2a\\u0c4d\\u0c2a\\u0c3e\\u0c32\\u0c3f.\\u0c07\\u0c15 \\u0c1c\\u0c48\\u0c32\\u0c30\\u0c4d \\u0c35\\u0c3f\\u0c37\\u0c2f\\u0c3e\\u0c28\\u0c3f\\u0c15\\u0c3f \\u0c35\\u0c38\\u0c4d\\u0c24\\u0c47.. \\u0c24\\u0c2e\\u0c3f\\u0c33 \\u0c05\\u0c17\\u0c4d\\u0c30 \\u0c28\\u0c3f\\u0c30\\u0c4d\\u0c2e\\u0c3e\\u0c23 \\u0c38\\u0c02\\u0c38\\u0c4d\\u0c25 \\u0c38\\u0c28\\u0c4d \\u0c2a\\u0c3f\\u0c15\\u0c4d\\u0c1a\\u0c30\\u0c4d\\u0c38\\u0c4d \\u0c2d\\u0c3e\\u0c30\\u0c40 \\u0c2c\\u0c21\\u0c4d\\u0c1c\\u0c46\\u0c1f\\u0c4d \\u0c24\\u0c4b \\u0c28\\u0c3f\\u0c30\\u0c4d\\u0c2e\\u0c3f\\u0c02\\u0c1a\\u0c3f\\u0c28 \\u0c08 \\u0c38\\u0c3f\\u0c28\\u0c3f\\u0c2e\\u0c3e\\u0c28\\u0c3f \\u0c28\\u0c46\\u0c32\\u0c4d\\u0c38\\u0c28\\u0c4d \\u0c26\\u0c3f\\u0c32\\u0c40\\u0c2a\\u0c4d \\u0c15\\u0c41\\u0c2e\\u0c3e\\u0c30\\u0c4d \\u0c21\\u0c48\\u0c30\\u0c46\\u0c15\\u0c4d\\u0c1f\\u0c4d \\u0c1a\\u0c47\\u0c36\\u0c3e\\u0c30\\u0c41. \\u0c08 \\u0c38\\u0c3f\\u0c28\\u0c3f\\u0c2e\\u0c3e\\u0c32\\u0c4b \\u0c30\\u0c1c\\u0c28\\u0c40\\u0c15\\u0c3e\\u0c02\\u0c24\\u0c4d \\u0c15\\u0c3f \\u0c1c\\u0c4b\\u0c21\\u0c3f\\u0c17\\u0c3e \\u0c24\\u0c2e\\u0c28\\u0c4d\\u0c28\\u0c3e \\u0c39\\u0c40\\u0c30\\u0c4b\\u0c2f\\u0c3f\\u0c28\\u0c4d\\u0c17\\u0c3e \\u0c28\\u0c1f\\u0c3f\\u0c02\\u0c1a\\u0c17\\u0c3e.. \\u0c2e\\u0c32\\u0c2f\\u0c3e\\u0c33 \\u0c38\\u0c4d\\u0c1f\\u0c3e\\u0c30\\u0c4d \\u0c2e\\u0c4b\\u0c39\\u0c28\\u0c4d \\u0c32\\u0c3e\\u0c32\\u0c4d, \\u0c15\\u0c28\\u0c4d\\u0c28\\u0c21 \\u0c38\\u0c4d\\u0c1f\\u0c3e\\u0c30\\u0c4d \\u0c36\\u0c3f\\u0c35 \\u0c30\\u0c3e\\u0c1c\\u0c4d \\u0c15\\u0c41\\u0c2e\\u0c3e\\u0c30\\u0c4d \\u0c05\\u0c24\\u0c3f\\u0c27\\u0c3f \\u0c2a\\u0c3e\\u0c24\\u0c4d\\u0c30\\u0c32\\u0c41 \\u0c2a\\u0c4b\\u0c37\\u0c3f\\u0c02\\u0c1a\\u0c3e\\u0c30\\u0c41. \\u0c30\\u0c2e\\u0c4d\\u0c2f\\u0c15\\u0c43\\u0c37\\u0c4d\\u0c23, \\u0c38\\u0c41\\u0c28\\u0c40\\u0c32\\u0c4d, \\u0c2f\\u0c4b\\u0c17\\u0c3f \\u0c2c\\u0c3e\\u0c2c\\u0c41, \\u0c1c\\u0c3e\\u0c15\\u0c40 \\u0c37\\u0c4d\\u0c30\\u0c3e\\u0c2b\\u0c4d \\u0c24\\u0c26\\u0c3f\\u0c24\\u0c30\\u0c41\\u0c32\\u0c41 \\u0c07\\u0c24\\u0c30 \\u0c15\\u0c40\\u0c32\\u0c15 \\u0c2a\\u0c3e\\u0c24\\u0c4d\\u0c30\\u0c32\\u0c4d\\u0c32\\u0c4b \\u0c28\\u0c1f\\u0c3f\\u0c02\\u0c1a\\u0c3f\\u0c28 \\u0c08 \\u0c38\\u0c3f\\u0c28\\u0c3f\\u0c2e\\u0c3e\\u0c15\\u0c3f \\u0c05\\u0c28\\u0c3f\\u0c30\\u0c41\\u0c26\\u0c4d \\u0c30\\u0c35\\u0c3f\\u0c1a\\u0c02\\u0c26\\u0c4d\\u0c30\\u0c28\\u0c4d \\u0c38\\u0c02\\u0c17\\u0c40\\u0c24\\u0c02 \\u0c05\\u0c02\\u0c26\\u0c3f\\u0c02\\u0c1a\\u0c3e\\u0c30\\u0c41.Also Read : \\u0c06 \\u0c2c\\u0c3e\\u0c32\\u0c40\\u0c35\\u0c41\\u0c21\\u0c4d \\u0c2e\\u0c42\\u0c35\\u0c40\\u0c28\\u0c3f \\u0c30\\u0c3f\\u0c1c\\u0c46\\u0c15\\u0c4d\\u0c1f\\u0c4d \\u0c1a\\u0c47\\u0c38\\u0c3f\\u0c28 \\u0c05\\u0c32\\u0c4d\\u0c32\\u0c41 \\u0c05\\u0c30\\u0c4d\\u0c1c\\u0c41\\u0c28\\u0c4d - \\u0c15\\u0c3e\\u0c30\\u0c23\\u0c02 \\u0c05\\u0c26\\u0c47\\u0c28\\u0c3e?Join Us on Telegram:\\u00a0https://t.me/abpdesamofficial\"\n        ],\n        \"semantic_type\": \"\",\n        \"description\": \"\"\n      }\n    },\n    {\n      \"column\": \"Sub Article\",\n      \"properties\": {\n        \"dtype\": \"string\",\n        \"num_unique_values\": 20192,\n        \"samples\": [\n          \" \\u0c1c\\u0c42\\u0c28\\u0c4d 20\\u0c28 \\u0c2b\\u0c48\\u0c28\\u0c32\\u0c4d \\u0c15\\u0c40\\u0c24\\u0c4b \\u0c2a\\u0c3e\\u0c1f\\u0c41 \\u0c2b\\u0c32\\u0c3f\\u0c24\\u0c3e\\u0c32\\u0c28\\u0c41 \\u0c35\\u0c3f\\u0c21\\u0c41\\u0c26\\u0c32 \\u0c1a\\u0c47\\u0c2f\\u0c28\\u0c41\\u0c28\\u0c4d\\u0c28\\u0c3e\\u0c30\\u0c41\\u0c10\\u0c38\\u0c46\\u0c1f\\u0c4d \\u0c28\\u0c4b\\u0c1f\\u0c3f\\u0c2b\\u0c3f\\u0c15\\u0c47\\u0c37\\u0c28\\u0c4d, \\u0c2a\\u0c42\\u0c30\\u0c4d\\u0c24\\u0c3f \\u0c35\\u0c3f\\u0c35\\u0c30\\u0c3e\\u0c32 \\u0c15\\u0c4b\\u0c38\\u0c02 \\u0c15\\u0c4d\\u0c32\\u0c3f\\u0c15\\u0c4d \\u0c1a\\u0c47\\u0c2f\\u0c02\\u0c21\\u0c3f\\u0c2a\\u0c30\\u0c40\\u0c15\\u0c4d\\u0c37 \\u0c35\\u0c3f\\u0c27\\u0c3e\\u0c28\\u0c02:\\u00a0\\u0c2e\\u0c4a\\u0c24\\u0c4d\\u0c24\\u0c02 200 \\u0c2e\\u0c3e\\u0c30\\u0c4d\\u0c15\\u0c41\\u0c32\\u0c15\\u0c41 \\u0c10\\u0c38\\u0c46\\u0c1f\\u0c4d \\u0c06\\u0c28\\u0c4d\\u200c\\u0c32\\u0c48\\u0c28\\u0c4d \\u0c2a\\u0c4d\\u0c30\\u0c35\\u0c47\\u0c36 \\u0c2a\\u0c30\\u0c40\\u0c15\\u0c4d\\u0c37 \\u0c28\\u0c3f\\u0c30\\u0c4d\\u0c35\\u0c39\\u0c3f\\u0c38\\u0c4d\\u0c24\\u0c3e\\u0c30\\u0c41 \\u0c2a\\u0c30\\u0c40\\u0c15\\u0c4d\\u0c37\\u0c32\\u0c4b \\u0c2e\\u0c4a\\u0c24\\u0c4d\\u0c24\\u0c02 200 \\u0c2a\\u0c4d\\u0c30\\u0c36\\u0c4d\\u0c28\\u0c32\\u0c41 \\u0c09\\u0c02\\u0c1f\\u0c3e\\u0c2f\\u0c3f \\u0c2a\\u0c30\\u0c40\\u0c15\\u0c4d\\u0c37 \\u0c38\\u0c2e\\u0c2f\\u0c02 150 \\u0c28\\u0c3f\\u0c2e\\u0c3f\\u0c37\\u0c3e\\u0c32\\u0c41 \\u0c2a\\u0c30\\u0c40\\u0c15\\u0c4d\\u0c37\\u0c32\\u0c4b \\u0c2e\\u0c42\\u0c21\\u0c41 \\u0c38\\u0c46\\u0c15\\u0c4d\\u0c37\\u0c28\\u0c4d\\u0c32\\u0c41 (\\u0c38\\u0c46\\u0c15\\u0c4d\\u0c37\\u0c28\\u0c4d-\\u0c0e, \\u0c2c\\u0c3f, \\u0c38\\u0c3f) \\u0c09\\u0c02\\u0c1f\\u0c3e\\u0c2f\\u0c3f \\u0c35\\u0c40\\u0c1f\\u0c3f\\u0c32\\u0c4b \\u0c38\\u0c46\\u0c15\\u0c4d\\u0c37\\u0c28\\u0c4d-\\u0c0e: \\u0c05\\u0c28\\u0c32\\u0c3f\\u0c1f\\u0c3f\\u0c15\\u0c32\\u0c4d \\u0c0e\\u0c2c\\u0c3f\\u0c32\\u0c3f\\u0c1f\\u0c40-75 \\u0c2a\\u0c4d\\u0c30\\u0c36\\u0c4d\\u0c28\\u0c32\\u0c41-75 \\u0c2e\\u0c3e\\u0c30\\u0c4d\\u0c15\\u0c41\\u0c32\\u0c41, \\u0c38\\u0c46\\u0c15\\u0c4d\\u0c37\\u0c28\\u0c4d-\\u0c2c\\u0c3f: \\u0c2e\\u0c4d\\u0c2f\\u0c3e\\u0c25\\u0c2e\\u0c46\\u0c1f\\u0c3f\\u0c15\\u0c32\\u0c4d \\u0c0e\\u0c2c\\u0c3f\\u0c32\\u0c3f\\u0c1f\\u0c40-75 \\u0c2a\\u0c4d\\u0c30\\u0c36\\u0c4d\\u0c28\\u0c32\\u0c41-75 \\u0c2e\\u0c3e\\u0c30\\u0c4d\\u0c15\\u0c41\\u0c32\\u0c41, \\u0c38\\u0c46\\u0c15\\u0c4d\\u0c37\\u0c28\\u0c4d-\\u0c38\\u0c3f: \\u0c15\\u0c2e\\u0c4d\\u0c2f\\u0c42\\u0c28\\u0c3f\\u0c15\\u0c47\\u0c37\\u0c28\\u0c4d \\u00a0\\u0c0e\\u0c2c\\u0c3f\\u0c32\\u0c3f\\u0c1f\\u0c40-50 \\u0c2a\\u0c4d\\u0c30\\u0c36\\u0c4d\\u0c28\\u0c32\\u0c41-50 \\u0c2e\\u0c3e\\u0c30\\u0c4d\\u0c15\\u0c41\\u0c32\\u0c41 \\u0c09\\u0c02\\u0c1f\\u0c3e\\u0c2f\\u0c3fICET - \\u0c08 \\u0c15\\u0c4b\\u0c30\\u0c4d\\u0c38\\u0c41\\u0c32\\u0c24\\u0c4b \\u0c09\\u0c24\\u0c4d\\u0c24\\u0c2e \\u0c2d\\u0c35\\u0c3f\\u0c24:\\u0c0e\\u0c02\\u0c38\\u0c40\\u0c0f:\\u0c10\\u0c1f\\u0c40 \\u0c30\\u0c02\\u0c17\\u0c02\\u0c32\\u0c4b \\u0c38\\u0c4d\\u0c25\\u0c3f\\u0c30\\u0c2a\\u0c21\\u0c3e\\u0c32\\u0c28\\u0c41\\u0c15\\u0c41\\u0c28\\u0c47\\u0c35\\u0c3e\\u0c30\\u0c3f\\u0c15\\u0c3f \\u0c0e\\u0c02\\u0c38\\u0c40\\u0c0f \\u0c38\\u0c30\\u0c48\\u0c28 \\u0c0e\\u0c02\\u0c2a\\u0c3f\\u0c15 \\u0c05\\u0c28\\u0c3f \\u0c1a\\u0c46\\u0c2a\\u0c4d\\u0c2a\\u0c35\\u0c1a\\u0c4d\\u0c1a\\u0c41 \\u0c07\\u0c02\\u0c26\\u0c41\\u0c15\\u0c41 \\u0c2e\\u0c4d\\u0c2f\\u0c3e\\u0c25\\u0c4d\\u0c38\\u0c4d \\u0c2a\\u0c48 \\u0c2a\\u0c1f\\u0c4d\\u0c1f\\u0c41 \\u0c2a\\u0c4d\\u0c30\\u0c3e\\u0c15\\u0c4d\\u0c1f\\u0c3f\\u0c15\\u0c32\\u0c4d \\u0c13\\u0c30\\u0c3f\\u0c2f\\u0c02\\u0c1f\\u0c47\\u0c37\\u0c28\\u0c4d, \\u0c2a\\u0c4d\\u0c30\\u0c3e\\u0c2c\\u0c4d\\u0c32\\u0c2e\\u0c4d \\u0c38\\u0c3e\\u0c32\\u0c4d\\u0c35\\u0c3f\\u0c02\\u0c17\\u0c4d \\u0c38\\u0c4d\\u0c15\\u0c3f\\u0c32\\u0c4d\\u0c38\\u0c4d \\u0c09\\u0c28\\u0c4d\\u0c28\\u0c35\\u0c3e\\u0c30\\u0c41 \\u0c08 \\u0c30\\u0c02\\u0c17\\u0c3e\\u0c28\\u0c4d\\u0c28\\u0c47 \\u0c0e\\u0c02\\u0c1a\\u0c41\\u0c15\\u0c4b\\u0c35\\u0c1a\\u0c4d\\u0c1a\\u0c41 \\u0c07\\u0c02\\u0c26\\u0c41\\u0c32\\u0c4b \\u0c0e\\u0c15\\u0c4d\\u0c15\\u0c41\\u0c35 \\u0c1f\\u0c46\\u0c15\\u0c4d\\u0c28\\u0c3e\\u0c32\\u0c1c\\u0c40\\u0c24\\u0c4b \\u0c2a\\u0c28\\u0c3f \\u0c1a\\u0c47\\u0c2f\\u0c3e\\u0c32\\u0c4d\\u0c38\\u0c3f \\u0c09\\u0c02\\u0c1f\\u0c41\\u0c02\\u0c26\\u0c3f \\u0c15\\u0c3e\\u0c2c\\u0c1f\\u0c4d\\u0c1f\\u0c3f \\u0c1f\\u0c46\\u0c15\\u0c4d\\u0c28\\u0c3e\\u0c32\\u0c1c\\u0c40\\u0c32\\u0c4b \\u0c35\\u0c38\\u0c4d\\u0c24\\u0c41\\u0c28\\u0c4d\\u0c28 \\u0c2e\\u0c3e\\u0c30\\u0c4d\\u0c2a\\u0c41\\u0c32\\u0c15\\u0c41 \\u0c0e\\u0c2a\\u0c4d\\u0c2a\\u0c1f\\u0c3f\\u0c15\\u0c2a\\u0c4d\\u0c2a\\u0c41\\u0c21\\u0c41 \\u0c05\\u0c2a\\u0c4d\\u0c21\\u0c47\\u0c1f\\u0c4d \\u0c05\\u0c35\\u0c41\\u0c24\\u0c42 \\u0c26\\u0c3e\\u0c28\\u0c3f\\u0c2a\\u0c48 \\u0c05\\u0c35\\u0c17\\u0c3e\\u0c39\\u0c28 \\u0c05\\u0c27\\u0c4d\\u0c2f\\u0c2f\\u0c28\\u0c02 \\u0c1a\\u0c47\\u0c2f\\u0c17\\u0c32\\u0c17\\u0c3e\\u0c32\\u0c3f \\u0c2a\\u0c4d\\u0c30\\u0c38\\u0c4d\\u0c24\\u0c41\\u0c24\\u0c02 \\u0c2e\\u0c3e\\u0c30\\u0c4d\\u0c15\\u0c46\\u0c1f\\u0c4d\\u0c32\\u0c4b \\u0c15\\u0c2e\\u0c4d\\u0c2f\\u0c42\\u0c28\\u0c3f\\u0c15\\u0c47\\u0c37\\u0c28\\u0c4d \\u0c38\\u0c4d\\u0c15\\u0c3f\\u0c32\\u0c4d\\u0c38\\u0c4d \\u0c09\\u0c28\\u0c4d\\u0c28 \\u0c05\\u0c2d\\u0c4d\\u0c2f\\u0c30\\u0c4d\\u0c25\\u0c41\\u0c32\\u0c15\\u0c41 \\u0c0e\\u0c15\\u0c4d\\u0c15\\u0c41\\u0c35\\u0c17\\u0c3e \\u0c05\\u0c35\\u0c15\\u0c3e\\u0c36\\u0c3e\\u0c32\\u0c41 \\u0c32\\u0c2d\\u0c3f\\u0c38\\u0c4d\\u0c24\\u0c41\\u0c28\\u0c4d\\u0c28\\u0c3e\\u0c2f\\u0c3f \\u0c0e\\u0c02\\u0c38\\u0c40\\u0c0f \\u0c2a\\u0c42\\u0c30\\u0c4d\\u0c24\\u0c3f \\u0c1a\\u0c47\\u0c38\\u0c41\\u0c15\\u0c41\\u0c28\\u0c4d\\u0c28 \\u0c35\\u0c3e\\u0c30\\u0c3f\\u0c15\\u0c3f \\u0c2a\\u0c4d\\u0c30\\u0c27\\u0c3e\\u0c28\\u0c02\\u0c17\\u0c3e \\u0c09\\u0c2a\\u0c3e\\u0c27\\u0c3f \\u0c15\\u0c32\\u0c4d\\u0c2a\\u0c3f\\u0c02\\u0c1a\\u0c47\\u0c26\\u0c3f \\u0c38\\u0c3e\\u0c2b\\u0c4d\\u0c1f\\u0c4d \\u0c35\\u0c47\\u0c30\\u0c4d \\u0c30\\u0c02\\u0c17\\u0c2e\\u0c47 \\u0c08 \\u0c15\\u0c4b\\u0c30\\u0c4d\\u0c38\\u0c4d \\u0c32\\u0c4b \\u0c1a\\u0c47\\u0c30\\u0c3f\\u0c28\\u0c2a\\u0c4d\\u0c2a\\u0c1f\\u0c3f \\u0c28\\u0c41\\u0c02\\u0c1a\\u0c47 \\u0c2a\\u0c4d\\u0c30\\u0c4b\\u0c17\\u0c4d\\u0c30\\u0c3e\\u0c2e\\u0c3f\\u0c02\\u0c17\\u0c4d, \\u0c28\\u0c48\\u0c2a\\u0c41\\u0c23\\u0c4d\\u0c2f\\u0c3e\\u0c32\\u0c2a\\u0c48 \\u0c26\\u0c43\\u0c37\\u0c4d\\u0c1f\\u0c3f \\u0c38\\u0c3e\\u0c30\\u0c3f\\u0c02\\u0c1a\\u0c3e\\u0c32\\u0c3f \\u0c08 \\u0c30\\u0c02\\u0c17\\u0c02\\u0c32\\u0c4b \\u0c35\\u0c38\\u0c4d\\u0c24\\u0c41\\u0c28\\u0c4d\\u0c28 \\u0c28\\u0c42\\u0c24\\u0c28 \\u0c06\\u0c35\\u0c3f\\u0c37\\u0c4d\\u0c15\\u0c30\\u0c23\\u0c32\\u0c41, \\u0c2a\\u0c30\\u0c3f\\u0c36\\u0c4b\\u0c27\\u0c28\\u0c32\\u0c41 \\u0c0e\\u0c2a\\u0c4d\\u0c2a\\u0c1f\\u0c3f\\u0c15\\u0c2a\\u0c4d\\u0c2a\\u0c41\\u0c21\\u0c41 \\u0c2c\\u0c47\\u0c30\\u0c40\\u0c1c\\u0c41 \\u0c35\\u0c47\\u0c38\\u0c41\\u0c15\\u0c4b\\u0c35\\u0c3e\\u0c32\\u0c3f\\u0c1c\\u0c3e\\u0c2c\\u0c4d \\u0c2e\\u0c3e\\u0c30\\u0c4d\\u0c15\\u0c46\\u0c1f\\u0c4d\\u0c32\\u0c4b \\u0c2c\\u0c40\\u0c1f\\u0c46\\u0c15\\u0c4d\\u200c\\u0c24\\u0c4b \\u0c2a\\u0c4b\\u0c1f\\u0c40 \\u0c2a\\u0c21\\u0c3e\\u0c32\\u0c4d\\u0c38\\u0c3f \\u0c09\\u0c02\\u0c1f\\u0c41\\u0c02\\u0c26\\u0c3f\",\n          \" \\u0c05\\u0c28\\u0c41\\u0c2e\\u0c24\\u0c3f \\u0c32\\u0c47\\u0c15\\u0c41\\u0c02\\u0c21\\u0c3e \\u0c38\\u0c30\\u0c3f\\u0c39\\u0c26\\u0c4d\\u0c26\\u0c41 \\u0c26\\u0c3e\\u0c1f\\u0c47\\u0c02\\u0c26\\u0c41\\u0c15\\u0c41 \\u0c2a\\u0c4d\\u0c30\\u0c2f\\u0c24\\u0c4d\\u0c28\\u0c3f\\u0c02\\u0c1a\\u0c35\\u0c26\\u0c4d\\u0c26\\u0c41 \\u00a0 \\u00a0 \\u00a0 \\u00a0 \\u00a0Ukrainian commander courageously promises that he will not give up his land [full English translation below]#ukraine #war #russianinvasion pictwittercom/MdMRm3KaqM\\n\\r\\n\\u00a0 \\u00a0 \\u00a0 \\u00a0 \\u00a0 \\u00a0 \\u00a0 \\u00a0 \\u00a0[/quote]\\u0c15\\u0c40\\u0c35\\u0c4d \\u0c38\\u0c2e\\u0c40\\u0c2a\\u0c02\\u0c32\\u0c4bRussian army invading Ukraine from Belarus Senkivka border checkpoint #ukraine #war pictwitter\",\n          \" \\u0c06 \\u0c24\\u0c30\\u0c4d\\u0c35\\u0c3e\\u0c24 \\u0c2e\\u0c30\\u0c4b\\u0c38\\u0c3e\\u0c30\\u0c3f \\u0c2e\\u0c39\\u0c47\\u0c02\\u0c26\\u0c4d\\u0c30 \\u0c38\\u0c3f\\u0c02\\u0c17\\u0c4d \\u0c27\\u0c4b\\u0c28\\u0c40 \\u0c1c\\u0c1f\\u0c4d\\u0c1f\\u0c41\\u0c15\\u0c41 \\u0c28\\u0c3e\\u0c2f\\u0c15\\u0c24\\u0c4d\\u0c35\\u0c02 \\u0c35\\u0c39\\u0c3f\\u0c02\\u0c1a\\u0c3e\\u0c21\\u0c41\\u0c05\\u0c2f\\u0c3f\\u0c24\\u0c47 \\u0c2e\\u0c39\\u0c47\\u0c02\\u0c26\\u0c4d\\u0c30 \\u0c38\\u0c3f\\u0c02\\u0c17\\u0c4d \\u0c27\\u0c4b\\u0c28\\u0c3f \\u0c24\\u0c30\\u0c4d\\u0c35\\u0c3e\\u0c24 \\u0c2c\\u0c46\\u0c28\\u0c4d \\u0c38\\u0c4d\\u0c1f\\u0c4b\\u0c15\\u0c4d\\u0c38\\u0c4d \\u0c1a\\u0c46\\u0c28\\u0c4d\\u0c28\\u0c48 \\u0c38\\u0c42\\u0c2a\\u0c30\\u0c4d \\u0c15\\u0c3f\\u0c02\\u0c17\\u0c4d\\u0c38\\u0c4d\\u200c\\u0c15\\u0c41 \\u0c15\\u0c46\\u0c2a\\u0c4d\\u0c1f\\u0c46\\u0c28\\u0c4d\\u200c\\u0c17\\u0c3e \\u0c09\\u0c02\\u0c21\\u0c17\\u0c32\\u0c21\\u0c28\\u0c3f \\u0c2d\\u0c3e\\u0c35\\u0c3f\\u0c38\\u0c4d\\u0c24\\u0c41\\u0c28\\u0c4d\\u0c28\\u0c3e\\u0c30\\u0c41 \\u0c28\\u0c3f\\u0c1c\\u0c3e\\u0c28\\u0c3f\\u0c15\\u0c3f \\u0c07\\u0c02\\u0c17\\u0c4d\\u0c32\\u0c02\\u0c21\\u0c4d \\u0c1f\\u0c46\\u0c38\\u0c4d\\u0c1f\\u0c41 \\u0c1c\\u0c1f\\u0c4d\\u0c1f\\u0c41\\u0c15\\u0c41 \\u0c2c\\u0c46\\u0c28\\u0c4d \\u0c38\\u0c4d\\u0c1f\\u0c4b\\u0c15\\u0c4d\\u0c38\\u0c4d \\u0c15\\u0c46\\u0c2a\\u0c4d\\u0c1f\\u0c46\\u0c28\\u0c4d \\u0c08 \\u0c06\\u0c32\\u0c4d \\u0c30\\u0c4c\\u0c02\\u0c21\\u0c30\\u0c4d \\u0c24\\u0c28 \\u0c15\\u0c46\\u0c2a\\u0c4d\\u0c1f\\u0c46\\u0c28\\u0c4d\\u0c38\\u0c40\\u0c24\\u0c4b \\u0c0e\\u0c02\\u0c24\\u0c17\\u0c3e\\u0c28\\u0c4b \\u0c06\\u0c15\\u0c1f\\u0c4d\\u0c1f\\u0c41\\u0c15\\u0c41\\u0c28\\u0c4d\\u0c28\\u0c3e\\u0c21\\u0c41 \\u0c08 \\u0c15\\u0c3e\\u0c30\\u0c23\\u0c02\\u0c17\\u0c3e \\u0c1a\\u0c46\\u0c28\\u0c4d\\u0c28\\u0c48 \\u0c38\\u0c42\\u0c2a\\u0c30\\u0c4d \\u0c15\\u0c3f\\u0c02\\u0c17\\u0c4d\\u0c38\\u0c4d \\u0c24\\u0c26\\u0c41\\u0c2a\\u0c30\\u0c3f \\u0c15\\u0c46\\u0c2a\\u0c4d\\u0c1f\\u0c46\\u0c28\\u0c4d \\u0c30\\u0c47\\u0c38\\u0c41\\u0c32\\u0c4b \\u0c2e\\u0c39\\u0c47\\u0c02\\u0c26\\u0c4d\\u0c30 \\u0c38\\u0c3f\\u0c02\\u0c17\\u0c4d \\u0c27\\u0c4b\\u0c28\\u0c3f \\u0c24\\u0c30\\u0c4d\\u0c35\\u0c3e\\u0c24, \\u0c2c\\u0c46\\u0c28\\u0c4d \\u0c38\\u0c4d\\u0c1f\\u0c4b\\u0c15\\u0c4d\\u0c38\\u0c4d \\u0c2e\\u0c41\\u0c02\\u0c26\\u0c41\\u0c28\\u0c4d\\u0c28\\u0c3e\\u0c21\\u0c28\\u0c3f \\u0c05\\u0c02\\u0c1a\\u0c28\\u0c3e \\u0c35\\u0c47\\u0c38\\u0c4d\\u0c24\\u0c41\\u0c28\\u0c4d\\u0c28\\u0c3e\\u0c30\\u0c41 \\u0c05\\u0c2f\\u0c3f\\u0c24\\u0c47, \\u0c10\\u0c2a\\u0c40\\u0c0e\\u0c32\\u0c4d\\u200c\\u0c32\\u0c4b \\u0c05\\u0c24\\u0c4d\\u0c2f\\u0c02\\u0c24 \\u0c35\\u0c3f\\u0c1c\\u0c2f\\u0c35\\u0c02\\u0c24\\u0c2e\\u0c48\\u0c28 \\u0c1c\\u0c1f\\u0c4d\\u0c32\\u0c32\\u0c4b \\u0c12\\u0c15\\u0c1f\\u0c48\\u0c28 \\u0c1a\\u0c46\\u0c28\\u0c4d\\u0c28\\u0c48 \\u0c38\\u0c42\\u0c2a\\u0c30\\u0c4d \\u0c15\\u0c3f\\u0c02\\u0c17\\u0c4d\\u0c38\\u0c4d \\u0c0f \\u0c06\\u0c1f\\u0c17\\u0c3e\\u0c21\\u0c3f\\u0c28\\u0c3f \\u0c0e\\u0c02\\u0c1a\\u0c41\\u0c15\\u0c41\\u0c02\\u0c1f\\u0c3e\\u0c30\\u0c28\\u0c47\\u0c26\\u0c3f \\u0c06\\u0c38\\u0c15\\u0c4d\\u0c24\\u0c3f\\u0c15\\u0c30\\u0c02\\u0c17\\u0c3e \\u0c2e\\u0c3e\\u0c30\\u0c3f\\u0c02\\u0c26\\u0c3f\\u0c2c\\u0c46\\u0c28\\u0c4d \\u0c38\\u0c4d\\u0c1f\\u0c4b\\u0c15\\u0c4d\\u0c38\\u0c4d \\u0c10\\u0c2a\\u0c40\\u0c0e\\u0c32\\u0c4d \\u0c1a\\u0c3f\\u0c35\\u0c30\\u0c3f \\u0c26\\u0c36\\u0c32\\u0c15\\u0c41 \\u0c05\\u0c02\\u0c26\\u0c41\\u0c2c\\u0c3e\\u0c1f\\u0c41\\u0c32\\u0c4b \\u0c09\\u0c02\\u0c21\\u0c2c\\u0c4b\\u0c21\\u0c28\\u0c3f \\u0c07\\u0c2a\\u0c4d\\u0c2a\\u0c1f\\u0c3f\\u0c15\\u0c47 \\u0c15\\u0c41\\u0c02\\u0c21 \\u0c2c\\u0c26\\u0c4d\\u0c26\\u0c32\\u0c41 \\u0c15\\u0c4a\\u0c1f\\u0c4d\\u0c1f\\u0c47\\u0c38\\u0c3f\\u0c28\\u0c1f\\u0c4d\\u0c32\\u0c41 \\u0c1a\\u0c46\\u0c2a\\u0c4d\\u0c2a\\u0c3e\\u0c21\\u0c41 \\u0c2f\\u0c3e\\u0c37\\u0c46\\u0c38\\u0c4d\\u200c \\u0c38\\u0c3f\\u0c30\\u0c40\\u0c38\\u0c4d\\u200c\\u0c15\\u0c41 \\u0c38\\u0c28\\u0c4d\\u0c28\\u0c26\\u0c4d\\u0c27\\u0c02 \\u0c15\\u0c3e\\u0c35\\u0c3e\\u0c32\\u0c28\\u0c47 \\u0c06\\u0c32\\u0c4b\\u0c1a\\u0c28\\u0c28\\u0c41 \\u0c2c\\u0c46\\u0c28\\u0c4d \\u0c38\\u0c4d\\u0c1f\\u0c4b\\u0c15\\u0c4d\\u0c38\\u0c4d \\u0c07\\u0c2a\\u0c4d\\u0c2a\\u0c1f\\u0c3f\\u0c15\\u0c47 \\u0c35\\u0c46\\u0c32\\u0c4d\\u0c32\\u0c21\\u0c3f\\u0c02\\u0c1a\\u0c3e\\u0c21\\u0c41 \\u0c07\\u0c1f\\u0c41\\u0c35\\u0c02\\u0c1f\\u0c3f \\u0c2a\\u0c30\\u0c3f\\u0c38\\u0c4d\\u0c25\\u0c3f\\u0c24\\u0c3f\\u0c32\\u0c4b \\u0c1a\\u0c46\\u0c28\\u0c4d\\u0c28\\u0c48 \\u0c38\\u0c42\\u0c2a\\u0c30\\u0c4d \\u0c15\\u0c3f\\u0c02\\u0c17\\u0c4d\\u0c38\\u0c4d \\u0c2b\\u0c48\\u0c28\\u0c32\\u0c4d\\u200c\\u0c15\\u0c41 \\u0c1a\\u0c47\\u0c30\\u0c3f\\u0c24\\u0c47 \\u0c06\\u0c16\\u0c30\\u0c3f \\u0c2e\\u0c4d\\u0c2f\\u0c3e\\u0c1a\\u0c4d \\u0c06\\u0c21\\u0c24\\u0c3e\\u0c21\\u0c3e? \\u0c05\\u0c28\\u0c3f \\u0c2c\\u0c46\\u0c28\\u0c4d \\u0c38\\u0c4d\\u0c1f\\u0c4b\\u0c15\\u0c4d\\u0c38\\u0c4d\\u200c\\u0c15\\u0c41 \\u0c2a\\u0c4d\\u0c30\\u0c36\\u0c4d\\u0c28 \\u0c0e\\u0c26\\u0c41\\u0c30\\u0c48\\u0c02\\u0c26\\u0c3f\"\n        ],\n        \"semantic_type\": \"\",\n        \"description\": \"\"\n      }\n    }\n  ]\n}"
            }
          },
          "metadata": {},
          "execution_count": 11
        }
      ]
    },
    {
      "cell_type": "markdown",
      "source": [
        "# Preprocessing with transformers"
      ],
      "metadata": {
        "id": "MiCJrhH8RObG"
      }
    },
    {
      "cell_type": "code",
      "source": [
        "from transformers import BertTokenizer, BertModel"
      ],
      "metadata": {
        "id": "GKTD4GfuXYy0"
      },
      "execution_count": null,
      "outputs": []
    },
    {
      "cell_type": "code",
      "source": [
        "PRE_TRAINED_MODEL_NAME = 'bert-base-multilingual-cased'"
      ],
      "metadata": {
        "id": "WGCtLbViSGC3"
      },
      "execution_count": null,
      "outputs": []
    },
    {
      "cell_type": "code",
      "source": [
        "tokenizer = BertTokenizer.from_pretrained(PRE_TRAINED_MODEL_NAME)\n",
        "mbert_model = BertModel.from_pretrained(PRE_TRAINED_MODEL_NAME)"
      ],
      "metadata": {
        "colab": {
          "base_uri": "https://localhost:8080/",
          "height": 281,
          "referenced_widgets": [
            "a25bf9c40b704fb6a5779578b7723f6e",
            "e36b07f65fa74c6bbfbe23deca3182aa",
            "815ca9835f6145378f3e5aa9228667a0",
            "54a56f3f3c9f4c0c8f8847bc56607ccf",
            "c4face41bac24197a9cf6baee9dda52e",
            "7d0583f710af4bde8bb87f39f3b526ba",
            "e02bf868211243938749488893fc2a14",
            "b213a87041754432a99c9b0036c1518a",
            "c7f235f344064b11ad36cb6c6b4a6e4f",
            "b32c814cf0c84b52aba01c58b395de46",
            "148b7cdcf9314ab8830583fc7dd286a2",
            "cc600a8a36194646b7189c51ba1bd1b1",
            "950569d7e84947aea98e6cf251db5008",
            "cc4abf699ccc4a33829194ffaff810f7",
            "89e32671c7ff4d9f853905c55d323cd5",
            "3a29166be86b4f12802212c4f12bcd00",
            "c6bc8db6b9654a698c6addf5bb48eea1",
            "6a4319b6ab2c49cfa01b98b88c9406b3",
            "15354135ff1742eabba001dfdf9fb218",
            "e025f1754c9f4927a58279d8febbb577",
            "17921811f66149d5a2bde9ae06378015",
            "5760fb57e26d4c5f876b4e43d0e534b7",
            "1c66f344ca1449e8b61073d61d011ab7",
            "ae4a7c300ef54c3891d20acce654e703",
            "9020230c52e9461b99aaa13b3e132ca7",
            "a12f7cc8976f4fafb9eb0d6b80667bab",
            "a4e60da4c6d24279847d8eedeb68fe56",
            "ad858b94c58245df98f801192e079950",
            "2d70c231371546468c4320833aa6d9e8",
            "b38eaa1e3bce47be88a776b6de264240",
            "28829cabaae941308159b3ab77de0ba9",
            "8d422eac4a2b4547813e42a70664410a",
            "10607d8e19f649eaa94ac7d692168cf5",
            "c41d3354756c4a1e9f54f8dc8b2e22cf",
            "931b61ead1b14621ab3b6f152e652bde",
            "983652809ed8463ab8fd7a0021b7d52c",
            "e5ffec1b63884b818baf1a9c7a5391c4",
            "e7abfe4e69e340d38792020b4caaa390",
            "7b094c03f4d64b749185412bee1ae089",
            "14c9bbb922494356b5e9ae306378b9ee",
            "85b3db9005a949f5a3673ec6c1470250",
            "8381753b2dc04c7b92adf80b3f5e19d6",
            "cc9ac0e76c5743e78a02d98d2283640f",
            "a585902ba4954c7a987beea799b03176",
            "cee2e4a670c7412d90637bff471f5f92",
            "2494dc38155443769f7d06f7c84d80cf",
            "3937a293057a49b4a559ca5523a8911a",
            "4790ed551bf54a88bbe854022d3e0cfd",
            "8053c7defd524468907ae574e2bdd889",
            "96b6a91141d647158b213ccf4d704956",
            "c3775b53628047ec8eec83c4c0303779",
            "39fd0572dc4c40ef9b5fe5e57da061dd",
            "e47afcce675c4c05ba3643284b03b526",
            "4fde9b155db54e68ba9be2072f9988ed",
            "7749337913ba44bcbe757d82dc950274"
          ]
        },
        "id": "-1-0FchCSoAh",
        "outputId": "05760fcd-80d1-4b9a-fdd7-5d647e71ee22"
      },
      "execution_count": null,
      "outputs": [
        {
          "output_type": "stream",
          "name": "stderr",
          "text": [
            "/usr/local/lib/python3.10/dist-packages/huggingface_hub/utils/_token.py:89: UserWarning: \n",
            "The secret `HF_TOKEN` does not exist in your Colab secrets.\n",
            "To authenticate with the Hugging Face Hub, create a token in your settings tab (https://huggingface.co/settings/tokens), set it as secret in your Google Colab and restart your session.\n",
            "You will be able to reuse this secret in all of your notebooks.\n",
            "Please note that authentication is recommended but still optional to access public models or datasets.\n",
            "  warnings.warn(\n"
          ]
        },
        {
          "output_type": "display_data",
          "data": {
            "text/plain": [
              "tokenizer_config.json:   0%|          | 0.00/49.0 [00:00<?, ?B/s]"
            ],
            "application/vnd.jupyter.widget-view+json": {
              "version_major": 2,
              "version_minor": 0,
              "model_id": "a25bf9c40b704fb6a5779578b7723f6e"
            }
          },
          "metadata": {}
        },
        {
          "output_type": "display_data",
          "data": {
            "text/plain": [
              "vocab.txt:   0%|          | 0.00/996k [00:00<?, ?B/s]"
            ],
            "application/vnd.jupyter.widget-view+json": {
              "version_major": 2,
              "version_minor": 0,
              "model_id": "cc600a8a36194646b7189c51ba1bd1b1"
            }
          },
          "metadata": {}
        },
        {
          "output_type": "display_data",
          "data": {
            "text/plain": [
              "tokenizer.json:   0%|          | 0.00/1.96M [00:00<?, ?B/s]"
            ],
            "application/vnd.jupyter.widget-view+json": {
              "version_major": 2,
              "version_minor": 0,
              "model_id": "1c66f344ca1449e8b61073d61d011ab7"
            }
          },
          "metadata": {}
        },
        {
          "output_type": "display_data",
          "data": {
            "text/plain": [
              "config.json:   0%|          | 0.00/625 [00:00<?, ?B/s]"
            ],
            "application/vnd.jupyter.widget-view+json": {
              "version_major": 2,
              "version_minor": 0,
              "model_id": "c41d3354756c4a1e9f54f8dc8b2e22cf"
            }
          },
          "metadata": {}
        },
        {
          "output_type": "display_data",
          "data": {
            "text/plain": [
              "model.safetensors:   0%|          | 0.00/714M [00:00<?, ?B/s]"
            ],
            "application/vnd.jupyter.widget-view+json": {
              "version_major": 2,
              "version_minor": 0,
              "model_id": "cee2e4a670c7412d90637bff471f5f92"
            }
          },
          "metadata": {}
        }
      ]
    },
    {
      "cell_type": "code",
      "source": [
        "# sample_txt = 'मेरी आणि सामंथा बस स्थानकावर लवकर पोहोचल्या पण दुपारपर्यंत बसची वाट पाहत बसले'\n",
        "sample_txt = 'టీ కప్పుతో పాటు చాలా మంది డైజెస్టివ్ బిస్కెట్స్ కూడా పెట్టుకుని తింటారు. తక్కువ కేలరీలు, అధిక ఫైబర్ ప్రత్యామ్నాయాలుగా ఉండే ఈ కుకీస్ ఆరోగ్యానికి మంచిదని భావిస్తారు.'"
      ],
      "metadata": {
        "id": "DSG3e5IOSqQS"
      },
      "execution_count": null,
      "outputs": []
    },
    {
      "cell_type": "code",
      "source": [
        "\n",
        "\n",
        "tokens = tokenizer.tokenize(sample_txt)\n",
        "token_ids = tokenizer.convert_tokens_to_ids(tokens)\n",
        "\n",
        "print(f' Sentence: {sample_txt}')\n",
        "print(f'   Tokens: {tokens}')\n",
        "print(f'Token IDs: {token_ids}')\n",
        "\n"
      ],
      "metadata": {
        "colab": {
          "base_uri": "https://localhost:8080/"
        },
        "id": "v-XPV5KJSrud",
        "outputId": "afbb474e-ecdb-411d-a3e1-557c79c2adb5"
      },
      "execution_count": null,
      "outputs": [
        {
          "output_type": "stream",
          "name": "stdout",
          "text": [
            " Sentence: టీ కప్పుతో పాటు చాలా మంది డైజెస్టివ్ బిస్కెట్స్ కూడా పెట్టుకుని తింటారు. తక్కువ కేలరీలు, అధిక ఫైబర్ ప్రత్యామ్నాయాలుగా ఉండే ఈ కుకీస్ ఆరోగ్యానికి మంచిదని భావిస్తారు.\n",
            "   Tokens: ['ట', '##ీ', 'క', '##ప్', '##పు', '##తో', 'పాటు', 'చాలా', 'మంది', 'డ', '##ై', '##జ', '##ెస్', '##టి', '##వ్', 'బి', '##స్', '##క', '##ెట్', '##స్', 'కూడా', 'ప', '##ెట్', '##టు', '##కుని', 'త', '##ి', '##ంటారు', '.', 'తక్కువ', 'క', '##ే', '##ల', '##రీ', '##లు', ',', 'అ', '##ధిక', 'ఫ', '##ై', '##బర్', 'ప్రత్యామ్నాయ', '##ాలు', '##గా', 'ఉండే', 'ఈ', 'కు', '##క', '##ీ', '##స్', 'ఆరోగ్య', '##ానికి', 'మంచి', '##ద', '##ని', 'భ', '##ా', '##వి', '##స్తారు', '.']\n",
            "Token IDs: [1210, 18564, 1201, 50445, 23268, 19637, 22095, 44538, 55935, 1212, 34479, 87978, 72799, 23436, 79166, 32523, 15370, 15280, 78820, 15370, 14895, 1220, 78820, 27977, 83997, 1215, 15868, 79350, 119, 101817, 1201, 17729, 13302, 40686, 12164, 117, 1188, 73140, 1221, 34479, 81085, 40134, 20205, 12540, 108746, 1191, 68035, 15280, 18564, 15370, 18557, 31397, 102796, 41772, 13907, 1223, 15735, 21993, 36248, 119]\n"
          ]
        }
      ]
    },
    {
      "cell_type": "code",
      "source": [
        "print(tokenizer.sep_token, tokenizer.sep_token_id)\n",
        "print(tokenizer.cls_token, tokenizer.cls_token_id)\n",
        "print(tokenizer.pad_token, tokenizer.pad_token_id)\n",
        "print(tokenizer.unk_token, tokenizer.unk_token_id)"
      ],
      "metadata": {
        "colab": {
          "base_uri": "https://localhost:8080/"
        },
        "id": "bz7lIAYmStFW",
        "outputId": "cc8ce222-3899-4efa-8e4d-9ae270dcea9f"
      },
      "execution_count": null,
      "outputs": [
        {
          "output_type": "stream",
          "name": "stdout",
          "text": [
            "[SEP] 102\n",
            "[CLS] 101\n",
            "[PAD] 0\n",
            "[UNK] 100\n"
          ]
        }
      ]
    },
    {
      "cell_type": "code",
      "source": [
        "\n",
        "\n",
        "encoding = tokenizer.encode_plus(\n",
        "  sample_txt,\n",
        "  max_length=32, # Max no. of tokens\n",
        "  add_special_tokens=True, # Add '[CLS]' and '[SEP]'\n",
        "  pad_to_max_length=True,\n",
        "  return_tensors='pt',  # Return PyTorch tensors\n",
        ")\n",
        "\n",
        "encoding.keys()\n",
        "\n"
      ],
      "metadata": {
        "id": "UZbOPMb8S0pe",
        "colab": {
          "base_uri": "https://localhost:8080/"
        },
        "outputId": "22ee010c-e234-4376-a25e-381a508b8b04"
      },
      "execution_count": null,
      "outputs": [
        {
          "output_type": "stream",
          "name": "stderr",
          "text": [
            "Truncation was not explicitly activated but `max_length` is provided a specific value, please use `truncation=True` to explicitly truncate examples to max length. Defaulting to 'longest_first' truncation strategy. If you encode pairs of sequences (GLUE-style) with the tokenizer you can select this strategy more precisely by providing a specific strategy to `truncation`.\n",
            "/usr/local/lib/python3.10/dist-packages/transformers/tokenization_utils_base.py:2760: FutureWarning: The `pad_to_max_length` argument is deprecated and will be removed in a future version, use `padding=True` or `padding='longest'` to pad to the longest sequence in the batch, or use `padding='max_length'` to pad to a max length. In this case, you can give a specific length with `max_length` (e.g. `max_length=45`) or leave max_length to None to pad to the maximal input size of the model (e.g. 512 for Bert).\n",
            "  warnings.warn(\n"
          ]
        },
        {
          "output_type": "execute_result",
          "data": {
            "text/plain": [
              "dict_keys(['input_ids', 'token_type_ids', 'attention_mask'])"
            ]
          },
          "metadata": {},
          "execution_count": 18
        }
      ]
    },
    {
      "cell_type": "code",
      "source": [
        "print(len(encoding['input_ids'][0]))\n",
        "encoding['input_ids']"
      ],
      "metadata": {
        "id": "Qg7ggFc1S2NK",
        "colab": {
          "base_uri": "https://localhost:8080/"
        },
        "outputId": "ac3c9d35-8c93-431f-d1c7-9e8ae5fc690e"
      },
      "execution_count": null,
      "outputs": [
        {
          "output_type": "stream",
          "name": "stdout",
          "text": [
            "32\n"
          ]
        },
        {
          "output_type": "execute_result",
          "data": {
            "text/plain": [
              "tensor([[   101,   1210,  18564,   1201,  50445,  23268,  19637,  22095,  44538,\n",
              "          55935,   1212,  34479,  87978,  72799,  23436,  79166,  32523,  15370,\n",
              "          15280,  78820,  15370,  14895,   1220,  78820,  27977,  83997,   1215,\n",
              "          15868,  79350,    119, 101817,    102]])"
            ]
          },
          "metadata": {},
          "execution_count": 19
        }
      ]
    },
    {
      "cell_type": "code",
      "source": [
        "tokenizer.convert_ids_to_tokens(encoding['input_ids'][0])"
      ],
      "metadata": {
        "id": "LIH_xNWhS_Jg",
        "colab": {
          "base_uri": "https://localhost:8080/"
        },
        "outputId": "0fd24729-edb5-4579-af5e-3aab80cdf72e"
      },
      "execution_count": null,
      "outputs": [
        {
          "output_type": "execute_result",
          "data": {
            "text/plain": [
              "['[CLS]',\n",
              " 'ట',\n",
              " '##ీ',\n",
              " 'క',\n",
              " '##ప్',\n",
              " '##పు',\n",
              " '##తో',\n",
              " 'పాటు',\n",
              " 'చాలా',\n",
              " 'మంది',\n",
              " 'డ',\n",
              " '##ై',\n",
              " '##జ',\n",
              " '##ెస్',\n",
              " '##టి',\n",
              " '##వ్',\n",
              " 'బి',\n",
              " '##స్',\n",
              " '##క',\n",
              " '##ెట్',\n",
              " '##స్',\n",
              " 'కూడా',\n",
              " 'ప',\n",
              " '##ెట్',\n",
              " '##టు',\n",
              " '##కుని',\n",
              " 'త',\n",
              " '##ి',\n",
              " '##ంటారు',\n",
              " '.',\n",
              " 'తక్కువ',\n",
              " '[SEP]']"
            ]
          },
          "metadata": {},
          "execution_count": 20
        }
      ]
    },
    {
      "cell_type": "code",
      "source": [
        "token_lens = []\n",
        "for txt in tqdm(df_train.News):\n",
        "  tokens = tokenizer.encode(txt, max_length=512)\n",
        "  token_lens.append(len(tokens))"
      ],
      "metadata": {
        "colab": {
          "base_uri": "https://localhost:8080/"
        },
        "id": "y6ezNEkWTA9W",
        "outputId": "1314ff5a-4b14-4ee1-aa9e-3214b9ae0874"
      },
      "execution_count": null,
      "outputs": [
        {
          "output_type": "stream",
          "name": "stderr",
          "text": [
            "100%|██████████| 21103/21103 [04:21<00:00, 80.81it/s]\n"
          ]
        }
      ]
    },
    {
      "cell_type": "code",
      "source": [
        "sns.distplot(token_lens)\n",
        "plt.xlim([0, 800]);\n",
        "plt.xlabel('Token count');\n",
        "plt.show()"
      ],
      "metadata": {
        "colab": {
          "base_uri": "https://localhost:8080/",
          "height": 901
        },
        "id": "cb0h1WmTTmtZ",
        "outputId": "fc18016f-c62f-4a19-a723-84c65fbe954d"
      },
      "execution_count": null,
      "outputs": [
        {
          "output_type": "stream",
          "name": "stderr",
          "text": [
            "<ipython-input-22-696b91674509>:1: UserWarning: \n",
            "\n",
            "`distplot` is a deprecated function and will be removed in seaborn v0.14.0.\n",
            "\n",
            "Please adapt your code to use either `displot` (a figure-level function with\n",
            "similar flexibility) or `histplot` (an axes-level function for histograms).\n",
            "\n",
            "For a guide to updating your code to use the new functions, please see\n",
            "https://gist.github.com/mwaskom/de44147ed2974457ad6372750bbe5751\n",
            "\n",
            "  sns.distplot(token_lens)\n"
          ]
        },
        {
          "output_type": "display_data",
          "data": {
            "text/plain": [
              "<Figure size 1200x800 with 1 Axes>"
            ],
            "image/png": "[encoded data removed]"
          },
          "metadata": {
            "image/png": {
              "width": 1046,
              "height": 693
            }
          }
        }
      ]
    },
    {
      "cell_type": "code",
      "source": [
        "encoded_input = encoding\n",
        "output = mbert_model(**encoded_input)"
      ],
      "metadata": {
        "id": "o_GhZUryWDpW"
      },
      "execution_count": null,
      "outputs": []
    },
    {
      "cell_type": "code",
      "source": [
        "output.keys()"
      ],
      "metadata": {
        "id": "Q4rvD-LhXz9-",
        "colab": {
          "base_uri": "https://localhost:8080/"
        },
        "outputId": "f4937005-0c24-46ad-b002-d5ec69c39cca"
      },
      "execution_count": null,
      "outputs": [
        {
          "output_type": "execute_result",
          "data": {
            "text/plain": [
              "odict_keys(['last_hidden_state', 'pooler_output'])"
            ]
          },
          "metadata": {},
          "execution_count": 24
        }
      ]
    },
    {
      "cell_type": "code",
      "source": [
        "encoded_input['input_ids'].shape"
      ],
      "metadata": {
        "id": "ZMAMTdRcWiWM",
        "colab": {
          "base_uri": "https://localhost:8080/"
        },
        "outputId": "640d6303-e421-4611-e98c-d1c59685f638"
      },
      "execution_count": null,
      "outputs": [
        {
          "output_type": "execute_result",
          "data": {
            "text/plain": [
              "torch.Size([1, 32])"
            ]
          },
          "metadata": {},
          "execution_count": 25
        }
      ]
    },
    {
      "cell_type": "code",
      "source": [
        "MAX_LEN = 160"
      ],
      "metadata": {
        "id": "arGFeZvZT7ao"
      },
      "execution_count": null,
      "outputs": []
    },
    {
      "cell_type": "code",
      "source": [
        "class GPReviewDataset(Dataset):\n",
        "\n",
        "  def __init__(self, text, targets, tokenizer, max_len):\n",
        "    self.text = text\n",
        "    self.targets = targets\n",
        "    self.tokenizer = tokenizer\n",
        "    self.max_len = max_len\n",
        "\n",
        "  def __len__(self):\n",
        "    return len(self.text)\n",
        "\n",
        "  def __getitem__(self, item):\n",
        "    text = str(self.text[item])\n",
        "    target = self.targets[item]\n",
        "\n",
        "    encoded_text = self.tokenizer.encode_plus(\n",
        "      text,\n",
        "      # add_special_tokens=True,\n",
        "      max_length=self.max_len,\n",
        "      padding= 'max_length',\n",
        "      # pad_to_max_length = True,\n",
        "      return_tensors='pt',\n",
        "    )\n",
        "    # print(self.max_len)\n",
        "\n",
        "    return {\n",
        "      'tweet_text': text,\n",
        "      'input_ids': encoded_text['input_ids'].flatten(),\n",
        "      'attention_mask': encoded_text['attention_mask'].flatten(),\n",
        "      'token_type_ids': encoded_text['token_type_ids'].flatten(),\n",
        "      # 'encoded_text':encoded_text,\n",
        "      'targets': torch.tensor(target, dtype=torch.long)\n",
        "    }"
      ],
      "metadata": {
        "id": "xy5-ExfZUDyj"
      },
      "execution_count": null,
      "outputs": []
    },
    {
      "cell_type": "code",
      "source": [
        "df_train.shape, df_valid.shape, df_test.shape"
      ],
      "metadata": {
        "id": "_Ryi4gp5UFF2",
        "colab": {
          "base_uri": "https://localhost:8080/"
        },
        "outputId": "71602e8b-03f1-4f61-a26e-2875ae1188ff"
      },
      "execution_count": null,
      "outputs": [
        {
          "output_type": "execute_result",
          "data": {
            "text/plain": [
              "((21103, 4), (2650, 4), (2640, 4))"
            ]
          },
          "metadata": {},
          "execution_count": 27
        }
      ]
    },
    {
      "cell_type": "code",
      "source": [
        "def create_data_loader(df, tokenizer, max_len, batch_size):\n",
        "  ds = GPReviewDataset(\n",
        "    text=df.News.to_numpy(),\n",
        "    targets=df.Title.to_numpy(),\n",
        "    tokenizer=tokenizer,\n",
        "    max_len=max_len\n",
        "  )\n",
        "\n",
        "  return DataLoader(\n",
        "    ds,\n",
        "    batch_size=batch_size,\n",
        "    num_workers=2\n",
        "  )"
      ],
      "metadata": {
        "id": "CfQBBL3xUIpx"
      },
      "execution_count": null,
      "outputs": []
    },
    {
      "cell_type": "code",
      "source": [
        "BATCH_SIZE = 16\n",
        "train_data_loader = create_data_loader(df_train, tokenizer, MAX_LEN, BATCH_SIZE)\n",
        "val_data_loader = create_data_loader(df_valid, tokenizer, MAX_LEN, BATCH_SIZE)\n",
        "test_data_loader = create_data_loader(df_test, tokenizer, MAX_LEN, BATCH_SIZE)\n"
      ],
      "metadata": {
        "id": "4D70nKptUKto"
      },
      "execution_count": null,
      "outputs": []
    },
    {
      "cell_type": "code",
      "source": [
        "data = next(iter(train_data_loader))\n",
        "data.keys()"
      ],
      "metadata": {
        "id": "nkt-MX8HUPzE",
        "colab": {
          "base_uri": "https://localhost:8080/",
          "height": 512
        },
        "outputId": "3a82826c-1c36-4c26-ab02-b7857b833215"
      },
      "execution_count": null,
      "outputs": [
        {
          "output_type": "stream",
          "name": "stderr",
          "text": [
            "/usr/lib/python3.10/multiprocessing/popen_fork.py:66: RuntimeWarning: os.fork() was called. os.fork() is incompatible with multithreaded code, and JAX is multithreaded, so this will likely lead to a deadlock.\n",
            "  self.pid = os.fork()\n"
          ]
        },
        {
          "output_type": "error",
          "ename": "TypeError",
          "evalue": "Caught TypeError in DataLoader worker process 0.\nOriginal Traceback (most recent call last):\n  File \"/usr/local/lib/python3.10/dist-packages/torch/utils/data/_utils/worker.py\", line 309, in _worker_loop\n    data = fetcher.fetch(index)  # type: ignore[possibly-undefined]\n  File \"/usr/local/lib/python3.10/dist-packages/torch/utils/data/_utils/fetch.py\", line 52, in fetch\n    data = [self.dataset[idx] for idx in possibly_batched_index]\n  File \"/usr/local/lib/python3.10/dist-packages/torch/utils/data/_utils/fetch.py\", line 52, in <listcomp>\n    data = [self.dataset[idx] for idx in possibly_batched_index]\n  File \"<ipython-input-26-f8b5049d167f>\", line 32, in __getitem__\n    'targets': torch.tensor(target, dtype=torch.long)\nTypeError: new(): invalid data type 'str'\n",
          "traceback": [
            "\u001b[0;31m---------------------------------------------------------------------------\u001b[0m",
            "\u001b[0;31mTypeError\u001b[0m                                 Traceback (most recent call last)",
            "\u001b[0;32m<ipython-input-35-e0a71018e473>\u001b[0m in \u001b[0;36m<cell line: 1>\u001b[0;34m()\u001b[0m\n\u001b[0;32m----> 1\u001b[0;31m \u001b[0mdata\u001b[0m \u001b[0;34m=\u001b[0m \u001b[0mnext\u001b[0m\u001b[0;34m(\u001b[0m\u001b[0miter\u001b[0m\u001b[0;34m(\u001b[0m\u001b[0mtrain_data_loader\u001b[0m\u001b[0;34m)\u001b[0m\u001b[0;34m)\u001b[0m\u001b[0;34m\u001b[0m\u001b[0;34m\u001b[0m\u001b[0m\n\u001b[0m\u001b[1;32m      2\u001b[0m \u001b[0mdata\u001b[0m\u001b[0;34m.\u001b[0m\u001b[0mkeys\u001b[0m\u001b[0;34m(\u001b[0m\u001b[0;34m)\u001b[0m\u001b[0;34m\u001b[0m\u001b[0;34m\u001b[0m\u001b[0m\n",
            "\u001b[0;32m/usr/local/lib/python3.10/dist-packages/torch/utils/data/dataloader.py\u001b[0m in \u001b[0;36m__next__\u001b[0;34m(self)\u001b[0m\n\u001b[1;32m    628\u001b[0m                 \u001b[0;31m# TODO(https://github.com/pytorch/pytorch/issues/76750)\u001b[0m\u001b[0;34m\u001b[0m\u001b[0;34m\u001b[0m\u001b[0m\n\u001b[1;32m    629\u001b[0m                 \u001b[0mself\u001b[0m\u001b[0;34m.\u001b[0m\u001b[0m_reset\u001b[0m\u001b[0;34m(\u001b[0m\u001b[0;34m)\u001b[0m  \u001b[0;31m# type: ignore[call-arg]\u001b[0m\u001b[0;34m\u001b[0m\u001b[0;34m\u001b[0m\u001b[0m\n\u001b[0;32m--> 630\u001b[0;31m             \u001b[0mdata\u001b[0m \u001b[0;34m=\u001b[0m \u001b[0mself\u001b[0m\u001b[0;34m.\u001b[0m\u001b[0m_next_data\u001b[0m\u001b[0;34m(\u001b[0m\u001b[0;34m)\u001b[0m\u001b[0;34m\u001b[0m\u001b[0;34m\u001b[0m\u001b[0m\n\u001b[0m\u001b[1;32m    631\u001b[0m             \u001b[0mself\u001b[0m\u001b[0;34m.\u001b[0m\u001b[0m_num_yielded\u001b[0m \u001b[0;34m+=\u001b[0m \u001b[0;36m1\u001b[0m\u001b[0;34m\u001b[0m\u001b[0;34m\u001b[0m\u001b[0m\n\u001b[1;32m    632\u001b[0m             \u001b[0;32mif\u001b[0m \u001b[0mself\u001b[0m\u001b[0;34m.\u001b[0m\u001b[0m_dataset_kind\u001b[0m \u001b[0;34m==\u001b[0m \u001b[0m_DatasetKind\u001b[0m\u001b[0;34m.\u001b[0m\u001b[0mIterable\u001b[0m \u001b[0;32mand\u001b[0m\u001b[0;31m \u001b[0m\u001b[0;31m\\\u001b[0m\u001b[0;34m\u001b[0m\u001b[0;34m\u001b[0m\u001b[0m\n",
            "\u001b[0;32m/usr/local/lib/python3.10/dist-packages/torch/utils/data/dataloader.py\u001b[0m in \u001b[0;36m_next_data\u001b[0;34m(self)\u001b[0m\n\u001b[1;32m   1342\u001b[0m             \u001b[0;32melse\u001b[0m\u001b[0;34m:\u001b[0m\u001b[0;34m\u001b[0m\u001b[0;34m\u001b[0m\u001b[0m\n\u001b[1;32m   1343\u001b[0m                 \u001b[0;32mdel\u001b[0m \u001b[0mself\u001b[0m\u001b[0;34m.\u001b[0m\u001b[0m_task_info\u001b[0m\u001b[0;34m[\u001b[0m\u001b[0midx\u001b[0m\u001b[0;34m]\u001b[0m\u001b[0;34m\u001b[0m\u001b[0;34m\u001b[0m\u001b[0m\n\u001b[0;32m-> 1344\u001b[0;31m                 \u001b[0;32mreturn\u001b[0m \u001b[0mself\u001b[0m\u001b[0;34m.\u001b[0m\u001b[0m_process_data\u001b[0m\u001b[0;34m(\u001b[0m\u001b[0mdata\u001b[0m\u001b[0;34m)\u001b[0m\u001b[0;34m\u001b[0m\u001b[0;34m\u001b[0m\u001b[0m\n\u001b[0m\u001b[1;32m   1345\u001b[0m \u001b[0;34m\u001b[0m\u001b[0m\n\u001b[1;32m   1346\u001b[0m     \u001b[0;32mdef\u001b[0m \u001b[0m_try_put_index\u001b[0m\u001b[0;34m(\u001b[0m\u001b[0mself\u001b[0m\u001b[0;34m)\u001b[0m\u001b[0;34m:\u001b[0m\u001b[0;34m\u001b[0m\u001b[0;34m\u001b[0m\u001b[0m\n",
            "\u001b[0;32m/usr/local/lib/python3.10/dist-packages/torch/utils/data/dataloader.py\u001b[0m in \u001b[0;36m_process_data\u001b[0;34m(self, data)\u001b[0m\n\u001b[1;32m   1368\u001b[0m         \u001b[0mself\u001b[0m\u001b[0;34m.\u001b[0m\u001b[0m_try_put_index\u001b[0m\u001b[0;34m(\u001b[0m\u001b[0;34m)\u001b[0m\u001b[0;34m\u001b[0m\u001b[0;34m\u001b[0m\u001b[0m\n\u001b[1;32m   1369\u001b[0m         \u001b[0;32mif\u001b[0m \u001b[0misinstance\u001b[0m\u001b[0;34m(\u001b[0m\u001b[0mdata\u001b[0m\u001b[0;34m,\u001b[0m \u001b[0mExceptionWrapper\u001b[0m\u001b[0;34m)\u001b[0m\u001b[0;34m:\u001b[0m\u001b[0;34m\u001b[0m\u001b[0;34m\u001b[0m\u001b[0m\n\u001b[0;32m-> 1370\u001b[0;31m             \u001b[0mdata\u001b[0m\u001b[0;34m.\u001b[0m\u001b[0mreraise\u001b[0m\u001b[0;34m(\u001b[0m\u001b[0;34m)\u001b[0m\u001b[0;34m\u001b[0m\u001b[0;34m\u001b[0m\u001b[0m\n\u001b[0m\u001b[1;32m   1371\u001b[0m         \u001b[0;32mreturn\u001b[0m \u001b[0mdata\u001b[0m\u001b[0;34m\u001b[0m\u001b[0;34m\u001b[0m\u001b[0m\n\u001b[1;32m   1372\u001b[0m \u001b[0;34m\u001b[0m\u001b[0m\n",
            "\u001b[0;32m/usr/local/lib/python3.10/dist-packages/torch/_utils.py\u001b[0m in \u001b[0;36mreraise\u001b[0;34m(self)\u001b[0m\n\u001b[1;32m    704\u001b[0m             \u001b[0;31m# instantiate since we don't know how to\u001b[0m\u001b[0;34m\u001b[0m\u001b[0;34m\u001b[0m\u001b[0m\n\u001b[1;32m    705\u001b[0m             \u001b[0;32mraise\u001b[0m \u001b[0mRuntimeError\u001b[0m\u001b[0;34m(\u001b[0m\u001b[0mmsg\u001b[0m\u001b[0;34m)\u001b[0m \u001b[0;32mfrom\u001b[0m \u001b[0;32mNone\u001b[0m\u001b[0;34m\u001b[0m\u001b[0;34m\u001b[0m\u001b[0m\n\u001b[0;32m--> 706\u001b[0;31m         \u001b[0;32mraise\u001b[0m \u001b[0mexception\u001b[0m\u001b[0;34m\u001b[0m\u001b[0;34m\u001b[0m\u001b[0m\n\u001b[0m\u001b[1;32m    707\u001b[0m \u001b[0;34m\u001b[0m\u001b[0m\n\u001b[1;32m    708\u001b[0m \u001b[0;34m\u001b[0m\u001b[0m\n",
            "\u001b[0;31mTypeError\u001b[0m: Caught TypeError in DataLoader worker process 0.\nOriginal Traceback (most recent call last):\n  File \"/usr/local/lib/python3.10/dist-packages/torch/utils/data/_utils/worker.py\", line 309, in _worker_loop\n    data = fetcher.fetch(index)  # type: ignore[possibly-undefined]\n  File \"/usr/local/lib/python3.10/dist-packages/torch/utils/data/_utils/fetch.py\", line 52, in fetch\n    data = [self.dataset[idx] for idx in possibly_batched_index]\n  File \"/usr/local/lib/python3.10/dist-packages/torch/utils/data/_utils/fetch.py\", line 52, in <listcomp>\n    data = [self.dataset[idx] for idx in possibly_batched_index]\n  File \"<ipython-input-26-f8b5049d167f>\", line 32, in __getitem__\n    'targets': torch.tensor(target, dtype=torch.long)\nTypeError: new(): invalid data type 'str'\n"
          ]
        }
      ]
    },
    {
      "cell_type": "code",
      "source": [
        "print(data['input_ids'].shape)\n",
        "print(data['attention_mask'].shape)\n",
        "print(data['targets'].shape)"
      ],
      "metadata": {
        "id": "OodIlW5VUaJF",
        "colab": {
          "base_uri": "https://localhost:8080/"
        },
        "outputId": "3244ce0c-bda6-439b-8dd3-eaf72418f3c4"
      },
      "execution_count": null,
      "outputs": [
        {
          "output_type": "stream",
          "name": "stdout",
          "text": [
            "torch.Size([16, 160])\n",
            "torch.Size([16, 160])\n",
            "torch.Size([16])\n"
          ]
        }
      ]
    },
    {
      "cell_type": "markdown",
      "source": [
        "# Classification"
      ],
      "metadata": {
        "id": "FHUsLaOaUdko"
      }
    },
    {
      "cell_type": "code",
      "source": [
        "encoded_input"
      ],
      "metadata": {
        "id": "VrKPdf5RZZRC"
      },
      "execution_count": null,
      "outputs": []
    },
    {
      "cell_type": "code",
      "source": [
        "print(encoded_input['attention_mask'] , encoded_input['token_type_ids'])"
      ],
      "metadata": {
        "id": "HAMUHya8Ugk0"
      },
      "execution_count": null,
      "outputs": []
    },
    {
      "cell_type": "code",
      "source": [
        "encoded_input.keys()"
      ],
      "metadata": {
        "id": "XdDEmhjaj1lH"
      },
      "execution_count": null,
      "outputs": []
    },
    {
      "cell_type": "code",
      "source": [
        "x = mbert_model(**encoded_input)"
      ],
      "metadata": {
        "id": "aQ9B9m3PUqaw"
      },
      "execution_count": null,
      "outputs": []
    },
    {
      "cell_type": "code",
      "source": [
        "print(x['last_hidden_state'].shape, x['pooler_output'].shape)"
      ],
      "metadata": {
        "id": "smRnivzjUtlq"
      },
      "execution_count": null,
      "outputs": []
    },
    {
      "cell_type": "code",
      "source": [
        "mbert_model.config.hidden_size"
      ],
      "metadata": {
        "id": "ZGepiN8AUvP2"
      },
      "execution_count": null,
      "outputs": []
    },
    {
      "cell_type": "code",
      "source": [
        "\n",
        "class SentimentClassifier(nn.Module):\n",
        "\n",
        "  def __init__(self, n_classes, base):\n",
        "    super(SentimentClassifier, self).__init__()\n",
        "    self.mbert = base\n",
        "    self.drop1 = nn.Dropout(p=0.3)\n",
        "    self.lstm = nn.LSTM(base.config.hidden_size, 150, bidirectional=True, dropout=0.2)\n",
        "    self.out1 = nn.Linear(300,64)\n",
        "    self.relu = nn.ReLU()\n",
        "    self.drop2 = nn.Dropout(p=0.1)\n",
        "    self.out = nn.Linear(64, n_classes)\n",
        "\n",
        "  def forward(self,encoded_input):\n",
        "    x = self.mbert(**encoded_input)\n",
        "    pooled_output = x['pooler_output']\n",
        "    # print(pooled_output.shape)\n",
        "    output = self.drop1(pooled_output)\n",
        "    # print(output)\n",
        "    output = output.view(len(output), 1, -1)\n",
        "    output, _ = self.lstm(output)\n",
        "    output = output.view(len(output), output.shape[-1])\n",
        "    output =self.relu(self.out1(output))\n",
        "    output = self.drop2(output)\n",
        "    return self.out(output)"
      ],
      "metadata": {
        "id": "mtaUQJiKUwn7"
      },
      "execution_count": null,
      "outputs": []
    },
    {
      "cell_type": "code",
      "source": [
        "\n",
        "class_names = ['-1','0', '1']\n",
        "model = SentimentClassifier(len(class_names), mbert_model)\n",
        "model = model.to(device)"
      ],
      "metadata": {
        "id": "r79z4AhLU2YC"
      },
      "execution_count": null,
      "outputs": []
    },
    {
      "cell_type": "code",
      "source": [
        "data = next(iter(train_data_loader))\n",
        "data.keys()"
      ],
      "metadata": {
        "id": "xX8-MCG0_e7y"
      },
      "execution_count": null,
      "outputs": []
    },
    {
      "cell_type": "code",
      "source": [
        "len(data['tweet_text'])"
      ],
      "metadata": {
        "id": "DqHaT_ZHU6x1"
      },
      "execution_count": null,
      "outputs": []
    },
    {
      "cell_type": "code",
      "source": [
        "\n",
        "input_ids = data['input_ids'].to(device)\n",
        "attention_mask = data['attention_mask'].to(device)\n",
        "token_type_ids = data['token_type_ids'].to(device)\n",
        "\n",
        "print(input_ids.shape) # batch size x seq length\n",
        "print(attention_mask.shape) # batch size x seq length\n",
        "print(token_type_ids.shape) # batch size x seq_length"
      ],
      "metadata": {
        "id": "vwKNj4T5U8M2"
      },
      "execution_count": null,
      "outputs": []
    },
    {
      "cell_type": "code",
      "source": [
        "x = mbert_model(**{'input_ids': input_ids, 'attention_mask': attention_mask, 'token_type_ids': token_type_ids})"
      ],
      "metadata": {
        "id": "ExubRkjtU9g4"
      },
      "execution_count": null,
      "outputs": []
    },
    {
      "cell_type": "code",
      "source": [
        "x['pooler_output'].shape"
      ],
      "metadata": {
        "id": "5DsjWl3djwc2"
      },
      "execution_count": null,
      "outputs": []
    },
    {
      "cell_type": "code",
      "source": [
        "F.softmax(model({'input_ids': input_ids, 'attention_mask': attention_mask, 'token_type_ids': token_type_ids}), dim=1)"
      ],
      "metadata": {
        "id": "W5Fn4IAqVIP-"
      },
      "execution_count": null,
      "outputs": []
    },
    {
      "cell_type": "code",
      "source": [
        "EPOCHS = 10\n",
        "optimizer = AdamW(model.parameters(), lr=1e-5, correct_bias=False)\n",
        "total_steps = len(train_data_loader) * EPOCHS\n",
        "\n",
        "scheduler = get_linear_schedule_with_warmup(\n",
        "  optimizer,\n",
        "  num_warmup_steps=0,\n",
        "  num_training_steps=total_steps\n",
        ")\n",
        "\n",
        "loss_fn = nn.CrossEntropyLoss().to(device)"
      ],
      "metadata": {
        "id": "Svns7YsrVKCY"
      },
      "execution_count": null,
      "outputs": []
    },
    {
      "cell_type": "code",
      "source": [
        "def train_epoch(model, data_loader, loss_fn, optimizer, device, scheduler, n_examples):\n",
        "  model = model.train()\n",
        "\n",
        "  losses = []\n",
        "  correct_predictions = 0\n",
        "\n",
        "  for d in tqdm(data_loader):\n",
        "    input_ids = d[\"input_ids\"].to(device)\n",
        "    attention_mask = d[\"attention_mask\"].to(device)\n",
        "    token_type_ids = d['token_type_ids'].to(device)\n",
        "    targets = d[\"targets\"].to(device)\n",
        "    targets+=1\n",
        "\n",
        "    outputs = model(\n",
        "        {\n",
        "          'input_ids':input_ids,\n",
        "          'attention_mask':attention_mask,\n",
        "          'token_type_ids':token_type_ids\n",
        "        }\n",
        "    )\n",
        "\n",
        "    _, preds = torch.max(outputs, dim=1)\n",
        "    # print('t = ', targets)\n",
        "    # print('preds = ',preds)\n",
        "\n",
        "    loss = loss_fn(outputs, targets)\n",
        "\n",
        "    correct_predictions += torch.sum(preds == targets)\n",
        "    losses.append(loss.item())\n",
        "\n",
        "    loss.backward()\n",
        "    nn.utils.clip_grad_norm_(model.parameters(), max_norm=1.0)\n",
        "    optimizer.step()\n",
        "    scheduler.step()\n",
        "    optimizer.zero_grad()\n",
        "\n",
        "  return correct_predictions.double() / n_examples, np.mean(losses)\n"
      ],
      "metadata": {
        "id": "laG5vgmIVMam"
      },
      "execution_count": null,
      "outputs": []
    },
    {
      "cell_type": "code",
      "source": [
        "def eval_model(model, data_loader, loss_fn, device, n_examples):\n",
        "  model = model.eval()\n",
        "\n",
        "  losses = []\n",
        "  correct_predictions = 0\n",
        "\n",
        "  with torch.no_grad():\n",
        "    for d in data_loader:\n",
        "      input_ids = d[\"input_ids\"].to(device)\n",
        "      attention_mask = d[\"attention_mask\"].to(device)\n",
        "      token_type_ids = d['token_type_ids'].to(device)\n",
        "      targets = d[\"targets\"].to(device)\n",
        "      targets+=1\n",
        "\n",
        "      outputs = model(\n",
        "        {\n",
        "          'input_ids':input_ids,\n",
        "          'attention_mask':attention_mask,\n",
        "          'token_type_ids':token_type_ids\n",
        "        }\n",
        "      )\n",
        "      _, preds = torch.max(outputs, dim=1)\n",
        "\n",
        "      loss = loss_fn(outputs, targets)\n",
        "\n",
        "      correct_predictions += torch.sum(preds == targets)\n",
        "      losses.append(loss.item())\n",
        "\n",
        "  return correct_predictions.double() / n_examples, np.mean(losses)\n"
      ],
      "metadata": {
        "id": "TNBvhja9VO-H"
      },
      "execution_count": null,
      "outputs": []
    },
    {
      "cell_type": "code",
      "source": [
        "\n",
        "history = defaultdict(list)\n",
        "best_accuracy = 0\n",
        "\n",
        "for epoch in range(EPOCHS):\n",
        "\n",
        "  print(f'Epoch {epoch + 1}/{EPOCHS}')\n",
        "  print('-' * 10)\n",
        "\n",
        "  train_acc, train_loss = train_epoch(\n",
        "    model,\n",
        "    train_data_loader,\n",
        "    loss_fn,\n",
        "    optimizer,\n",
        "    device,\n",
        "    scheduler,\n",
        "    len(df_train)\n",
        "  )\n",
        "\n",
        "  print(f'\\n--> Train loss {train_loss} accuracy {train_acc}')\n",
        "\n",
        "  val_acc, val_loss = eval_model(\n",
        "    model,\n",
        "    val_data_loader,\n",
        "    loss_fn,\n",
        "    device,\n",
        "    len(df_valid)\n",
        "  )\n",
        "\n",
        "  print(f'--> Val   loss {val_loss} accuracy {val_acc}')\n",
        "  print()\n",
        "\n",
        "  history['train_acc'].append(train_acc)\n",
        "  history['train_loss'].append(train_loss)\n",
        "  history['val_acc'].append(val_acc)\n",
        "  history['val_loss'].append(val_loss)\n",
        "\n",
        "  if val_acc > best_accuracy:\n",
        "    torch.save(model.state_dict(), 'm_bert_bilstm_model_state.bin')\n",
        "    best_accuracy = val_acc\n"
      ],
      "metadata": {
        "id": "VPjImpMiVRd8"
      },
      "execution_count": null,
      "outputs": []
    },
    {
      "cell_type": "markdown",
      "source": [
        "# Results"
      ],
      "metadata": {
        "id": "1NkzS2D-f9XA"
      }
    },
    {
      "cell_type": "code",
      "source": [
        "for i in range(len(history[\"train_acc\"])):\n",
        "  history[\"train_acc\"][i]=history[\"train_acc\"][i].cpu()"
      ],
      "metadata": {
        "id": "Up4xxKpHf_hq"
      },
      "execution_count": null,
      "outputs": []
    },
    {
      "cell_type": "code",
      "source": [
        "for i in range(len(history[\"val_acc\"])):\n",
        "  history[\"val_acc\"][i]=history[\"val_acc\"][i].cpu()"
      ],
      "metadata": {
        "id": "CNzDUH_XgDGe"
      },
      "execution_count": null,
      "outputs": []
    },
    {
      "cell_type": "code",
      "source": [
        "plt.plot(history['train_acc'], label='train accuracy')\n",
        "plt.plot(history['val_acc'], label='validation accuracy')\n",
        "\n",
        "plt.title('Training history')\n",
        "plt.ylabel('Accuracy')\n",
        "plt.xlabel('Epoch')\n",
        "plt.legend()\n",
        "plt.ylim([.8, 1]);"
      ],
      "metadata": {
        "id": "7hPPTemggFnu"
      },
      "execution_count": null,
      "outputs": []
    },
    {
      "cell_type": "markdown",
      "source": [
        "# Evaluation"
      ],
      "metadata": {
        "id": "xcYEBaOHgh1c"
      }
    },
    {
      "cell_type": "code",
      "source": [
        "model2 = SentimentClassifier(len(class_names), mbert_model)\n",
        "model2.load_state_dict(torch.load('m_bert_bilstm_model_state.bin'))\n",
        "model2.eval()"
      ],
      "metadata": {
        "id": "kEUGlUHvZEfK"
      },
      "execution_count": null,
      "outputs": []
    },
    {
      "cell_type": "code",
      "source": [
        "model2 = model2.to(device)"
      ],
      "metadata": {
        "id": "KMn_DI0dZrYV"
      },
      "execution_count": null,
      "outputs": []
    },
    {
      "cell_type": "code",
      "source": [
        "test_acc, _ = eval_model(\n",
        "  model,\n",
        "  test_data_loader,\n",
        "  loss_fn,\n",
        "  device,\n",
        "  len(df_test)\n",
        ")\n",
        "\n",
        "test_acc.item()"
      ],
      "metadata": {
        "id": "1DbgLmPHgkjg"
      },
      "execution_count": null,
      "outputs": []
    },
    {
      "cell_type": "code",
      "source": [
        "def get_predictions(model, data_loader):\n",
        "  model = model.eval()\n",
        "\n",
        "  tweet_texts = []\n",
        "  predictions = []\n",
        "  prediction_probs = []\n",
        "  real_values = []\n",
        "\n",
        "  with torch.no_grad():\n",
        "    for d in data_loader:\n",
        "\n",
        "      texts = d[\"tweet_text\"]\n",
        "      input_ids = d[\"input_ids\"].to(device)\n",
        "      attention_mask = d[\"attention_mask\"].to(device)\n",
        "      token_type_ids = d['type_ids'].to(device)\n",
        "      targets = d[\"targets\"].to(device)\n",
        "\n",
        "      outputs = model(\n",
        "        input_ids=input_ids,\n",
        "        attention_mask=attention_mask,\n",
        "        token_type_ids = token_type_ids\n",
        "      )\n",
        "      _, preds = torch.max(outputs, dim=1)\n",
        "\n",
        "      probs = F.softmax(outputs, dim=1)\n",
        "\n",
        "      tweet_texts.extend(texts)\n",
        "      predictions.extend(preds)\n",
        "      prediction_probs.extend(probs)\n",
        "      real_values.extend(targets)\n",
        "\n",
        "  predictions = torch.stack(predictions).cpu()\n",
        "  prediction_probs = torch.stack(prediction_probs).cpu()\n",
        "  real_values = torch.stack(real_values).cpu()\n",
        "  return tweet_texts, predictions, prediction_probs, real_values"
      ],
      "metadata": {
        "id": "qG9tcBizgoTx"
      },
      "execution_count": null,
      "outputs": []
    },
    {
      "cell_type": "code",
      "source": [
        "\n",
        "y_tweet_texts, y_pred, y_pred_probs, y_test = get_predictions(\n",
        "  model,\n",
        "  test_data_loader\n",
        ")"
      ],
      "metadata": {
        "id": "Jy1hyBzdgp4w"
      },
      "execution_count": null,
      "outputs": []
    },
    {
      "cell_type": "code",
      "source": [
        "y_pred-=1"
      ],
      "metadata": {
        "id": "WAg0axWf2sQN"
      },
      "execution_count": null,
      "outputs": []
    },
    {
      "cell_type": "code",
      "source": [
        "print(classification_report(y_test, y_pred, target_names=class_names))"
      ],
      "metadata": {
        "id": "gSGiEUjVgsd-"
      },
      "execution_count": null,
      "outputs": []
    },
    {
      "cell_type": "code",
      "source": [
        "def show_confusion_matrix(confusion_matrix):\n",
        "  hmap = sns.heatmap(confusion_matrix, annot=True, fmt=\"d\", cmap=\"Blues\")\n",
        "  hmap.yaxis.set_ticklabels(hmap.yaxis.get_ticklabels(), rotation=0, ha='right')\n",
        "  hmap.xaxis.set_ticklabels(hmap.xaxis.get_ticklabels(), rotation=0, ha='right')\n",
        "  plt.ylabel('True sentiment')\n",
        "  plt.xlabel('Predicted sentiment');\n",
        "\n",
        "cm = confusion_matrix(y_test, y_pred)\n",
        "df_cm = pd.DataFrame(cm, index=class_names, columns=class_names)\n",
        "show_confusion_matrix(df_cm)"
      ],
      "metadata": {
        "id": "X_a_HrrDgvfh",
        "colab": {
          "base_uri": "https://localhost:8080/"
        },
        "outputId": "fa7884a2-907c-46be-d024-6841222b2218"
      },
      "execution_count": null,
      "outputs": [
        {
          "output_type": "display_data",
          "data": {
            "text/plain": [
              "<Figure size 432x288 with 2 Axes>"
            ],
            "image/png": "[encoded data removed]"
          },
          "metadata": {
            "image/png": {
              "width": 385,
              "height": 272
            },
            "needs_background": "light"
          }
        }
      ]
    },
    {
      "cell_type": "code",
      "source": [
        "y_test[50:60]"
      ],
      "metadata": {
        "id": "7nq0Dy-fg0C1",
        "colab": {
          "base_uri": "https://localhost:8080/"
        },
        "outputId": "7f43d43b-83b3-4f23-b2f1-94aeabbc3084"
      },
      "execution_count": null,
      "outputs": [
        {
          "output_type": "execute_result",
          "data": {
            "text/plain": [
              "tensor([ 1, -1, -1,  1,  1,  0,  1,  1, -1,  1])"
            ]
          },
          "metadata": {},
          "execution_count": 56
        }
      ]
    },
    {
      "cell_type": "code",
      "source": [
        "idx = 50\n",
        "\n",
        "tweet_text = y_tweet_texts[idx]\n",
        "true_sentiment = y_test[idx]\n",
        "pred_df = pd.DataFrame({\n",
        "  'class_names': class_names,\n",
        "  'values': y_pred_probs[idx]\n",
        "})"
      ],
      "metadata": {
        "id": "OvUwvAxLg3J8"
      },
      "execution_count": null,
      "outputs": []
    },
    {
      "cell_type": "code",
      "source": [
        "print('\\n\\n',tweet_text, '\\n\\n')\n",
        "\n",
        "sns.barplot(x='values', y='class_names', data=pred_df, orient='h')\n",
        "plt.ylabel('sentiment')\n",
        "plt.xlabel('probability')\n",
        "plt.xlim([0, 1]);"
      ],
      "metadata": {
        "id": "Q1lsnXkag4z8",
        "colab": {
          "base_uri": "https://localhost:8080/"
        },
        "outputId": "ed184bfe-eabb-43f9-8ba3-14a17de54436"
      },
      "execution_count": null,
      "outputs": [
        {
          "output_type": "stream",
          "name": "stdout",
          "text": [
            "\n",
            "\n",
            " आमचे मार्गदर्शक, अहमदनगर शहराचे माजी महापौर व माजी नगराध्यक्ष दीप चव्हाण साहेबांना वाढदिवसाच्या मनःपूर्वक शुभेच्छा \n",
            "\n",
            "\n"
          ]
        },
        {
          "output_type": "display_data",
          "data": {
            "text/plain": [
              "<Figure size 432x288 with 1 Axes>"
            ],
            "image/png": "[encoded data removed]"
          },
          "metadata": {
            "image/png": {
              "width": 400,
              "height": 272
            },
            "needs_background": "light"
          }
        }
      ]
    },
    {
      "cell_type": "code",
      "source": [
        "y_test[14], y_tweet_texts[14]"
      ],
      "metadata": {
        "id": "Fut-BCNug6SP"
      },
      "execution_count": null,
      "outputs": []
    },
    {
      "cell_type": "markdown",
      "source": [
        "# Custom Prediction"
      ],
      "metadata": {
        "id": "S-Q6fKgFyYIV"
      }
    },
    {
      "cell_type": "code",
      "source": [
        "# strip -> punctuations  -> @ mentions delete -> url delete ->  remove # from #-tokens -> stop words delete (no delete )  -> rare words no delete)\n",
        "def preprocess(line):\n",
        "\n",
        "  line = line.strip()\n",
        "  line = re.sub(r'\\S*\\.com\\S*',\" \",line)\n",
        "  line = re.sub(r'\\S*\\.in\\S*',\" \",line)\n",
        "  line = re.sub(r'\\S*\\.net\\S*',\" \",line)\n",
        "  line = re.sub(r'\\S*\\.me\\S*',\" \",line)\n",
        "  line = re.sub(r'\\s+:\\s+',\" \",line)\n",
        "  line = re.sub(r'\\s+-\\s+',\" \",line)\n",
        "\n",
        "\n",
        "  line = re.sub(r'/https?\\/\\/(.*\\.(in))\\//',\" \",line)\n",
        "  line = re.split(r'\\s+|[!$%&()*+./;<=>?\\^`{|}~\\'\\\"]\\s*', line)\n",
        "  line = [token.strip() for token in line if token != '' and token != ' ' and token != '\\n']\n",
        "\n",
        "  if len(line) > 1:\n",
        "    tokens = []\n",
        "    for i in range(len(line)):\n",
        "      if line[i][0] == '#':\n",
        "        tokens.append(line[i][1:])\n",
        "      elif line[i][0] == '@' or line[i][0] in string.punctuation :\n",
        "        continue\n",
        "      else:\n",
        "        tokens.append(line[i])\n",
        "    return tokens\n"
      ],
      "metadata": {
        "id": "MSw8o7WT0vD-"
      },
      "execution_count": null,
      "outputs": []
    },
    {
      "cell_type": "code",
      "source": [
        "tweet_text = \"नमो सरकारला साधी अडचने पार पाडण्याची बुद्धी नाही आहे. एकदम मूर्खपणाचे लक्षण आहे\"\n",
        "tweet_text = \"प्रौढ प्रताप पुरंदर, क्षत्रिय कुलावतंस, सिंहासनाधीश्वर, महाराजाधिराज महाराज श्रीमंत श्री छत्रपती शिवाजी महाराज की जय\"\n",
        "tweet_text = \"मनाचे वेधना किती सोसावे सामान्य माणसाने\"\n",
        "tweet_text = \"माननीय महोदय संजय विचारे यांच्या अपघाताची बातमी आज कळाली. खूप वाईट वाटले.\"\n",
        "tweet_text = \"नमो सरकारला साधी अडचने पार पाडण्याची बुद्धी नाही आहे. एकदम मूर्खपणाचे लक्षण आहे\"\n",
        "tweet_text = \"गढ आला पण माझा सिंह गेला\"\n",
        "tweet_text = \"मैदानात हजारो कंडोम पाकीटं कुणी फेकली?; खुलासा होताच अधिकाऱ्यांनी डोक्यावर हात मारला\"\n",
        "tweet_text = \"महाशिवरात्रीच्या सर्वांना हार्दिक हार्दिक शुभेच्छा\"\n",
        "tweet_text= \"नमो सरकारला साधी अडचने पार पाडण्याची बुद्धी नाही आहे. एकदम मूर्खपणाचे लक्षण आहे\"\n",
        "tweet_text = \"हिंदू धर्मात मुलांना लहानपणापासून आपला धर्मग्रंथ गीता शिकवला जात नाही हे सत्य आहे.\"\n",
        "tweet_text = \"प्रा. यारकुंडकरांसारख्या थोर वयकतीमत्वाचा परिचय देताना, मला आज प्रचंड अभिमान वाटतोय.\"\n",
        "tweet_text = preprocess(tweet_text)\n",
        "tweet_text = \" \".join(tweet_text)"
      ],
      "metadata": {
        "id": "qNzE5THryqEX"
      },
      "execution_count": null,
      "outputs": []
    },
    {
      "cell_type": "code",
      "source": [
        "\n",
        "encoded_tweet = tokenizer.encode_plus(\n",
        "  tweet_text,\n",
        "  max_length=MAX_LEN,\n",
        "  add_special_tokens=True,\n",
        "  return_token_type_ids=True,\n",
        "  pad_to_max_length=True,\n",
        "  return_attention_mask=True,\n",
        "  return_tensors='pt',\n",
        ")\n"
      ],
      "metadata": {
        "colab": {
          "base_uri": "https://localhost:8080/"
        },
        "id": "mcj_N_NPyv3D",
        "outputId": "dcf89207-919d-40a0-a641-98758546a5ac"
      },
      "execution_count": null,
      "outputs": [
        {
          "output_type": "stream",
          "name": "stderr",
          "text": [
            "/usr/local/lib/python3.7/dist-packages/transformers/tokenization_utils_base.py:2277: FutureWarning: The `pad_to_max_length` argument is deprecated and will be removed in a future version, use `padding=True` or `padding='longest'` to pad to the longest sequence in the batch, or use `padding='max_length'` to pad to a max length. In this case, you can give a specific length with `max_length` (e.g. `max_length=45`) or leave max_length to None to pad to the maximal input size of the model (e.g. 512 for Bert).\n",
            "  FutureWarning,\n"
          ]
        }
      ]
    },
    {
      "cell_type": "code",
      "source": [
        "input_ids = encoded_tweet['input_ids'].to(device)\n",
        "attention_mask = encoded_tweet['attention_mask'].to(device)\n",
        "token_type_ids = encoded_tweet['token_type_ids'].to(device)\n",
        "\n",
        "output = model(input_ids, attention_mask, token_type_ids)\n",
        "_, prediction = torch.max(output, dim=1)\n",
        "\n",
        "print(f'Tweet text: {tweet_text}')\n",
        "print(f'Sarcasm  : {class_names[prediction]}')"
      ],
      "metadata": {
        "id": "lQ86vuoRyyrh",
        "colab": {
          "base_uri": "https://localhost:8080/"
        },
        "outputId": "5dbc029b-1d20-4efa-ff7f-57c307b4c235"
      },
      "execution_count": null,
      "outputs": [
        {
          "output_type": "stream",
          "name": "stdout",
          "text": [
            "Tweet text: प्रा यारकुंडकरांसारख्या थोर वयकतीमत्वाचा परिचय देताना, मला आज प्रचंड अभिमान वाटतोय\n",
            "Sarcasm  : 1\n"
          ]
        }
      ]
    },
    {
      "cell_type": "code",
      "source": [],
      "metadata": {
        "id": "Ib0RmKH-y0hT"
      },
      "execution_count": null,
      "outputs": []
    }
  ]
}