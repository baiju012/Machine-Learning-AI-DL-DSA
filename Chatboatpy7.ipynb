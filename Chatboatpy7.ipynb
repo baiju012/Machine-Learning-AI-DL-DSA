{
  "nbformat": 4,
  "nbformat_minor": 0,
  "metadata": {
    "colab": {
      "provenance": [],
      "authorship_tag": "ABX9TyNQZoiWCOz8IXUo/3FBaPwf",
      "include_colab_link": true
    },
    "kernelspec": {
      "name": "python3",
      "display_name": "Python 3"
    },
    "language_info": {
      "name": "python"
    }
  },
  "cells": [
    {
      "cell_type": "markdown",
      "metadata": {
        "id": "view-in-github",
        "colab_type": "text"
      },
      "source": [
        "<a href=\"https://colab.research.google.com/github/baiju012/Machine-Learning-AI-DL-DSA/blob/main/Chatboatpy7.ipynb\" target=\"_parent\"><img src=\"https://colab.research.google.com/assets/colab-badge.svg\" alt=\"Open In Colab\"/></a>"
      ]
    },
    {
      "cell_type": "code",
      "source": [],
      "metadata": {
        "id": "SkeVZyYQGZp5"
      },
      "execution_count": null,
      "outputs": []
    },
    {
      "cell_type": "code",
      "execution_count": null,
      "metadata": {
        "id": "sshiBVZ4GRZf"
      },
      "outputs": [],
      "source": [
        "from nltk.chat.util import Chat, reflections"
      ]
    },
    {
      "cell_type": "code",
      "source": [
        "#Pairs is a list of patterns and responses.\n",
        "pairs = [\n",
        "    [\n",
        "        r\"(.*)my name is (.*)\",\n",
        "        [\"Hello %2, How are you today ?\",]\n",
        "    ],\n",
        "    [\n",
        "        r\"(.*)help(.*) \",\n",
        "        [\"I can help you \",]\n",
        "    ],\n",
        "     [\n",
        "        r\"(.*) your name ?\",\n",
        "        [\"My name is thecleverprogrammer, but you can just call me robot and I'm a chatbot .\",]\n",
        "    ],\n",
        "    [\n",
        "        r\"how are you (.*) ?\",\n",
        "        [\"I'm doing very well\", \"i am great !\"]\n",
        "    ],\n",
        "    [\n",
        "        r\"sorry (.*)\",\n",
        "        [\"Its alright\",\"Its OK, never mind that\",]\n",
        "    ],\n",
        "    [\n",
        "        r\"i'm (.*) (good|well|okay|ok)\",\n",
        "        [\"Nice to hear that\",\"Alright, great !\",]\n",
        "    ],\n",
        "    [\n",
        "        r\"(hi|hey|hello|hola|holla)(.*)\",\n",
        "        [\"Hello\", \"Hey there\",]\n",
        "    ],\n",
        "    [\n",
        "        r\"what (.*) want ?\",\n",
        "        [\"Make me an offer I can't refuse\",]\n",
        "\n",
        "    ],\n",
        "    [\n",
        "        r\"(.*)created(.*)\",\n",
        "        [\"Aman Kharwal created me using Python's NLTK library \",\"top secret ;)\",]\n",
        "    ],\n",
        "    [\n",
        "        r\"(.*) (location|city) ?\",\n",
        "        ['New Delhi, India',]\n",
        "    ],\n",
        "    [\n",
        "        r\"(.*)raining in (.*)\",\n",
        "        [\"No rain in the past 4 days here in %2\",\"In %2 there is a 50% chance of rain\",]\n",
        "    ],\n",
        "    [\n",
        "        r\"how (.*) health (.*)\",\n",
        "        [\"Health is very important, but I am a computer, so I don't need to worry about my health \",]\n",
        "    ],\n",
        "    [\n",
        "        r\"(.*)(sports|game|sport)(.*)\",\n",
        "        [\"I'm a very big fan of Cricket\",]\n",
        "    ],\n",
        "    [\n",
        "        r\"who (.*) (Cricketer|Batsman)?\",\n",
        "        [\"Virat Kohli\"]\n",
        "    ],\n",
        "    [\n",
        "        r\"quit\",\n",
        "        [\"Bye for now. See you soon :) \",\"It was nice talking to you. See you soon :)\"]\n",
        "    ],\n",
        "    [\n",
        "        r\"(.*)\",\n",
        "        ['That is nice to hear']\n",
        "    ],\n",
        "]"
      ],
      "metadata": {
        "id": "V3Gt4OWsGkz1"
      },
      "execution_count": null,
      "outputs": []
    },
    {
      "cell_type": "code",
      "source": [
        "print(reflections)"
      ],
      "metadata": {
        "colab": {
          "base_uri": "https://localhost:8080/"
        },
        "id": "-lnBkNw9Gs5L",
        "outputId": "dccec036-c5a7-41fa-d100-501573c6b532"
      },
      "execution_count": null,
      "outputs": [
        {
          "output_type": "stream",
          "name": "stdout",
          "text": [
            "{'i am': 'you are', 'i was': 'you were', 'i': 'you', \"i'm\": 'you are', \"i'd\": 'you would', \"i've\": 'you have', \"i'll\": 'you will', 'my': 'your', 'you are': 'I am', 'you were': 'I was', \"you've\": 'I have', \"you'll\": 'I will', 'your': 'my', 'yours': 'mine', 'you': 'me', 'me': 'you'}\n"
          ]
        }
      ]
    },
    {
      "cell_type": "code",
      "source": [
        "my_dummy_reflections= {\n",
        "    \"go\"     : \"gone\",\n",
        "    \"hello\"    : \"hey there\"\n",
        "}"
      ],
      "metadata": {
        "id": "qV15jVyNGt54"
      },
      "execution_count": null,
      "outputs": []
    },
    {
      "cell_type": "code",
      "source": [
        "#default message at the start of chat\n",
        "print(\"Hi, I'm thecleverprogrammer and I like to chat\\nPlease type lowercase English language to start a conversation. Type quit to leave \")\n",
        "#Create Chat Bot\n",
        "chat = Chat(pairs, reflections)"
      ],
      "metadata": {
        "colab": {
          "base_uri": "https://localhost:8080/"
        },
        "id": "QA0qWNiEHOKJ",
        "outputId": "690a769e-2eeb-43b8-edf5-39818e1a2189"
      },
      "execution_count": null,
      "outputs": [
        {
          "output_type": "stream",
          "name": "stdout",
          "text": [
            "Hi, I'm thecleverprogrammer and I like to chat\n",
            "Please type lowercase English language to start a conversation. Type quit to leave \n"
          ]
        }
      ]
    },
    {
      "cell_type": "code",
      "source": [
        "#Start conversation\n",
        "chat.converse()"
      ],
      "metadata": {
        "colab": {
          "base_uri": "https://localhost:8080/"
        },
        "id": "bgWSD2K3HX_u",
        "outputId": "06145112-f051-4c24-9e71-4c0ab2e2e717"
      },
      "execution_count": null,
      "outputs": [
        {
          "output_type": "stream",
          "name": "stdout",
          "text": [
            ">hello\n",
            "Hello\n",
            ">what is your name\n",
            "My name is thecleverprogrammer, but you can just call me robot and I'm a chatbot .\n",
            ">where are you from\n",
            "That is nice to hear\n",
            ">i like yu\n",
            "That is nice to hear\n",
            ">drink water\n",
            "That is nice to hear\n",
            ">quit\n",
            "It was nice talking to you. See you soon :)\n"
          ]
        }
      ]
    },
    {
      "cell_type": "markdown",
      "source": [
        "For GKV"
      ],
      "metadata": {
        "id": "f70k3HvCqHRx"
      }
    },
    {
      "cell_type": "code",
      "source": [
        "1: How to get admission in GKV?\n",
        "To get admission in GKV, you can visit campus or apply online through our website. When applying online, make sure you have your identification documents such as 10-12 marksheet, Jee main marksheet and Caste certificate. The process usually involve filling out an application form and terms and conditions.\n",
        "\n",
        "2: How can I check my status?\n",
        "To checking status, go to our website's login on student portal give in username email and password mobile number and see your status.\n",
        "\n",
        "3: What should I do if my ID card is lost or stolen?\n",
        "If your Id card  is lost or stolen, immediately contact our customer service helpline at [0000000000] to report the loss and request a card replacement.\n",
        "You will likely need to verify your identity during the call. It's important to keep your registration number and serial number when reporing the loss.\n",
        "\n",
        "4: How to Pay fee in GVK?\n",
        "You can visit account branch or online visit our website. Log in to your account, navigate to the \"Pay fee\" section , and follow the instruction that is given. You might need the recipient's account number and routing information. Some limits or fees will be given , so be sure to review the terms befor initiating the transaction.\n",
        "\n",
        "5: What is the nearest ATM Location to GKV?\n",
        "You can find the ATM by using our mobile app or visiting our website's ATM locator tool.\n",
        "The ATM locator may also provide information about ATM fees, accepted card types, and accessibility features.\n",
        "\n",
        "6.How can I apply for scholarship?\n",
        "To apply for scholarship, you can visits our branch to speak with scholar ship officer or apply online through website. Applying online often requires submitting personal and financial information, including your income, expenses, and the purpose of scholarship  or check your scholarship you are eligible or not.\n",
        "\n",
        "7:What is GKV helpline number?\n",
        "The GKV helpline number[000000000] , Tt's used for various purpose admission, fee related issue, any issue.\n",
        "\n",
        "8. How can I pay through my credit card?\n",
        "You can pay your credit card bill through online logging into your account and selecting the \"Pay Bill\" option. You can also set up automatic payments or make payments at our branch.\n",
        "Automatic payments can help you avoid missing due dates.\n",
        "9. Can I schedule payment for my account to GKV?\n",
        "Yes, you can schedule for payments for your credit card through online on our website, navigate to the \"Bill Pay\" section and follow the instructions to set up payment schedule so that paid on time each month without needing manual intervention.\n",
        "\n",
        "10. What should I do if I can't pay my fee on time?\n",
        "If you're unable to make your payment on time, contact our customer service as soon as possible. They may be able to offer options or provide guidance on late payment fees.\n",
        "It's important to communicate with account department or Head of the department for any solution and avoid potential negative impacts on your credit.\n",
        "\n",
        "11. How can I get fee Waiver in college?\n",
        "Requirements for fee waiver vary on student father income certificate so please contact your department.\n",
        "\n",
        "\n",
        "12. An I eligible for admission?\n",
        "You must be at least 18 years old and have to certificate of 90+ percentile in jee main. To open portal of admission, Click here,\n",
        "If you are from Uttarakhand so you have to appear in interim exam of college  and score minimum 85 mark for get direct admission."
      ],
      "metadata": {
        "id": "Nv1Q46k8HY8k"
      },
      "execution_count": null,
      "outputs": []
    }
  ]
}